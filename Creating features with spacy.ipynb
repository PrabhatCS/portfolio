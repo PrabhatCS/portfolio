{
 "cells": [
  {
   "cell_type": "markdown",
   "metadata": {},
   "source": [
    "I have been checking out the spacy nlp library and wanted to try some of it's abilities on this quora dataset. This notebook generates two new sets of features that might help your models. First, spacy tags the parts of speech in the texts it parses, which can be made into a sparse matrix and joined to the original dataframe. The second item is a similarity score between texts, I thought the 1-similarity number would be more intuitive so created a function around spacy's method. Hope this helps!\n"
   ]
  },
  {
   "cell_type": "code",
   "execution_count": 1,
   "metadata": {
    "collapsed": true
   },
   "outputs": [],
   "source": [
    "import pandas as pd\n",
    "import spacy"
   ]
  },
  {
   "cell_type": "code",
   "execution_count": 3,
   "metadata": {
    "collapsed": false
   },
   "outputs": [],
   "source": [
    "train = pd.read_csv(\"./input/train.csv.zip\")"
   ]
  },
  {
   "cell_type": "code",
   "execution_count": null,
   "metadata": {
    "collapsed": false
   },
   "outputs": [],
   "source": [
    "train.head(10)\n"
   ]
  },
  {
   "cell_type": "code",
   "execution_count": 4,
   "metadata": {
    "collapsed": false
   },
   "outputs": [
    {
     "data": {
      "text/plain": [
       "(404290, 6)"
      ]
     },
     "execution_count": 4,
     "metadata": {},
     "output_type": "execute_result"
    }
   ],
   "source": [
    "train.shape"
   ]
  },
  {
   "cell_type": "code",
   "execution_count": 6,
   "metadata": {
    "collapsed": true
   },
   "outputs": [],
   "source": [
    "nlp = spacy.load(\"en\")"
   ]
  },
  {
   "cell_type": "code",
   "execution_count": 7,
   "metadata": {
    "collapsed": false
   },
   "outputs": [],
   "source": [
    "question_list = []\n",
    "for item in train['question1']:\n",
    "    question_list.append(str(item))\n",
    "\n",
    "#print(' '.join(question_list))    "
   ]
  },
  {
   "cell_type": "code",
   "execution_count": 8,
   "metadata": {
    "collapsed": false
   },
   "outputs": [
    {
     "data": {
      "text/plain": [
       "spacy.tokens.doc.Doc"
      ]
     },
     "execution_count": 8,
     "metadata": {},
     "output_type": "execute_result"
    }
   ],
   "source": [
    "test_mod = nlp(' '.join(question_list[0:10]))\n",
    "type(test_mod)"
   ]
  },
  {
   "cell_type": "code",
   "execution_count": 9,
   "metadata": {
    "collapsed": false
   },
   "outputs": [],
   "source": [
    "def pos_count(string):\n",
    "    #counts parts of speech for each spacy document object\n",
    "    parsed_string = nlp(string)\n",
    "    pos_dict = {}\n",
    "    \n",
    "    for word in parsed_string:\n",
    "        if word.pos_ in pos_dict:\n",
    "            pos_dict[word.pos_] += 1\n",
    "        else:    \n",
    "            pos_dict[word.pos_] = 1\n",
    "    return pos_dict    "
   ]
  },
  {
   "cell_type": "code",
   "execution_count": 10,
   "metadata": {
    "collapsed": false,
    "scrolled": true
   },
   "outputs": [
    {
     "name": "stdout",
     "output_type": "stream",
     "text": [
      "Why am I mentally very lonely? How can I solve it?\n",
      "{'ADV': 1, 'DET': 1, 'ADP': 1, 'PUNCT': 3, 'NOUN': 2, 'VERB': 3, 'NUM': 1}\n"
     ]
    }
   ],
   "source": [
    "print(train['question1'][3])\n",
    "b = pos_count(train['question2'][3])\n",
    "print(b)\n"
   ]
  },
  {
   "cell_type": "code",
   "execution_count": 11,
   "metadata": {
    "collapsed": false
   },
   "outputs": [],
   "source": [
    "pos_list = []\n",
    "for item in train['question1'][0:4]:\n",
    "    dict = pos_count(item)\n",
    "    pos_list.append(dict)\n"
   ]
  },
  {
   "cell_type": "code",
   "execution_count": 79,
   "metadata": {
    "collapsed": false
   },
   "outputs": [
    {
     "data": {
      "text/html": [
       "<div>\n",
       "<table border=\"1\" class=\"dataframe\">\n",
       "  <thead>\n",
       "    <tr style=\"text-align: right;\">\n",
       "      <th></th>\n",
       "      <th>id</th>\n",
       "      <th>qid1</th>\n",
       "      <th>qid2</th>\n",
       "      <th>question1</th>\n",
       "      <th>question2</th>\n",
       "      <th>is_duplicate</th>\n",
       "      <th>ADJ</th>\n",
       "      <th>ADP</th>\n",
       "      <th>ADV</th>\n",
       "      <th>DET</th>\n",
       "      <th>NOUN</th>\n",
       "      <th>PART</th>\n",
       "      <th>PRON</th>\n",
       "      <th>PROPN</th>\n",
       "      <th>PUNCT</th>\n",
       "      <th>VERB</th>\n",
       "    </tr>\n",
       "  </thead>\n",
       "  <tbody>\n",
       "    <tr>\n",
       "      <th>0</th>\n",
       "      <td>0</td>\n",
       "      <td>1</td>\n",
       "      <td>2</td>\n",
       "      <td>What is the step by step guide to invest in sh...</td>\n",
       "      <td>What is the step by step guide to invest in sh...</td>\n",
       "      <td>0</td>\n",
       "      <td>NaN</td>\n",
       "      <td>3.0</td>\n",
       "      <td>NaN</td>\n",
       "      <td>1.0</td>\n",
       "      <td>7.0</td>\n",
       "      <td>1.0</td>\n",
       "      <td>NaN</td>\n",
       "      <td>NaN</td>\n",
       "      <td>1</td>\n",
       "      <td>2</td>\n",
       "    </tr>\n",
       "    <tr>\n",
       "      <th>1</th>\n",
       "      <td>1</td>\n",
       "      <td>3</td>\n",
       "      <td>4</td>\n",
       "      <td>What is the story of Kohinoor (Koh-i-Noor) Dia...</td>\n",
       "      <td>What would happen if the Indian government sto...</td>\n",
       "      <td>0</td>\n",
       "      <td>NaN</td>\n",
       "      <td>1.0</td>\n",
       "      <td>NaN</td>\n",
       "      <td>1.0</td>\n",
       "      <td>2.0</td>\n",
       "      <td>NaN</td>\n",
       "      <td>NaN</td>\n",
       "      <td>5.0</td>\n",
       "      <td>5</td>\n",
       "      <td>1</td>\n",
       "    </tr>\n",
       "    <tr>\n",
       "      <th>2</th>\n",
       "      <td>2</td>\n",
       "      <td>5</td>\n",
       "      <td>6</td>\n",
       "      <td>How can I increase the speed of my internet co...</td>\n",
       "      <td>How can Internet speed be increased by hacking...</td>\n",
       "      <td>0</td>\n",
       "      <td>1.0</td>\n",
       "      <td>2.0</td>\n",
       "      <td>1.0</td>\n",
       "      <td>2.0</td>\n",
       "      <td>3.0</td>\n",
       "      <td>NaN</td>\n",
       "      <td>1.0</td>\n",
       "      <td>1.0</td>\n",
       "      <td>1</td>\n",
       "      <td>3</td>\n",
       "    </tr>\n",
       "    <tr>\n",
       "      <th>3</th>\n",
       "      <td>3</td>\n",
       "      <td>7</td>\n",
       "      <td>8</td>\n",
       "      <td>Why am I mentally very lonely? How can I solve...</td>\n",
       "      <td>Find the remainder when [math]23^{24}[/math] i...</td>\n",
       "      <td>0</td>\n",
       "      <td>1.0</td>\n",
       "      <td>NaN</td>\n",
       "      <td>4.0</td>\n",
       "      <td>NaN</td>\n",
       "      <td>NaN</td>\n",
       "      <td>NaN</td>\n",
       "      <td>3.0</td>\n",
       "      <td>NaN</td>\n",
       "      <td>2</td>\n",
       "      <td>3</td>\n",
       "    </tr>\n",
       "  </tbody>\n",
       "</table>\n",
       "</div>"
      ],
      "text/plain": [
       "   id  qid1  qid2                                          question1  \\\n",
       "0   0     1     2  What is the step by step guide to invest in sh...   \n",
       "1   1     3     4  What is the story of Kohinoor (Koh-i-Noor) Dia...   \n",
       "2   2     5     6  How can I increase the speed of my internet co...   \n",
       "3   3     7     8  Why am I mentally very lonely? How can I solve...   \n",
       "\n",
       "                                           question2  is_duplicate  ADJ  ADP  \\\n",
       "0  What is the step by step guide to invest in sh...             0  NaN  3.0   \n",
       "1  What would happen if the Indian government sto...             0  NaN  1.0   \n",
       "2  How can Internet speed be increased by hacking...             0  1.0  2.0   \n",
       "3  Find the remainder when [math]23^{24}[/math] i...             0  1.0  NaN   \n",
       "\n",
       "   ADV  DET  NOUN  PART  PRON  PROPN  PUNCT  VERB  \n",
       "0  NaN  1.0   7.0   1.0   NaN    NaN      1     2  \n",
       "1  NaN  1.0   2.0   NaN   NaN    5.0      5     1  \n",
       "2  1.0  2.0   3.0   NaN   1.0    1.0      1     3  \n",
       "3  4.0  NaN   NaN   NaN   3.0    NaN      2     3  "
      ]
     },
     "execution_count": 79,
     "metadata": {},
     "output_type": "execute_result"
    }
   ],
   "source": [
    "pos_df = pd.DataFrame(pos_list)\n",
    "\n",
    "pd.concat([train[0:4], pos_df], axis = 1)"
   ]
  },
  {
   "cell_type": "code",
   "execution_count": 13,
   "metadata": {
    "collapsed": false
   },
   "outputs": [
    {
     "data": {
      "text/html": [
       "<div>\n",
       "<table border=\"1\" class=\"dataframe\">\n",
       "  <thead>\n",
       "    <tr style=\"text-align: right;\">\n",
       "      <th></th>\n",
       "      <th>question1</th>\n",
       "      <th>question2</th>\n",
       "    </tr>\n",
       "  </thead>\n",
       "  <tbody>\n",
       "    <tr>\n",
       "      <th>0</th>\n",
       "      <td>What is the step by step guide to invest in sh...</td>\n",
       "      <td>What is the step by step guide to invest in sh...</td>\n",
       "    </tr>\n",
       "    <tr>\n",
       "      <th>1</th>\n",
       "      <td>What is the story of Kohinoor (Koh-i-Noor) Dia...</td>\n",
       "      <td>What would happen if the Indian government sto...</td>\n",
       "    </tr>\n",
       "    <tr>\n",
       "      <th>2</th>\n",
       "      <td>How can I increase the speed of my internet co...</td>\n",
       "      <td>How can Internet speed be increased by hacking...</td>\n",
       "    </tr>\n",
       "    <tr>\n",
       "      <th>3</th>\n",
       "      <td>Why am I mentally very lonely? How can I solve...</td>\n",
       "      <td>Find the remainder when [math]23^{24}[/math] i...</td>\n",
       "    </tr>\n",
       "    <tr>\n",
       "      <th>4</th>\n",
       "      <td>Which one dissolve in water quikly sugar, salt...</td>\n",
       "      <td>Which fish would survive in salt water?</td>\n",
       "    </tr>\n",
       "    <tr>\n",
       "      <th>5</th>\n",
       "      <td>Astrology: I am a Capricorn Sun Cap moon and c...</td>\n",
       "      <td>I'm a triple Capricorn (Sun, Moon and ascendan...</td>\n",
       "    </tr>\n",
       "    <tr>\n",
       "      <th>6</th>\n",
       "      <td>Should I buy tiago?</td>\n",
       "      <td>What keeps childern active and far from phone ...</td>\n",
       "    </tr>\n",
       "    <tr>\n",
       "      <th>7</th>\n",
       "      <td>How can I be a good geologist?</td>\n",
       "      <td>What should I do to be a great geologist?</td>\n",
       "    </tr>\n",
       "    <tr>\n",
       "      <th>8</th>\n",
       "      <td>When do you use シ instead of し?</td>\n",
       "      <td>When do you use \"&amp;\" instead of \"and\"?</td>\n",
       "    </tr>\n",
       "    <tr>\n",
       "      <th>9</th>\n",
       "      <td>Motorola (company): Can I hack my Charter Moto...</td>\n",
       "      <td>How do I hack Motorola DCX3400 for free internet?</td>\n",
       "    </tr>\n",
       "    <tr>\n",
       "      <th>10</th>\n",
       "      <td>Method to find separation of slits using fresn...</td>\n",
       "      <td>What are some of the things technicians can te...</td>\n",
       "    </tr>\n",
       "  </tbody>\n",
       "</table>\n",
       "</div>"
      ],
      "text/plain": [
       "                                            question1  \\\n",
       "0   What is the step by step guide to invest in sh...   \n",
       "1   What is the story of Kohinoor (Koh-i-Noor) Dia...   \n",
       "2   How can I increase the speed of my internet co...   \n",
       "3   Why am I mentally very lonely? How can I solve...   \n",
       "4   Which one dissolve in water quikly sugar, salt...   \n",
       "5   Astrology: I am a Capricorn Sun Cap moon and c...   \n",
       "6                                 Should I buy tiago?   \n",
       "7                      How can I be a good geologist?   \n",
       "8                     When do you use シ instead of し?   \n",
       "9   Motorola (company): Can I hack my Charter Moto...   \n",
       "10  Method to find separation of slits using fresn...   \n",
       "\n",
       "                                            question2  \n",
       "0   What is the step by step guide to invest in sh...  \n",
       "1   What would happen if the Indian government sto...  \n",
       "2   How can Internet speed be increased by hacking...  \n",
       "3   Find the remainder when [math]23^{24}[/math] i...  \n",
       "4             Which fish would survive in salt water?  \n",
       "5   I'm a triple Capricorn (Sun, Moon and ascendan...  \n",
       "6   What keeps childern active and far from phone ...  \n",
       "7           What should I do to be a great geologist?  \n",
       "8               When do you use \"&\" instead of \"and\"?  \n",
       "9   How do I hack Motorola DCX3400 for free internet?  \n",
       "10  What are some of the things technicians can te...  "
      ]
     },
     "execution_count": 13,
     "metadata": {},
     "output_type": "execute_result"
    }
   ],
   "source": [
    "train[['question1', 'question2']].loc[0:10]"
   ]
  },
  {
   "cell_type": "code",
   "execution_count": 14,
   "metadata": {
    "collapsed": false
   },
   "outputs": [],
   "source": [
    "nlp_list = []\n",
    "questions = train[['question1', 'question2']][0:10]\n"
   ]
  },
  {
   "cell_type": "code",
   "execution_count": 15,
   "metadata": {
    "collapsed": false
   },
   "outputs": [],
   "source": [
    "def dis_similarity(question_pair):\n",
    "    \n",
    "    parsed1 = nlp(question_pair[0])\n",
    "    parsed2 = nlp(question_pair[1])\n",
    "    anti_sim = 1 - parsed1.similarity(parsed2)\n",
    "    return anti_sim"
   ]
  },
  {
   "cell_type": "code",
   "execution_count": 16,
   "metadata": {
    "collapsed": false
   },
   "outputs": [
    {
     "data": {
      "text/plain": [
       "10"
      ]
     },
     "execution_count": 16,
     "metadata": {},
     "output_type": "execute_result"
    }
   ],
   "source": [
    "len(questions)"
   ]
  },
  {
   "cell_type": "code",
   "execution_count": 23,
   "metadata": {
    "collapsed": true
   },
   "outputs": [],
   "source": [
    "sample_qs = train.sample(10000, random_state = 42)"
   ]
  },
  {
   "cell_type": "code",
   "execution_count": 24,
   "metadata": {
    "collapsed": false
   },
   "outputs": [
    {
     "data": {
      "text/plain": [
       "id              0\n",
       "qid1            0\n",
       "qid2            0\n",
       "question1       0\n",
       "question2       0\n",
       "is_duplicate    0\n",
       "dtype: int64"
      ]
     },
     "execution_count": 24,
     "metadata": {},
     "output_type": "execute_result"
    }
   ],
   "source": [
    "sample_qs.isnull().sum()"
   ]
  },
  {
   "cell_type": "code",
   "execution_count": 25,
   "metadata": {
    "collapsed": false
   },
   "outputs": [],
   "source": [
    "sample_qs['dis'] = sample_qs[['question1','question2']].apply(dis_similarity, axis = 1)"
   ]
  },
  {
   "cell_type": "code",
   "execution_count": 26,
   "metadata": {
    "collapsed": false
   },
   "outputs": [
    {
     "data": {
      "text/html": [
       "<div>\n",
       "<table border=\"1\" class=\"dataframe\">\n",
       "  <thead>\n",
       "    <tr style=\"text-align: right;\">\n",
       "      <th></th>\n",
       "      <th>id</th>\n",
       "      <th>qid1</th>\n",
       "      <th>qid2</th>\n",
       "      <th>question1</th>\n",
       "      <th>question2</th>\n",
       "      <th>is_duplicate</th>\n",
       "      <th>dis</th>\n",
       "    </tr>\n",
       "  </thead>\n",
       "  <tbody>\n",
       "    <tr>\n",
       "      <th>8067</th>\n",
       "      <td>8067</td>\n",
       "      <td>15738</td>\n",
       "      <td>15739</td>\n",
       "      <td>How do I play Pokémon GO in Korea?</td>\n",
       "      <td>How do I play Pokémon GO in China?</td>\n",
       "      <td>0</td>\n",
       "      <td>0.008648</td>\n",
       "    </tr>\n",
       "    <tr>\n",
       "      <th>368101</th>\n",
       "      <td>368101</td>\n",
       "      <td>12736</td>\n",
       "      <td>104117</td>\n",
       "      <td>What are some of the best side dishes for crab...</td>\n",
       "      <td>What are some good side dishes for buffalo chi...</td>\n",
       "      <td>0</td>\n",
       "      <td>0.068459</td>\n",
       "    </tr>\n",
       "    <tr>\n",
       "      <th>70497</th>\n",
       "      <td>70497</td>\n",
       "      <td>121486</td>\n",
       "      <td>121487</td>\n",
       "      <td>Which is more advisable and better material fo...</td>\n",
       "      <td>What is the best server setup for buddypress?</td>\n",
       "      <td>0</td>\n",
       "      <td>0.170978</td>\n",
       "    </tr>\n",
       "    <tr>\n",
       "      <th>226567</th>\n",
       "      <td>226567</td>\n",
       "      <td>254474</td>\n",
       "      <td>258192</td>\n",
       "      <td>How do I improve logical programming skills?</td>\n",
       "      <td>How can I improve my logical skills for progra...</td>\n",
       "      <td>1</td>\n",
       "      <td>0.055018</td>\n",
       "    </tr>\n",
       "    <tr>\n",
       "      <th>73186</th>\n",
       "      <td>73186</td>\n",
       "      <td>48103</td>\n",
       "      <td>3062</td>\n",
       "      <td>How close we are to see 3rd world war?</td>\n",
       "      <td>How close is a World War III?</td>\n",
       "      <td>1</td>\n",
       "      <td>0.111128</td>\n",
       "    </tr>\n",
       "  </tbody>\n",
       "</table>\n",
       "</div>"
      ],
      "text/plain": [
       "            id    qid1    qid2  \\\n",
       "8067      8067   15738   15739   \n",
       "368101  368101   12736  104117   \n",
       "70497    70497  121486  121487   \n",
       "226567  226567  254474  258192   \n",
       "73186    73186   48103    3062   \n",
       "\n",
       "                                                question1  \\\n",
       "8067                   How do I play Pokémon GO in Korea?   \n",
       "368101  What are some of the best side dishes for crab...   \n",
       "70497   Which is more advisable and better material fo...   \n",
       "226567       How do I improve logical programming skills?   \n",
       "73186              How close we are to see 3rd world war?   \n",
       "\n",
       "                                                question2  is_duplicate  \\\n",
       "8067                   How do I play Pokémon GO in China?             0   \n",
       "368101  What are some good side dishes for buffalo chi...             0   \n",
       "70497       What is the best server setup for buddypress?             0   \n",
       "226567  How can I improve my logical skills for progra...             1   \n",
       "73186                       How close is a World War III?             1   \n",
       "\n",
       "             dis  \n",
       "8067    0.008648  \n",
       "368101  0.068459  \n",
       "70497   0.170978  \n",
       "226567  0.055018  \n",
       "73186   0.111128  "
      ]
     },
     "execution_count": 26,
     "metadata": {},
     "output_type": "execute_result"
    }
   ],
   "source": [
    "sample_qs.head()"
   ]
  },
  {
   "cell_type": "code",
   "execution_count": 82,
   "metadata": {
    "collapsed": false
   },
   "outputs": [
    {
     "data": {
      "text/html": [
       "<div>\n",
       "<table border=\"1\" class=\"dataframe\">\n",
       "  <thead>\n",
       "    <tr style=\"text-align: right;\">\n",
       "      <th></th>\n",
       "      <th></th>\n",
       "      <th>dis</th>\n",
       "      <th>id</th>\n",
       "      <th>polarity1</th>\n",
       "      <th>qid1</th>\n",
       "      <th>qid2</th>\n",
       "      <th>subjectivity</th>\n",
       "      <th>subjectivity1</th>\n",
       "    </tr>\n",
       "    <tr>\n",
       "      <th>is_duplicate</th>\n",
       "      <th></th>\n",
       "      <th></th>\n",
       "      <th></th>\n",
       "      <th></th>\n",
       "      <th></th>\n",
       "      <th></th>\n",
       "      <th></th>\n",
       "      <th></th>\n",
       "    </tr>\n",
       "  </thead>\n",
       "  <tbody>\n",
       "    <tr>\n",
       "      <th rowspan=\"8\" valign=\"top\">0</th>\n",
       "      <th>count</th>\n",
       "      <td>6.265000e+03</td>\n",
       "      <td>6265.000000</td>\n",
       "      <td>6265.000000</td>\n",
       "      <td>6265.000000</td>\n",
       "      <td>6265.000000</td>\n",
       "      <td>6265.000000</td>\n",
       "      <td>6265.000000</td>\n",
       "    </tr>\n",
       "    <tr>\n",
       "      <th>mean</th>\n",
       "      <td>1.164964e-01</td>\n",
       "      <td>200618.425219</td>\n",
       "      <td>0.127289</td>\n",
       "      <td>245780.474860</td>\n",
       "      <td>248007.421069</td>\n",
       "      <td>0.250519</td>\n",
       "      <td>0.250519</td>\n",
       "    </tr>\n",
       "    <tr>\n",
       "      <th>std</th>\n",
       "      <td>7.531203e-02</td>\n",
       "      <td>116402.092921</td>\n",
       "      <td>0.312474</td>\n",
       "      <td>155251.339923</td>\n",
       "      <td>157626.510904</td>\n",
       "      <td>0.292455</td>\n",
       "      <td>0.292455</td>\n",
       "    </tr>\n",
       "    <tr>\n",
       "      <th>min</th>\n",
       "      <td>-1.059282e-07</td>\n",
       "      <td>123.000000</td>\n",
       "      <td>-1.000000</td>\n",
       "      <td>87.000000</td>\n",
       "      <td>232.000000</td>\n",
       "      <td>0.000000</td>\n",
       "      <td>0.000000</td>\n",
       "    </tr>\n",
       "    <tr>\n",
       "      <th>25%</th>\n",
       "      <td>6.647940e-02</td>\n",
       "      <td>101432.000000</td>\n",
       "      <td>0.000000</td>\n",
       "      <td>107862.000000</td>\n",
       "      <td>105363.000000</td>\n",
       "      <td>0.000000</td>\n",
       "      <td>0.000000</td>\n",
       "    </tr>\n",
       "    <tr>\n",
       "      <th>50%</th>\n",
       "      <td>1.065744e-01</td>\n",
       "      <td>199543.000000</td>\n",
       "      <td>0.000000</td>\n",
       "      <td>238057.000000</td>\n",
       "      <td>242962.000000</td>\n",
       "      <td>0.119048</td>\n",
       "      <td>0.119048</td>\n",
       "    </tr>\n",
       "    <tr>\n",
       "      <th>75%</th>\n",
       "      <td>1.549666e-01</td>\n",
       "      <td>302048.000000</td>\n",
       "      <td>0.200000</td>\n",
       "      <td>374523.000000</td>\n",
       "      <td>381546.000000</td>\n",
       "      <td>0.500000</td>\n",
       "      <td>0.500000</td>\n",
       "    </tr>\n",
       "    <tr>\n",
       "      <th>max</th>\n",
       "      <td>1.000000e+00</td>\n",
       "      <td>404289.000000</td>\n",
       "      <td>1.000000</td>\n",
       "      <td>537932.000000</td>\n",
       "      <td>537933.000000</td>\n",
       "      <td>1.000000</td>\n",
       "      <td>1.000000</td>\n",
       "    </tr>\n",
       "    <tr>\n",
       "      <th rowspan=\"8\" valign=\"top\">1</th>\n",
       "      <th>count</th>\n",
       "      <td>3.735000e+03</td>\n",
       "      <td>3735.000000</td>\n",
       "      <td>3735.000000</td>\n",
       "      <td>3735.000000</td>\n",
       "      <td>3735.000000</td>\n",
       "      <td>3735.000000</td>\n",
       "      <td>3735.000000</td>\n",
       "    </tr>\n",
       "    <tr>\n",
       "      <th>mean</th>\n",
       "      <td>7.596537e-02</td>\n",
       "      <td>202311.231861</td>\n",
       "      <td>0.169028</td>\n",
       "      <td>164413.169210</td>\n",
       "      <td>165315.735743</td>\n",
       "      <td>0.244742</td>\n",
       "      <td>0.244742</td>\n",
       "    </tr>\n",
       "    <tr>\n",
       "      <th>std</th>\n",
       "      <td>4.573286e-02</td>\n",
       "      <td>116259.574361</td>\n",
       "      <td>0.362126</td>\n",
       "      <td>144952.728672</td>\n",
       "      <td>146314.150100</td>\n",
       "      <td>0.286896</td>\n",
       "      <td>0.286896</td>\n",
       "    </tr>\n",
       "    <tr>\n",
       "      <th>min</th>\n",
       "      <td>-1.127953e-07</td>\n",
       "      <td>85.000000</td>\n",
       "      <td>-1.000000</td>\n",
       "      <td>77.000000</td>\n",
       "      <td>38.000000</td>\n",
       "      <td>0.000000</td>\n",
       "      <td>0.000000</td>\n",
       "    </tr>\n",
       "    <tr>\n",
       "      <th>25%</th>\n",
       "      <td>4.252045e-02</td>\n",
       "      <td>99254.000000</td>\n",
       "      <td>0.000000</td>\n",
       "      <td>41545.000000</td>\n",
       "      <td>41655.000000</td>\n",
       "      <td>0.000000</td>\n",
       "      <td>0.000000</td>\n",
       "    </tr>\n",
       "    <tr>\n",
       "      <th>50%</th>\n",
       "      <td>6.994835e-02</td>\n",
       "      <td>202784.000000</td>\n",
       "      <td>0.000000</td>\n",
       "      <td>120818.000000</td>\n",
       "      <td>118148.000000</td>\n",
       "      <td>0.125000</td>\n",
       "      <td>0.125000</td>\n",
       "    </tr>\n",
       "    <tr>\n",
       "      <th>75%</th>\n",
       "      <td>1.018706e-01</td>\n",
       "      <td>302756.500000</td>\n",
       "      <td>0.333333</td>\n",
       "      <td>257357.500000</td>\n",
       "      <td>264801.500000</td>\n",
       "      <td>0.450000</td>\n",
       "      <td>0.450000</td>\n",
       "    </tr>\n",
       "    <tr>\n",
       "      <th>max</th>\n",
       "      <td>4.332188e-01</td>\n",
       "      <td>403724.000000</td>\n",
       "      <td>1.000000</td>\n",
       "      <td>536689.000000</td>\n",
       "      <td>536690.000000</td>\n",
       "      <td>1.000000</td>\n",
       "      <td>1.000000</td>\n",
       "    </tr>\n",
       "  </tbody>\n",
       "</table>\n",
       "</div>"
      ],
      "text/plain": [
       "                             dis             id    polarity1           qid1  \\\n",
       "is_duplicate                                                                  \n",
       "0            count  6.265000e+03    6265.000000  6265.000000    6265.000000   \n",
       "             mean   1.164964e-01  200618.425219     0.127289  245780.474860   \n",
       "             std    7.531203e-02  116402.092921     0.312474  155251.339923   \n",
       "             min   -1.059282e-07     123.000000    -1.000000      87.000000   \n",
       "             25%    6.647940e-02  101432.000000     0.000000  107862.000000   \n",
       "             50%    1.065744e-01  199543.000000     0.000000  238057.000000   \n",
       "             75%    1.549666e-01  302048.000000     0.200000  374523.000000   \n",
       "             max    1.000000e+00  404289.000000     1.000000  537932.000000   \n",
       "1            count  3.735000e+03    3735.000000  3735.000000    3735.000000   \n",
       "             mean   7.596537e-02  202311.231861     0.169028  164413.169210   \n",
       "             std    4.573286e-02  116259.574361     0.362126  144952.728672   \n",
       "             min   -1.127953e-07      85.000000    -1.000000      77.000000   \n",
       "             25%    4.252045e-02   99254.000000     0.000000   41545.000000   \n",
       "             50%    6.994835e-02  202784.000000     0.000000  120818.000000   \n",
       "             75%    1.018706e-01  302756.500000     0.333333  257357.500000   \n",
       "             max    4.332188e-01  403724.000000     1.000000  536689.000000   \n",
       "\n",
       "                             qid2  subjectivity  subjectivity1  \n",
       "is_duplicate                                                    \n",
       "0            count    6265.000000   6265.000000    6265.000000  \n",
       "             mean   248007.421069      0.250519       0.250519  \n",
       "             std    157626.510904      0.292455       0.292455  \n",
       "             min       232.000000      0.000000       0.000000  \n",
       "             25%    105363.000000      0.000000       0.000000  \n",
       "             50%    242962.000000      0.119048       0.119048  \n",
       "             75%    381546.000000      0.500000       0.500000  \n",
       "             max    537933.000000      1.000000       1.000000  \n",
       "1            count    3735.000000   3735.000000    3735.000000  \n",
       "             mean   165315.735743      0.244742       0.244742  \n",
       "             std    146314.150100      0.286896       0.286896  \n",
       "             min        38.000000      0.000000       0.000000  \n",
       "             25%     41655.000000      0.000000       0.000000  \n",
       "             50%    118148.000000      0.125000       0.125000  \n",
       "             75%    264801.500000      0.450000       0.450000  \n",
       "             max    536690.000000      1.000000       1.000000  "
      ]
     },
     "execution_count": 82,
     "metadata": {},
     "output_type": "execute_result"
    }
   ],
   "source": [
    "sample_qs.groupby('is_duplicate').describe()"
   ]
  },
  {
   "cell_type": "code",
   "execution_count": 39,
   "metadata": {
    "collapsed": false
   },
   "outputs": [
    {
     "data": {
      "image/png": "[encoded data removed]",
      "text/plain": [
       "<matplotlib.figure.Figure at 0x7ff3b85affd0>"
      ]
     },
     "metadata": {},
     "output_type": "display_data"
    }
   ],
   "source": [
    "import seaborn as sns\n",
    "import matplotlib.pyplot as plt\n",
    "\n",
    "fig, ax = plt.subplots()\n",
    "for a in [sample_qs['dis'][sample_qs['is_duplicate']==0], sample_qs['dis'][sample_qs['is_duplicate']==1]]:\n",
    "    sns.kdeplot(a,  ax=ax, shade = True)\n",
    "ax.set_xlim([-0.1, 1])\n",
    "\n",
    "#sns.kdeplot(sample_qs['dis'][sample_qs['is_duplicate']==0], shade = True)\n",
    "#plt.show()\n",
    "\n",
    "plt.show()"
   ]
  },
  {
   "cell_type": "code",
   "execution_count": 62,
   "metadata": {
    "collapsed": false
   },
   "outputs": [
    {
     "data": {
      "text/plain": [
       "[-0.15, 0.4]"
      ]
     },
     "execution_count": 62,
     "metadata": {},
     "output_type": "execute_result"
    }
   ],
   "source": [
    "from textblob import TextBlob\n",
    "\n",
    "def sentiment(question):\n",
    "    \n",
    "    pol_sub = [TextBlob(question).sentiment.polarity, \n",
    "               TextBlob(question).sentiment.subjectivity]\n",
    "    return pol_sub           \n",
    "\n"
   ]
  },
  {
   "cell_type": "code",
   "execution_count": 67,
   "metadata": {
    "collapsed": false
   },
   "outputs": [],
   "source": [
    "question1_sent_subj = sample_qs['question1'].apply(sentiment)"
   ]
  },
  {
   "cell_type": "code",
   "execution_count": 75,
   "metadata": {
    "collapsed": true
   },
   "outputs": [],
   "source": [
    "sample_qs['polarity1'], sample_qs['subjectivity1'] = zip(*question1_sent_subj)"
   ]
  },
  {
   "cell_type": "code",
   "execution_count": 72,
   "metadata": {
    "collapsed": false
   },
   "outputs": [
    {
     "data": {
      "text/html": [
       "<div>\n",
       "<table border=\"1\" class=\"dataframe\">\n",
       "  <thead>\n",
       "    <tr style=\"text-align: right;\">\n",
       "      <th></th>\n",
       "      <th>id</th>\n",
       "      <th>qid1</th>\n",
       "      <th>qid2</th>\n",
       "      <th>question1</th>\n",
       "      <th>question2</th>\n",
       "      <th>is_duplicate</th>\n",
       "      <th>dis</th>\n",
       "      <th>polarity1</th>\n",
       "      <th>subjectivity</th>\n",
       "    </tr>\n",
       "  </thead>\n",
       "  <tbody>\n",
       "    <tr>\n",
       "      <th>8067</th>\n",
       "      <td>8067</td>\n",
       "      <td>15738</td>\n",
       "      <td>15739</td>\n",
       "      <td>How do I play Pokémon GO in Korea?</td>\n",
       "      <td>How do I play Pokémon GO in China?</td>\n",
       "      <td>0</td>\n",
       "      <td>0.008648</td>\n",
       "      <td>0.00</td>\n",
       "      <td>0.00</td>\n",
       "    </tr>\n",
       "    <tr>\n",
       "      <th>368101</th>\n",
       "      <td>368101</td>\n",
       "      <td>12736</td>\n",
       "      <td>104117</td>\n",
       "      <td>What are some of the best side dishes for crab...</td>\n",
       "      <td>What are some good side dishes for buffalo chi...</td>\n",
       "      <td>0</td>\n",
       "      <td>0.068459</td>\n",
       "      <td>1.00</td>\n",
       "      <td>0.30</td>\n",
       "    </tr>\n",
       "    <tr>\n",
       "      <th>70497</th>\n",
       "      <td>70497</td>\n",
       "      <td>121486</td>\n",
       "      <td>121487</td>\n",
       "      <td>Which is more advisable and better material fo...</td>\n",
       "      <td>What is the best server setup for buddypress?</td>\n",
       "      <td>0</td>\n",
       "      <td>0.170978</td>\n",
       "      <td>0.50</td>\n",
       "      <td>0.50</td>\n",
       "    </tr>\n",
       "    <tr>\n",
       "      <th>226567</th>\n",
       "      <td>226567</td>\n",
       "      <td>254474</td>\n",
       "      <td>258192</td>\n",
       "      <td>How do I improve logical programming skills?</td>\n",
       "      <td>How can I improve my logical skills for progra...</td>\n",
       "      <td>1</td>\n",
       "      <td>0.055018</td>\n",
       "      <td>0.25</td>\n",
       "      <td>0.25</td>\n",
       "    </tr>\n",
       "    <tr>\n",
       "      <th>73186</th>\n",
       "      <td>73186</td>\n",
       "      <td>48103</td>\n",
       "      <td>3062</td>\n",
       "      <td>How close we are to see 3rd world war?</td>\n",
       "      <td>How close is a World War III?</td>\n",
       "      <td>1</td>\n",
       "      <td>0.111128</td>\n",
       "      <td>0.00</td>\n",
       "      <td>0.00</td>\n",
       "    </tr>\n",
       "  </tbody>\n",
       "</table>\n",
       "</div>"
      ],
      "text/plain": [
       "            id    qid1    qid2  \\\n",
       "8067      8067   15738   15739   \n",
       "368101  368101   12736  104117   \n",
       "70497    70497  121486  121487   \n",
       "226567  226567  254474  258192   \n",
       "73186    73186   48103    3062   \n",
       "\n",
       "                                                question1  \\\n",
       "8067                   How do I play Pokémon GO in Korea?   \n",
       "368101  What are some of the best side dishes for crab...   \n",
       "70497   Which is more advisable and better material fo...   \n",
       "226567       How do I improve logical programming skills?   \n",
       "73186              How close we are to see 3rd world war?   \n",
       "\n",
       "                                                question2  is_duplicate  \\\n",
       "8067                   How do I play Pokémon GO in China?             0   \n",
       "368101  What are some good side dishes for buffalo chi...             0   \n",
       "70497       What is the best server setup for buddypress?             0   \n",
       "226567  How can I improve my logical skills for progra...             1   \n",
       "73186                       How close is a World War III?             1   \n",
       "\n",
       "             dis  polarity1  subjectivity  \n",
       "8067    0.008648       0.00          0.00  \n",
       "368101  0.068459       1.00          0.30  \n",
       "70497   0.170978       0.50          0.50  \n",
       "226567  0.055018       0.25          0.25  \n",
       "73186   0.111128       0.00          0.00  "
      ]
     },
     "execution_count": 72,
     "metadata": {},
     "output_type": "execute_result"
    }
   ],
   "source": [
    "sample_qs.head()"
   ]
  }
 ],
 "metadata": {
  "kernelspec": {
   "display_name": "Python 3",
   "language": "python",
   "name": "python3"
  },
  "language_info": {
   "codemirror_mode": {
    "name": "ipython",
    "version": 3
   },
   "file_extension": ".py",
   "mimetype": "text/x-python",
   "name": "python",
   "nbconvert_exporter": "python",
   "pygments_lexer": "ipython3",
   "version": "3.5.2"
  }
 },
 "nbformat": 4,
 "nbformat_minor": 2
}
