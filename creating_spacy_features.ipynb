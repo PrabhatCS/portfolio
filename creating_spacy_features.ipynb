{
 "cells": [
  {
   "cell_type": "markdown",
   "metadata": {},
   "source": [
    "I have been checking out the spacy nlp library and wanted to try some of it's abilities on this quora dataset. This notebook generates two new sets of features that might help your models. First, spacy tags the parts of speech in the texts it parses, which can be made into a sparse matrix and joined to the original dataframe. The second item is a similarity score between texts, I thought the 1-similarity number would be more intuitive so created a function around spacy's method. Hope this helps!\n"
   ]
  },
  {
   "cell_type": "code",
   "execution_count": 3,
   "metadata": {
    "collapsed": true
   },
   "outputs": [],
   "source": [
    "import pandas as pd\n",
    "import spacy"
   ]
  },
  {
   "cell_type": "code",
   "execution_count": 4,
   "metadata": {
    "collapsed": false
   },
   "outputs": [],
   "source": [
    "train = pd.read_csv(\"./input/questions.zip\")"
   ]
  },
  {
   "cell_type": "code",
   "execution_count": 5,
   "metadata": {
    "collapsed": false
   },
   "outputs": [
    {
     "data": {
      "text/html": [
       "<div>\n",
       "<table border=\"1\" class=\"dataframe\">\n",
       "  <thead>\n",
       "    <tr style=\"text-align: right;\">\n",
       "      <th></th>\n",
       "      <th>id</th>\n",
       "      <th>qid1</th>\n",
       "      <th>qid2</th>\n",
       "      <th>question1</th>\n",
       "      <th>question2</th>\n",
       "      <th>is_duplicate</th>\n",
       "    </tr>\n",
       "  </thead>\n",
       "  <tbody>\n",
       "    <tr>\n",
       "      <th>0</th>\n",
       "      <td>0</td>\n",
       "      <td>1</td>\n",
       "      <td>2</td>\n",
       "      <td>What is the step by step guide to invest in sh...</td>\n",
       "      <td>What is the step by step guide to invest in sh...</td>\n",
       "      <td>0</td>\n",
       "    </tr>\n",
       "    <tr>\n",
       "      <th>1</th>\n",
       "      <td>1</td>\n",
       "      <td>3</td>\n",
       "      <td>4</td>\n",
       "      <td>What is the story of Kohinoor (Koh-i-Noor) Dia...</td>\n",
       "      <td>What would happen if the Indian government sto...</td>\n",
       "      <td>0</td>\n",
       "    </tr>\n",
       "    <tr>\n",
       "      <th>2</th>\n",
       "      <td>2</td>\n",
       "      <td>5</td>\n",
       "      <td>6</td>\n",
       "      <td>How can I increase the speed of my internet co...</td>\n",
       "      <td>How can Internet speed be increased by hacking...</td>\n",
       "      <td>0</td>\n",
       "    </tr>\n",
       "    <tr>\n",
       "      <th>3</th>\n",
       "      <td>3</td>\n",
       "      <td>7</td>\n",
       "      <td>8</td>\n",
       "      <td>Why am I mentally very lonely? How can I solve...</td>\n",
       "      <td>Find the remainder when [math]23^{24}[/math] i...</td>\n",
       "      <td>0</td>\n",
       "    </tr>\n",
       "    <tr>\n",
       "      <th>4</th>\n",
       "      <td>4</td>\n",
       "      <td>9</td>\n",
       "      <td>10</td>\n",
       "      <td>Which one dissolve in water quikly sugar, salt...</td>\n",
       "      <td>Which fish would survive in salt water?</td>\n",
       "      <td>0</td>\n",
       "    </tr>\n",
       "    <tr>\n",
       "      <th>5</th>\n",
       "      <td>5</td>\n",
       "      <td>11</td>\n",
       "      <td>12</td>\n",
       "      <td>Astrology: I am a Capricorn Sun Cap moon and c...</td>\n",
       "      <td>I'm a triple Capricorn (Sun, Moon and ascendan...</td>\n",
       "      <td>1</td>\n",
       "    </tr>\n",
       "    <tr>\n",
       "      <th>6</th>\n",
       "      <td>6</td>\n",
       "      <td>13</td>\n",
       "      <td>14</td>\n",
       "      <td>Should I buy tiago?</td>\n",
       "      <td>What keeps childern active and far from phone ...</td>\n",
       "      <td>0</td>\n",
       "    </tr>\n",
       "    <tr>\n",
       "      <th>7</th>\n",
       "      <td>7</td>\n",
       "      <td>15</td>\n",
       "      <td>16</td>\n",
       "      <td>How can I be a good geologist?</td>\n",
       "      <td>What should I do to be a great geologist?</td>\n",
       "      <td>1</td>\n",
       "    </tr>\n",
       "    <tr>\n",
       "      <th>8</th>\n",
       "      <td>8</td>\n",
       "      <td>17</td>\n",
       "      <td>18</td>\n",
       "      <td>When do you use シ instead of し?</td>\n",
       "      <td>When do you use \"&amp;\" instead of \"and\"?</td>\n",
       "      <td>0</td>\n",
       "    </tr>\n",
       "    <tr>\n",
       "      <th>9</th>\n",
       "      <td>9</td>\n",
       "      <td>19</td>\n",
       "      <td>20</td>\n",
       "      <td>Motorola (company): Can I hack my Charter Moto...</td>\n",
       "      <td>How do I hack Motorola DCX3400 for free internet?</td>\n",
       "      <td>0</td>\n",
       "    </tr>\n",
       "  </tbody>\n",
       "</table>\n",
       "</div>"
      ],
      "text/plain": [
       "   id  qid1  qid2                                          question1  \\\n",
       "0   0     1     2  What is the step by step guide to invest in sh...   \n",
       "1   1     3     4  What is the story of Kohinoor (Koh-i-Noor) Dia...   \n",
       "2   2     5     6  How can I increase the speed of my internet co...   \n",
       "3   3     7     8  Why am I mentally very lonely? How can I solve...   \n",
       "4   4     9    10  Which one dissolve in water quikly sugar, salt...   \n",
       "5   5    11    12  Astrology: I am a Capricorn Sun Cap moon and c...   \n",
       "6   6    13    14                                Should I buy tiago?   \n",
       "7   7    15    16                     How can I be a good geologist?   \n",
       "8   8    17    18                    When do you use シ instead of し?   \n",
       "9   9    19    20  Motorola (company): Can I hack my Charter Moto...   \n",
       "\n",
       "                                           question2  is_duplicate  \n",
       "0  What is the step by step guide to invest in sh...             0  \n",
       "1  What would happen if the Indian government sto...             0  \n",
       "2  How can Internet speed be increased by hacking...             0  \n",
       "3  Find the remainder when [math]23^{24}[/math] i...             0  \n",
       "4            Which fish would survive in salt water?             0  \n",
       "5  I'm a triple Capricorn (Sun, Moon and ascendan...             1  \n",
       "6  What keeps childern active and far from phone ...             0  \n",
       "7          What should I do to be a great geologist?             1  \n",
       "8              When do you use \"&\" instead of \"and\"?             0  \n",
       "9  How do I hack Motorola DCX3400 for free internet?             0  "
      ]
     },
     "execution_count": 5,
     "metadata": {},
     "output_type": "execute_result"
    }
   ],
   "source": [
    "train.head(10)\n"
   ]
  },
  {
   "cell_type": "code",
   "execution_count": 7,
   "metadata": {
    "collapsed": false
   },
   "outputs": [
    {
     "data": {
      "text/plain": [
       "(404290, 6)"
      ]
     },
     "execution_count": 7,
     "metadata": {},
     "output_type": "execute_result"
    }
   ],
   "source": [
    "train.shape"
   ]
  },
  {
   "cell_type": "code",
   "execution_count": 7,
   "metadata": {
    "collapsed": true
   },
   "outputs": [],
   "source": [
    "nlp = spacy.load(\"en\")"
   ]
  },
  {
   "cell_type": "code",
   "execution_count": 13,
   "metadata": {
    "collapsed": false
   },
   "outputs": [],
   "source": [
    "question_list = []\n",
    "for item in train['question1']:\n",
    "    question_list.append(str(item))\n",
    "\n",
    "#print(' '.join(question_list))    "
   ]
  },
  {
   "cell_type": "code",
   "execution_count": 26,
   "metadata": {
    "collapsed": false
   },
   "outputs": [
    {
     "data": {
      "text/plain": [
       "spacy.tokens.doc.Doc"
      ]
     },
     "execution_count": 26,
     "metadata": {},
     "output_type": "execute_result"
    }
   ],
   "source": [
    "test_mod = nlp(' '.join(question_list[0:10]))\n",
    "type(test_mod)"
   ]
  },
  {
   "cell_type": "code",
   "execution_count": 69,
   "metadata": {
    "collapsed": false
   },
   "outputs": [],
   "source": [
    "def pos_count(string):\n",
    "    #counts parts of speech for each spacy document object\n",
    "    parsed_string = nlp(string)\n",
    "    pos_dict = {}\n",
    "    \n",
    "    for word in parsed_string:\n",
    "        if word.pos_ in pos_dict:\n",
    "            pos_dict[word.pos_] += 1\n",
    "        else:    \n",
    "            pos_dict[word.pos_] = 1\n",
    "    return pos_dict    "
   ]
  },
  {
   "cell_type": "code",
   "execution_count": 74,
   "metadata": {
    "collapsed": false,
    "scrolled": true
   },
   "outputs": [
    {
     "name": "stdout",
     "output_type": "stream",
     "text": [
      "Why am I mentally very lonely? How can I solve it?\n",
      "{'NOUN': 2, 'DET': 1, 'ADV': 1, 'ADP': 1, 'PUNCT': 3, 'VERB': 3, 'NUM': 1}\n"
     ]
    }
   ],
   "source": [
    "print(train['question1'][3])\n",
    "b = pos_count(train['question2'][3])\n",
    "print(b)\n"
   ]
  },
  {
   "cell_type": "code",
   "execution_count": 78,
   "metadata": {
    "collapsed": false
   },
   "outputs": [
    {
     "name": "stdout",
     "output_type": "stream",
     "text": [
      "[{'NOUN': 7, 'DET': 1, 'ADP': 3, 'PUNCT': 1, 'VERB': 2, 'PART': 1}, {'NOUN': 2, 'DET': 1, 'PROPN': 5, 'ADP': 1, 'PUNCT': 5, 'VERB': 1}, {'NOUN': 3, 'DET': 2, 'PRON': 1, 'ADJ': 1, 'ADV': 1, 'PROPN': 1, 'ADP': 2, 'PUNCT': 1, 'VERB': 3}, {'PUNCT': 2, 'VERB': 3, 'PRON': 3, 'ADJ': 1, 'ADV': 4}]\n"
     ]
    }
   ],
   "source": [
    "pos_list = []\n",
    "for item in train['question1'][0:4]:\n",
    "    dict = pos_count(item)\n",
    "    pos_list.append(dict)\n"
   ]
  },
  {
   "cell_type": "code",
   "execution_count": 80,
   "metadata": {
    "collapsed": false
   },
   "outputs": [
    {
     "data": {
      "text/html": [
       "<div>\n",
       "<table border=\"1\" class=\"dataframe\">\n",
       "  <thead>\n",
       "    <tr style=\"text-align: right;\">\n",
       "      <th></th>\n",
       "      <th>ADJ</th>\n",
       "      <th>ADP</th>\n",
       "      <th>ADV</th>\n",
       "      <th>DET</th>\n",
       "      <th>NOUN</th>\n",
       "      <th>PART</th>\n",
       "      <th>PRON</th>\n",
       "      <th>PROPN</th>\n",
       "      <th>PUNCT</th>\n",
       "      <th>VERB</th>\n",
       "    </tr>\n",
       "  </thead>\n",
       "  <tbody>\n",
       "    <tr>\n",
       "      <th>0</th>\n",
       "      <td>NaN</td>\n",
       "      <td>3.0</td>\n",
       "      <td>NaN</td>\n",
       "      <td>1.0</td>\n",
       "      <td>7.0</td>\n",
       "      <td>1.0</td>\n",
       "      <td>NaN</td>\n",
       "      <td>NaN</td>\n",
       "      <td>1</td>\n",
       "      <td>2</td>\n",
       "    </tr>\n",
       "    <tr>\n",
       "      <th>1</th>\n",
       "      <td>NaN</td>\n",
       "      <td>1.0</td>\n",
       "      <td>NaN</td>\n",
       "      <td>1.0</td>\n",
       "      <td>2.0</td>\n",
       "      <td>NaN</td>\n",
       "      <td>NaN</td>\n",
       "      <td>5.0</td>\n",
       "      <td>5</td>\n",
       "      <td>1</td>\n",
       "    </tr>\n",
       "    <tr>\n",
       "      <th>2</th>\n",
       "      <td>1.0</td>\n",
       "      <td>2.0</td>\n",
       "      <td>1.0</td>\n",
       "      <td>2.0</td>\n",
       "      <td>3.0</td>\n",
       "      <td>NaN</td>\n",
       "      <td>1.0</td>\n",
       "      <td>1.0</td>\n",
       "      <td>1</td>\n",
       "      <td>3</td>\n",
       "    </tr>\n",
       "    <tr>\n",
       "      <th>3</th>\n",
       "      <td>1.0</td>\n",
       "      <td>NaN</td>\n",
       "      <td>4.0</td>\n",
       "      <td>NaN</td>\n",
       "      <td>NaN</td>\n",
       "      <td>NaN</td>\n",
       "      <td>3.0</td>\n",
       "      <td>NaN</td>\n",
       "      <td>2</td>\n",
       "      <td>3</td>\n",
       "    </tr>\n",
       "  </tbody>\n",
       "</table>\n",
       "</div>"
      ],
      "text/plain": [
       "   ADJ  ADP  ADV  DET  NOUN  PART  PRON  PROPN  PUNCT  VERB\n",
       "0  NaN  3.0  NaN  1.0   7.0   1.0   NaN    NaN      1     2\n",
       "1  NaN  1.0  NaN  1.0   2.0   NaN   NaN    5.0      5     1\n",
       "2  1.0  2.0  1.0  2.0   3.0   NaN   1.0    1.0      1     3\n",
       "3  1.0  NaN  4.0  NaN   NaN   NaN   3.0    NaN      2     3"
      ]
     },
     "execution_count": 80,
     "metadata": {},
     "output_type": "execute_result"
    }
   ],
   "source": [
    "pd.DataFrame(pos_list)"
   ]
  },
  {
   "cell_type": "code",
   "execution_count": 20,
   "metadata": {
    "collapsed": false
   },
   "outputs": [
    {
     "data": {
      "text/html": [
       "<div>\n",
       "<table border=\"1\" class=\"dataframe\">\n",
       "  <thead>\n",
       "    <tr style=\"text-align: right;\">\n",
       "      <th></th>\n",
       "      <th>question1</th>\n",
       "      <th>question2</th>\n",
       "    </tr>\n",
       "  </thead>\n",
       "  <tbody>\n",
       "    <tr>\n",
       "      <th>0</th>\n",
       "      <td>What is the step by step guide to invest in sh...</td>\n",
       "      <td>What is the step by step guide to invest in sh...</td>\n",
       "    </tr>\n",
       "    <tr>\n",
       "      <th>1</th>\n",
       "      <td>What is the story of Kohinoor (Koh-i-Noor) Dia...</td>\n",
       "      <td>What would happen if the Indian government sto...</td>\n",
       "    </tr>\n",
       "    <tr>\n",
       "      <th>2</th>\n",
       "      <td>How can I increase the speed of my internet co...</td>\n",
       "      <td>How can Internet speed be increased by hacking...</td>\n",
       "    </tr>\n",
       "    <tr>\n",
       "      <th>3</th>\n",
       "      <td>Why am I mentally very lonely? How can I solve...</td>\n",
       "      <td>Find the remainder when [math]23^{24}[/math] i...</td>\n",
       "    </tr>\n",
       "    <tr>\n",
       "      <th>4</th>\n",
       "      <td>Which one dissolve in water quikly sugar, salt...</td>\n",
       "      <td>Which fish would survive in salt water?</td>\n",
       "    </tr>\n",
       "    <tr>\n",
       "      <th>5</th>\n",
       "      <td>Astrology: I am a Capricorn Sun Cap moon and c...</td>\n",
       "      <td>I'm a triple Capricorn (Sun, Moon and ascendan...</td>\n",
       "    </tr>\n",
       "    <tr>\n",
       "      <th>6</th>\n",
       "      <td>Should I buy tiago?</td>\n",
       "      <td>What keeps childern active and far from phone ...</td>\n",
       "    </tr>\n",
       "    <tr>\n",
       "      <th>7</th>\n",
       "      <td>How can I be a good geologist?</td>\n",
       "      <td>What should I do to be a great geologist?</td>\n",
       "    </tr>\n",
       "    <tr>\n",
       "      <th>8</th>\n",
       "      <td>When do you use シ instead of し?</td>\n",
       "      <td>When do you use \"&amp;\" instead of \"and\"?</td>\n",
       "    </tr>\n",
       "    <tr>\n",
       "      <th>9</th>\n",
       "      <td>Motorola (company): Can I hack my Charter Moto...</td>\n",
       "      <td>How do I hack Motorola DCX3400 for free internet?</td>\n",
       "    </tr>\n",
       "    <tr>\n",
       "      <th>10</th>\n",
       "      <td>Method to find separation of slits using fresn...</td>\n",
       "      <td>What are some of the things technicians can te...</td>\n",
       "    </tr>\n",
       "  </tbody>\n",
       "</table>\n",
       "</div>"
      ],
      "text/plain": [
       "                                            question1  \\\n",
       "0   What is the step by step guide to invest in sh...   \n",
       "1   What is the story of Kohinoor (Koh-i-Noor) Dia...   \n",
       "2   How can I increase the speed of my internet co...   \n",
       "3   Why am I mentally very lonely? How can I solve...   \n",
       "4   Which one dissolve in water quikly sugar, salt...   \n",
       "5   Astrology: I am a Capricorn Sun Cap moon and c...   \n",
       "6                                 Should I buy tiago?   \n",
       "7                      How can I be a good geologist?   \n",
       "8                     When do you use シ instead of し?   \n",
       "9   Motorola (company): Can I hack my Charter Moto...   \n",
       "10  Method to find separation of slits using fresn...   \n",
       "\n",
       "                                            question2  \n",
       "0   What is the step by step guide to invest in sh...  \n",
       "1   What would happen if the Indian government sto...  \n",
       "2   How can Internet speed be increased by hacking...  \n",
       "3   Find the remainder when [math]23^{24}[/math] i...  \n",
       "4             Which fish would survive in salt water?  \n",
       "5   I'm a triple Capricorn (Sun, Moon and ascendan...  \n",
       "6   What keeps childern active and far from phone ...  \n",
       "7           What should I do to be a great geologist?  \n",
       "8               When do you use \"&\" instead of \"and\"?  \n",
       "9   How do I hack Motorola DCX3400 for free internet?  \n",
       "10  What are some of the things technicians can te...  "
      ]
     },
     "execution_count": 20,
     "metadata": {},
     "output_type": "execute_result"
    }
   ],
   "source": [
    "train[['question1', 'question2']].loc[0:10]"
   ]
  },
  {
   "cell_type": "code",
   "execution_count": 24,
   "metadata": {
    "collapsed": false
   },
   "outputs": [],
   "source": [
    "nlp_list = []\n",
    "questions = train[['question1', 'question2']][0:10]\n"
   ]
  },
  {
   "cell_type": "code",
   "execution_count": 58,
   "metadata": {
    "collapsed": false
   },
   "outputs": [],
   "source": [
    "def dis_similarity(question_pair):\n",
    "    \n",
    "    parsed1 = nlp(question_pair[0])\n",
    "    parsed2 = nlp(question_pair[1])\n",
    "    anti_sim = 1 - parsed1.similarity(parsed2)\n",
    "    return anti_sim"
   ]
  },
  {
   "cell_type": "code",
   "execution_count": 45,
   "metadata": {
    "collapsed": false
   },
   "outputs": [
    {
     "data": {
      "text/plain": [
       "10"
      ]
     },
     "execution_count": 45,
     "metadata": {},
     "output_type": "execute_result"
    }
   ],
   "source": [
    "len(questions)"
   ]
  },
  {
   "cell_type": "code",
   "execution_count": null,
   "metadata": {
    "collapsed": true
   },
   "outputs": [],
   "source": [
    "sample_qs = train.sample(10000)"
   ]
  },
  {
   "cell_type": "code",
   "execution_count": 70,
   "metadata": {
    "collapsed": false
   },
   "outputs": [],
   "source": [
    "sample_qs['dis'] = sample_qs[['question1','question2']].apply(dis_similarity, axis = 1)"
   ]
  },
  {
   "cell_type": "code",
   "execution_count": 71,
   "metadata": {
    "collapsed": false
   },
   "outputs": [
    {
     "data": {
      "text/html": [
       "<div>\n",
       "<table border=\"1\" class=\"dataframe\">\n",
       "  <thead>\n",
       "    <tr style=\"text-align: right;\">\n",
       "      <th></th>\n",
       "      <th>id</th>\n",
       "      <th>qid1</th>\n",
       "      <th>qid2</th>\n",
       "      <th>question1</th>\n",
       "      <th>question2</th>\n",
       "      <th>is_duplicate</th>\n",
       "      <th>dis</th>\n",
       "    </tr>\n",
       "  </thead>\n",
       "  <tbody>\n",
       "    <tr>\n",
       "      <th>55948</th>\n",
       "      <td>55948</td>\n",
       "      <td>98556</td>\n",
       "      <td>98557</td>\n",
       "      <td>What are some good home chest workouts I can do?</td>\n",
       "      <td>What are the best chest workouts to be done at...</td>\n",
       "      <td>0</td>\n",
       "      <td>0.078315</td>\n",
       "    </tr>\n",
       "    <tr>\n",
       "      <th>44791</th>\n",
       "      <td>44791</td>\n",
       "      <td>80351</td>\n",
       "      <td>80352</td>\n",
       "      <td>How can I open DWG files in Adobe Illustrator?</td>\n",
       "      <td>What is the difference between 780p and 1080i ...</td>\n",
       "      <td>0</td>\n",
       "      <td>0.257028</td>\n",
       "    </tr>\n",
       "    <tr>\n",
       "      <th>82769</th>\n",
       "      <td>82769</td>\n",
       "      <td>140279</td>\n",
       "      <td>1106</td>\n",
       "      <td>Is skipping equal to jumping to lose weight, a...</td>\n",
       "      <td>How much weight will I lose by not eating for ...</td>\n",
       "      <td>0</td>\n",
       "      <td>0.115117</td>\n",
       "    </tr>\n",
       "    <tr>\n",
       "      <th>261249</th>\n",
       "      <td>261249</td>\n",
       "      <td>138811</td>\n",
       "      <td>377337</td>\n",
       "      <td>What impact does global warming have on biodiv...</td>\n",
       "      <td>Why is global warming a threat to biodiversity?</td>\n",
       "      <td>1</td>\n",
       "      <td>0.110458</td>\n",
       "    </tr>\n",
       "    <tr>\n",
       "      <th>389592</th>\n",
       "      <td>389592</td>\n",
       "      <td>152858</td>\n",
       "      <td>30038</td>\n",
       "      <td>Was/Is Barack Obama a bad/good president?</td>\n",
       "      <td>Has Obama been a bad president? What reasons d...</td>\n",
       "      <td>1</td>\n",
       "      <td>0.239918</td>\n",
       "    </tr>\n",
       "  </tbody>\n",
       "</table>\n",
       "</div>"
      ],
      "text/plain": [
       "            id    qid1    qid2  \\\n",
       "55948    55948   98556   98557   \n",
       "44791    44791   80351   80352   \n",
       "82769    82769  140279    1106   \n",
       "261249  261249  138811  377337   \n",
       "389592  389592  152858   30038   \n",
       "\n",
       "                                                question1  \\\n",
       "55948    What are some good home chest workouts I can do?   \n",
       "44791      How can I open DWG files in Adobe Illustrator?   \n",
       "82769   Is skipping equal to jumping to lose weight, a...   \n",
       "261249  What impact does global warming have on biodiv...   \n",
       "389592          Was/Is Barack Obama a bad/good president?   \n",
       "\n",
       "                                                question2  is_duplicate  \\\n",
       "55948   What are the best chest workouts to be done at...             0   \n",
       "44791   What is the difference between 780p and 1080i ...             0   \n",
       "82769   How much weight will I lose by not eating for ...             0   \n",
       "261249    Why is global warming a threat to biodiversity?             1   \n",
       "389592  Has Obama been a bad president? What reasons d...             1   \n",
       "\n",
       "             dis  \n",
       "55948   0.078315  \n",
       "44791   0.257028  \n",
       "82769   0.115117  \n",
       "261249  0.110458  \n",
       "389592  0.239918  "
      ]
     },
     "execution_count": 71,
     "metadata": {},
     "output_type": "execute_result"
    }
   ],
   "source": [
    "sample_qs.head()"
   ]
  },
  {
   "cell_type": "code",
   "execution_count": 100,
   "metadata": {
    "collapsed": false
   },
   "outputs": [
    {
     "data": {
      "text/html": [
       "<div>\n",
       "<table border=\"1\" class=\"dataframe\">\n",
       "  <thead>\n",
       "    <tr style=\"text-align: right;\">\n",
       "      <th></th>\n",
       "      <th>id</th>\n",
       "      <th>qid1</th>\n",
       "      <th>qid2</th>\n",
       "      <th>is_duplicate</th>\n",
       "      <th>dis</th>\n",
       "    </tr>\n",
       "  </thead>\n",
       "  <tbody>\n",
       "    <tr>\n",
       "      <th>count</th>\n",
       "      <td>10000.00000</td>\n",
       "      <td>10000.000000</td>\n",
       "      <td>10000.000000</td>\n",
       "      <td>10000.000000</td>\n",
       "      <td>1.000000e+04</td>\n",
       "    </tr>\n",
       "    <tr>\n",
       "      <th>mean</th>\n",
       "      <td>203616.47410</td>\n",
       "      <td>217487.728000</td>\n",
       "      <td>221665.372200</td>\n",
       "      <td>0.362500</td>\n",
       "      <td>9.967307e-02</td>\n",
       "    </tr>\n",
       "    <tr>\n",
       "      <th>std</th>\n",
       "      <td>117424.16225</td>\n",
       "      <td>158419.693595</td>\n",
       "      <td>161074.420149</td>\n",
       "      <td>0.480746</td>\n",
       "      <td>6.643455e-02</td>\n",
       "    </tr>\n",
       "    <tr>\n",
       "      <th>min</th>\n",
       "      <td>127.00000</td>\n",
       "      <td>3.000000</td>\n",
       "      <td>32.000000</td>\n",
       "      <td>0.000000</td>\n",
       "      <td>-1.123642e-07</td>\n",
       "    </tr>\n",
       "    <tr>\n",
       "      <th>25%</th>\n",
       "      <td>101531.00000</td>\n",
       "      <td>73905.250000</td>\n",
       "      <td>73766.000000</td>\n",
       "      <td>0.000000</td>\n",
       "      <td>5.406215e-02</td>\n",
       "    </tr>\n",
       "    <tr>\n",
       "      <th>50%</th>\n",
       "      <td>205220.50000</td>\n",
       "      <td>190245.500000</td>\n",
       "      <td>196819.000000</td>\n",
       "      <td>0.000000</td>\n",
       "      <td>8.838945e-02</td>\n",
       "    </tr>\n",
       "    <tr>\n",
       "      <th>75%</th>\n",
       "      <td>305762.00000</td>\n",
       "      <td>349640.000000</td>\n",
       "      <td>358802.500000</td>\n",
       "      <td>1.000000</td>\n",
       "      <td>1.331616e-01</td>\n",
       "    </tr>\n",
       "    <tr>\n",
       "      <th>max</th>\n",
       "      <td>404204.00000</td>\n",
       "      <td>537853.000000</td>\n",
       "      <td>537854.000000</td>\n",
       "      <td>1.000000</td>\n",
       "      <td>1.000000e+00</td>\n",
       "    </tr>\n",
       "  </tbody>\n",
       "</table>\n",
       "</div>"
      ],
      "text/plain": [
       "                 id           qid1           qid2  is_duplicate           dis\n",
       "count   10000.00000   10000.000000   10000.000000  10000.000000  1.000000e+04\n",
       "mean   203616.47410  217487.728000  221665.372200      0.362500  9.967307e-02\n",
       "std    117424.16225  158419.693595  161074.420149      0.480746  6.643455e-02\n",
       "min       127.00000       3.000000      32.000000      0.000000 -1.123642e-07\n",
       "25%    101531.00000   73905.250000   73766.000000      0.000000  5.406215e-02\n",
       "50%    205220.50000  190245.500000  196819.000000      0.000000  8.838945e-02\n",
       "75%    305762.00000  349640.000000  358802.500000      1.000000  1.331616e-01\n",
       "max    404204.00000  537853.000000  537854.000000      1.000000  1.000000e+00"
      ]
     },
     "execution_count": 100,
     "metadata": {},
     "output_type": "execute_result"
    }
   ],
   "source": [
    "sample_qs.describe()"
   ]
  },
  {
   "cell_type": "code",
   "execution_count": 105,
   "metadata": {
    "collapsed": false
   },
   "outputs": [
    {
     "data": {
      "image/png": "[encoded data removed]",
      "text/plain": [
       "<matplotlib.figure.Figure at 0x7f4626ebac18>"
      ]
     },
     "metadata": {},
     "output_type": "display_data"
    }
   ],
   "source": [
    "import seaborn as sns\n",
    "import matplotlib.pyplot as plt\n",
    "\n",
    "fig, ax = plt.subplots()\n",
    "for a in [sample_qs['dis'][sample_qs['is_duplicate']==0], sample_qs['dis'][sample_qs['is_duplicate']==1]]:\n",
    "    sns.distplot(a, bins=range(0, 1, 10), ax=ax, kde=True)\n",
    "ax.set_xlim([0, 1])\n",
    "\n",
    "#sns.kdeplot(sample_qs['dis'][sample_qs['is_duplicate']==0], shade = True)\n",
    "#plt.show()\n",
    "\n",
    "plt.show()"
   ]
  }
 ],
 "metadata": {
  "kernelspec": {
   "display_name": "Python 3",
   "language": "python",
   "name": "python3"
  },
  "language_info": {
   "codemirror_mode": {
    "name": "ipython",
    "version": 3
   },
   "file_extension": ".py",
   "mimetype": "text/x-python",
   "name": "python",
   "nbconvert_exporter": "python",
   "pygments_lexer": "ipython3",
   "version": "3.5.2"
  }
 },
 "nbformat": 4,
 "nbformat_minor": 2
}
