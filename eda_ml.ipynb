{
 "cells": [
  {
   "cell_type": "markdown",
   "metadata": {},
   "source": [
    "# Importing"
   ]
  },
  {
   "cell_type": "code",
   "execution_count": 55,
   "metadata": {},
   "outputs": [],
   "source": [
    "import pandas as pd\n",
    "import numpy as np\n",
    "from scipy.stats import chi2_contingency\n",
    "import os\n",
    "import re\n",
    "\n",
    "import matplotlib.pyplot as plt\n",
    "import seaborn as sns\n",
    "from IPython.display import display\n",
    "\n",
    "from sklearn.preprocessing import LabelEncoder\n",
    "from sklearn.model_selection import train_test_split\n",
    "from sklearn.model_selection import GridSearchCV\n",
    "\n",
    "from sklearn.metrics import roc_auc_score\n",
    "from sklearn.metrics import precision_recall_fscore_support\n",
    "from sklearn.metrics import classification_report\n",
    "from sklearn.metrics import log_loss\n",
    "from sklearn.metrics import accuracy_score\n",
    "\n",
    "from sklearn.svm import SVC\n",
    "from sklearn.ensemble import RandomForestClassifier\n",
    "from xgboost import XGBClassifier\n",
    "import xgboost as xgb\n",
    "import statsmodels.formula.api as smf\n",
    "import statsmodels.api as sm\n",
    "from sklearn.linear_model import LogisticRegression\n",
    "\n",
    "from pylab import rcParams\n",
    "rcParams.update({'font.size' : 14, 'legend.fontsize' : \"small\", \n",
    "                 \"xtick.labelsize\" : 14, \"ytick.labelsize\" : 14, \n",
    "                 \"figure.figsize\":(9, 6), \"axes.titlesize\" : 20,\n",
    "                 \"axes.labelsize\" : 14, \"lines.linewidth\" : 3, \n",
    "                 \"lines.markersize\" : 10\n",
    "                })"
   ]
  },
  {
   "cell_type": "code",
   "execution_count": 56,
   "metadata": {
    "collapsed": true
   },
   "outputs": [],
   "source": [
    "train = pd.read_csv(\"titanic3.csv\")"
   ]
  },
  {
   "cell_type": "markdown",
   "metadata": {},
   "source": [
    "# Summarizing data"
   ]
  },
  {
   "cell_type": "markdown",
   "metadata": {},
   "source": [
    "Significant number of values missing, I could leave this up to the algorithm like boosted trees to deal with or try to find to a reasonable measure to impute with. It is not clear what would lead to better results."
   ]
  },
  {
   "cell_type": "code",
   "execution_count": 57,
   "metadata": {},
   "outputs": [
    {
     "data": {
      "text/plain": [
       "pclass          0\n",
       "survived        0\n",
       "name            0\n",
       "sex             0\n",
       "age           263\n",
       "sibsp           0\n",
       "parch           0\n",
       "ticket          0\n",
       "fare            1\n",
       "cabin        1014\n",
       "embarked        2\n",
       "boat          823\n",
       "body         1188\n",
       "home.dest     564\n",
       "dtype: int64"
      ]
     },
     "execution_count": 57,
     "metadata": {},
     "output_type": "execute_result"
    }
   ],
   "source": [
    "train.isnull().sum()"
   ]
  },
  {
   "cell_type": "code",
   "execution_count": 58,
   "metadata": {},
   "outputs": [
    {
     "name": "stdout",
     "output_type": "stream",
     "text": [
      "<class 'pandas.core.frame.DataFrame'>\n",
      "RangeIndex: 1309 entries, 0 to 1308\n",
      "Data columns (total 14 columns):\n",
      "pclass       1309 non-null int64\n",
      "survived     1309 non-null int64\n",
      "name         1309 non-null object\n",
      "sex          1309 non-null object\n",
      "age          1046 non-null float64\n",
      "sibsp        1309 non-null int64\n",
      "parch        1309 non-null int64\n",
      "ticket       1309 non-null object\n",
      "fare         1308 non-null float64\n",
      "cabin        295 non-null object\n",
      "embarked     1307 non-null object\n",
      "boat         486 non-null object\n",
      "body         121 non-null float64\n",
      "home.dest    745 non-null object\n",
      "dtypes: float64(3), int64(4), object(7)\n",
      "memory usage: 143.2+ KB\n"
     ]
    }
   ],
   "source": [
    "train.info()"
   ]
  },
  {
   "cell_type": "code",
   "execution_count": 59,
   "metadata": {},
   "outputs": [
    {
     "data": {
      "text/html": [
       "<div>\n",
       "<style>\n",
       "    .dataframe thead tr:only-child th {\n",
       "        text-align: right;\n",
       "    }\n",
       "\n",
       "    .dataframe thead th {\n",
       "        text-align: left;\n",
       "    }\n",
       "\n",
       "    .dataframe tbody tr th {\n",
       "        vertical-align: top;\n",
       "    }\n",
       "</style>\n",
       "<table border=\"1\" class=\"dataframe\">\n",
       "  <thead>\n",
       "    <tr style=\"text-align: right;\">\n",
       "      <th></th>\n",
       "      <th>pclass</th>\n",
       "      <th>survived</th>\n",
       "      <th>age</th>\n",
       "      <th>sibsp</th>\n",
       "      <th>parch</th>\n",
       "      <th>fare</th>\n",
       "      <th>body</th>\n",
       "    </tr>\n",
       "  </thead>\n",
       "  <tbody>\n",
       "    <tr>\n",
       "      <th>count</th>\n",
       "      <td>1309.000000</td>\n",
       "      <td>1309.000000</td>\n",
       "      <td>1046.000000</td>\n",
       "      <td>1309.000000</td>\n",
       "      <td>1309.000000</td>\n",
       "      <td>1308.000000</td>\n",
       "      <td>121.000000</td>\n",
       "    </tr>\n",
       "    <tr>\n",
       "      <th>mean</th>\n",
       "      <td>2.294882</td>\n",
       "      <td>0.381971</td>\n",
       "      <td>29.881138</td>\n",
       "      <td>0.498854</td>\n",
       "      <td>0.385027</td>\n",
       "      <td>33.295479</td>\n",
       "      <td>160.809917</td>\n",
       "    </tr>\n",
       "    <tr>\n",
       "      <th>std</th>\n",
       "      <td>0.837836</td>\n",
       "      <td>0.486055</td>\n",
       "      <td>14.413493</td>\n",
       "      <td>1.041658</td>\n",
       "      <td>0.865560</td>\n",
       "      <td>51.758668</td>\n",
       "      <td>97.696922</td>\n",
       "    </tr>\n",
       "    <tr>\n",
       "      <th>min</th>\n",
       "      <td>1.000000</td>\n",
       "      <td>0.000000</td>\n",
       "      <td>0.170000</td>\n",
       "      <td>0.000000</td>\n",
       "      <td>0.000000</td>\n",
       "      <td>0.000000</td>\n",
       "      <td>1.000000</td>\n",
       "    </tr>\n",
       "    <tr>\n",
       "      <th>25%</th>\n",
       "      <td>2.000000</td>\n",
       "      <td>0.000000</td>\n",
       "      <td>21.000000</td>\n",
       "      <td>0.000000</td>\n",
       "      <td>0.000000</td>\n",
       "      <td>7.895800</td>\n",
       "      <td>72.000000</td>\n",
       "    </tr>\n",
       "    <tr>\n",
       "      <th>50%</th>\n",
       "      <td>3.000000</td>\n",
       "      <td>0.000000</td>\n",
       "      <td>28.000000</td>\n",
       "      <td>0.000000</td>\n",
       "      <td>0.000000</td>\n",
       "      <td>14.454200</td>\n",
       "      <td>155.000000</td>\n",
       "    </tr>\n",
       "    <tr>\n",
       "      <th>75%</th>\n",
       "      <td>3.000000</td>\n",
       "      <td>1.000000</td>\n",
       "      <td>39.000000</td>\n",
       "      <td>1.000000</td>\n",
       "      <td>0.000000</td>\n",
       "      <td>31.275000</td>\n",
       "      <td>256.000000</td>\n",
       "    </tr>\n",
       "    <tr>\n",
       "      <th>max</th>\n",
       "      <td>3.000000</td>\n",
       "      <td>1.000000</td>\n",
       "      <td>80.000000</td>\n",
       "      <td>8.000000</td>\n",
       "      <td>9.000000</td>\n",
       "      <td>512.329200</td>\n",
       "      <td>328.000000</td>\n",
       "    </tr>\n",
       "  </tbody>\n",
       "</table>\n",
       "</div>"
      ],
      "text/plain": [
       "            pclass     survived          age        sibsp        parch  \\\n",
       "count  1309.000000  1309.000000  1046.000000  1309.000000  1309.000000   \n",
       "mean      2.294882     0.381971    29.881138     0.498854     0.385027   \n",
       "std       0.837836     0.486055    14.413493     1.041658     0.865560   \n",
       "min       1.000000     0.000000     0.170000     0.000000     0.000000   \n",
       "25%       2.000000     0.000000    21.000000     0.000000     0.000000   \n",
       "50%       3.000000     0.000000    28.000000     0.000000     0.000000   \n",
       "75%       3.000000     1.000000    39.000000     1.000000     0.000000   \n",
       "max       3.000000     1.000000    80.000000     8.000000     9.000000   \n",
       "\n",
       "              fare        body  \n",
       "count  1308.000000  121.000000  \n",
       "mean     33.295479  160.809917  \n",
       "std      51.758668   97.696922  \n",
       "min       0.000000    1.000000  \n",
       "25%       7.895800   72.000000  \n",
       "50%      14.454200  155.000000  \n",
       "75%      31.275000  256.000000  \n",
       "max     512.329200  328.000000  "
      ]
     },
     "execution_count": 59,
     "metadata": {},
     "output_type": "execute_result"
    }
   ],
   "source": [
    "train.describe()"
   ]
  },
  {
   "cell_type": "code",
   "execution_count": 60,
   "metadata": {
    "collapsed": true
   },
   "outputs": [],
   "source": [
    "# body is an id assigned to bodies found\n",
    "train.drop('body', axis = 1, inplace = True)"
   ]
  },
  {
   "cell_type": "code",
   "execution_count": 61,
   "metadata": {},
   "outputs": [
    {
     "data": {
      "text/html": [
       "<div>\n",
       "<style>\n",
       "    .dataframe thead tr:only-child th {\n",
       "        text-align: right;\n",
       "    }\n",
       "\n",
       "    .dataframe thead th {\n",
       "        text-align: left;\n",
       "    }\n",
       "\n",
       "    .dataframe tbody tr th {\n",
       "        vertical-align: top;\n",
       "    }\n",
       "</style>\n",
       "<table border=\"1\" class=\"dataframe\">\n",
       "  <thead>\n",
       "    <tr style=\"text-align: right;\">\n",
       "      <th></th>\n",
       "      <th>pclass</th>\n",
       "      <th>survived</th>\n",
       "      <th>name</th>\n",
       "      <th>sex</th>\n",
       "      <th>age</th>\n",
       "      <th>sibsp</th>\n",
       "      <th>parch</th>\n",
       "      <th>ticket</th>\n",
       "      <th>fare</th>\n",
       "      <th>cabin</th>\n",
       "      <th>embarked</th>\n",
       "      <th>boat</th>\n",
       "      <th>home.dest</th>\n",
       "    </tr>\n",
       "  </thead>\n",
       "  <tbody>\n",
       "    <tr>\n",
       "      <th>0</th>\n",
       "      <td>1</td>\n",
       "      <td>1</td>\n",
       "      <td>Allen, Miss. Elisabeth Walton</td>\n",
       "      <td>female</td>\n",
       "      <td>29.00</td>\n",
       "      <td>0</td>\n",
       "      <td>0</td>\n",
       "      <td>24160</td>\n",
       "      <td>211.3375</td>\n",
       "      <td>B5</td>\n",
       "      <td>S</td>\n",
       "      <td>2</td>\n",
       "      <td>St Louis, MO</td>\n",
       "    </tr>\n",
       "    <tr>\n",
       "      <th>1</th>\n",
       "      <td>1</td>\n",
       "      <td>1</td>\n",
       "      <td>Allison, Master. Hudson Trevor</td>\n",
       "      <td>male</td>\n",
       "      <td>0.92</td>\n",
       "      <td>1</td>\n",
       "      <td>2</td>\n",
       "      <td>113781</td>\n",
       "      <td>151.5500</td>\n",
       "      <td>C22 C26</td>\n",
       "      <td>S</td>\n",
       "      <td>11</td>\n",
       "      <td>Montreal, PQ / Chesterville, ON</td>\n",
       "    </tr>\n",
       "    <tr>\n",
       "      <th>2</th>\n",
       "      <td>1</td>\n",
       "      <td>0</td>\n",
       "      <td>Allison, Miss. Helen Loraine</td>\n",
       "      <td>female</td>\n",
       "      <td>2.00</td>\n",
       "      <td>1</td>\n",
       "      <td>2</td>\n",
       "      <td>113781</td>\n",
       "      <td>151.5500</td>\n",
       "      <td>C22 C26</td>\n",
       "      <td>S</td>\n",
       "      <td>NaN</td>\n",
       "      <td>Montreal, PQ / Chesterville, ON</td>\n",
       "    </tr>\n",
       "    <tr>\n",
       "      <th>3</th>\n",
       "      <td>1</td>\n",
       "      <td>0</td>\n",
       "      <td>Allison, Mr. Hudson Joshua Creighton</td>\n",
       "      <td>male</td>\n",
       "      <td>30.00</td>\n",
       "      <td>1</td>\n",
       "      <td>2</td>\n",
       "      <td>113781</td>\n",
       "      <td>151.5500</td>\n",
       "      <td>C22 C26</td>\n",
       "      <td>S</td>\n",
       "      <td>NaN</td>\n",
       "      <td>Montreal, PQ / Chesterville, ON</td>\n",
       "    </tr>\n",
       "    <tr>\n",
       "      <th>4</th>\n",
       "      <td>1</td>\n",
       "      <td>0</td>\n",
       "      <td>Allison, Mrs. Hudson J C (Bessie Waldo Daniels)</td>\n",
       "      <td>female</td>\n",
       "      <td>25.00</td>\n",
       "      <td>1</td>\n",
       "      <td>2</td>\n",
       "      <td>113781</td>\n",
       "      <td>151.5500</td>\n",
       "      <td>C22 C26</td>\n",
       "      <td>S</td>\n",
       "      <td>NaN</td>\n",
       "      <td>Montreal, PQ / Chesterville, ON</td>\n",
       "    </tr>\n",
       "  </tbody>\n",
       "</table>\n",
       "</div>"
      ],
      "text/plain": [
       "   pclass  survived                                             name     sex  \\\n",
       "0       1         1                    Allen, Miss. Elisabeth Walton  female   \n",
       "1       1         1                   Allison, Master. Hudson Trevor    male   \n",
       "2       1         0                     Allison, Miss. Helen Loraine  female   \n",
       "3       1         0             Allison, Mr. Hudson Joshua Creighton    male   \n",
       "4       1         0  Allison, Mrs. Hudson J C (Bessie Waldo Daniels)  female   \n",
       "\n",
       "     age  sibsp  parch  ticket      fare    cabin embarked boat  \\\n",
       "0  29.00      0      0   24160  211.3375       B5        S    2   \n",
       "1   0.92      1      2  113781  151.5500  C22 C26        S   11   \n",
       "2   2.00      1      2  113781  151.5500  C22 C26        S  NaN   \n",
       "3  30.00      1      2  113781  151.5500  C22 C26        S  NaN   \n",
       "4  25.00      1      2  113781  151.5500  C22 C26        S  NaN   \n",
       "\n",
       "                         home.dest  \n",
       "0                     St Louis, MO  \n",
       "1  Montreal, PQ / Chesterville, ON  \n",
       "2  Montreal, PQ / Chesterville, ON  \n",
       "3  Montreal, PQ / Chesterville, ON  \n",
       "4  Montreal, PQ / Chesterville, ON  "
      ]
     },
     "execution_count": 61,
     "metadata": {},
     "output_type": "execute_result"
    }
   ],
   "source": [
    "train.head()"
   ]
  },
  {
   "cell_type": "markdown",
   "metadata": {},
   "source": [
    "# Feature engineering"
   ]
  },
  {
   "cell_type": "code",
   "execution_count": 62,
   "metadata": {
    "collapsed": true
   },
   "outputs": [],
   "source": [
    "# function for extracting letters or numbers\n",
    "\n",
    "def find_info(entry, number = True ):\n",
    "        \n",
    "        if entry is np.nan:\n",
    "            return np.nan\n",
    "        else:\n",
    "            \n",
    "            entry = re.split('(\\d+)', entry)\n",
    "            numbers = []\n",
    "\n",
    "            if number is True: \n",
    "                for item in entry: \n",
    "                    if item.isnumeric():\n",
    "                        numbers.append(int(item))\n",
    "                    else:\n",
    "                        pass\n",
    "                return np.mean(numbers)\n",
    "\n",
    "            else: \n",
    "                for item in entry: \n",
    "                    if item[0].isalpha():\n",
    "                        return item\n",
    "                "
   ]
  },
  {
   "cell_type": "code",
   "execution_count": 63,
   "metadata": {},
   "outputs": [
    {
     "name": "stderr",
     "output_type": "stream",
     "text": [
      "/home/ryeyoo/anaconda3/lib/python3.6/site-packages/numpy/core/fromnumeric.py:2909: RuntimeWarning: Mean of empty slice.\n",
      "  out=out, **kwargs)\n"
     ]
    }
   ],
   "source": [
    "cabin_number = train['cabin'].apply(find_info, number = True)\n",
    "cabin_letter = train['cabin'].apply(find_info, number = False)\n",
    "train['cabin_letter'] = cabin_letter\n"
   ]
  },
  {
   "cell_type": "code",
   "execution_count": 64,
   "metadata": {
    "collapsed": true
   },
   "outputs": [],
   "source": [
    "def encode_column(column, fillna = False):\n",
    "    \n",
    "    le = LabelEncoder()\n",
    "    \n",
    "    # le does not work with nan\n",
    "    column = column.fillna('unknown')\n",
    "    le.fit(column)\n",
    "    column_le = le.transform(column)\n",
    "    \n",
    "    if fillna == False:\n",
    "        # replace unknown with nan\n",
    "        column_le = column_le.astype('float')\n",
    "        idx = [i for i, value in enumerate(column) if column[i]=='unknown']\n",
    "        column_le[idx] = np.nan\n",
    "\n",
    "    zip_obj = zip(list(column), column_le)\n",
    "    return column_le, dict(zip_obj)        \n"
   ]
  },
  {
   "cell_type": "code",
   "execution_count": 65,
   "metadata": {},
   "outputs": [
    {
     "name": "stdout",
     "output_type": "stream",
     "text": [
      "{'female': 0, 'male': 1}\n"
     ]
    }
   ],
   "source": [
    "train['cabin_letter_le'] = encode_column(cabin_letter, fillna = True)[0]\n",
    "train['cabin_number'] = cabin_number\n",
    "# train['home_dest_le'] = encode_column(train['home.dest'], fillna = True)[0]\n",
    "train['embarked_le'] = encode_column(train['embarked'], fillna = True)[0]\n",
    "print(encode_column(train['sex'], fillna = True)[1])\n",
    "train['sex'] = encode_column(train['sex'], fillna = True)[0]"
   ]
  },
  {
   "cell_type": "code",
   "execution_count": 66,
   "metadata": {
    "collapsed": true
   },
   "outputs": [],
   "source": [
    "train['family'] = train['sibsp'] + train['parch']"
   ]
  },
  {
   "cell_type": "code",
   "execution_count": 67,
   "metadata": {},
   "outputs": [
    {
     "data": {
      "text/plain": [
       "pclass                0\n",
       "survived              0\n",
       "name                  0\n",
       "sex                   0\n",
       "age                 263\n",
       "sibsp                 0\n",
       "parch                 0\n",
       "ticket                0\n",
       "fare                  1\n",
       "cabin              1014\n",
       "embarked              2\n",
       "boat                823\n",
       "home.dest           564\n",
       "cabin_letter       1014\n",
       "cabin_letter_le       0\n",
       "cabin_number       1020\n",
       "embarked_le           0\n",
       "family                0\n",
       "dtype: int64"
      ]
     },
     "execution_count": 67,
     "metadata": {},
     "output_type": "execute_result"
    }
   ],
   "source": [
    "train.isnull().sum()"
   ]
  },
  {
   "cell_type": "markdown",
   "metadata": {},
   "source": [
    "# Charts"
   ]
  },
  {
   "cell_type": "code",
   "execution_count": 68,
   "metadata": {},
   "outputs": [
    {
     "data": {
      "image/png": "[encoded data removed]",
      "text/plain": [
       "<matplotlib.figure.Figure at 0x7fef2417c208>"
      ]
     },
     "metadata": {},
     "output_type": "display_data"
    },
    {
     "data": {
      "image/png": "[encoded data removed]",
      "text/plain": [
       "<matplotlib.figure.Figure at 0x7fef241efb00>"
      ]
     },
     "metadata": {},
     "output_type": "display_data"
    },
    {
     "data": {
      "image/png": "[encoded data removed]",
      "text/plain": [
       "<matplotlib.figure.Figure at 0x7fef2393ce48>"
      ]
     },
     "metadata": {},
     "output_type": "display_data"
    }
   ],
   "source": [
    "sns.set_style(\"whitegrid\")\n",
    "\n",
    "plt.title(\"Age density\")\n",
    "sns.distplot(train['age'].dropna())\n",
    "plt.xlim(-5,100)\n",
    "plt.show()\n",
    "\n",
    "#fig=plt.figure(figsize=(8, 5), dpi = 150, facecolor='w', edgecolor='k')\n",
    "plt.title(\"Passenger count by gender\")\n",
    "sns.countplot('sex', data = train)\n",
    "plt.show()\n",
    "\n",
    "plt.title(\"Fare density\")\n",
    "sns.distplot(train['fare'].dropna(), bins = 30)\n",
    "plt.xlim(0, 200)\n",
    "plt.show()"
   ]
  },
  {
   "cell_type": "code",
   "execution_count": 69,
   "metadata": {},
   "outputs": [
    {
     "data": {
      "text/plain": [
       "<matplotlib.figure.Figure at 0x7fef23abca90>"
      ]
     },
     "metadata": {},
     "output_type": "display_data"
    },
    {
     "data": {
      "image/png": "[encoded data removed]",
      "text/plain": [
       "<matplotlib.figure.Figure at 0x7fef23abc7f0>"
      ]
     },
     "metadata": {},
     "output_type": "display_data"
    }
   ],
   "source": [
    "fig=plt.figure(figsize=(16, 16), dpi= 300)\n",
    "sns.pairplot(data = train[['age', 'fare', 'cabin_number', 'sex']].dropna(), hue = 'sex')\n",
    "plt.show()"
   ]
  },
  {
   "cell_type": "code",
   "execution_count": 70,
   "metadata": {},
   "outputs": [
    {
     "data": {
      "image/png": "[encoded data removed]",
      "text/plain": [
       "<matplotlib.figure.Figure at 0x7fef23a56160>"
      ]
     },
     "metadata": {},
     "output_type": "display_data"
    },
    {
     "data": {
      "image/png": "[encoded data removed]",
      "text/plain": [
       "<matplotlib.figure.Figure at 0x7fef1a5275f8>"
      ]
     },
     "metadata": {},
     "output_type": "display_data"
    }
   ],
   "source": [
    "sns.barplot(x = \"cabin_letter\", y = \"survived\", data=train.sort_values('cabin_letter'), \n",
    "            palette = \"muted\", ci = None)\n",
    "plt.title(\"Survival rate by cabin letter\")\n",
    "plt.show()\n",
    "\n",
    "sns.barplot(x = \"cabin_letter\", y = \"fare\", \n",
    "            data=train[train['cabin_letter'].notnull()].sort_values('cabin_letter'), \n",
    "            palette = \"muted\", ci = None, estimator = np.median)\n",
    "plt.title(\"Fare by cabin letter\")\n",
    "plt.show()\n"
   ]
  },
  {
   "cell_type": "code",
   "execution_count": 71,
   "metadata": {},
   "outputs": [
    {
     "data": {
      "image/png": "[encoded data removed]",
      "text/plain": [
       "<matplotlib.figure.Figure at 0x7fef1a460dd8>"
      ]
     },
     "metadata": {},
     "output_type": "display_data"
    }
   ],
   "source": [
    "#fig=plt.figure(figsize=(8, 5), dpi = 150, facecolor='w', edgecolor='k')\n",
    "plt.title(\"Family size on board\")\n",
    "sns.countplot(train['family'].dropna(), palette='muted')\n",
    "plt.show()"
   ]
  },
  {
   "cell_type": "code",
   "execution_count": 72,
   "metadata": {},
   "outputs": [
    {
     "data": {
      "image/png": "[encoded data removed]",
      "text/plain": [
       "<matplotlib.figure.Figure at 0x7fef1a4a2da0>"
      ]
     },
     "metadata": {},
     "output_type": "display_data"
    }
   ],
   "source": [
    "sns.barplot(x = \"family\", y = \"survived\", \n",
    "            data=train, \n",
    "            ci = None)\n",
    "plt.title(\"Family size vs proportion survived\")\n",
    "plt.show()"
   ]
  },
  {
   "cell_type": "markdown",
   "metadata": {},
   "source": [
    "## Missing data"
   ]
  },
  {
   "cell_type": "markdown",
   "metadata": {},
   "source": [
    "Earlier it was evident that there were columns with a numer of values missing, it is worth considering if missing values have an impact on surviving. "
   ]
  },
  {
   "cell_type": "code",
   "execution_count": 73,
   "metadata": {},
   "outputs": [
    {
     "name": "stdout",
     "output_type": "stream",
     "text": [
      "0.4657718120805369\n"
     ]
    },
    {
     "data": {
      "text/plain": [
       "0.2712765957446808"
      ]
     },
     "execution_count": 73,
     "metadata": {},
     "output_type": "execute_result"
    }
   ],
   "source": [
    "print(train[train['home.dest'].notnull()]['survived'].mean())\n",
    "train[train['home.dest'].isnull()]['survived'].mean()"
   ]
  },
  {
   "cell_type": "code",
   "execution_count": 74,
   "metadata": {},
   "outputs": [
    {
     "name": "stdout",
     "output_type": "stream",
     "text": [
      "0.40822179732313574\n"
     ]
    },
    {
     "data": {
      "text/plain": [
       "0.27756653992395436"
      ]
     },
     "execution_count": 74,
     "metadata": {},
     "output_type": "execute_result"
    }
   ],
   "source": [
    "print(train['survived'][train.age.notnull()].mean())\n",
    "train['survived'][train.age.isnull()].mean()"
   ]
  },
  {
   "cell_type": "code",
   "execution_count": 75,
   "metadata": {},
   "outputs": [
    {
     "name": "stdout",
     "output_type": "stream",
     "text": [
      "0.6542372881355932\n"
     ]
    },
    {
     "data": {
      "text/plain": [
       "0.3027613412228797"
      ]
     },
     "execution_count": 75,
     "metadata": {},
     "output_type": "execute_result"
    }
   ],
   "source": [
    "print(train[train.cabin.notnull()]['survived'].mean())\n",
    "train[train.cabin.isnull()]['survived'].mean()"
   ]
  },
  {
   "cell_type": "code",
   "execution_count": 76,
   "metadata": {},
   "outputs": [
    {
     "data": {
      "text/html": [
       "<div>\n",
       "<style>\n",
       "    .dataframe thead tr:only-child th {\n",
       "        text-align: right;\n",
       "    }\n",
       "\n",
       "    .dataframe thead th {\n",
       "        text-align: left;\n",
       "    }\n",
       "\n",
       "    .dataframe tbody tr th {\n",
       "        vertical-align: top;\n",
       "    }\n",
       "</style>\n",
       "<table border=\"1\" class=\"dataframe\">\n",
       "  <thead>\n",
       "    <tr>\n",
       "      <th></th>\n",
       "      <th colspan=\"2\" halign=\"left\">survived</th>\n",
       "      <th colspan=\"2\" halign=\"left\">fare</th>\n",
       "    </tr>\n",
       "    <tr>\n",
       "      <th></th>\n",
       "      <th>mean</th>\n",
       "      <th>count</th>\n",
       "      <th>mean</th>\n",
       "      <th>count</th>\n",
       "    </tr>\n",
       "    <tr>\n",
       "      <th>home.dest</th>\n",
       "      <th></th>\n",
       "      <th></th>\n",
       "      <th></th>\n",
       "      <th></th>\n",
       "    </tr>\n",
       "  </thead>\n",
       "  <tbody>\n",
       "    <tr>\n",
       "      <th>0</th>\n",
       "      <td>0.271277</td>\n",
       "      <td>564</td>\n",
       "      <td>20.785668</td>\n",
       "      <td>564</td>\n",
       "    </tr>\n",
       "    <tr>\n",
       "      <th>New York, NY</th>\n",
       "      <td>0.625000</td>\n",
       "      <td>64</td>\n",
       "      <td>62.976041</td>\n",
       "      <td>64</td>\n",
       "    </tr>\n",
       "    <tr>\n",
       "      <th>London</th>\n",
       "      <td>0.357143</td>\n",
       "      <td>14</td>\n",
       "      <td>20.296429</td>\n",
       "      <td>14</td>\n",
       "    </tr>\n",
       "    <tr>\n",
       "      <th>Montreal, PQ</th>\n",
       "      <td>0.400000</td>\n",
       "      <td>10</td>\n",
       "      <td>117.043740</td>\n",
       "      <td>10</td>\n",
       "    </tr>\n",
       "    <tr>\n",
       "      <th>Cornwall / Akron, OH</th>\n",
       "      <td>0.888889</td>\n",
       "      <td>9</td>\n",
       "      <td>20.305556</td>\n",
       "      <td>9</td>\n",
       "    </tr>\n",
       "    <tr>\n",
       "      <th>Paris, France</th>\n",
       "      <td>0.888889</td>\n",
       "      <td>9</td>\n",
       "      <td>61.556011</td>\n",
       "      <td>9</td>\n",
       "    </tr>\n",
       "    <tr>\n",
       "      <th>Winnipeg, MB</th>\n",
       "      <td>0.500000</td>\n",
       "      <td>8</td>\n",
       "      <td>221.448438</td>\n",
       "      <td>8</td>\n",
       "    </tr>\n",
       "    <tr>\n",
       "      <th>Wiltshire, England Niagara Falls, NY</th>\n",
       "      <td>0.000000</td>\n",
       "      <td>8</td>\n",
       "      <td>46.900000</td>\n",
       "      <td>8</td>\n",
       "    </tr>\n",
       "    <tr>\n",
       "      <th>Philadelphia, PA</th>\n",
       "      <td>0.375000</td>\n",
       "      <td>8</td>\n",
       "      <td>28.779687</td>\n",
       "      <td>8</td>\n",
       "    </tr>\n",
       "    <tr>\n",
       "      <th>Brooklyn, NY</th>\n",
       "      <td>0.714286</td>\n",
       "      <td>7</td>\n",
       "      <td>34.200014</td>\n",
       "      <td>7</td>\n",
       "    </tr>\n",
       "    <tr>\n",
       "      <th>Belfast</th>\n",
       "      <td>0.000000</td>\n",
       "      <td>7</td>\n",
       "      <td>0.000000</td>\n",
       "      <td>7</td>\n",
       "    </tr>\n",
       "    <tr>\n",
       "      <th>Sweden Winnipeg, MN</th>\n",
       "      <td>0.000000</td>\n",
       "      <td>7</td>\n",
       "      <td>31.275000</td>\n",
       "      <td>7</td>\n",
       "    </tr>\n",
       "    <tr>\n",
       "      <th>Somerset / Bernardsville, NJ</th>\n",
       "      <td>0.600000</td>\n",
       "      <td>5</td>\n",
       "      <td>65.000000</td>\n",
       "      <td>5</td>\n",
       "    </tr>\n",
       "    <tr>\n",
       "      <th>Haverford, PA / Cooperstown, NY</th>\n",
       "      <td>0.800000</td>\n",
       "      <td>5</td>\n",
       "      <td>262.375000</td>\n",
       "      <td>5</td>\n",
       "    </tr>\n",
       "    <tr>\n",
       "      <th>Bulgaria Chicago, IL</th>\n",
       "      <td>0.000000</td>\n",
       "      <td>5</td>\n",
       "      <td>7.815800</td>\n",
       "      <td>5</td>\n",
       "    </tr>\n",
       "    <tr>\n",
       "      <th>Rotherfield, Sussex, England Essex Co, MA</th>\n",
       "      <td>0.000000</td>\n",
       "      <td>5</td>\n",
       "      <td>34.375000</td>\n",
       "      <td>5</td>\n",
       "    </tr>\n",
       "    <tr>\n",
       "      <th>Ottawa, ON</th>\n",
       "      <td>0.200000</td>\n",
       "      <td>5</td>\n",
       "      <td>10.118320</td>\n",
       "      <td>5</td>\n",
       "    </tr>\n",
       "    <tr>\n",
       "      <th>Sweden Worcester, MA</th>\n",
       "      <td>0.400000</td>\n",
       "      <td>5</td>\n",
       "      <td>26.669160</td>\n",
       "      <td>5</td>\n",
       "    </tr>\n",
       "    <tr>\n",
       "      <th>Devon, England Wichita, KS</th>\n",
       "      <td>0.750000</td>\n",
       "      <td>4</td>\n",
       "      <td>20.575000</td>\n",
       "      <td>4</td>\n",
       "    </tr>\n",
       "    <tr>\n",
       "      <th>Paris / Montreal, PQ</th>\n",
       "      <td>0.500000</td>\n",
       "      <td>4</td>\n",
       "      <td>31.514600</td>\n",
       "      <td>4</td>\n",
       "    </tr>\n",
       "  </tbody>\n",
       "</table>\n",
       "</div>"
      ],
      "text/plain": [
       "                                           survived              fare      \n",
       "                                               mean count        mean count\n",
       "home.dest                                                                  \n",
       "0                                          0.271277   564   20.785668   564\n",
       "New York, NY                               0.625000    64   62.976041    64\n",
       "London                                     0.357143    14   20.296429    14\n",
       "Montreal, PQ                               0.400000    10  117.043740    10\n",
       "Cornwall / Akron, OH                       0.888889     9   20.305556     9\n",
       "Paris, France                              0.888889     9   61.556011     9\n",
       "Winnipeg, MB                               0.500000     8  221.448438     8\n",
       "Wiltshire, England Niagara Falls, NY       0.000000     8   46.900000     8\n",
       "Philadelphia, PA                           0.375000     8   28.779687     8\n",
       "Brooklyn, NY                               0.714286     7   34.200014     7\n",
       "Belfast                                    0.000000     7    0.000000     7\n",
       "Sweden Winnipeg, MN                        0.000000     7   31.275000     7\n",
       "Somerset / Bernardsville, NJ               0.600000     5   65.000000     5\n",
       "Haverford, PA / Cooperstown, NY            0.800000     5  262.375000     5\n",
       "Bulgaria Chicago, IL                       0.000000     5    7.815800     5\n",
       "Rotherfield, Sussex, England Essex Co, MA  0.000000     5   34.375000     5\n",
       "Ottawa, ON                                 0.200000     5   10.118320     5\n",
       "Sweden Worcester, MA                       0.400000     5   26.669160     5\n",
       "Devon, England Wichita, KS                 0.750000     4   20.575000     4\n",
       "Paris / Montreal, PQ                       0.500000     4   31.514600     4"
      ]
     },
     "execution_count": 76,
     "metadata": {},
     "output_type": "execute_result"
    }
   ],
   "source": [
    "train[['home.dest', 'survived', 'fare']].fillna(0).groupby('home.dest').agg(\n",
    "    ['mean', 'count']).sort_values([('survived', 'count')], ascending=False)[0:20]"
   ]
  },
  {
   "cell_type": "markdown",
   "metadata": {},
   "source": [
    "## Significance testing"
   ]
  },
  {
   "cell_type": "code",
   "execution_count": 77,
   "metadata": {},
   "outputs": [
    {
     "name": "stdout",
     "output_type": "stream",
     "text": [
      "p-value of chi2 independence test: 1.1231092381458419e-12: \n"
     ]
    }
   ],
   "source": [
    "table = np.array(pd.crosstab(train['home.dest'].isnull()*1, train['survived']))\n",
    "print(\"p-value of chi2 independence test: {}: \".format(chi2_contingency(table, correction=True)[1]))"
   ]
  },
  {
   "cell_type": "code",
   "execution_count": 78,
   "metadata": {},
   "outputs": [
    {
     "name": "stdout",
     "output_type": "stream",
     "text": [
      "p-value of chi2 independence test: 0.00012952163336165393: \n"
     ]
    }
   ],
   "source": [
    "table = np.array(pd.crosstab(train['age'].isnull()*1, train['survived']))\n",
    "print(\"p-value of chi2 independence test: {}: \".format(chi2_contingency(table, correction=True)[1]))"
   ]
  },
  {
   "cell_type": "code",
   "execution_count": 79,
   "metadata": {},
   "outputs": [
    {
     "name": "stdout",
     "output_type": "stream",
     "text": [
      "p-value of chi2 independence test: 1.649000705015759e-27: \n"
     ]
    }
   ],
   "source": [
    "table = np.array(pd.crosstab(train['cabin'].isnull()*1, train['survived']))\n",
    "print(\"p-value of chi2 independence test: {}: \".format(chi2_contingency(table, correction=True)[1]))"
   ]
  },
  {
   "cell_type": "code",
   "execution_count": 80,
   "metadata": {},
   "outputs": [
    {
     "data": {
      "text/html": [
       "<table class=\"simpletable\">\n",
       "<caption>Generalized Linear Model Regression Results</caption>\n",
       "<tr>\n",
       "  <th>Dep. Variable:</th>      <td>survived</td>     <th>  No. Observations:  </th>  <td>  1309</td> \n",
       "</tr>\n",
       "<tr>\n",
       "  <th>Model:</th>                 <td>GLM</td>       <th>  Df Residuals:      </th>  <td>  1307</td> \n",
       "</tr>\n",
       "<tr>\n",
       "  <th>Model Family:</th>       <td>Binomial</td>     <th>  Df Model:          </th>  <td>     1</td> \n",
       "</tr>\n",
       "<tr>\n",
       "  <th>Link Function:</th>        <td>logit</td>      <th>  Scale:             </th>    <td>1.0</td>  \n",
       "</tr>\n",
       "<tr>\n",
       "  <th>Method:</th>               <td>IRLS</td>       <th>  Log-Likelihood:    </th> <td> -844.32</td>\n",
       "</tr>\n",
       "<tr>\n",
       "  <th>Date:</th>           <td>Thu, 28 Sep 2017</td> <th>  Deviance:          </th> <td>  1688.6</td>\n",
       "</tr>\n",
       "<tr>\n",
       "  <th>Time:</th>               <td>13:54:46</td>     <th>  Pearson chi2:      </th> <td>1.31e+03</td>\n",
       "</tr>\n",
       "<tr>\n",
       "  <th>No. Iterations:</th>         <td>4</td>        <th>                     </th>     <td> </td>   \n",
       "</tr>\n",
       "</table>\n",
       "<table class=\"simpletable\">\n",
       "<tr>\n",
       "             <td></td>               <th>coef</th>     <th>std err</th>      <th>z</th>      <th>P>|z|</th>  <th>[0.025</th>    <th>0.975]</th>  \n",
       "</tr>\n",
       "<tr>\n",
       "  <th>Intercept</th>              <td>   -0.1371</td> <td>    0.073</td> <td>   -1.867</td> <td> 0.062</td> <td>   -0.281</td> <td>    0.007</td>\n",
       "</tr>\n",
       "<tr>\n",
       "  <th>C(home_dest_null)[T.1]</th> <td>   -0.8510</td> <td>    0.120</td> <td>   -7.101</td> <td> 0.000</td> <td>   -1.086</td> <td>   -0.616</td>\n",
       "</tr>\n",
       "</table>"
      ],
      "text/plain": [
       "<class 'statsmodels.iolib.summary.Summary'>\n",
       "\"\"\"\n",
       "                 Generalized Linear Model Regression Results                  \n",
       "==============================================================================\n",
       "Dep. Variable:               survived   No. Observations:                 1309\n",
       "Model:                            GLM   Df Residuals:                     1307\n",
       "Model Family:                Binomial   Df Model:                            1\n",
       "Link Function:                  logit   Scale:                             1.0\n",
       "Method:                          IRLS   Log-Likelihood:                -844.32\n",
       "Date:                Thu, 28 Sep 2017   Deviance:                       1688.6\n",
       "Time:                        13:54:46   Pearson chi2:                 1.31e+03\n",
       "No. Iterations:                     4                                         \n",
       "==========================================================================================\n",
       "                             coef    std err          z      P>|z|      [0.025      0.975]\n",
       "------------------------------------------------------------------------------------------\n",
       "Intercept                 -0.1371      0.073     -1.867      0.062      -0.281       0.007\n",
       "C(home_dest_null)[T.1]    -0.8510      0.120     -7.101      0.000      -1.086      -0.616\n",
       "==========================================================================================\n",
       "\"\"\""
      ]
     },
     "execution_count": 80,
     "metadata": {},
     "output_type": "execute_result"
    }
   ],
   "source": [
    "train['home_dest_null'] = train['home.dest'].isnull()*1\n",
    "log_model = smf.glm('survived ~ C(home_dest_null)', \n",
    "        data = train, family = sm.families.Binomial()).fit()\n",
    "log_model.summary()"
   ]
  },
  {
   "cell_type": "markdown",
   "metadata": {},
   "source": [
    "Looking at the means of missing data from the columns above, it seems like there is a significant difference between survival rates and if data is missing for a particular iv. Checking with logistic regression p-values and the chisq-test do suggest that have null values do indicate"
   ]
  },
  {
   "cell_type": "markdown",
   "metadata": {},
   "source": [
    "# Preparing data"
   ]
  },
  {
   "cell_type": "code",
   "execution_count": 81,
   "metadata": {},
   "outputs": [
    {
     "data": {
      "text/html": [
       "<div>\n",
       "<style>\n",
       "    .dataframe thead tr:only-child th {\n",
       "        text-align: right;\n",
       "    }\n",
       "\n",
       "    .dataframe thead th {\n",
       "        text-align: left;\n",
       "    }\n",
       "\n",
       "    .dataframe tbody tr th {\n",
       "        vertical-align: top;\n",
       "    }\n",
       "</style>\n",
       "<table border=\"1\" class=\"dataframe\">\n",
       "  <thead>\n",
       "    <tr style=\"text-align: right;\">\n",
       "      <th></th>\n",
       "      <th>age</th>\n",
       "      <th>cabin_letter_le</th>\n",
       "      <th>cabin_number</th>\n",
       "      <th>embarked_le</th>\n",
       "      <th>family</th>\n",
       "      <th>fare</th>\n",
       "      <th>home_dest_null</th>\n",
       "      <th>parch</th>\n",
       "      <th>pclass</th>\n",
       "      <th>sex</th>\n",
       "      <th>sibsp</th>\n",
       "      <th>survived</th>\n",
       "    </tr>\n",
       "    <tr>\n",
       "      <th>embarked</th>\n",
       "      <th></th>\n",
       "      <th></th>\n",
       "      <th></th>\n",
       "      <th></th>\n",
       "      <th></th>\n",
       "      <th></th>\n",
       "      <th></th>\n",
       "      <th></th>\n",
       "      <th></th>\n",
       "      <th></th>\n",
       "      <th></th>\n",
       "      <th></th>\n",
       "    </tr>\n",
       "  </thead>\n",
       "  <tbody>\n",
       "    <tr>\n",
       "      <th>C</th>\n",
       "      <td>32.332170</td>\n",
       "      <td>6.503704</td>\n",
       "      <td>52.584783</td>\n",
       "      <td>0.0</td>\n",
       "      <td>0.770370</td>\n",
       "      <td>62.336267</td>\n",
       "      <td>0.362963</td>\n",
       "      <td>0.370370</td>\n",
       "      <td>1.851852</td>\n",
       "      <td>0.581481</td>\n",
       "      <td>0.400000</td>\n",
       "      <td>0.555556</td>\n",
       "    </tr>\n",
       "    <tr>\n",
       "      <th>Q</th>\n",
       "      <td>28.630000</td>\n",
       "      <td>9.715447</td>\n",
       "      <td>74.600000</td>\n",
       "      <td>1.0</td>\n",
       "      <td>0.455285</td>\n",
       "      <td>12.409012</td>\n",
       "      <td>0.699187</td>\n",
       "      <td>0.113821</td>\n",
       "      <td>2.894309</td>\n",
       "      <td>0.512195</td>\n",
       "      <td>0.341463</td>\n",
       "      <td>0.357724</td>\n",
       "    </tr>\n",
       "    <tr>\n",
       "      <th>S</th>\n",
       "      <td>29.245205</td>\n",
       "      <td>8.650985</td>\n",
       "      <td>47.467066</td>\n",
       "      <td>2.0</td>\n",
       "      <td>0.977024</td>\n",
       "      <td>27.418824</td>\n",
       "      <td>0.414661</td>\n",
       "      <td>0.426696</td>\n",
       "      <td>2.347921</td>\n",
       "      <td>0.681619</td>\n",
       "      <td>0.550328</td>\n",
       "      <td>0.332604</td>\n",
       "    </tr>\n",
       "  </tbody>\n",
       "</table>\n",
       "</div>"
      ],
      "text/plain": [
       "                age  cabin_letter_le  cabin_number  embarked_le    family  \\\n",
       "embarked                                                                    \n",
       "C         32.332170         6.503704     52.584783          0.0  0.770370   \n",
       "Q         28.630000         9.715447     74.600000          1.0  0.455285   \n",
       "S         29.245205         8.650985     47.467066          2.0  0.977024   \n",
       "\n",
       "               fare  home_dest_null     parch    pclass       sex     sibsp  \\\n",
       "embarked                                                                      \n",
       "C         62.336267        0.362963  0.370370  1.851852  0.581481  0.400000   \n",
       "Q         12.409012        0.699187  0.113821  2.894309  0.512195  0.341463   \n",
       "S         27.418824        0.414661  0.426696  2.347921  0.681619  0.550328   \n",
       "\n",
       "          survived  \n",
       "embarked            \n",
       "C         0.555556  \n",
       "Q         0.357724  \n",
       "S         0.332604  "
      ]
     },
     "metadata": {},
     "output_type": "display_data"
    },
    {
     "data": {
      "text/html": [
       "<div>\n",
       "<style>\n",
       "    .dataframe thead tr:only-child th {\n",
       "        text-align: right;\n",
       "    }\n",
       "\n",
       "    .dataframe thead th {\n",
       "        text-align: left;\n",
       "    }\n",
       "\n",
       "    .dataframe tbody tr th {\n",
       "        vertical-align: top;\n",
       "    }\n",
       "</style>\n",
       "<table border=\"1\" class=\"dataframe\">\n",
       "  <thead>\n",
       "    <tr style=\"text-align: right;\">\n",
       "      <th></th>\n",
       "      <th>age</th>\n",
       "      <th>cabin_letter_le</th>\n",
       "      <th>cabin_number</th>\n",
       "      <th>embarked_le</th>\n",
       "      <th>family</th>\n",
       "      <th>fare</th>\n",
       "      <th>home_dest_null</th>\n",
       "      <th>parch</th>\n",
       "      <th>pclass</th>\n",
       "      <th>sibsp</th>\n",
       "      <th>survived</th>\n",
       "    </tr>\n",
       "    <tr>\n",
       "      <th>sex</th>\n",
       "      <th></th>\n",
       "      <th></th>\n",
       "      <th></th>\n",
       "      <th></th>\n",
       "      <th></th>\n",
       "      <th></th>\n",
       "      <th></th>\n",
       "      <th></th>\n",
       "      <th></th>\n",
       "      <th></th>\n",
       "      <th></th>\n",
       "    </tr>\n",
       "  </thead>\n",
       "  <tbody>\n",
       "    <tr>\n",
       "      <th>0</th>\n",
       "      <td>28.687088</td>\n",
       "      <td>7.733906</td>\n",
       "      <td>48.631295</td>\n",
       "      <td>1.390558</td>\n",
       "      <td>1.285408</td>\n",
       "      <td>46.198097</td>\n",
       "      <td>0.381974</td>\n",
       "      <td>0.633047</td>\n",
       "      <td>2.154506</td>\n",
       "      <td>0.652361</td>\n",
       "      <td>0.727468</td>\n",
       "    </tr>\n",
       "    <tr>\n",
       "      <th>1</th>\n",
       "      <td>30.585228</td>\n",
       "      <td>8.607355</td>\n",
       "      <td>50.956667</td>\n",
       "      <td>1.552788</td>\n",
       "      <td>0.661922</td>\n",
       "      <td>26.154601</td>\n",
       "      <td>0.457888</td>\n",
       "      <td>0.247924</td>\n",
       "      <td>2.372479</td>\n",
       "      <td>0.413998</td>\n",
       "      <td>0.190985</td>\n",
       "    </tr>\n",
       "  </tbody>\n",
       "</table>\n",
       "</div>"
      ],
      "text/plain": [
       "           age  cabin_letter_le  cabin_number  embarked_le    family  \\\n",
       "sex                                                                    \n",
       "0    28.687088         7.733906     48.631295     1.390558  1.285408   \n",
       "1    30.585228         8.607355     50.956667     1.552788  0.661922   \n",
       "\n",
       "          fare  home_dest_null     parch    pclass     sibsp  survived  \n",
       "sex                                                                     \n",
       "0    46.198097        0.381974  0.633047  2.154506  0.652361  0.727468  \n",
       "1    26.154601        0.457888  0.247924  2.372479  0.413998  0.190985  "
      ]
     },
     "metadata": {},
     "output_type": "display_data"
    }
   ],
   "source": [
    "display(pd.pivot_table(train, index = [\"embarked\"]))\n",
    "display(pd.pivot_table(train, index = [\"sex\"]))"
   ]
  },
  {
   "cell_type": "code",
   "execution_count": 82,
   "metadata": {},
   "outputs": [
    {
     "name": "stdout",
     "output_type": "stream",
     "text": [
      "   class_1  class_2  class_3\n",
      "0        1        0        0\n",
      "1        1        0        0\n",
      "2        1        0        0\n",
      "3        1        0        0\n",
      "4        1        0        0\n",
      "5        1        0        0\n"
     ]
    }
   ],
   "source": [
    "dummy_vars = pd.get_dummies(train['pclass'], prefix = \"class\")\n",
    "print(dummy_vars[0:6])"
   ]
  },
  {
   "cell_type": "code",
   "execution_count": 83,
   "metadata": {
    "collapsed": true
   },
   "outputs": [],
   "source": [
    "train_processed = train.join(dummy_vars) "
   ]
  },
  {
   "cell_type": "markdown",
   "metadata": {},
   "source": [
    "Could use pclass over encoded class as different columns, under tree-based algorithms this actually works better."
   ]
  },
  {
   "cell_type": "code",
   "execution_count": 84,
   "metadata": {
    "collapsed": true
   },
   "outputs": [],
   "source": [
    "train_processed = train_processed[train_processed.fare.notnull()]\n",
    "train_processed['sex'] = train_processed['sex'].astype('int')\n",
    "#train_processed['embarked'] = train_processed['embarked'].astype('int')\n",
    "feature_columns_to_use =  ['age', 'family', 'pclass', 'embarked_le','sex', 'fare', 'cabin_letter_le', 'cabin_number', 'home_dest_null']\n"
   ]
  },
  {
   "cell_type": "code",
   "execution_count": 85,
   "metadata": {},
   "outputs": [
    {
     "name": "stdout",
     "output_type": "stream",
     "text": [
      "<class 'pandas.core.frame.DataFrame'>\n",
      "Int64Index: 1308 entries, 0 to 1308\n",
      "Data columns (total 22 columns):\n",
      "pclass             1308 non-null int64\n",
      "survived           1308 non-null int64\n",
      "name               1308 non-null object\n",
      "sex                1308 non-null int64\n",
      "age                1045 non-null float64\n",
      "sibsp              1308 non-null int64\n",
      "parch              1308 non-null int64\n",
      "ticket             1308 non-null object\n",
      "fare               1308 non-null float64\n",
      "cabin              295 non-null object\n",
      "embarked           1306 non-null object\n",
      "boat               486 non-null object\n",
      "home.dest          745 non-null object\n",
      "cabin_letter       295 non-null object\n",
      "cabin_letter_le    1308 non-null int64\n",
      "cabin_number       289 non-null float64\n",
      "embarked_le        1308 non-null int64\n",
      "family             1308 non-null int64\n",
      "home_dest_null     1308 non-null int64\n",
      "class_1            1308 non-null uint8\n",
      "class_2            1308 non-null uint8\n",
      "class_3            1308 non-null uint8\n",
      "dtypes: float64(3), int64(9), object(7), uint8(3)\n",
      "memory usage: 208.2+ KB\n"
     ]
    }
   ],
   "source": [
    "train_processed.info()"
   ]
  },
  {
   "cell_type": "markdown",
   "metadata": {},
   "source": [
    "## splitting train and test for cv"
   ]
  },
  {
   "cell_type": "code",
   "execution_count": 86,
   "metadata": {
    "collapsed": true
   },
   "outputs": [],
   "source": [
    "# scaling variables\n",
    "train_processed.age = train_processed.age/10\n",
    "train_processed.fare = train_processed.fare/10"
   ]
  },
  {
   "cell_type": "code",
   "execution_count": 87,
   "metadata": {
    "collapsed": true
   },
   "outputs": [],
   "source": [
    "train_x, test_x, train_y, test_y = train_test_split(train_processed[feature_columns_to_use], \n",
    "                                                    train_processed['survived'], test_size = .3, random_state = 42)"
   ]
  },
  {
   "cell_type": "code",
   "execution_count": 88,
   "metadata": {},
   "outputs": [
    {
     "name": "stdout",
     "output_type": "stream",
     "text": [
      "(915, 9)\n",
      "(393, 9)\n"
     ]
    }
   ],
   "source": [
    "print(train_x.shape)\n",
    "print(test_x.shape)"
   ]
  },
  {
   "cell_type": "markdown",
   "metadata": {},
   "source": [
    "## Imputation"
   ]
  },
  {
   "cell_type": "markdown",
   "metadata": {},
   "source": [
    "From before it was established that there are significant differences between survival rates for columns with missing data, indicating that data is not missing completely at random. Since the missing data is not the cause of survival, it can be reasonably argued that the null values are missing at random and imputation could be valuable. Fancyimpute provides the MICE function to do this for continuous variables ONLY, which threw me off being used to the R version. For this matrix it's imputing the age nan values."
   ]
  },
  {
   "cell_type": "code",
   "execution_count": 89,
   "metadata": {},
   "outputs": [],
   "source": [
    "from fancyimpute import MICE\n",
    "\n",
    "train_x_filled = MICE(verbose=False).complete(train_x.as_matrix())\n",
    "test_x_filled = MICE(verbose=False).complete(test_x.as_matrix())"
   ]
  },
  {
   "cell_type": "markdown",
   "metadata": {},
   "source": [
    "# Models"
   ]
  },
  {
   "cell_type": "markdown",
   "metadata": {},
   "source": [
    "## logistic"
   ]
  },
  {
   "cell_type": "code",
   "execution_count": 90,
   "metadata": {},
   "outputs": [
    {
     "name": "stdout",
     "output_type": "stream",
     "text": [
      "0.805464480874\n"
     ]
    }
   ],
   "source": [
    "model = LogisticRegression()\n",
    "model = model.fit(X = train_x_filled, y = train_y)\n",
    "print(model.score(X = train_x_filled, y = train_y))"
   ]
  },
  {
   "cell_type": "markdown",
   "metadata": {},
   "source": [
    "# random forest"
   ]
  },
  {
   "cell_type": "code",
   "execution_count": 91,
   "metadata": {},
   "outputs": [
    {
     "data": {
      "text/plain": [
       "1.0"
      ]
     },
     "execution_count": 91,
     "metadata": {},
     "output_type": "execute_result"
    }
   ],
   "source": [
    "rf_model = RandomForestClassifier(n_estimators = 500, random_state=42).fit(train_x_filled, train_y)\n",
    "rf_model.score(train_x_filled, train_y)"
   ]
  },
  {
   "cell_type": "markdown",
   "metadata": {},
   "source": [
    "# support vector machines"
   ]
  },
  {
   "cell_type": "code",
   "execution_count": 92,
   "metadata": {},
   "outputs": [
    {
     "data": {
      "text/plain": [
       "0.87540983606557377"
      ]
     },
     "execution_count": 92,
     "metadata": {},
     "output_type": "execute_result"
    }
   ],
   "source": [
    "svm_m = SVC(probability = True).fit(train_x_filled, train_y)\n",
    "svm_m.score(train_x_filled, train_y)"
   ]
  },
  {
   "cell_type": "markdown",
   "metadata": {},
   "source": [
    "## xgboost (gradient boosted trees)"
   ]
  },
  {
   "cell_type": "code",
   "execution_count": 93,
   "metadata": {},
   "outputs": [
    {
     "data": {
      "text/plain": [
       "0.9158469945355191"
      ]
     },
     "execution_count": 93,
     "metadata": {},
     "output_type": "execute_result"
    }
   ],
   "source": [
    "model_xgb = XGBClassifier(\n",
    "  learning_rate =0.01,\n",
    " n_estimators=1000,\n",
    " max_depth=9,\n",
    " min_child_weight=5,\n",
    " gamma=0.00,\n",
    " subsample=0.9,\n",
    " colsample_bytree=0.8,\n",
    " reg_alpha=0.05,\n",
    " objective= 'binary:logistic',\n",
    " nthread=4,\n",
    " scale_pos_weight=1,\n",
    " seed=27)\n",
    "\n",
    "cvresult = xgb.cv(\n",
    "                  model_xgb.get_xgb_params(), \n",
    "                  xgb.DMatrix(train_x_filled, label=train['survived'].values), \n",
    "                  num_boost_round=model_xgb.get_params()['n_estimators'], \n",
    "                  nfold=3, metrics=['auc','logloss'], \n",
    "                  early_stopping_rounds=50\n",
    "                 )\n",
    "\n",
    "#model_xgb.set_params(n_estimators=cvresult.shape[0])\n",
    "    \n",
    "# fit the algorithm \n",
    "\n",
    "model_xgb.fit(train_x_filled, train_y, eval_metric='logloss')\n",
    "\n",
    "xgb_result1 = model_xgb.fit(train_x_filled, train_y)\n",
    "xgb_result1.score(train_x_filled, train_y)"
   ]
  },
  {
   "cell_type": "code",
   "execution_count": 94,
   "metadata": {},
   "outputs": [
    {
     "data": {
      "text/plain": [
       "test-auc-mean         0.528175\n",
       "test-auc-std          0.011508\n",
       "test-logloss-mean     0.688328\n",
       "test-logloss-std      0.001638\n",
       "train-auc-mean        0.822091\n",
       "train-auc-std         0.008454\n",
       "train-logloss-mean    0.641193\n",
       "train-logloss-std     0.000673\n",
       "Name: 63, dtype: float64"
      ]
     },
     "execution_count": 94,
     "metadata": {},
     "output_type": "execute_result"
    }
   ],
   "source": [
    "cvresult.iloc[-1,:]"
   ]
  },
  {
   "cell_type": "markdown",
   "metadata": {},
   "source": [
    "## Tuning xgb"
   ]
  },
  {
   "cell_type": "code",
   "execution_count": 128,
   "metadata": {
    "collapsed": true
   },
   "outputs": [],
   "source": [
    "def modelfit(alg, dtrain, predictors, target, useTrainCV=True, cv_folds=3, early_stopping_rounds=50):\n",
    "    \n",
    "    if useTrainCV:\n",
    "        xgb_param = alg.get_xgb_params()\n",
    "        xgtrain = xgb.DMatrix(dtrain[predictors].values, label=dtrain[target].values)\n",
    "        cvresult = xgb.cv(xgb_param, xgtrain, num_boost_round=alg.get_params()['n_estimators'], nfold=cv_folds,\n",
    "            metrics=['auc','logloss'], early_stopping_rounds=early_stopping_rounds, verbose_eval=False)\n",
    "        alg.set_params(n_estimators=cvresult.shape[0])\n",
    "    \n",
    "    # fit the algorithm \n",
    "    alg.fit(dtrain[predictors], dtrain[target],eval_metric='logloss')\n",
    "        \n",
    "    # predict training set\n",
    "    dtrain_predictions = alg.predict(dtrain[predictors])\n",
    "    dtrain_predprob = alg.predict_proba(dtrain[predictors])[:,1]\n",
    "        \n",
    "    # print model report\n",
    "    print(\"\\nModel Report\")\n",
    "    print(\"Accuracy : {:.4f}\".format(accuracy_score(dtrain[target].values, dtrain_predictions)))\n",
    "    print(\"AUC Score (Train): {:.4f}\".format(roc_auc_score(dtrain[target], dtrain_predprob)))\n",
    "    print(\"logloss :{:.4f}\".format(log_loss(dtrain[target], dtrain_predprob)))\n",
    "    \n",
    "    # plotting feat_imp\n",
    "    feat_imp = pd.Series(alg.booster().get_score(importance_type='gain')).sort_values(ascending=False)\n",
    "    feat_imp.plot(kind='bar', title='Feature Importances')\n",
    "    plt.ylabel('Feature Importance Score')\n",
    "    plt.show()\n",
    "    return feat_imp"
   ]
  },
  {
   "cell_type": "code",
   "execution_count": 129,
   "metadata": {},
   "outputs": [
    {
     "name": "stdout",
     "output_type": "stream",
     "text": [
      "\n",
      "Model Report\n",
      "Accuracy : 0.8754\n",
      "AUC Score (Train): 0.9378\n",
      "logloss :0.3237\n"
     ]
    },
    {
     "data": {
      "image/png": "[encoded data removed]",
      "text/plain": [
       "<matplotlib.figure.Figure at 0x7fef7dfc9a90>"
      ]
     },
     "metadata": {},
     "output_type": "display_data"
    }
   ],
   "source": [
    "model_xgb1 = XGBClassifier(\n",
    " learning_rate =0.01,\n",
    " n_estimators=1000,\n",
    " max_depth=9,\n",
    " min_child_weight=5,\n",
    " gamma=0.00,\n",
    " subsample=0.9,\n",
    " colsample_bytree=0.8,\n",
    " reg_alpha=0.05,\n",
    " objective= 'binary:logistic',\n",
    " nthread=4,\n",
    " scale_pos_weight=1,\n",
    " seed=27)\n",
    "\n",
    "top_features = modelfit(model_xgb1, train_processed, feature_columns_to_use, target = 'survived')[:-1]"
   ]
  },
  {
   "cell_type": "code",
   "execution_count": 130,
   "metadata": {},
   "outputs": [
    {
     "name": "stdout",
     "output_type": "stream",
     "text": [
      "\n",
      "Model Report\n",
      "Accuracy : 0.8601\n",
      "AUC Score (Train): 0.9125\n",
      "logloss :0.3631\n"
     ]
    },
    {
     "data": {
      "image/png": "[encoded data removed]",
      "text/plain": [
       "<matplotlib.figure.Figure at 0x7fef24540080>"
      ]
     },
     "metadata": {},
     "output_type": "display_data"
    },
    {
     "data": {
      "text/plain": [
       "sex                48.879477\n",
       "pclass              5.732100\n",
       "cabin_letter_le     3.454642\n",
       "cabin_number        2.987839\n",
       "family              2.226375\n",
       "home_dest_null      1.698844\n",
       "age                 1.580913\n",
       "embarked_le         1.327314\n",
       "dtype: float64"
      ]
     },
     "execution_count": 130,
     "metadata": {},
     "output_type": "execute_result"
    }
   ],
   "source": [
    "model_xgb1 = XGBClassifier(learning_rate =0.01, n_estimators=1000,\n",
    "                             max_depth=9, min_child_weight=5,\n",
    "                             gamma=0.00, subsample=0.9,\n",
    "                             colsample_bytree=0.8, reg_alpha=0.05,\n",
    "                             objective= 'binary:logistic', nthread=4,\n",
    "                             scale_pos_weight=1, seed=27)\n",
    "\n",
    "modelfit(model_xgb1, train_processed, top_features.index, \n",
    "         target = 'survived')"
   ]
  },
  {
   "cell_type": "markdown",
   "metadata": {},
   "source": [
    "# Evaluation"
   ]
  },
  {
   "cell_type": "markdown",
   "metadata": {},
   "source": [
    "## logistic"
   ]
  },
  {
   "cell_type": "code",
   "execution_count": 98,
   "metadata": {},
   "outputs": [
    {
     "name": "stdout",
     "output_type": "stream",
     "text": [
      "auc: 0.77131234996\n",
      "log loss: 0.4741635380734067\n",
      "             precision    recall  f1-score   support\n",
      "\n",
      "          0       0.79      0.87      0.83       230\n",
      "          1       0.79      0.67      0.72       163\n",
      "\n",
      "avg / total       0.79      0.79      0.79       393\n",
      "\n"
     ]
    }
   ],
   "source": [
    "\n",
    "predicted = model.predict(test_x_filled)\n",
    "predicted_prob = model.predict_proba(test_x_filled)\n",
    "\n",
    "#print(metrics.confusion_matrix(train_y, predicted))\n",
    "#print(train_y.astype(float).mean())\n",
    "#print(predicted.astype(int).mean())\n",
    "\n",
    "print(\"auc: \" + str(roc_auc_score(test_y, predicted)))\n",
    "print(\"log loss: {}\".format(log_loss(test_y, predicted_prob)))\n",
    "print(classification_report(test_y, predicted))"
   ]
  },
  {
   "cell_type": "markdown",
   "metadata": {},
   "source": [
    "## random forest"
   ]
  },
  {
   "cell_type": "code",
   "execution_count": 99,
   "metadata": {},
   "outputs": [
    {
     "name": "stdout",
     "output_type": "stream",
     "text": [
      "auc:0.788436916511\n",
      "log loss: 0.43750864128765005\n",
      "             precision    recall  f1-score   support\n",
      "\n",
      "          0       0.81      0.87      0.84       230\n",
      "          1       0.79      0.71      0.75       163\n",
      "\n",
      "avg / total       0.80      0.80      0.80       393\n",
      "\n"
     ]
    }
   ],
   "source": [
    "predicted_rf = rf_model.predict(test_x_filled)\n",
    "predicted_rf_prob = rf_model.predict_proba(test_x_filled)\n",
    "print(\"auc:\" + str(roc_auc_score(test_y, predicted_rf)))\n",
    "print(\"log loss: {}\".format(log_loss(test_y, predicted_rf_prob)))\n",
    "print(classification_report(test_y, predicted_rf))"
   ]
  },
  {
   "cell_type": "markdown",
   "metadata": {},
   "source": [
    "## svm"
   ]
  },
  {
   "cell_type": "code",
   "execution_count": 100,
   "metadata": {},
   "outputs": [
    {
     "name": "stdout",
     "output_type": "stream",
     "text": [
      "auc:0.552160576154\n",
      "log loss: 0.6503198257796516\n",
      "             precision    recall  f1-score   support\n",
      "\n",
      "          0       0.64      0.55      0.59       230\n",
      "          1       0.47      0.55      0.51       163\n",
      "\n",
      "avg / total       0.57      0.55      0.56       393\n",
      "\n"
     ]
    }
   ],
   "source": [
    "predicted_svm = svm_m.predict(test_x_filled)\n",
    "predicted_svm_prob = svm_m.predict_proba(test_x_filled)\n",
    "print(\"auc:\" + str(roc_auc_score(test_y, predicted_svm)))\n",
    "print(\"log loss: {}\".format(log_loss(test_y, predicted_svm_prob)))\n",
    "print(classification_report(test_y, predicted_svm))"
   ]
  },
  {
   "cell_type": "markdown",
   "metadata": {},
   "source": [
    "## xgb"
   ]
  },
  {
   "cell_type": "code",
   "execution_count": 101,
   "metadata": {},
   "outputs": [
    {
     "name": "stdout",
     "output_type": "stream",
     "text": [
      "auc:0.790610829555\n",
      "log loss: 0.43929745010206944\n",
      "             precision    recall  f1-score   support\n",
      "\n",
      "          0       0.81      0.87      0.84       230\n",
      "          1       0.79      0.71      0.75       163\n",
      "\n",
      "avg / total       0.80      0.80      0.80       393\n",
      "\n"
     ]
    }
   ],
   "source": [
    "# with MICE impute\n",
    "predicted_xgb = model_xgb.predict(test_x_filled)\n",
    "predicted_xgb_proba = model_xgb.predict_proba(test_x_filled)\n",
    "print(\"auc:\" + str(roc_auc_score(test_y, predicted_xgb)))\n",
    "print(\"log loss: {}\".format(log_loss(test_y, predicted_xgb_proba)))\n",
    "print(classification_report(test_y, predicted_xgb))"
   ]
  },
  {
   "cell_type": "code",
   "execution_count": 102,
   "metadata": {},
   "outputs": [
    {
     "name": "stdout",
     "output_type": "stream",
     "text": [
      "auc:0.845585489464\n",
      "log loss: 0.32437352413363735\n",
      "             precision    recall  f1-score   support\n",
      "\n",
      "          0       0.85      0.93      0.89       230\n",
      "          1       0.89      0.76      0.82       163\n",
      "\n",
      "avg / total       0.86      0.86      0.86       393\n",
      "\n"
     ]
    }
   ],
   "source": [
    "# standard xgb impute\n",
    "predicted_xgb = model_xgb1.predict(test_x[top_features.index])\n",
    "predicted_xgb_proba = model_xgb1.predict_proba(test_x[top_features.index])\n",
    "print(\"auc:\" + str(roc_auc_score(test_y, predicted_xgb)))\n",
    "print(\"log loss: {}\".format(log_loss(test_y, predicted_xgb_proba)))\n",
    "print(classification_report(test_y, predicted_xgb))"
   ]
  },
  {
   "cell_type": "markdown",
   "metadata": {},
   "source": [
    "Boosted trees with regularization(xgb) seems to be the best performing, while svm and rf had a high accuracy on the training set it looks like they overfit the training data. Logistic performed above expectations, plus it is easily the most interpretable algorithm."
   ]
  },
  {
   "cell_type": "markdown",
   "metadata": {},
   "source": [
    "# Digging into logistic models"
   ]
  },
  {
   "cell_type": "markdown",
   "metadata": {},
   "source": [
    "## statsmodels logistic instead of sklearn"
   ]
  },
  {
   "cell_type": "code",
   "execution_count": 119,
   "metadata": {},
   "outputs": [
    {
     "data": {
      "text/html": [
       "<table class=\"simpletable\">\n",
       "<caption>Generalized Linear Model Regression Results</caption>\n",
       "<tr>\n",
       "  <th>Dep. Variable:</th>      <td>survived</td>     <th>  No. Observations:  </th>  <td>   256</td> \n",
       "</tr>\n",
       "<tr>\n",
       "  <th>Model:</th>                 <td>GLM</td>       <th>  Df Residuals:      </th>  <td>   244</td> \n",
       "</tr>\n",
       "<tr>\n",
       "  <th>Model Family:</th>       <td>Binomial</td>     <th>  Df Model:          </th>  <td>    11</td> \n",
       "</tr>\n",
       "<tr>\n",
       "  <th>Link Function:</th>        <td>logit</td>      <th>  Scale:             </th>    <td>1.0</td>  \n",
       "</tr>\n",
       "<tr>\n",
       "  <th>Method:</th>               <td>IRLS</td>       <th>  Log-Likelihood:    </th> <td> -104.74</td>\n",
       "</tr>\n",
       "<tr>\n",
       "  <th>Date:</th>           <td>Thu, 28 Sep 2017</td> <th>  Deviance:          </th> <td>  209.47</td>\n",
       "</tr>\n",
       "<tr>\n",
       "  <th>Time:</th>               <td>14:05:17</td>     <th>  Pearson chi2:      </th>  <td>  307.</td> \n",
       "</tr>\n",
       "<tr>\n",
       "  <th>No. Iterations:</th>        <td>19</td>        <th>                     </th>     <td> </td>   \n",
       "</tr>\n",
       "</table>\n",
       "<table class=\"simpletable\">\n",
       "<tr>\n",
       "             <td></td>               <th>coef</th>     <th>std err</th>      <th>z</th>      <th>P>|z|</th>  <th>[0.025</th>    <th>0.975]</th>  \n",
       "</tr>\n",
       "<tr>\n",
       "  <th>Intercept</th>              <td>    4.9933</td> <td>    0.877</td> <td>    5.692</td> <td> 0.000</td> <td>    3.274</td> <td>    6.713</td>\n",
       "</tr>\n",
       "<tr>\n",
       "  <th>C(pclass)[T.2]</th>         <td>    0.1043</td> <td>    0.820</td> <td>    0.127</td> <td> 0.899</td> <td>   -1.502</td> <td>    1.711</td>\n",
       "</tr>\n",
       "<tr>\n",
       "  <th>C(pclass)[T.3]</th>         <td>    0.4378</td> <td>    1.518</td> <td>    0.288</td> <td> 0.773</td> <td>   -2.537</td> <td>    3.413</td>\n",
       "</tr>\n",
       "<tr>\n",
       "  <th>C(sex)[T.1]</th>            <td>   -3.4560</td> <td>    0.482</td> <td>   -7.177</td> <td> 0.000</td> <td>   -4.400</td> <td>   -2.512</td>\n",
       "</tr>\n",
       "<tr>\n",
       "  <th>C(embarked_le)[T.1]</th>    <td>   -1.2276</td> <td>    1.793</td> <td>   -0.685</td> <td> 0.494</td> <td>   -4.742</td> <td>    2.287</td>\n",
       "</tr>\n",
       "<tr>\n",
       "  <th>C(embarked_le)[T.2]</th>    <td>   -0.5776</td> <td>    0.372</td> <td>   -1.552</td> <td> 0.121</td> <td>   -1.307</td> <td>    0.152</td>\n",
       "</tr>\n",
       "<tr>\n",
       "  <th>C(embarked_le)[T.3]</th>    <td>   17.7006</td> <td> 1.23e+04</td> <td>    0.001</td> <td> 0.999</td> <td>-2.42e+04</td> <td> 2.42e+04</td>\n",
       "</tr>\n",
       "<tr>\n",
       "  <th>C(home_dest_null)[T.1]</th> <td>   -0.0591</td> <td>    0.848</td> <td>   -0.070</td> <td> 0.944</td> <td>   -1.721</td> <td>    1.603</td>\n",
       "</tr>\n",
       "<tr>\n",
       "  <th>fare</th>                   <td>   -0.0018</td> <td>    0.003</td> <td>   -0.672</td> <td> 0.501</td> <td>   -0.007</td> <td>    0.003</td>\n",
       "</tr>\n",
       "<tr>\n",
       "  <th>family</th>                 <td>    0.0861</td> <td>    0.196</td> <td>    0.440</td> <td> 0.660</td> <td>   -0.298</td> <td>    0.470</td>\n",
       "</tr>\n",
       "<tr>\n",
       "  <th>age</th>                    <td>   -0.0371</td> <td>    0.012</td> <td>   -2.973</td> <td> 0.003</td> <td>   -0.061</td> <td>   -0.013</td>\n",
       "</tr>\n",
       "<tr>\n",
       "  <th>cabin_number</th>           <td>   -0.0018</td> <td>    0.005</td> <td>   -0.333</td> <td> 0.739</td> <td>   -0.012</td> <td>    0.009</td>\n",
       "</tr>\n",
       "</table>"
      ],
      "text/plain": [
       "<class 'statsmodels.iolib.summary.Summary'>\n",
       "\"\"\"\n",
       "                 Generalized Linear Model Regression Results                  \n",
       "==============================================================================\n",
       "Dep. Variable:               survived   No. Observations:                  256\n",
       "Model:                            GLM   Df Residuals:                      244\n",
       "Model Family:                Binomial   Df Model:                           11\n",
       "Link Function:                  logit   Scale:                             1.0\n",
       "Method:                          IRLS   Log-Likelihood:                -104.74\n",
       "Date:                Thu, 28 Sep 2017   Deviance:                       209.47\n",
       "Time:                        14:05:17   Pearson chi2:                     307.\n",
       "No. Iterations:                    19                                         \n",
       "==========================================================================================\n",
       "                             coef    std err          z      P>|z|      [0.025      0.975]\n",
       "------------------------------------------------------------------------------------------\n",
       "Intercept                  4.9933      0.877      5.692      0.000       3.274       6.713\n",
       "C(pclass)[T.2]             0.1043      0.820      0.127      0.899      -1.502       1.711\n",
       "C(pclass)[T.3]             0.4378      1.518      0.288      0.773      -2.537       3.413\n",
       "C(sex)[T.1]               -3.4560      0.482     -7.177      0.000      -4.400      -2.512\n",
       "C(embarked_le)[T.1]       -1.2276      1.793     -0.685      0.494      -4.742       2.287\n",
       "C(embarked_le)[T.2]       -0.5776      0.372     -1.552      0.121      -1.307       0.152\n",
       "C(embarked_le)[T.3]       17.7006   1.23e+04      0.001      0.999   -2.42e+04    2.42e+04\n",
       "C(home_dest_null)[T.1]    -0.0591      0.848     -0.070      0.944      -1.721       1.603\n",
       "fare                      -0.0018      0.003     -0.672      0.501      -0.007       0.003\n",
       "family                     0.0861      0.196      0.440      0.660      -0.298       0.470\n",
       "age                       -0.0371      0.012     -2.973      0.003      -0.061      -0.013\n",
       "cabin_number              -0.0018      0.005     -0.333      0.739      -0.012       0.009\n",
       "==========================================================================================\n",
       "\"\"\""
      ]
     },
     "execution_count": 119,
     "metadata": {},
     "output_type": "execute_result"
    }
   ],
   "source": [
    "log_model = smf.glm('survived ~ C(pclass) + fare + family + C(sex) + age + C(embarked_le) + cabin_number + C(home_dest_null)', \n",
    "        data = train.iloc[0:915,], family = sm.families.Binomial()).fit()\n",
    "log_model.summary()"
   ]
  },
  {
   "cell_type": "code",
   "execution_count": 132,
   "metadata": {},
   "outputs": [
    {
     "data": {
      "text/plain": [
       "Intercept                  4.993333\n",
       "C(pclass)[T.2]             0.104306\n",
       "C(pclass)[T.3]             0.437830\n",
       "C(sex)[T.1]               -3.455986\n",
       "C(embarked_le)[T.1]       -1.227599\n",
       "C(embarked_le)[T.2]       -0.577621\n",
       "C(embarked_le)[T.3]       17.700555\n",
       "C(home_dest_null)[T.1]    -0.059070\n",
       "fare                      -0.001778\n",
       "family                     0.086078\n",
       "age                       -0.037061\n",
       "cabin_number              -0.001792\n",
       "dtype: float64"
      ]
     },
     "execution_count": 132,
     "metadata": {},
     "output_type": "execute_result"
    }
   ],
   "source": [
    "log_model.params"
   ]
  },
  {
   "cell_type": "markdown",
   "metadata": {},
   "source": [
    "## Interpreting results\n"
   ]
  },
  {
   "cell_type": "code",
   "execution_count": 122,
   "metadata": {},
   "outputs": [
    {
     "name": "stdout",
     "output_type": "stream",
     "text": [
      "ratio for p(survive) of men to women 0.0315561709823\n",
      "ratio inc/dec for each parent/child 0.998224033573\n"
     ]
    }
   ],
   "source": [
    "# men labeled 1\n",
    "\n",
    "print(\"ratio for p(survive) of men to women \"  + str(np.exp(log_model.params[3])))\n",
    "print(\"ratio inc/dec for each parent/child \" + str(np.exp((log_model.params[8]))))"
   ]
  }
 ],
 "metadata": {
  "anaconda-cloud": {},
  "kernelspec": {
   "display_name": "Python 3",
   "language": "python",
   "name": "python3"
  },
  "language_info": {
   "codemirror_mode": {
    "name": "ipython",
    "version": 3
   },
   "file_extension": ".py",
   "mimetype": "text/x-python",
   "name": "python",
   "nbconvert_exporter": "python",
   "pygments_lexer": "ipython3",
   "version": "3.6.1"
  }
 },
 "nbformat": 4,
 "nbformat_minor": 1
}
