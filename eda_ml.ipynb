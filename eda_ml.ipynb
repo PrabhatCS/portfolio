{
 "cells": [
  {
   "cell_type": "markdown",
   "metadata": {},
   "source": [
    "# Importing"
   ]
  },
  {
   "cell_type": "code",
   "execution_count": 1,
   "metadata": {},
   "outputs": [
    {
     "name": "stderr",
     "output_type": "stream",
     "text": [
      "/home/ryeyoo/anaconda3/lib/python3.6/site-packages/sklearn/cross_validation.py:41: DeprecationWarning: This module was deprecated in version 0.18 in favor of the model_selection module into which all the refactored classes and functions are moved. Also note that the interface of the new CV iterators are different from that of this module. This module will be removed in 0.20.\n",
      "  \"This module will be removed in 0.20.\", DeprecationWarning)\n",
      "/home/ryeyoo/anaconda3/lib/python3.6/site-packages/statsmodels/compat/pandas.py:56: FutureWarning: The pandas.core.datetools module is deprecated and will be removed in a future version. Please use the pandas.tseries module instead.\n",
      "  from pandas.core import datetools\n"
     ]
    }
   ],
   "source": [
    "import pandas as pd\n",
    "import numpy as np\n",
    "from scipy.stats import chi2_contingency\n",
    "import os\n",
    "\n",
    "import matplotlib.pyplot as plt\n",
    "import seaborn as sns\n",
    "from IPython.display import display\n",
    "\n",
    "from sklearn.preprocessing import LabelEncoder\n",
    "from sklearn.model_selection import train_test_split\n",
    "from sklearn.model_selection import GridSearchCV\n",
    "\n",
    "from sklearn.metrics import roc_auc_score\n",
    "from sklearn.metrics import precision_recall_fscore_support\n",
    "from sklearn.metrics import classification_report\n",
    "from sklearn.metrics import log_loss\n",
    "from sklearn.metrics import accuracy_score\n",
    "\n",
    "from xgboost import XGBClassifier\n",
    "import xgboost as xgb\n",
    "import statsmodels.formula.api as smf\n",
    "import statsmodels.api as sm\n",
    "from sklearn.linear_model import LogisticRegression\n",
    "\n",
    "from pylab import rcParams\n",
    "rcParams.update({'font.size' : 14, 'legend.fontsize' : \"small\", \n",
    "                 \"xtick.labelsize\" : 14, \"ytick.labelsize\" : 14, \n",
    "                 \"figure.figsize\":(9, 6), \"axes.titlesize\" : 20,\n",
    "                 \"axes.labelsize\" : 14, \"lines.linewidth\" : 3, \n",
    "                 \"lines.markersize\" : 10\n",
    "                })"
   ]
  },
  {
   "cell_type": "code",
   "execution_count": 2,
   "metadata": {
    "collapsed": true
   },
   "outputs": [],
   "source": [
    "train = pd.read_csv(\"titanic3.csv\")"
   ]
  },
  {
   "cell_type": "markdown",
   "metadata": {},
   "source": [
    "# Summarizing"
   ]
  },
  {
   "cell_type": "markdown",
   "metadata": {},
   "source": [
    "Significant number of values missing, I could leave this up to the algorithm like boosted trees to deal with or try to find to a reasonable measure to impute with. It is not clear what would lead to better results."
   ]
  },
  {
   "cell_type": "code",
   "execution_count": 3,
   "metadata": {},
   "outputs": [
    {
     "data": {
      "text/plain": [
       "pclass          0\n",
       "survived        0\n",
       "name            0\n",
       "sex             0\n",
       "age           263\n",
       "sibsp           0\n",
       "parch           0\n",
       "ticket          0\n",
       "fare            1\n",
       "cabin        1014\n",
       "embarked        2\n",
       "boat          823\n",
       "body         1188\n",
       "home.dest     564\n",
       "dtype: int64"
      ]
     },
     "execution_count": 3,
     "metadata": {},
     "output_type": "execute_result"
    }
   ],
   "source": [
    "train.isnull().sum()"
   ]
  },
  {
   "cell_type": "code",
   "execution_count": 4,
   "metadata": {},
   "outputs": [
    {
     "name": "stdout",
     "output_type": "stream",
     "text": [
      "<class 'pandas.core.frame.DataFrame'>\n",
      "RangeIndex: 1309 entries, 0 to 1308\n",
      "Data columns (total 14 columns):\n",
      "pclass       1309 non-null int64\n",
      "survived     1309 non-null int64\n",
      "name         1309 non-null object\n",
      "sex          1309 non-null object\n",
      "age          1046 non-null float64\n",
      "sibsp        1309 non-null int64\n",
      "parch        1309 non-null int64\n",
      "ticket       1309 non-null object\n",
      "fare         1308 non-null float64\n",
      "cabin        295 non-null object\n",
      "embarked     1307 non-null object\n",
      "boat         486 non-null object\n",
      "body         121 non-null float64\n",
      "home.dest    745 non-null object\n",
      "dtypes: float64(3), int64(4), object(7)\n",
      "memory usage: 143.2+ KB\n"
     ]
    }
   ],
   "source": [
    "train.info()"
   ]
  },
  {
   "cell_type": "code",
   "execution_count": 5,
   "metadata": {},
   "outputs": [
    {
     "data": {
      "text/html": [
       "<div>\n",
       "<style>\n",
       "    .dataframe thead tr:only-child th {\n",
       "        text-align: right;\n",
       "    }\n",
       "\n",
       "    .dataframe thead th {\n",
       "        text-align: left;\n",
       "    }\n",
       "\n",
       "    .dataframe tbody tr th {\n",
       "        vertical-align: top;\n",
       "    }\n",
       "</style>\n",
       "<table border=\"1\" class=\"dataframe\">\n",
       "  <thead>\n",
       "    <tr style=\"text-align: right;\">\n",
       "      <th></th>\n",
       "      <th>pclass</th>\n",
       "      <th>survived</th>\n",
       "      <th>age</th>\n",
       "      <th>sibsp</th>\n",
       "      <th>parch</th>\n",
       "      <th>fare</th>\n",
       "      <th>body</th>\n",
       "    </tr>\n",
       "  </thead>\n",
       "  <tbody>\n",
       "    <tr>\n",
       "      <th>count</th>\n",
       "      <td>1309.000000</td>\n",
       "      <td>1309.000000</td>\n",
       "      <td>1046.000000</td>\n",
       "      <td>1309.000000</td>\n",
       "      <td>1309.000000</td>\n",
       "      <td>1308.000000</td>\n",
       "      <td>121.000000</td>\n",
       "    </tr>\n",
       "    <tr>\n",
       "      <th>mean</th>\n",
       "      <td>2.294882</td>\n",
       "      <td>0.381971</td>\n",
       "      <td>29.881138</td>\n",
       "      <td>0.498854</td>\n",
       "      <td>0.385027</td>\n",
       "      <td>33.295479</td>\n",
       "      <td>160.809917</td>\n",
       "    </tr>\n",
       "    <tr>\n",
       "      <th>std</th>\n",
       "      <td>0.837836</td>\n",
       "      <td>0.486055</td>\n",
       "      <td>14.413493</td>\n",
       "      <td>1.041658</td>\n",
       "      <td>0.865560</td>\n",
       "      <td>51.758668</td>\n",
       "      <td>97.696922</td>\n",
       "    </tr>\n",
       "    <tr>\n",
       "      <th>min</th>\n",
       "      <td>1.000000</td>\n",
       "      <td>0.000000</td>\n",
       "      <td>0.170000</td>\n",
       "      <td>0.000000</td>\n",
       "      <td>0.000000</td>\n",
       "      <td>0.000000</td>\n",
       "      <td>1.000000</td>\n",
       "    </tr>\n",
       "    <tr>\n",
       "      <th>25%</th>\n",
       "      <td>2.000000</td>\n",
       "      <td>0.000000</td>\n",
       "      <td>21.000000</td>\n",
       "      <td>0.000000</td>\n",
       "      <td>0.000000</td>\n",
       "      <td>7.895800</td>\n",
       "      <td>72.000000</td>\n",
       "    </tr>\n",
       "    <tr>\n",
       "      <th>50%</th>\n",
       "      <td>3.000000</td>\n",
       "      <td>0.000000</td>\n",
       "      <td>28.000000</td>\n",
       "      <td>0.000000</td>\n",
       "      <td>0.000000</td>\n",
       "      <td>14.454200</td>\n",
       "      <td>155.000000</td>\n",
       "    </tr>\n",
       "    <tr>\n",
       "      <th>75%</th>\n",
       "      <td>3.000000</td>\n",
       "      <td>1.000000</td>\n",
       "      <td>39.000000</td>\n",
       "      <td>1.000000</td>\n",
       "      <td>0.000000</td>\n",
       "      <td>31.275000</td>\n",
       "      <td>256.000000</td>\n",
       "    </tr>\n",
       "    <tr>\n",
       "      <th>max</th>\n",
       "      <td>3.000000</td>\n",
       "      <td>1.000000</td>\n",
       "      <td>80.000000</td>\n",
       "      <td>8.000000</td>\n",
       "      <td>9.000000</td>\n",
       "      <td>512.329200</td>\n",
       "      <td>328.000000</td>\n",
       "    </tr>\n",
       "  </tbody>\n",
       "</table>\n",
       "</div>"
      ],
      "text/plain": [
       "            pclass     survived          age        sibsp        parch  \\\n",
       "count  1309.000000  1309.000000  1046.000000  1309.000000  1309.000000   \n",
       "mean      2.294882     0.381971    29.881138     0.498854     0.385027   \n",
       "std       0.837836     0.486055    14.413493     1.041658     0.865560   \n",
       "min       1.000000     0.000000     0.170000     0.000000     0.000000   \n",
       "25%       2.000000     0.000000    21.000000     0.000000     0.000000   \n",
       "50%       3.000000     0.000000    28.000000     0.000000     0.000000   \n",
       "75%       3.000000     1.000000    39.000000     1.000000     0.000000   \n",
       "max       3.000000     1.000000    80.000000     8.000000     9.000000   \n",
       "\n",
       "              fare        body  \n",
       "count  1308.000000  121.000000  \n",
       "mean     33.295479  160.809917  \n",
       "std      51.758668   97.696922  \n",
       "min       0.000000    1.000000  \n",
       "25%       7.895800   72.000000  \n",
       "50%      14.454200  155.000000  \n",
       "75%      31.275000  256.000000  \n",
       "max     512.329200  328.000000  "
      ]
     },
     "execution_count": 5,
     "metadata": {},
     "output_type": "execute_result"
    }
   ],
   "source": [
    "train.describe()"
   ]
  },
  {
   "cell_type": "code",
   "execution_count": 6,
   "metadata": {
    "collapsed": true
   },
   "outputs": [],
   "source": [
    "# body is an id assigned to bodies found\n",
    "train.drop('body', axis = 1, inplace = True)"
   ]
  },
  {
   "cell_type": "code",
   "execution_count": 7,
   "metadata": {},
   "outputs": [
    {
     "data": {
      "text/html": [
       "<div>\n",
       "<style>\n",
       "    .dataframe thead tr:only-child th {\n",
       "        text-align: right;\n",
       "    }\n",
       "\n",
       "    .dataframe thead th {\n",
       "        text-align: left;\n",
       "    }\n",
       "\n",
       "    .dataframe tbody tr th {\n",
       "        vertical-align: top;\n",
       "    }\n",
       "</style>\n",
       "<table border=\"1\" class=\"dataframe\">\n",
       "  <thead>\n",
       "    <tr style=\"text-align: right;\">\n",
       "      <th></th>\n",
       "      <th>pclass</th>\n",
       "      <th>survived</th>\n",
       "      <th>name</th>\n",
       "      <th>sex</th>\n",
       "      <th>age</th>\n",
       "      <th>sibsp</th>\n",
       "      <th>parch</th>\n",
       "      <th>ticket</th>\n",
       "      <th>fare</th>\n",
       "      <th>cabin</th>\n",
       "      <th>embarked</th>\n",
       "      <th>boat</th>\n",
       "      <th>home.dest</th>\n",
       "    </tr>\n",
       "  </thead>\n",
       "  <tbody>\n",
       "    <tr>\n",
       "      <th>0</th>\n",
       "      <td>1</td>\n",
       "      <td>1</td>\n",
       "      <td>Allen, Miss. Elisabeth Walton</td>\n",
       "      <td>female</td>\n",
       "      <td>29.00</td>\n",
       "      <td>0</td>\n",
       "      <td>0</td>\n",
       "      <td>24160</td>\n",
       "      <td>211.3375</td>\n",
       "      <td>B5</td>\n",
       "      <td>S</td>\n",
       "      <td>2</td>\n",
       "      <td>St Louis, MO</td>\n",
       "    </tr>\n",
       "    <tr>\n",
       "      <th>1</th>\n",
       "      <td>1</td>\n",
       "      <td>1</td>\n",
       "      <td>Allison, Master. Hudson Trevor</td>\n",
       "      <td>male</td>\n",
       "      <td>0.92</td>\n",
       "      <td>1</td>\n",
       "      <td>2</td>\n",
       "      <td>113781</td>\n",
       "      <td>151.5500</td>\n",
       "      <td>C22 C26</td>\n",
       "      <td>S</td>\n",
       "      <td>11</td>\n",
       "      <td>Montreal, PQ / Chesterville, ON</td>\n",
       "    </tr>\n",
       "    <tr>\n",
       "      <th>2</th>\n",
       "      <td>1</td>\n",
       "      <td>0</td>\n",
       "      <td>Allison, Miss. Helen Loraine</td>\n",
       "      <td>female</td>\n",
       "      <td>2.00</td>\n",
       "      <td>1</td>\n",
       "      <td>2</td>\n",
       "      <td>113781</td>\n",
       "      <td>151.5500</td>\n",
       "      <td>C22 C26</td>\n",
       "      <td>S</td>\n",
       "      <td>NaN</td>\n",
       "      <td>Montreal, PQ / Chesterville, ON</td>\n",
       "    </tr>\n",
       "    <tr>\n",
       "      <th>3</th>\n",
       "      <td>1</td>\n",
       "      <td>0</td>\n",
       "      <td>Allison, Mr. Hudson Joshua Creighton</td>\n",
       "      <td>male</td>\n",
       "      <td>30.00</td>\n",
       "      <td>1</td>\n",
       "      <td>2</td>\n",
       "      <td>113781</td>\n",
       "      <td>151.5500</td>\n",
       "      <td>C22 C26</td>\n",
       "      <td>S</td>\n",
       "      <td>NaN</td>\n",
       "      <td>Montreal, PQ / Chesterville, ON</td>\n",
       "    </tr>\n",
       "    <tr>\n",
       "      <th>4</th>\n",
       "      <td>1</td>\n",
       "      <td>0</td>\n",
       "      <td>Allison, Mrs. Hudson J C (Bessie Waldo Daniels)</td>\n",
       "      <td>female</td>\n",
       "      <td>25.00</td>\n",
       "      <td>1</td>\n",
       "      <td>2</td>\n",
       "      <td>113781</td>\n",
       "      <td>151.5500</td>\n",
       "      <td>C22 C26</td>\n",
       "      <td>S</td>\n",
       "      <td>NaN</td>\n",
       "      <td>Montreal, PQ / Chesterville, ON</td>\n",
       "    </tr>\n",
       "  </tbody>\n",
       "</table>\n",
       "</div>"
      ],
      "text/plain": [
       "   pclass  survived                                             name     sex  \\\n",
       "0       1         1                    Allen, Miss. Elisabeth Walton  female   \n",
       "1       1         1                   Allison, Master. Hudson Trevor    male   \n",
       "2       1         0                     Allison, Miss. Helen Loraine  female   \n",
       "3       1         0             Allison, Mr. Hudson Joshua Creighton    male   \n",
       "4       1         0  Allison, Mrs. Hudson J C (Bessie Waldo Daniels)  female   \n",
       "\n",
       "     age  sibsp  parch  ticket      fare    cabin embarked boat  \\\n",
       "0  29.00      0      0   24160  211.3375       B5        S    2   \n",
       "1   0.92      1      2  113781  151.5500  C22 C26        S   11   \n",
       "2   2.00      1      2  113781  151.5500  C22 C26        S  NaN   \n",
       "3  30.00      1      2  113781  151.5500  C22 C26        S  NaN   \n",
       "4  25.00      1      2  113781  151.5500  C22 C26        S  NaN   \n",
       "\n",
       "                         home.dest  \n",
       "0                     St Louis, MO  \n",
       "1  Montreal, PQ / Chesterville, ON  \n",
       "2  Montreal, PQ / Chesterville, ON  \n",
       "3  Montreal, PQ / Chesterville, ON  \n",
       "4  Montreal, PQ / Chesterville, ON  "
      ]
     },
     "execution_count": 7,
     "metadata": {},
     "output_type": "execute_result"
    }
   ],
   "source": [
    "train.head()"
   ]
  },
  {
   "cell_type": "markdown",
   "metadata": {},
   "source": [
    "# Feature engineering"
   ]
  },
  {
   "cell_type": "code",
   "execution_count": 8,
   "metadata": {
    "collapsed": true
   },
   "outputs": [],
   "source": [
    "cabin_split = train['cabin'].str.split('(\\d+)')\n",
    "\n",
    "# function for extracting letters or numbers\n",
    "\n",
    "def find_info(entry, number = True ):\n",
    "    \n",
    "        numbers = []\n",
    "        \n",
    "        if number is True: \n",
    "            if entry is np.nan:\n",
    "                return np.nan\n",
    "            else:\n",
    "                for item in entry: \n",
    "                    if item.isnumeric():\n",
    "                        numbers.append(float(item))\n",
    "                    else:\n",
    "                        numbers.append(0)\n",
    "            return np.mean(numbers)\n",
    "        \n",
    "        else: \n",
    "            if entry is np.nan:\n",
    "                return \"unknown\"\n",
    "            for item in entry: \n",
    "                if item[0].isalpha():\n",
    "                    return item\n",
    "                "
   ]
  },
  {
   "cell_type": "code",
   "execution_count": 9,
   "metadata": {
    "collapsed": true
   },
   "outputs": [],
   "source": [
    "cabin_number = cabin_split.apply(find_info, number = True)\n",
    "cabin_letter = cabin_split.apply(find_info, number = False)\n",
    "train['cabin_letter'] = (cabin_letter)\n"
   ]
  },
  {
   "cell_type": "code",
   "execution_count": 10,
   "metadata": {
    "collapsed": true
   },
   "outputs": [],
   "source": [
    "check = train['home.dest'].fillna('unknown')"
   ]
  },
  {
   "cell_type": "code",
   "execution_count": 14,
   "metadata": {
    "collapsed": true
   },
   "outputs": [],
   "source": [
    "def encode_column(column):\n",
    "    \n",
    "    le = LabelEncoder()\n",
    "    \n",
    "    # le does not work with nan\n",
    "    column = column.fillna('unknown')\n",
    "    le.fit(column)\n",
    "    column_le = le.transform(column)\n",
    "    \n",
    "    # replace unknown with nan\n",
    "    column_le = column_le.astype('float')\n",
    "    idx = [i for i, value in enumerate(column) if column[i]=='unknown']\n",
    "    column_le[idx] = np.nan\n",
    "    \n",
    "    zip_obj = zip(list(column), column_le)\n",
    "    return column_le, dict(zip_obj)        \n"
   ]
  },
  {
   "cell_type": "code",
   "execution_count": 15,
   "metadata": {
    "collapsed": true
   },
   "outputs": [],
   "source": [
    "train['cabin_letter_le'] = encode_column(cabin_letter)[0]\n",
    "train['cabin_number'] = cabin_number\n",
    "train['home_dest_le'] = encode_column(train['home.dest'])[0]"
   ]
  },
  {
   "cell_type": "code",
   "execution_count": 16,
   "metadata": {
    "collapsed": true
   },
   "outputs": [],
   "source": [
    "train['family'] = train['sibsp'] + train['parch']"
   ]
  },
  {
   "cell_type": "code",
   "execution_count": 17,
   "metadata": {},
   "outputs": [
    {
     "data": {
      "text/plain": [
       "pclass                0\n",
       "survived              0\n",
       "name                  0\n",
       "sex                   0\n",
       "age                 263\n",
       "sibsp                 0\n",
       "parch                 0\n",
       "ticket                0\n",
       "fare                  1\n",
       "cabin              1014\n",
       "embarked              2\n",
       "boat                823\n",
       "home.dest           564\n",
       "cabin_letter          0\n",
       "cabin_letter_le    1014\n",
       "cabin_number       1014\n",
       "home_dest_le        564\n",
       "family                0\n",
       "dtype: int64"
      ]
     },
     "execution_count": 17,
     "metadata": {},
     "output_type": "execute_result"
    }
   ],
   "source": [
    "train.isnull().sum()"
   ]
  },
  {
   "cell_type": "markdown",
   "metadata": {},
   "source": [
    "# Charts"
   ]
  },
  {
   "cell_type": "code",
   "execution_count": 18,
   "metadata": {},
   "outputs": [
    {
     "data": {
      "image/png": "[encoded data removed]",
      "text/plain": [
       "<matplotlib.figure.Figure at 0x7fd922e8b3c8>"
      ]
     },
     "metadata": {},
     "output_type": "display_data"
    },
    {
     "data": {
      "image/png": "[encoded data removed]",
      "text/plain": [
       "<matplotlib.figure.Figure at 0x7fd922d2fac8>"
      ]
     },
     "metadata": {},
     "output_type": "display_data"
    },
    {
     "data": {
      "image/png": "[encoded data removed]",
      "text/plain": [
       "<matplotlib.figure.Figure at 0x7fd91b3d2710>"
      ]
     },
     "metadata": {},
     "output_type": "display_data"
    }
   ],
   "source": [
    "sns.set_style(\"darkgrid\")\n",
    "\n",
    "plt.title(\"Age density\")\n",
    "sns.distplot(train['age'].dropna())\n",
    "plt.xlim(-5,100)\n",
    "plt.show()\n",
    "\n",
    "#fig=plt.figure(figsize=(8, 5), dpi = 150, facecolor='w', edgecolor='k')\n",
    "plt.title(\"Passenger count by gender\")\n",
    "sns.countplot('sex', data = train)\n",
    "plt.show()\n",
    "\n",
    "plt.title(\"Fare density\")\n",
    "sns.distplot(train['fare'].dropna(), bins = 30)\n",
    "plt.xlim(0, 200)\n",
    "plt.show()"
   ]
  },
  {
   "cell_type": "code",
   "execution_count": 19,
   "metadata": {},
   "outputs": [
    {
     "data": {
      "text/plain": [
       "<matplotlib.figure.Figure at 0x7fd922e8fcc0>"
      ]
     },
     "metadata": {},
     "output_type": "display_data"
    },
    {
     "data": {
      "image/png": "[encoded data removed]",
      "text/plain": [
       "<matplotlib.figure.Figure at 0x7fd922e8fe10>"
      ]
     },
     "metadata": {},
     "output_type": "display_data"
    }
   ],
   "source": [
    "fig=plt.figure(figsize=(16, 16), dpi= 300)\n",
    "sns.pairplot(data = train[['age', 'fare', 'cabin_number', 'sex']].dropna(), hue = 'sex')\n",
    "plt.show()"
   ]
  },
  {
   "cell_type": "code",
   "execution_count": 20,
   "metadata": {},
   "outputs": [
    {
     "data": {
      "image/png": "[encoded data removed]",
      "text/plain": [
       "<matplotlib.figure.Figure at 0x7fd91afe5710>"
      ]
     },
     "metadata": {},
     "output_type": "display_data"
    },
    {
     "data": {
      "image/png": "[encoded data removed]",
      "text/plain": [
       "<matplotlib.figure.Figure at 0x7fd91ade78d0>"
      ]
     },
     "metadata": {},
     "output_type": "display_data"
    }
   ],
   "source": [
    "sns.barplot(x = \"cabin_letter\", y = \"survived\", data=train.sort_values('cabin_letter'), \n",
    "            palette = \"muted\", ci = None)\n",
    "plt.title(\"Survival rate by cabin letter\")\n",
    "plt.show()\n",
    "\n",
    "sns.barplot(x = \"cabin_letter\", y = \"fare\", \n",
    "            data=train[train['cabin_letter'].notnull()].sort_values('cabin_letter'), \n",
    "            palette = \"muted\", ci = None, estimator = np.median)\n",
    "plt.title(\"Fare by cabin letter\")\n",
    "plt.show()\n"
   ]
  },
  {
   "cell_type": "code",
   "execution_count": 21,
   "metadata": {},
   "outputs": [
    {
     "data": {
      "image/png": "[encoded data removed]",
      "text/plain": [
       "<matplotlib.figure.Figure at 0x7fd922e2bcf8>"
      ]
     },
     "metadata": {},
     "output_type": "display_data"
    }
   ],
   "source": [
    "#fig=plt.figure(figsize=(8, 5), dpi = 150, facecolor='w', edgecolor='k')\n",
    "plt.title(\"Family size on board\")\n",
    "sns.countplot(train['family'].dropna(), palette='Blues_d')\n",
    "plt.show()"
   ]
  },
  {
   "cell_type": "code",
   "execution_count": 22,
   "metadata": {},
   "outputs": [
    {
     "data": {
      "image/png": "[encoded data removed]",
      "text/plain": [
       "<matplotlib.figure.Figure at 0x7fd91aea1e48>"
      ]
     },
     "metadata": {},
     "output_type": "display_data"
    }
   ],
   "source": [
    "sns.barplot(x = \"family\", y = \"survived\", \n",
    "            data=train, \n",
    "            ci = None)\n",
    "plt.title(\"Family size vs proportion survived\")\n",
    "plt.show()"
   ]
  },
  {
   "cell_type": "markdown",
   "metadata": {},
   "source": [
    "## Missing data"
   ]
  },
  {
   "cell_type": "markdown",
   "metadata": {},
   "source": [
    "Earlier it was evident that there were columns with a numer of values missing, it is worth considering if missing values have an impact on surviving. "
   ]
  },
  {
   "cell_type": "code",
   "execution_count": 23,
   "metadata": {},
   "outputs": [
    {
     "name": "stdout",
     "output_type": "stream",
     "text": [
      "0.4657718120805369\n"
     ]
    },
    {
     "data": {
      "text/plain": [
       "0.2712765957446808"
      ]
     },
     "execution_count": 23,
     "metadata": {},
     "output_type": "execute_result"
    }
   ],
   "source": [
    "print(train[train['home.dest'].notnull()]['survived'].mean())\n",
    "train[train['home.dest'].isnull()]['survived'].mean()"
   ]
  },
  {
   "cell_type": "code",
   "execution_count": 24,
   "metadata": {},
   "outputs": [
    {
     "name": "stdout",
     "output_type": "stream",
     "text": [
      "0.40822179732313574\n"
     ]
    },
    {
     "data": {
      "text/plain": [
       "0.27756653992395436"
      ]
     },
     "execution_count": 24,
     "metadata": {},
     "output_type": "execute_result"
    }
   ],
   "source": [
    "print(train['survived'][train.age.notnull()].mean())\n",
    "train['survived'][train.age.isnull()].mean()"
   ]
  },
  {
   "cell_type": "code",
   "execution_count": 25,
   "metadata": {},
   "outputs": [
    {
     "name": "stdout",
     "output_type": "stream",
     "text": [
      "0.6542372881355932\n"
     ]
    },
    {
     "data": {
      "text/plain": [
       "0.3027613412228797"
      ]
     },
     "execution_count": 25,
     "metadata": {},
     "output_type": "execute_result"
    }
   ],
   "source": [
    "print(train[train.cabin.notnull()]['survived'].mean())\n",
    "train[train.cabin.isnull()]['survived'].mean()"
   ]
  },
  {
   "cell_type": "code",
   "execution_count": 26,
   "metadata": {},
   "outputs": [
    {
     "data": {
      "text/html": [
       "<div>\n",
       "<style>\n",
       "    .dataframe thead tr:only-child th {\n",
       "        text-align: right;\n",
       "    }\n",
       "\n",
       "    .dataframe thead th {\n",
       "        text-align: left;\n",
       "    }\n",
       "\n",
       "    .dataframe tbody tr th {\n",
       "        vertical-align: top;\n",
       "    }\n",
       "</style>\n",
       "<table border=\"1\" class=\"dataframe\">\n",
       "  <thead>\n",
       "    <tr>\n",
       "      <th></th>\n",
       "      <th colspan=\"2\" halign=\"left\">survived</th>\n",
       "      <th colspan=\"2\" halign=\"left\">fare</th>\n",
       "    </tr>\n",
       "    <tr>\n",
       "      <th></th>\n",
       "      <th>mean</th>\n",
       "      <th>count</th>\n",
       "      <th>mean</th>\n",
       "      <th>count</th>\n",
       "    </tr>\n",
       "    <tr>\n",
       "      <th>home.dest</th>\n",
       "      <th></th>\n",
       "      <th></th>\n",
       "      <th></th>\n",
       "      <th></th>\n",
       "    </tr>\n",
       "  </thead>\n",
       "  <tbody>\n",
       "    <tr>\n",
       "      <th>0</th>\n",
       "      <td>0.271277</td>\n",
       "      <td>564</td>\n",
       "      <td>20.785668</td>\n",
       "      <td>564</td>\n",
       "    </tr>\n",
       "    <tr>\n",
       "      <th>New York, NY</th>\n",
       "      <td>0.625000</td>\n",
       "      <td>64</td>\n",
       "      <td>62.976041</td>\n",
       "      <td>64</td>\n",
       "    </tr>\n",
       "    <tr>\n",
       "      <th>London</th>\n",
       "      <td>0.357143</td>\n",
       "      <td>14</td>\n",
       "      <td>20.296429</td>\n",
       "      <td>14</td>\n",
       "    </tr>\n",
       "    <tr>\n",
       "      <th>Montreal, PQ</th>\n",
       "      <td>0.400000</td>\n",
       "      <td>10</td>\n",
       "      <td>117.043740</td>\n",
       "      <td>10</td>\n",
       "    </tr>\n",
       "    <tr>\n",
       "      <th>Cornwall / Akron, OH</th>\n",
       "      <td>0.888889</td>\n",
       "      <td>9</td>\n",
       "      <td>20.305556</td>\n",
       "      <td>9</td>\n",
       "    </tr>\n",
       "    <tr>\n",
       "      <th>Paris, France</th>\n",
       "      <td>0.888889</td>\n",
       "      <td>9</td>\n",
       "      <td>61.556011</td>\n",
       "      <td>9</td>\n",
       "    </tr>\n",
       "    <tr>\n",
       "      <th>Winnipeg, MB</th>\n",
       "      <td>0.500000</td>\n",
       "      <td>8</td>\n",
       "      <td>221.448438</td>\n",
       "      <td>8</td>\n",
       "    </tr>\n",
       "    <tr>\n",
       "      <th>Wiltshire, England Niagara Falls, NY</th>\n",
       "      <td>0.000000</td>\n",
       "      <td>8</td>\n",
       "      <td>46.900000</td>\n",
       "      <td>8</td>\n",
       "    </tr>\n",
       "    <tr>\n",
       "      <th>Philadelphia, PA</th>\n",
       "      <td>0.375000</td>\n",
       "      <td>8</td>\n",
       "      <td>28.779687</td>\n",
       "      <td>8</td>\n",
       "    </tr>\n",
       "    <tr>\n",
       "      <th>Brooklyn, NY</th>\n",
       "      <td>0.714286</td>\n",
       "      <td>7</td>\n",
       "      <td>34.200014</td>\n",
       "      <td>7</td>\n",
       "    </tr>\n",
       "    <tr>\n",
       "      <th>Belfast</th>\n",
       "      <td>0.000000</td>\n",
       "      <td>7</td>\n",
       "      <td>0.000000</td>\n",
       "      <td>7</td>\n",
       "    </tr>\n",
       "    <tr>\n",
       "      <th>Sweden Winnipeg, MN</th>\n",
       "      <td>0.000000</td>\n",
       "      <td>7</td>\n",
       "      <td>31.275000</td>\n",
       "      <td>7</td>\n",
       "    </tr>\n",
       "    <tr>\n",
       "      <th>Somerset / Bernardsville, NJ</th>\n",
       "      <td>0.600000</td>\n",
       "      <td>5</td>\n",
       "      <td>65.000000</td>\n",
       "      <td>5</td>\n",
       "    </tr>\n",
       "    <tr>\n",
       "      <th>Haverford, PA / Cooperstown, NY</th>\n",
       "      <td>0.800000</td>\n",
       "      <td>5</td>\n",
       "      <td>262.375000</td>\n",
       "      <td>5</td>\n",
       "    </tr>\n",
       "    <tr>\n",
       "      <th>Bulgaria Chicago, IL</th>\n",
       "      <td>0.000000</td>\n",
       "      <td>5</td>\n",
       "      <td>7.815800</td>\n",
       "      <td>5</td>\n",
       "    </tr>\n",
       "    <tr>\n",
       "      <th>Rotherfield, Sussex, England Essex Co, MA</th>\n",
       "      <td>0.000000</td>\n",
       "      <td>5</td>\n",
       "      <td>34.375000</td>\n",
       "      <td>5</td>\n",
       "    </tr>\n",
       "    <tr>\n",
       "      <th>Ottawa, ON</th>\n",
       "      <td>0.200000</td>\n",
       "      <td>5</td>\n",
       "      <td>10.118320</td>\n",
       "      <td>5</td>\n",
       "    </tr>\n",
       "    <tr>\n",
       "      <th>Sweden Worcester, MA</th>\n",
       "      <td>0.400000</td>\n",
       "      <td>5</td>\n",
       "      <td>26.669160</td>\n",
       "      <td>5</td>\n",
       "    </tr>\n",
       "    <tr>\n",
       "      <th>Devon, England Wichita, KS</th>\n",
       "      <td>0.750000</td>\n",
       "      <td>4</td>\n",
       "      <td>20.575000</td>\n",
       "      <td>4</td>\n",
       "    </tr>\n",
       "    <tr>\n",
       "      <th>Paris / Montreal, PQ</th>\n",
       "      <td>0.500000</td>\n",
       "      <td>4</td>\n",
       "      <td>31.514600</td>\n",
       "      <td>4</td>\n",
       "    </tr>\n",
       "  </tbody>\n",
       "</table>\n",
       "</div>"
      ],
      "text/plain": [
       "                                           survived              fare      \n",
       "                                               mean count        mean count\n",
       "home.dest                                                                  \n",
       "0                                          0.271277   564   20.785668   564\n",
       "New York, NY                               0.625000    64   62.976041    64\n",
       "London                                     0.357143    14   20.296429    14\n",
       "Montreal, PQ                               0.400000    10  117.043740    10\n",
       "Cornwall / Akron, OH                       0.888889     9   20.305556     9\n",
       "Paris, France                              0.888889     9   61.556011     9\n",
       "Winnipeg, MB                               0.500000     8  221.448438     8\n",
       "Wiltshire, England Niagara Falls, NY       0.000000     8   46.900000     8\n",
       "Philadelphia, PA                           0.375000     8   28.779687     8\n",
       "Brooklyn, NY                               0.714286     7   34.200014     7\n",
       "Belfast                                    0.000000     7    0.000000     7\n",
       "Sweden Winnipeg, MN                        0.000000     7   31.275000     7\n",
       "Somerset / Bernardsville, NJ               0.600000     5   65.000000     5\n",
       "Haverford, PA / Cooperstown, NY            0.800000     5  262.375000     5\n",
       "Bulgaria Chicago, IL                       0.000000     5    7.815800     5\n",
       "Rotherfield, Sussex, England Essex Co, MA  0.000000     5   34.375000     5\n",
       "Ottawa, ON                                 0.200000     5   10.118320     5\n",
       "Sweden Worcester, MA                       0.400000     5   26.669160     5\n",
       "Devon, England Wichita, KS                 0.750000     4   20.575000     4\n",
       "Paris / Montreal, PQ                       0.500000     4   31.514600     4"
      ]
     },
     "execution_count": 26,
     "metadata": {},
     "output_type": "execute_result"
    }
   ],
   "source": [
    "train[['home.dest', 'survived', 'fare']].fillna(0).groupby('home.dest').agg(\n",
    "    ['mean', 'count']).sort_values([('survived', 'count')], ascending=False)[0:20]"
   ]
  },
  {
   "cell_type": "markdown",
   "metadata": {},
   "source": [
    "## Significance testing"
   ]
  },
  {
   "cell_type": "code",
   "execution_count": 27,
   "metadata": {},
   "outputs": [
    {
     "name": "stdout",
     "output_type": "stream",
     "text": [
      "p-value of chi2 independence test: 1.1231092381458419e-12: \n"
     ]
    }
   ],
   "source": [
    "table = np.array(pd.crosstab(train['home.dest'].isnull()*1, train['survived']))\n",
    "print(\"p-value of chi2 independence test: {}: \".format(chi2_contingency(table, correction=True)[1]))"
   ]
  },
  {
   "cell_type": "code",
   "execution_count": 28,
   "metadata": {},
   "outputs": [
    {
     "name": "stdout",
     "output_type": "stream",
     "text": [
      "p-value of chi2 independence test: 0.00012952163336165393: \n"
     ]
    }
   ],
   "source": [
    "table = np.array(pd.crosstab(train['age'].isnull()*1, train['survived']))\n",
    "print(\"p-value of chi2 independence test: {}: \".format(chi2_contingency(table, correction=True)[1]))"
   ]
  },
  {
   "cell_type": "code",
   "execution_count": 29,
   "metadata": {},
   "outputs": [
    {
     "name": "stdout",
     "output_type": "stream",
     "text": [
      "p-value of chi2 independence test: 1.649000705015759e-27: \n"
     ]
    }
   ],
   "source": [
    "table = np.array(pd.crosstab(train['cabin'].isnull()*1, train['survived']))\n",
    "print(\"p-value of chi2 independence test: {}: \".format(chi2_contingency(table, correction=True)[1]))"
   ]
  },
  {
   "cell_type": "code",
   "execution_count": 30,
   "metadata": {},
   "outputs": [
    {
     "data": {
      "text/html": [
       "<table class=\"simpletable\">\n",
       "<caption>Generalized Linear Model Regression Results</caption>\n",
       "<tr>\n",
       "  <th>Dep. Variable:</th>      <td>survived</td>     <th>  No. Observations:  </th>  <td>  1309</td> \n",
       "</tr>\n",
       "<tr>\n",
       "  <th>Model:</th>                 <td>GLM</td>       <th>  Df Residuals:      </th>  <td>  1307</td> \n",
       "</tr>\n",
       "<tr>\n",
       "  <th>Model Family:</th>       <td>Binomial</td>     <th>  Df Model:          </th>  <td>     1</td> \n",
       "</tr>\n",
       "<tr>\n",
       "  <th>Link Function:</th>        <td>logit</td>      <th>  Scale:             </th>    <td>1.0</td>  \n",
       "</tr>\n",
       "<tr>\n",
       "  <th>Method:</th>               <td>IRLS</td>       <th>  Log-Likelihood:    </th> <td> -844.32</td>\n",
       "</tr>\n",
       "<tr>\n",
       "  <th>Date:</th>           <td>Mon, 25 Sep 2017</td> <th>  Deviance:          </th> <td>  1688.6</td>\n",
       "</tr>\n",
       "<tr>\n",
       "  <th>Time:</th>               <td>20:22:23</td>     <th>  Pearson chi2:      </th> <td>1.31e+03</td>\n",
       "</tr>\n",
       "<tr>\n",
       "  <th>No. Iterations:</th>         <td>4</td>        <th>                     </th>     <td> </td>   \n",
       "</tr>\n",
       "</table>\n",
       "<table class=\"simpletable\">\n",
       "<tr>\n",
       "             <td></td>               <th>coef</th>     <th>std err</th>      <th>z</th>      <th>P>|z|</th>  <th>[0.025</th>    <th>0.975]</th>  \n",
       "</tr>\n",
       "<tr>\n",
       "  <th>Intercept</th>              <td>   -0.1371</td> <td>    0.073</td> <td>   -1.867</td> <td> 0.062</td> <td>   -0.281</td> <td>    0.007</td>\n",
       "</tr>\n",
       "<tr>\n",
       "  <th>C(home_dest_null)[T.1]</th> <td>   -0.8510</td> <td>    0.120</td> <td>   -7.101</td> <td> 0.000</td> <td>   -1.086</td> <td>   -0.616</td>\n",
       "</tr>\n",
       "</table>"
      ],
      "text/plain": [
       "<class 'statsmodels.iolib.summary.Summary'>\n",
       "\"\"\"\n",
       "                 Generalized Linear Model Regression Results                  \n",
       "==============================================================================\n",
       "Dep. Variable:               survived   No. Observations:                 1309\n",
       "Model:                            GLM   Df Residuals:                     1307\n",
       "Model Family:                Binomial   Df Model:                            1\n",
       "Link Function:                  logit   Scale:                             1.0\n",
       "Method:                          IRLS   Log-Likelihood:                -844.32\n",
       "Date:                Mon, 25 Sep 2017   Deviance:                       1688.6\n",
       "Time:                        20:22:23   Pearson chi2:                 1.31e+03\n",
       "No. Iterations:                     4                                         \n",
       "==========================================================================================\n",
       "                             coef    std err          z      P>|z|      [0.025      0.975]\n",
       "------------------------------------------------------------------------------------------\n",
       "Intercept                 -0.1371      0.073     -1.867      0.062      -0.281       0.007\n",
       "C(home_dest_null)[T.1]    -0.8510      0.120     -7.101      0.000      -1.086      -0.616\n",
       "==========================================================================================\n",
       "\"\"\""
      ]
     },
     "execution_count": 30,
     "metadata": {},
     "output_type": "execute_result"
    }
   ],
   "source": [
    "train['home_dest_null'] = train['home.dest'].isnull()*1\n",
    "log_model = smf.glm('survived ~ C(home_dest_null)', \n",
    "        data = train, family = sm.families.Binomial()).fit()\n",
    "log_model.summary()"
   ]
  },
  {
   "cell_type": "markdown",
   "metadata": {},
   "source": [
    "Looking at the means of missing data from the columns above, it seems like there is a significant difference between survival rates and if data is missing for a particular iv. Checking with logistic regression p-values and the chisq-test do suggest that have null values do indicate"
   ]
  },
  {
   "cell_type": "markdown",
   "metadata": {},
   "source": [
    "# Preparing data"
   ]
  },
  {
   "cell_type": "code",
   "execution_count": 31,
   "metadata": {},
   "outputs": [
    {
     "data": {
      "text/html": [
       "<div>\n",
       "<style>\n",
       "    .dataframe thead tr:only-child th {\n",
       "        text-align: right;\n",
       "    }\n",
       "\n",
       "    .dataframe thead th {\n",
       "        text-align: left;\n",
       "    }\n",
       "\n",
       "    .dataframe tbody tr th {\n",
       "        vertical-align: top;\n",
       "    }\n",
       "</style>\n",
       "<table border=\"1\" class=\"dataframe\">\n",
       "  <thead>\n",
       "    <tr style=\"text-align: right;\">\n",
       "      <th></th>\n",
       "      <th>age</th>\n",
       "      <th>cabin_letter_le</th>\n",
       "      <th>cabin_number</th>\n",
       "      <th>family</th>\n",
       "      <th>fare</th>\n",
       "      <th>home_dest_le</th>\n",
       "      <th>home_dest_null</th>\n",
       "      <th>parch</th>\n",
       "      <th>pclass</th>\n",
       "      <th>sibsp</th>\n",
       "      <th>survived</th>\n",
       "    </tr>\n",
       "    <tr>\n",
       "      <th>embarked</th>\n",
       "      <th></th>\n",
       "      <th></th>\n",
       "      <th></th>\n",
       "      <th></th>\n",
       "      <th></th>\n",
       "      <th></th>\n",
       "      <th></th>\n",
       "      <th></th>\n",
       "      <th></th>\n",
       "      <th></th>\n",
       "      <th></th>\n",
       "    </tr>\n",
       "  </thead>\n",
       "  <tbody>\n",
       "    <tr>\n",
       "      <th>C</th>\n",
       "      <td>32.332170</td>\n",
       "      <td>2.000000</td>\n",
       "      <td>17.709658</td>\n",
       "      <td>0.770370</td>\n",
       "      <td>62.336267</td>\n",
       "      <td>215.784884</td>\n",
       "      <td>0.362963</td>\n",
       "      <td>0.370370</td>\n",
       "      <td>1.851852</td>\n",
       "      <td>0.400000</td>\n",
       "      <td>0.555556</td>\n",
       "    </tr>\n",
       "    <tr>\n",
       "      <th>Q</th>\n",
       "      <td>28.630000</td>\n",
       "      <td>3.000000</td>\n",
       "      <td>24.866667</td>\n",
       "      <td>0.455285</td>\n",
       "      <td>12.409012</td>\n",
       "      <td>136.648649</td>\n",
       "      <td>0.699187</td>\n",
       "      <td>0.113821</td>\n",
       "      <td>2.894309</td>\n",
       "      <td>0.341463</td>\n",
       "      <td>0.357724</td>\n",
       "    </tr>\n",
       "    <tr>\n",
       "      <th>S</th>\n",
       "      <td>29.245205</td>\n",
       "      <td>2.747059</td>\n",
       "      <td>15.920840</td>\n",
       "      <td>0.977024</td>\n",
       "      <td>27.418824</td>\n",
       "      <td>194.087850</td>\n",
       "      <td>0.414661</td>\n",
       "      <td>0.426696</td>\n",
       "      <td>2.347921</td>\n",
       "      <td>0.550328</td>\n",
       "      <td>0.332604</td>\n",
       "    </tr>\n",
       "  </tbody>\n",
       "</table>\n",
       "</div>"
      ],
      "text/plain": [
       "                age  cabin_letter_le  cabin_number    family       fare  \\\n",
       "embarked                                                                  \n",
       "C         32.332170         2.000000     17.709658  0.770370  62.336267   \n",
       "Q         28.630000         3.000000     24.866667  0.455285  12.409012   \n",
       "S         29.245205         2.747059     15.920840  0.977024  27.418824   \n",
       "\n",
       "          home_dest_le  home_dest_null     parch    pclass     sibsp  survived  \n",
       "embarked                                                                        \n",
       "C           215.784884        0.362963  0.370370  1.851852  0.400000  0.555556  \n",
       "Q           136.648649        0.699187  0.113821  2.894309  0.341463  0.357724  \n",
       "S           194.087850        0.414661  0.426696  2.347921  0.550328  0.332604  "
      ]
     },
     "metadata": {},
     "output_type": "display_data"
    },
    {
     "data": {
      "text/html": [
       "<div>\n",
       "<style>\n",
       "    .dataframe thead tr:only-child th {\n",
       "        text-align: right;\n",
       "    }\n",
       "\n",
       "    .dataframe thead th {\n",
       "        text-align: left;\n",
       "    }\n",
       "\n",
       "    .dataframe tbody tr th {\n",
       "        vertical-align: top;\n",
       "    }\n",
       "</style>\n",
       "<table border=\"1\" class=\"dataframe\">\n",
       "  <thead>\n",
       "    <tr style=\"text-align: right;\">\n",
       "      <th></th>\n",
       "      <th>age</th>\n",
       "      <th>cabin_letter_le</th>\n",
       "      <th>cabin_number</th>\n",
       "      <th>family</th>\n",
       "      <th>fare</th>\n",
       "      <th>home_dest_le</th>\n",
       "      <th>home_dest_null</th>\n",
       "      <th>parch</th>\n",
       "      <th>pclass</th>\n",
       "      <th>sibsp</th>\n",
       "      <th>survived</th>\n",
       "    </tr>\n",
       "    <tr>\n",
       "      <th>sex</th>\n",
       "      <th></th>\n",
       "      <th></th>\n",
       "      <th></th>\n",
       "      <th></th>\n",
       "      <th></th>\n",
       "      <th></th>\n",
       "      <th></th>\n",
       "      <th></th>\n",
       "      <th></th>\n",
       "      <th></th>\n",
       "      <th></th>\n",
       "    </tr>\n",
       "  </thead>\n",
       "  <tbody>\n",
       "    <tr>\n",
       "      <th>female</th>\n",
       "      <td>28.687088</td>\n",
       "      <td>2.510638</td>\n",
       "      <td>16.479230</td>\n",
       "      <td>1.285408</td>\n",
       "      <td>46.198097</td>\n",
       "      <td>200.878472</td>\n",
       "      <td>0.381974</td>\n",
       "      <td>0.633047</td>\n",
       "      <td>2.154506</td>\n",
       "      <td>0.652361</td>\n",
       "      <td>0.727468</td>\n",
       "    </tr>\n",
       "    <tr>\n",
       "      <th>male</th>\n",
       "      <td>30.585228</td>\n",
       "      <td>2.376623</td>\n",
       "      <td>16.985137</td>\n",
       "      <td>0.661922</td>\n",
       "      <td>26.154601</td>\n",
       "      <td>193.037199</td>\n",
       "      <td>0.457888</td>\n",
       "      <td>0.247924</td>\n",
       "      <td>2.372479</td>\n",
       "      <td>0.413998</td>\n",
       "      <td>0.190985</td>\n",
       "    </tr>\n",
       "  </tbody>\n",
       "</table>\n",
       "</div>"
      ],
      "text/plain": [
       "              age  cabin_letter_le  cabin_number    family       fare  \\\n",
       "sex                                                                     \n",
       "female  28.687088         2.510638     16.479230  1.285408  46.198097   \n",
       "male    30.585228         2.376623     16.985137  0.661922  26.154601   \n",
       "\n",
       "        home_dest_le  home_dest_null     parch    pclass     sibsp  survived  \n",
       "sex                                                                           \n",
       "female    200.878472        0.381974  0.633047  2.154506  0.652361  0.727468  \n",
       "male      193.037199        0.457888  0.247924  2.372479  0.413998  0.190985  "
      ]
     },
     "metadata": {},
     "output_type": "display_data"
    }
   ],
   "source": [
    "display(pd.pivot_table(train, index = [\"embarked\"]))\n",
    "display(pd.pivot_table(train, index = [\"sex\"]))"
   ]
  },
  {
   "cell_type": "code",
   "execution_count": 32,
   "metadata": {},
   "outputs": [
    {
     "name": "stderr",
     "output_type": "stream",
     "text": [
      "/home/ryeyoo/anaconda3/lib/python3.6/site-packages/ipykernel_launcher.py:3: SettingWithCopyWarning: \n",
      "A value is trying to be set on a copy of a slice from a DataFrame\n",
      "\n",
      "See the caveats in the documentation: http://pandas.pydata.org/pandas-docs/stable/indexing.html#indexing-view-versus-copy\n",
      "  This is separate from the ipykernel package so we can avoid doing imports until\n",
      "/home/ryeyoo/anaconda3/lib/python3.6/site-packages/ipykernel_launcher.py:4: SettingWithCopyWarning: \n",
      "A value is trying to be set on a copy of a slice from a DataFrame\n",
      "\n",
      "See the caveats in the documentation: http://pandas.pydata.org/pandas-docs/stable/indexing.html#indexing-view-versus-copy\n",
      "  after removing the cwd from sys.path.\n",
      "/home/ryeyoo/anaconda3/lib/python3.6/site-packages/ipykernel_launcher.py:10: SettingWithCopyWarning: \n",
      "A value is trying to be set on a copy of a slice from a DataFrame\n",
      "\n",
      "See the caveats in the documentation: http://pandas.pydata.org/pandas-docs/stable/indexing.html#indexing-view-versus-copy\n",
      "  # Remove the CWD from sys.path while we load stuff.\n",
      "/home/ryeyoo/anaconda3/lib/python3.6/site-packages/ipykernel_launcher.py:11: SettingWithCopyWarning: \n",
      "A value is trying to be set on a copy of a slice from a DataFrame\n",
      "\n",
      "See the caveats in the documentation: http://pandas.pydata.org/pandas-docs/stable/indexing.html#indexing-view-versus-copy\n",
      "  # This is added back by InteractiveShellApp.init_path()\n",
      "/home/ryeyoo/anaconda3/lib/python3.6/site-packages/ipykernel_launcher.py:12: SettingWithCopyWarning: \n",
      "A value is trying to be set on a copy of a slice from a DataFrame\n",
      "\n",
      "See the caveats in the documentation: http://pandas.pydata.org/pandas-docs/stable/indexing.html#indexing-view-versus-copy\n",
      "  if sys.path[0] == '':\n"
     ]
    }
   ],
   "source": [
    "# Convert the male and female groups to integer form\n",
    "\n",
    "train[\"sex\"][train[\"sex\"] == \"male\"] = 0\n",
    "train[\"sex\"][train[\"sex\"] == \"female\"] = 1\n",
    "\n",
    "# Impute the Embarked variable\n",
    "train[\"embarked\"] = train[\"embarked\"].fillna(\"S\")\n",
    "\n",
    "# Convert the Embarked classes to integer form\n",
    "train[\"embarked\"][train[\"embarked\"] == \"S\"] = 0\n",
    "train[\"embarked\"][train[\"embarked\"] == \"C\"] = 1\n",
    "train[\"embarked\"][train[\"embarked\"] == \"Q\"] = 2"
   ]
  },
  {
   "cell_type": "code",
   "execution_count": 33,
   "metadata": {},
   "outputs": [
    {
     "data": {
      "text/html": [
       "<div>\n",
       "<style>\n",
       "    .dataframe thead tr:only-child th {\n",
       "        text-align: right;\n",
       "    }\n",
       "\n",
       "    .dataframe thead th {\n",
       "        text-align: left;\n",
       "    }\n",
       "\n",
       "    .dataframe tbody tr th {\n",
       "        vertical-align: top;\n",
       "    }\n",
       "</style>\n",
       "<table border=\"1\" class=\"dataframe\">\n",
       "  <thead>\n",
       "    <tr style=\"text-align: right;\">\n",
       "      <th></th>\n",
       "      <th>pclass</th>\n",
       "      <th>survived</th>\n",
       "      <th>name</th>\n",
       "      <th>sex</th>\n",
       "      <th>age</th>\n",
       "      <th>sibsp</th>\n",
       "      <th>parch</th>\n",
       "      <th>ticket</th>\n",
       "      <th>fare</th>\n",
       "      <th>cabin</th>\n",
       "      <th>embarked</th>\n",
       "      <th>boat</th>\n",
       "      <th>home.dest</th>\n",
       "      <th>cabin_letter</th>\n",
       "      <th>cabin_letter_le</th>\n",
       "      <th>cabin_number</th>\n",
       "      <th>home_dest_le</th>\n",
       "      <th>family</th>\n",
       "      <th>home_dest_null</th>\n",
       "    </tr>\n",
       "  </thead>\n",
       "  <tbody>\n",
       "    <tr>\n",
       "      <th>0</th>\n",
       "      <td>1</td>\n",
       "      <td>1</td>\n",
       "      <td>Allen, Miss. Elisabeth Walton</td>\n",
       "      <td>1</td>\n",
       "      <td>29.00</td>\n",
       "      <td>0</td>\n",
       "      <td>0</td>\n",
       "      <td>24160</td>\n",
       "      <td>211.3375</td>\n",
       "      <td>B5</td>\n",
       "      <td>0</td>\n",
       "      <td>2</td>\n",
       "      <td>St Louis, MO</td>\n",
       "      <td>B</td>\n",
       "      <td>1.0</td>\n",
       "      <td>1.666667</td>\n",
       "      <td>308.0</td>\n",
       "      <td>0</td>\n",
       "      <td>0</td>\n",
       "    </tr>\n",
       "    <tr>\n",
       "      <th>1</th>\n",
       "      <td>1</td>\n",
       "      <td>1</td>\n",
       "      <td>Allison, Master. Hudson Trevor</td>\n",
       "      <td>0</td>\n",
       "      <td>0.92</td>\n",
       "      <td>1</td>\n",
       "      <td>2</td>\n",
       "      <td>113781</td>\n",
       "      <td>151.5500</td>\n",
       "      <td>C22 C26</td>\n",
       "      <td>0</td>\n",
       "      <td>11</td>\n",
       "      <td>Montreal, PQ / Chesterville, ON</td>\n",
       "      <td>C</td>\n",
       "      <td>2.0</td>\n",
       "      <td>9.600000</td>\n",
       "      <td>230.0</td>\n",
       "      <td>3</td>\n",
       "      <td>0</td>\n",
       "    </tr>\n",
       "    <tr>\n",
       "      <th>2</th>\n",
       "      <td>1</td>\n",
       "      <td>0</td>\n",
       "      <td>Allison, Miss. Helen Loraine</td>\n",
       "      <td>1</td>\n",
       "      <td>2.00</td>\n",
       "      <td>1</td>\n",
       "      <td>2</td>\n",
       "      <td>113781</td>\n",
       "      <td>151.5500</td>\n",
       "      <td>C22 C26</td>\n",
       "      <td>0</td>\n",
       "      <td>NaN</td>\n",
       "      <td>Montreal, PQ / Chesterville, ON</td>\n",
       "      <td>C</td>\n",
       "      <td>2.0</td>\n",
       "      <td>9.600000</td>\n",
       "      <td>230.0</td>\n",
       "      <td>3</td>\n",
       "      <td>0</td>\n",
       "    </tr>\n",
       "    <tr>\n",
       "      <th>3</th>\n",
       "      <td>1</td>\n",
       "      <td>0</td>\n",
       "      <td>Allison, Mr. Hudson Joshua Creighton</td>\n",
       "      <td>0</td>\n",
       "      <td>30.00</td>\n",
       "      <td>1</td>\n",
       "      <td>2</td>\n",
       "      <td>113781</td>\n",
       "      <td>151.5500</td>\n",
       "      <td>C22 C26</td>\n",
       "      <td>0</td>\n",
       "      <td>NaN</td>\n",
       "      <td>Montreal, PQ / Chesterville, ON</td>\n",
       "      <td>C</td>\n",
       "      <td>2.0</td>\n",
       "      <td>9.600000</td>\n",
       "      <td>230.0</td>\n",
       "      <td>3</td>\n",
       "      <td>0</td>\n",
       "    </tr>\n",
       "    <tr>\n",
       "      <th>4</th>\n",
       "      <td>1</td>\n",
       "      <td>0</td>\n",
       "      <td>Allison, Mrs. Hudson J C (Bessie Waldo Daniels)</td>\n",
       "      <td>1</td>\n",
       "      <td>25.00</td>\n",
       "      <td>1</td>\n",
       "      <td>2</td>\n",
       "      <td>113781</td>\n",
       "      <td>151.5500</td>\n",
       "      <td>C22 C26</td>\n",
       "      <td>0</td>\n",
       "      <td>NaN</td>\n",
       "      <td>Montreal, PQ / Chesterville, ON</td>\n",
       "      <td>C</td>\n",
       "      <td>2.0</td>\n",
       "      <td>9.600000</td>\n",
       "      <td>230.0</td>\n",
       "      <td>3</td>\n",
       "      <td>0</td>\n",
       "    </tr>\n",
       "    <tr>\n",
       "      <th>5</th>\n",
       "      <td>1</td>\n",
       "      <td>1</td>\n",
       "      <td>Anderson, Mr. Harry</td>\n",
       "      <td>0</td>\n",
       "      <td>48.00</td>\n",
       "      <td>0</td>\n",
       "      <td>0</td>\n",
       "      <td>19952</td>\n",
       "      <td>26.5500</td>\n",
       "      <td>E12</td>\n",
       "      <td>0</td>\n",
       "      <td>3</td>\n",
       "      <td>New York, NY</td>\n",
       "      <td>E</td>\n",
       "      <td>4.0</td>\n",
       "      <td>4.000000</td>\n",
       "      <td>236.0</td>\n",
       "      <td>0</td>\n",
       "      <td>0</td>\n",
       "    </tr>\n",
       "  </tbody>\n",
       "</table>\n",
       "</div>"
      ],
      "text/plain": [
       "   pclass  survived                                             name sex  \\\n",
       "0       1         1                    Allen, Miss. Elisabeth Walton   1   \n",
       "1       1         1                   Allison, Master. Hudson Trevor   0   \n",
       "2       1         0                     Allison, Miss. Helen Loraine   1   \n",
       "3       1         0             Allison, Mr. Hudson Joshua Creighton   0   \n",
       "4       1         0  Allison, Mrs. Hudson J C (Bessie Waldo Daniels)   1   \n",
       "5       1         1                              Anderson, Mr. Harry   0   \n",
       "\n",
       "     age  sibsp  parch  ticket      fare    cabin embarked boat  \\\n",
       "0  29.00      0      0   24160  211.3375       B5        0    2   \n",
       "1   0.92      1      2  113781  151.5500  C22 C26        0   11   \n",
       "2   2.00      1      2  113781  151.5500  C22 C26        0  NaN   \n",
       "3  30.00      1      2  113781  151.5500  C22 C26        0  NaN   \n",
       "4  25.00      1      2  113781  151.5500  C22 C26        0  NaN   \n",
       "5  48.00      0      0   19952   26.5500      E12        0    3   \n",
       "\n",
       "                         home.dest cabin_letter  cabin_letter_le  \\\n",
       "0                     St Louis, MO            B              1.0   \n",
       "1  Montreal, PQ / Chesterville, ON            C              2.0   \n",
       "2  Montreal, PQ / Chesterville, ON            C              2.0   \n",
       "3  Montreal, PQ / Chesterville, ON            C              2.0   \n",
       "4  Montreal, PQ / Chesterville, ON            C              2.0   \n",
       "5                     New York, NY            E              4.0   \n",
       "\n",
       "   cabin_number  home_dest_le  family  home_dest_null  \n",
       "0      1.666667         308.0       0               0  \n",
       "1      9.600000         230.0       3               0  \n",
       "2      9.600000         230.0       3               0  \n",
       "3      9.600000         230.0       3               0  \n",
       "4      9.600000         230.0       3               0  \n",
       "5      4.000000         236.0       0               0  "
      ]
     },
     "execution_count": 33,
     "metadata": {},
     "output_type": "execute_result"
    }
   ],
   "source": [
    "train.head(6)"
   ]
  },
  {
   "cell_type": "code",
   "execution_count": 34,
   "metadata": {},
   "outputs": [
    {
     "name": "stdout",
     "output_type": "stream",
     "text": [
      "   class_1  class_2  class_3\n",
      "0        1        0        0\n",
      "1        1        0        0\n",
      "2        1        0        0\n",
      "3        1        0        0\n",
      "4        1        0        0\n",
      "5        1        0        0\n"
     ]
    }
   ],
   "source": [
    "dummy_vars = pd.get_dummies(train['pclass'], prefix = \"class\")\n",
    "print(dummy_vars[0:6])"
   ]
  },
  {
   "cell_type": "code",
   "execution_count": 36,
   "metadata": {
    "collapsed": true
   },
   "outputs": [],
   "source": [
    "train_processed = train.join(dummy_vars) "
   ]
  },
  {
   "cell_type": "markdown",
   "metadata": {},
   "source": [
    "Could use pclass over encoded class as different columns, under tree-based algorithms this actually works better."
   ]
  },
  {
   "cell_type": "code",
   "execution_count": 38,
   "metadata": {
    "collapsed": true
   },
   "outputs": [],
   "source": [
    "train_processed = train_processed[train_processed.fare.notnull()]\n",
    "train_processed['sex'] = train_processed['sex'].astype('int')\n",
    "feature_columns_to_use =  [\"age\", \"family\", \"pclass\", 'sex', 'fare', 'cabin_letter_le', 'cabin_number', 'home_dest_le']\n"
   ]
  },
  {
   "cell_type": "code",
   "execution_count": 39,
   "metadata": {},
   "outputs": [
    {
     "name": "stdout",
     "output_type": "stream",
     "text": [
      "<class 'pandas.core.frame.DataFrame'>\n",
      "Int64Index: 1308 entries, 0 to 1308\n",
      "Data columns (total 22 columns):\n",
      "pclass             1308 non-null int64\n",
      "survived           1308 non-null int64\n",
      "name               1308 non-null object\n",
      "sex                1308 non-null int64\n",
      "age                1045 non-null float64\n",
      "sibsp              1308 non-null int64\n",
      "parch              1308 non-null int64\n",
      "ticket             1308 non-null object\n",
      "fare               1308 non-null float64\n",
      "cabin              295 non-null object\n",
      "embarked           1308 non-null object\n",
      "boat               486 non-null object\n",
      "home.dest          745 non-null object\n",
      "cabin_letter       1308 non-null object\n",
      "cabin_letter_le    295 non-null float64\n",
      "cabin_number       295 non-null float64\n",
      "home_dest_le       745 non-null float64\n",
      "family             1308 non-null int64\n",
      "home_dest_null     1308 non-null int64\n",
      "class_1            1308 non-null uint8\n",
      "class_2            1308 non-null uint8\n",
      "class_3            1308 non-null uint8\n",
      "dtypes: float64(5), int64(7), object(7), uint8(3)\n",
      "memory usage: 208.2+ KB\n"
     ]
    }
   ],
   "source": [
    "train_processed.info()"
   ]
  },
  {
   "cell_type": "markdown",
   "metadata": {},
   "source": [
    "## splitting train and test for cv"
   ]
  },
  {
   "cell_type": "code",
   "execution_count": 40,
   "metadata": {
    "collapsed": true
   },
   "outputs": [],
   "source": [
    "train_x, test_x, train_y, test_y = train_test_split(train_processed[feature_columns_to_use], \n",
    "                                                    train_processed['survived'], test_size = .3, random_state = 42)"
   ]
  },
  {
   "cell_type": "code",
   "execution_count": 41,
   "metadata": {},
   "outputs": [
    {
     "name": "stdout",
     "output_type": "stream",
     "text": [
      "(915, 8)\n",
      "(393, 8)\n"
     ]
    }
   ],
   "source": [
    "print(train_x.shape)\n",
    "print(test_x.shape)"
   ]
  },
  {
   "cell_type": "markdown",
   "metadata": {},
   "source": [
    "## Imputation"
   ]
  },
  {
   "cell_type": "markdown",
   "metadata": {},
   "source": [
    "From before it was established that there are significant differences between survival rates for columns with missing data, indicating that data is not missing completely at random. Since the missing data is not the cause of survival, it can be reasonably argued that the null values are missing at random and imputation could be valuable. Fancyimpute provides the MICE function to do this."
   ]
  },
  {
   "cell_type": "code",
   "execution_count": 75,
   "metadata": {},
   "outputs": [
    {
     "name": "stdout",
     "output_type": "stream",
     "text": [
      "[MICE] Completing matrix with shape (915, 8)\n",
      "[MICE] Starting imputation round 1/110, elapsed time 0.001\n",
      "[MICE] Starting imputation round 2/110, elapsed time 0.006\n",
      "[MICE] Starting imputation round 3/110, elapsed time 0.009\n",
      "[MICE] Starting imputation round 4/110, elapsed time 0.011\n",
      "[MICE] Starting imputation round 5/110, elapsed time 0.013\n",
      "[MICE] Starting imputation round 6/110, elapsed time 0.014\n",
      "[MICE] Starting imputation round 7/110, elapsed time 0.016\n",
      "[MICE] Starting imputation round 8/110, elapsed time 0.018\n",
      "[MICE] Starting imputation round 9/110, elapsed time 0.020\n",
      "[MICE] Starting imputation round 10/110, elapsed time 0.021\n",
      "[MICE] Starting imputation round 11/110, elapsed time 0.023\n",
      "[MICE] Starting imputation round 12/110, elapsed time 0.025\n",
      "[MICE] Starting imputation round 13/110, elapsed time 0.027\n",
      "[MICE] Starting imputation round 14/110, elapsed time 0.029\n",
      "[MICE] Starting imputation round 15/110, elapsed time 0.031\n",
      "[MICE] Starting imputation round 16/110, elapsed time 0.033\n",
      "[MICE] Starting imputation round 17/110, elapsed time 0.035\n",
      "[MICE] Starting imputation round 18/110, elapsed time 0.037\n",
      "[MICE] Starting imputation round 19/110, elapsed time 0.039\n",
      "[MICE] Starting imputation round 20/110, elapsed time 0.041\n",
      "[MICE] Starting imputation round 21/110, elapsed time 0.043\n",
      "[MICE] Starting imputation round 22/110, elapsed time 0.045\n",
      "[MICE] Starting imputation round 23/110, elapsed time 0.047\n",
      "[MICE] Starting imputation round 24/110, elapsed time 0.049\n",
      "[MICE] Starting imputation round 25/110, elapsed time 0.051\n",
      "[MICE] Starting imputation round 26/110, elapsed time 0.053\n",
      "[MICE] Starting imputation round 27/110, elapsed time 0.055\n",
      "[MICE] Starting imputation round 28/110, elapsed time 0.057\n",
      "[MICE] Starting imputation round 29/110, elapsed time 0.059\n",
      "[MICE] Starting imputation round 30/110, elapsed time 0.061\n",
      "[MICE] Starting imputation round 31/110, elapsed time 0.063\n",
      "[MICE] Starting imputation round 32/110, elapsed time 0.065\n",
      "[MICE] Starting imputation round 33/110, elapsed time 0.067\n",
      "[MICE] Starting imputation round 34/110, elapsed time 0.069\n",
      "[MICE] Starting imputation round 35/110, elapsed time 0.071\n",
      "[MICE] Starting imputation round 36/110, elapsed time 0.073\n",
      "[MICE] Starting imputation round 37/110, elapsed time 0.075\n",
      "[MICE] Starting imputation round 38/110, elapsed time 0.077\n",
      "[MICE] Starting imputation round 39/110, elapsed time 0.079\n",
      "[MICE] Starting imputation round 40/110, elapsed time 0.081\n",
      "[MICE] Starting imputation round 41/110, elapsed time 0.083\n",
      "[MICE] Starting imputation round 42/110, elapsed time 0.085\n",
      "[MICE] Starting imputation round 43/110, elapsed time 0.087\n",
      "[MICE] Starting imputation round 44/110, elapsed time 0.089\n",
      "[MICE] Starting imputation round 45/110, elapsed time 0.090\n",
      "[MICE] Starting imputation round 46/110, elapsed time 0.092\n",
      "[MICE] Starting imputation round 47/110, elapsed time 0.094\n",
      "[MICE] Starting imputation round 48/110, elapsed time 0.096\n",
      "[MICE] Starting imputation round 49/110, elapsed time 0.098\n",
      "[MICE] Starting imputation round 50/110, elapsed time 0.100\n",
      "[MICE] Starting imputation round 51/110, elapsed time 0.102\n",
      "[MICE] Starting imputation round 52/110, elapsed time 0.103\n",
      "[MICE] Starting imputation round 53/110, elapsed time 0.106\n",
      "[MICE] Starting imputation round 54/110, elapsed time 0.108\n",
      "[MICE] Starting imputation round 55/110, elapsed time 0.110\n",
      "[MICE] Starting imputation round 56/110, elapsed time 0.112\n",
      "[MICE] Starting imputation round 57/110, elapsed time 0.114\n",
      "[MICE] Starting imputation round 58/110, elapsed time 0.115\n",
      "[MICE] Starting imputation round 59/110, elapsed time 0.116\n",
      "[MICE] Starting imputation round 60/110, elapsed time 0.117\n",
      "[MICE] Starting imputation round 61/110, elapsed time 0.119\n",
      "[MICE] Starting imputation round 62/110, elapsed time 0.120\n",
      "[MICE] Starting imputation round 63/110, elapsed time 0.121\n",
      "[MICE] Starting imputation round 64/110, elapsed time 0.123\n",
      "[MICE] Starting imputation round 65/110, elapsed time 0.124\n",
      "[MICE] Starting imputation round 66/110, elapsed time 0.126\n",
      "[MICE] Starting imputation round 67/110, elapsed time 0.128\n",
      "[MICE] Starting imputation round 68/110, elapsed time 0.129\n",
      "[MICE] Starting imputation round 69/110, elapsed time 0.130\n",
      "[MICE] Starting imputation round 70/110, elapsed time 0.131\n",
      "[MICE] Starting imputation round 71/110, elapsed time 0.133\n",
      "[MICE] Starting imputation round 72/110, elapsed time 0.134\n",
      "[MICE] Starting imputation round 73/110, elapsed time 0.135\n",
      "[MICE] Starting imputation round 74/110, elapsed time 0.136\n",
      "[MICE] Starting imputation round 75/110, elapsed time 0.138\n",
      "[MICE] Starting imputation round 76/110, elapsed time 0.139\n",
      "[MICE] Starting imputation round 77/110, elapsed time 0.140\n",
      "[MICE] Starting imputation round 78/110, elapsed time 0.141\n",
      "[MICE] Starting imputation round 79/110, elapsed time 0.143\n",
      "[MICE] Starting imputation round 80/110, elapsed time 0.144\n",
      "[MICE] Starting imputation round 81/110, elapsed time 0.145\n",
      "[MICE] Starting imputation round 82/110, elapsed time 0.147\n",
      "[MICE] Starting imputation round 83/110, elapsed time 0.148\n",
      "[MICE] Starting imputation round 84/110, elapsed time 0.149\n",
      "[MICE] Starting imputation round 85/110, elapsed time 0.150\n",
      "[MICE] Starting imputation round 86/110, elapsed time 0.152\n",
      "[MICE] Starting imputation round 87/110, elapsed time 0.153\n",
      "[MICE] Starting imputation round 88/110, elapsed time 0.154\n",
      "[MICE] Starting imputation round 89/110, elapsed time 0.155\n",
      "[MICE] Starting imputation round 90/110, elapsed time 0.157\n",
      "[MICE] Starting imputation round 91/110, elapsed time 0.158\n",
      "[MICE] Starting imputation round 92/110, elapsed time 0.159\n",
      "[MICE] Starting imputation round 93/110, elapsed time 0.160\n",
      "[MICE] Starting imputation round 94/110, elapsed time 0.162\n",
      "[MICE] Starting imputation round 95/110, elapsed time 0.163\n",
      "[MICE] Starting imputation round 96/110, elapsed time 0.164\n",
      "[MICE] Starting imputation round 97/110, elapsed time 0.165\n",
      "[MICE] Starting imputation round 98/110, elapsed time 0.166\n",
      "[MICE] Starting imputation round 99/110, elapsed time 0.168\n",
      "[MICE] Starting imputation round 100/110, elapsed time 0.169\n",
      "[MICE] Starting imputation round 101/110, elapsed time 0.170\n",
      "[MICE] Starting imputation round 102/110, elapsed time 0.171\n",
      "[MICE] Starting imputation round 103/110, elapsed time 0.173\n",
      "[MICE] Starting imputation round 104/110, elapsed time 0.174\n",
      "[MICE] Starting imputation round 105/110, elapsed time 0.175\n",
      "[MICE] Starting imputation round 106/110, elapsed time 0.176\n",
      "[MICE] Starting imputation round 107/110, elapsed time 0.178\n",
      "[MICE] Starting imputation round 108/110, elapsed time 0.179\n",
      "[MICE] Starting imputation round 109/110, elapsed time 0.180\n",
      "[MICE] Starting imputation round 110/110, elapsed time 0.181\n",
      "[MICE] Completing matrix with shape (393, 8)\n",
      "[MICE] Starting imputation round 1/110, elapsed time 0.000\n",
      "[MICE] Starting imputation round 2/110, elapsed time 0.001\n",
      "[MICE] Starting imputation round 3/110, elapsed time 0.002\n",
      "[MICE] Starting imputation round 4/110, elapsed time 0.003\n",
      "[MICE] Starting imputation round 5/110, elapsed time 0.004\n",
      "[MICE] Starting imputation round 6/110, elapsed time 0.005\n",
      "[MICE] Starting imputation round 7/110, elapsed time 0.006\n",
      "[MICE] Starting imputation round 8/110, elapsed time 0.007\n",
      "[MICE] Starting imputation round 9/110, elapsed time 0.009\n",
      "[MICE] Starting imputation round 10/110, elapsed time 0.010\n",
      "[MICE] Starting imputation round 11/110, elapsed time 0.011\n",
      "[MICE] Starting imputation round 12/110, elapsed time 0.012\n",
      "[MICE] Starting imputation round 13/110, elapsed time 0.014\n",
      "[MICE] Starting imputation round 14/110, elapsed time 0.015\n",
      "[MICE] Starting imputation round 15/110, elapsed time 0.016\n",
      "[MICE] Starting imputation round 16/110, elapsed time 0.018\n",
      "[MICE] Starting imputation round 17/110, elapsed time 0.020\n",
      "[MICE] Starting imputation round 18/110, elapsed time 0.021\n",
      "[MICE] Starting imputation round 19/110, elapsed time 0.022\n",
      "[MICE] Starting imputation round 20/110, elapsed time 0.023\n",
      "[MICE] Starting imputation round 21/110, elapsed time 0.025\n",
      "[MICE] Starting imputation round 22/110, elapsed time 0.026\n",
      "[MICE] Starting imputation round 23/110, elapsed time 0.028\n",
      "[MICE] Starting imputation round 24/110, elapsed time 0.029\n",
      "[MICE] Starting imputation round 25/110, elapsed time 0.030\n",
      "[MICE] Starting imputation round 26/110, elapsed time 0.032\n",
      "[MICE] Starting imputation round 27/110, elapsed time 0.033\n",
      "[MICE] Starting imputation round 28/110, elapsed time 0.035\n",
      "[MICE] Starting imputation round 29/110, elapsed time 0.036\n",
      "[MICE] Starting imputation round 30/110, elapsed time 0.037\n",
      "[MICE] Starting imputation round 31/110, elapsed time 0.039\n",
      "[MICE] Starting imputation round 32/110, elapsed time 0.040\n",
      "[MICE] Starting imputation round 33/110, elapsed time 0.041\n",
      "[MICE] Starting imputation round 34/110, elapsed time 0.042\n",
      "[MICE] Starting imputation round 35/110, elapsed time 0.044\n",
      "[MICE] Starting imputation round 36/110, elapsed time 0.045\n",
      "[MICE] Starting imputation round 37/110, elapsed time 0.046\n",
      "[MICE] Starting imputation round 38/110, elapsed time 0.047\n",
      "[MICE] Starting imputation round 39/110, elapsed time 0.049\n",
      "[MICE] Starting imputation round 40/110, elapsed time 0.050\n",
      "[MICE] Starting imputation round 41/110, elapsed time 0.052\n",
      "[MICE] Starting imputation round 42/110, elapsed time 0.053\n",
      "[MICE] Starting imputation round 43/110, elapsed time 0.054\n",
      "[MICE] Starting imputation round 44/110, elapsed time 0.055\n",
      "[MICE] Starting imputation round 45/110, elapsed time 0.057\n",
      "[MICE] Starting imputation round 46/110, elapsed time 0.060\n",
      "[MICE] Starting imputation round 47/110, elapsed time 0.061\n",
      "[MICE] Starting imputation round 48/110, elapsed time 0.062\n",
      "[MICE] Starting imputation round 49/110, elapsed time 0.063\n",
      "[MICE] Starting imputation round 50/110, elapsed time 0.065\n",
      "[MICE] Starting imputation round 51/110, elapsed time 0.066\n",
      "[MICE] Starting imputation round 52/110, elapsed time 0.067\n",
      "[MICE] Starting imputation round 53/110, elapsed time 0.068\n",
      "[MICE] Starting imputation round 54/110, elapsed time 0.070\n",
      "[MICE] Starting imputation round 55/110, elapsed time 0.071\n",
      "[MICE] Starting imputation round 56/110, elapsed time 0.072\n",
      "[MICE] Starting imputation round 57/110, elapsed time 0.074\n",
      "[MICE] Starting imputation round 58/110, elapsed time 0.075\n",
      "[MICE] Starting imputation round 59/110, elapsed time 0.077\n",
      "[MICE] Starting imputation round 60/110, elapsed time 0.078\n",
      "[MICE] Starting imputation round 61/110, elapsed time 0.081\n",
      "[MICE] Starting imputation round 62/110, elapsed time 0.083\n",
      "[MICE] Starting imputation round 63/110, elapsed time 0.084\n",
      "[MICE] Starting imputation round 64/110, elapsed time 0.085\n",
      "[MICE] Starting imputation round 65/110, elapsed time 0.087\n",
      "[MICE] Starting imputation round 66/110, elapsed time 0.088\n",
      "[MICE] Starting imputation round 67/110, elapsed time 0.089\n",
      "[MICE] Starting imputation round 68/110, elapsed time 0.091\n",
      "[MICE] Starting imputation round 69/110, elapsed time 0.092\n",
      "[MICE] Starting imputation round 70/110, elapsed time 0.094\n",
      "[MICE] Starting imputation round 71/110, elapsed time 0.096\n",
      "[MICE] Starting imputation round 72/110, elapsed time 0.097\n",
      "[MICE] Starting imputation round 73/110, elapsed time 0.099\n",
      "[MICE] Starting imputation round 74/110, elapsed time 0.101\n",
      "[MICE] Starting imputation round 75/110, elapsed time 0.103\n",
      "[MICE] Starting imputation round 76/110, elapsed time 0.104\n",
      "[MICE] Starting imputation round 77/110, elapsed time 0.106\n",
      "[MICE] Starting imputation round 78/110, elapsed time 0.107\n",
      "[MICE] Starting imputation round 79/110, elapsed time 0.108\n",
      "[MICE] Starting imputation round 80/110, elapsed time 0.110\n",
      "[MICE] Starting imputation round 81/110, elapsed time 0.111\n",
      "[MICE] Starting imputation round 82/110, elapsed time 0.112\n",
      "[MICE] Starting imputation round 83/110, elapsed time 0.113\n",
      "[MICE] Starting imputation round 84/110, elapsed time 0.115\n",
      "[MICE] Starting imputation round 85/110, elapsed time 0.116\n",
      "[MICE] Starting imputation round 86/110, elapsed time 0.117\n",
      "[MICE] Starting imputation round 87/110, elapsed time 0.118\n",
      "[MICE] Starting imputation round 88/110, elapsed time 0.120\n",
      "[MICE] Starting imputation round 89/110, elapsed time 0.121\n",
      "[MICE] Starting imputation round 90/110, elapsed time 0.122\n",
      "[MICE] Starting imputation round 91/110, elapsed time 0.123\n",
      "[MICE] Starting imputation round 92/110, elapsed time 0.125\n",
      "[MICE] Starting imputation round 93/110, elapsed time 0.126\n",
      "[MICE] Starting imputation round 94/110, elapsed time 0.127\n",
      "[MICE] Starting imputation round 95/110, elapsed time 0.129\n",
      "[MICE] Starting imputation round 96/110, elapsed time 0.130\n",
      "[MICE] Starting imputation round 97/110, elapsed time 0.133\n",
      "[MICE] Starting imputation round 98/110, elapsed time 0.134\n",
      "[MICE] Starting imputation round 99/110, elapsed time 0.135\n",
      "[MICE] Starting imputation round 100/110, elapsed time 0.136\n",
      "[MICE] Starting imputation round 101/110, elapsed time 0.137\n",
      "[MICE] Starting imputation round 102/110, elapsed time 0.139\n",
      "[MICE] Starting imputation round 103/110, elapsed time 0.140\n",
      "[MICE] Starting imputation round 104/110, elapsed time 0.141\n",
      "[MICE] Starting imputation round 105/110, elapsed time 0.143\n",
      "[MICE] Starting imputation round 106/110, elapsed time 0.145\n",
      "[MICE] Starting imputation round 107/110, elapsed time 0.146\n",
      "[MICE] Starting imputation round 108/110, elapsed time 0.149\n",
      "[MICE] Starting imputation round 109/110, elapsed time 0.150\n",
      "[MICE] Starting imputation round 110/110, elapsed time 0.151\n"
     ]
    }
   ],
   "source": [
    "from fancyimpute import MICE\n",
    "\n",
    "train_x_filled = MICE().complete(train_x.as_matrix())\n",
    "test_x_filled = MICE().complete(test_x.as_matrix())"
   ]
  },
  {
   "cell_type": "markdown",
   "metadata": {},
   "source": [
    "# Models"
   ]
  },
  {
   "cell_type": "markdown",
   "metadata": {},
   "source": [
    "## logistic"
   ]
  },
  {
   "cell_type": "code",
   "execution_count": 44,
   "metadata": {},
   "outputs": [
    {
     "name": "stdout",
     "output_type": "stream",
     "text": [
      "0.8\n"
     ]
    }
   ],
   "source": [
    "model = LogisticRegression()\n",
    "model = model.fit(X = train_x_filled, y = train_y)\n",
    "print(model.score(X = train_x_filled, y = train_y))"
   ]
  },
  {
   "cell_type": "markdown",
   "metadata": {},
   "source": [
    "# random forest"
   ]
  },
  {
   "cell_type": "code",
   "execution_count": 45,
   "metadata": {},
   "outputs": [
    {
     "data": {
      "text/plain": [
       "1.0"
      ]
     },
     "execution_count": 45,
     "metadata": {},
     "output_type": "execute_result"
    }
   ],
   "source": [
    "from sklearn.ensemble import RandomForestClassifier\n",
    "#train[\"Sex\"] = train['Sex'].astype('category')\n",
    "#train[\"Pclass\"] = train['Pclass'].astype('category')\n",
    "#rf_model = RandomForestClassifier().fit(train[['Pclass', 'Sex', 'Parch', 'Fare']], train_y)\n",
    "rf_model = RandomForestClassifier(n_estimators = 500, random_state=42).fit(train_x_filled, train_y)\n",
    "rf_model.score(train_x_filled, train_y)\n",
    "\n",
    "#rf_model.score(train[['Pclass', 'Sex', 'Parch', 'Fare']], train_y)"
   ]
  },
  {
   "cell_type": "markdown",
   "metadata": {},
   "source": [
    "# support vector machines"
   ]
  },
  {
   "cell_type": "code",
   "execution_count": 46,
   "metadata": {},
   "outputs": [
    {
     "data": {
      "text/plain": [
       "0.99890710382513659"
      ]
     },
     "execution_count": 46,
     "metadata": {},
     "output_type": "execute_result"
    }
   ],
   "source": [
    "from sklearn.svm import SVC\n",
    "\n",
    "svm_m = SVC(kernel = \"rbf\", C = 100, probability = True).fit(train_x_filled, train_y)\n",
    "svm_m.score(train_x_filled, train_y)"
   ]
  },
  {
   "cell_type": "markdown",
   "metadata": {},
   "source": [
    "## xgboost (gradient boosted trees)"
   ]
  },
  {
   "cell_type": "code",
   "execution_count": 47,
   "metadata": {},
   "outputs": [
    {
     "data": {
      "text/plain": [
       "0.93442622950819676"
      ]
     },
     "execution_count": 47,
     "metadata": {},
     "output_type": "execute_result"
    }
   ],
   "source": [
    "model_xgb = XGBClassifier(\n",
    "  learning_rate =0.01,\n",
    " n_estimators=1000,\n",
    " max_depth=9,\n",
    " min_child_weight=5,\n",
    " gamma=0.00,\n",
    " subsample=0.9,\n",
    " colsample_bytree=0.8,\n",
    " reg_alpha=0.05,\n",
    " objective= 'binary:logistic',\n",
    " nthread=4,\n",
    " scale_pos_weight=1,\n",
    " seed=27)\n",
    "\n",
    "cvresult = xgb.cv(\n",
    "                  model_xgb.get_xgb_params(), \n",
    "                  xgb.DMatrix(train_x_filled, label=train['survived'].values), \n",
    "                  num_boost_round=model_xgb.get_params()['n_estimators'], \n",
    "                  nfold=3, metrics=['auc','logloss'], \n",
    "                  early_stopping_rounds=50\n",
    "                 )\n",
    "\n",
    "#model_xgb.set_params(n_estimators=cvresult.shape[0])\n",
    "    \n",
    "# fit the algorithm \n",
    "\n",
    "model_xgb.fit(train_x_filled, train_y, eval_metric='logloss')\n",
    "\n",
    "xgb_result1 = model_xgb.fit(train_x_filled, train_y)\n",
    "xgb_result1.score(train_x_filled, train_y)"
   ]
  },
  {
   "cell_type": "code",
   "execution_count": 62,
   "metadata": {},
   "outputs": [
    {
     "data": {
      "text/html": [
       "<div>\n",
       "<style>\n",
       "    .dataframe thead tr:only-child th {\n",
       "        text-align: right;\n",
       "    }\n",
       "\n",
       "    .dataframe thead th {\n",
       "        text-align: left;\n",
       "    }\n",
       "\n",
       "    .dataframe tbody tr th {\n",
       "        vertical-align: top;\n",
       "    }\n",
       "</style>\n",
       "<table border=\"1\" class=\"dataframe\">\n",
       "  <thead>\n",
       "    <tr style=\"text-align: right;\">\n",
       "      <th></th>\n",
       "      <th>test-auc-mean</th>\n",
       "      <th>test-auc-std</th>\n",
       "      <th>test-logloss-mean</th>\n",
       "      <th>test-logloss-std</th>\n",
       "      <th>train-auc-mean</th>\n",
       "      <th>train-auc-std</th>\n",
       "      <th>train-logloss-mean</th>\n",
       "      <th>train-logloss-std</th>\n",
       "    </tr>\n",
       "  </thead>\n",
       "  <tbody>\n",
       "    <tr>\n",
       "      <th>81</th>\n",
       "      <td>0.579509</td>\n",
       "      <td>0.007550</td>\n",
       "      <td>0.678797</td>\n",
       "      <td>0.000946</td>\n",
       "      <td>0.877880</td>\n",
       "      <td>0.010627</td>\n",
       "      <td>0.607404</td>\n",
       "      <td>0.001702</td>\n",
       "    </tr>\n",
       "    <tr>\n",
       "      <th>82</th>\n",
       "      <td>0.580837</td>\n",
       "      <td>0.007903</td>\n",
       "      <td>0.678626</td>\n",
       "      <td>0.001021</td>\n",
       "      <td>0.878193</td>\n",
       "      <td>0.010236</td>\n",
       "      <td>0.606569</td>\n",
       "      <td>0.001754</td>\n",
       "    </tr>\n",
       "  </tbody>\n",
       "</table>\n",
       "</div>"
      ],
      "text/plain": [
       "    test-auc-mean  test-auc-std  test-logloss-mean  test-logloss-std  \\\n",
       "81       0.579509      0.007550           0.678797          0.000946   \n",
       "82       0.580837      0.007903           0.678626          0.001021   \n",
       "\n",
       "    train-auc-mean  train-auc-std  train-logloss-mean  train-logloss-std  \n",
       "81        0.877880       0.010627            0.607404           0.001702  \n",
       "82        0.878193       0.010236            0.606569           0.001754  "
      ]
     },
     "execution_count": 62,
     "metadata": {},
     "output_type": "execute_result"
    }
   ],
   "source": [
    "cvresult.iloc[-3:-1,:]"
   ]
  },
  {
   "cell_type": "markdown",
   "metadata": {},
   "source": [
    "## Tuning xgb"
   ]
  },
  {
   "cell_type": "code",
   "execution_count": 63,
   "metadata": {
    "collapsed": true
   },
   "outputs": [],
   "source": [
    "def modelfit(alg, dtrain, predictors, target, useTrainCV=True, cv_folds=3, early_stopping_rounds=50):\n",
    "    \n",
    "    if useTrainCV:\n",
    "        xgb_param = alg.get_xgb_params()\n",
    "        xgtrain = xgb.DMatrix(dtrain[predictors].values, label=dtrain[target].values)\n",
    "        cvresult = xgb.cv(xgb_param, xgtrain, num_boost_round=alg.get_params()['n_estimators'], nfold=cv_folds,\n",
    "            metrics=['auc','logloss'], early_stopping_rounds=early_stopping_rounds, verbose_eval=False)\n",
    "        alg.set_params(n_estimators=cvresult.shape[0])\n",
    "    \n",
    "    # fit the algorithm \n",
    "    alg.fit(dtrain[predictors], dtrain[target],eval_metric='logloss')\n",
    "        \n",
    "    # predict training set\n",
    "    dtrain_predictions = alg.predict(dtrain[predictors])\n",
    "    dtrain_predprob = alg.predict_proba(dtrain[predictors])[:,1]\n",
    "        \n",
    "    # print model report\n",
    "    print(\"\\nModel Report\")\n",
    "    print(\"Accuracy : {:.4f}\".format(accuracy_score(dtrain[target].values, dtrain_predictions)))\n",
    "    print(\"AUC Score (Train): {:.4f}\".format(roc_auc_score(dtrain[target], dtrain_predprob)))\n",
    "    print(\"logloss :{:.4f}\".format(log_loss(dtrain[target], dtrain_predprob)))\n",
    "    \n",
    "    # plotting feat_imp\n",
    "    feat_imp = pd.Series(alg.booster().get_fscore()).sort_values(ascending=False)\n",
    "    feat_imp.plot(kind='bar', title='Feature Importances')\n",
    "    plt.ylabel('Feature Importance Score')\n",
    "    plt.show()"
   ]
  },
  {
   "cell_type": "code",
   "execution_count": 65,
   "metadata": {},
   "outputs": [
    {
     "name": "stdout",
     "output_type": "stream",
     "text": [
      "\n",
      "Model Report\n",
      "Accuracy : 0.8769\n",
      "AUC Score (Train): 0.9411\n",
      "logloss :0.3219\n"
     ]
    },
    {
     "data": {
      "image/png": "[encoded data removed]",
      "text/plain": [
       "<matplotlib.figure.Figure at 0x7fd91af46a90>"
      ]
     },
     "metadata": {},
     "output_type": "display_data"
    }
   ],
   "source": [
    "model_xgb1 = XGBClassifier(\n",
    " learning_rate =0.01,\n",
    " n_estimators=1000,\n",
    " max_depth=9,\n",
    " min_child_weight=5,\n",
    " gamma=0.00,\n",
    " subsample=0.9,\n",
    " colsample_bytree=0.8,\n",
    " reg_alpha=0.05,\n",
    " objective= 'binary:logistic',\n",
    " nthread=4,\n",
    " scale_pos_weight=1,\n",
    " seed=27)\n",
    "\n",
    "modelfit(model_xgb1, train_processed, feature_columns_to_use, target = 'survived')"
   ]
  },
  {
   "cell_type": "code",
   "execution_count": 66,
   "metadata": {},
   "outputs": [
    {
     "name": "stdout",
     "output_type": "stream",
     "text": [
      "\n",
      "Model Report\n",
      "Accuracy : 0.8777\n",
      "AUC Score (Train): 0.9416\n",
      "logloss :0.3217\n"
     ]
    },
    {
     "data": {
      "image/png": "[encoded data removed]",
      "text/plain": [
       "<matplotlib.figure.Figure at 0x7fd91805b438>"
      ]
     },
     "metadata": {},
     "output_type": "display_data"
    }
   ],
   "source": [
    "model_xgb1 = XGBClassifier(learning_rate =0.01, n_estimators=1000,\n",
    "                             max_depth=9, min_child_weight=5,\n",
    "                             gamma=0.00, subsample=0.9,\n",
    "                             colsample_bytree=0.8, reg_alpha=0.05,\n",
    "                             objective= 'binary:logistic', nthread=4,\n",
    "                             scale_pos_weight=1, seed=27)\n",
    "\n",
    "modelfit(model_xgb1, train_processed, ['age', 'pclass', 'family', 'sex', 'fare', 'cabin_number', 'home_dest_le'], \n",
    "         target = 'survived')"
   ]
  },
  {
   "cell_type": "code",
   "execution_count": 69,
   "metadata": {
    "collapsed": true
   },
   "outputs": [],
   "source": [
    "cv_params = {'min_child_weight':[1,2,3,4,5,6,7,8], 'max_depth':[2,3,4,5,6,7,8,9], \"gamma\":[0,0.001,0.1,0.5,1]}\n",
    "optimized_GBM = GridSearchCV(XGBClassifier(learning_rate =0.01, n_estimators=1000,\n",
    "                             max_depth=4, min_child_weight=6,\n",
    "                             gamma=0.05, subsample=0.9,\n",
    "                             colsample_bytree=0.8, reg_alpha=0.05,\n",
    "                             objective= 'binary:logistic', nthread=4,\n",
    "                             scale_pos_weight=1, seed=27), cv_params, scoring = 'neg_log_loss', cv = 5, n_jobs = 1) "
   ]
  },
  {
   "cell_type": "code",
   "execution_count": 70,
   "metadata": {},
   "outputs": [],
   "source": [
    "xgb_mod = optimized_GBM.fit(train_x[['age', 'pclass', 'family', 'sex', 'fare', 'cabin_number', 'home_dest_le']], train_y)"
   ]
  },
  {
   "cell_type": "code",
   "execution_count": 71,
   "metadata": {},
   "outputs": [
    {
     "name": "stdout",
     "output_type": "stream",
     "text": [
      "-0.430850138812\n",
      "{'gamma': 0.001, 'max_depth': 3, 'min_child_weight': 1}\n"
     ]
    }
   ],
   "source": [
    "print(optimized_GBM.best_score_)\n",
    "print(optimized_GBM.best_params_)"
   ]
  },
  {
   "cell_type": "markdown",
   "metadata": {},
   "source": [
    "# Evaluation"
   ]
  },
  {
   "cell_type": "markdown",
   "metadata": {},
   "source": [
    "## logistic"
   ]
  },
  {
   "cell_type": "code",
   "execution_count": 84,
   "metadata": {},
   "outputs": [
    {
     "name": "stdout",
     "output_type": "stream",
     "text": [
      "auc: 0.76556415044\n",
      "log loss: 0.46980966796114154\n",
      "             precision    recall  f1-score   support\n",
      "\n",
      "          0       0.78      0.89      0.83       230\n",
      "          1       0.80      0.64      0.71       163\n",
      "\n",
      "avg / total       0.79      0.79      0.78       393\n",
      "\n"
     ]
    }
   ],
   "source": [
    "\n",
    "predicted = model.predict(test_x_filled)\n",
    "predicted_prob = model.predict_proba(test_x_filled)\n",
    "\n",
    "#print(metrics.confusion_matrix(train_y, predicted))\n",
    "#print(train_y.astype(float).mean())\n",
    "#print(predicted.astype(int).mean())\n",
    "\n",
    "print(\"auc: \" + str(roc_auc_score(test_y, predicted)))\n",
    "print(\"log loss: {}\".format(log_loss(test_y, predicted_prob)))\n",
    "print(classification_report(test_y, predicted))"
   ]
  },
  {
   "cell_type": "markdown",
   "metadata": {},
   "source": [
    "## random forest"
   ]
  },
  {
   "cell_type": "code",
   "execution_count": 78,
   "metadata": {},
   "outputs": [
    {
     "name": "stdout",
     "output_type": "stream",
     "text": [
      "auc:0.808508935716\n",
      "log loss: 0.4341980676823651\n",
      "             precision    recall  f1-score   support\n",
      "\n",
      "          0       0.82      0.89      0.85       230\n",
      "          1       0.82      0.73      0.77       163\n",
      "\n",
      "avg / total       0.82      0.82      0.82       393\n",
      "\n"
     ]
    }
   ],
   "source": [
    "predicted_rf = rf_model.predict(test_x_filled)\n",
    "predicted_rf_prob = rf_model.predict_proba(test_x_filled)\n",
    "print(\"auc:\" + str(roc_auc_score(test_y, predicted_rf)))\n",
    "print(\"log loss: {}\".format(log_loss(test_y, predicted_rf_prob)))\n",
    "print(classification_report(test_y, predicted_rf))"
   ]
  },
  {
   "cell_type": "markdown",
   "metadata": {},
   "source": [
    "## svm"
   ]
  },
  {
   "cell_type": "code",
   "execution_count": 79,
   "metadata": {},
   "outputs": [
    {
     "name": "stdout",
     "output_type": "stream",
     "text": [
      "auc:0.516591090958\n",
      "log loss: 0.6775613225392298\n",
      "             precision    recall  f1-score   support\n",
      "\n",
      "          0       0.59      0.90      0.72       230\n",
      "          1       0.49      0.13      0.20       163\n",
      "\n",
      "avg / total       0.55      0.58      0.50       393\n",
      "\n"
     ]
    }
   ],
   "source": [
    "predicted_svm = svm_m.predict(test_x_filled)\n",
    "predicted_svm_prob = svm_m.predict_proba(test_x_filled)\n",
    "print(\"auc:\" + str(roc_auc_score(test_y, predicted_svm)))\n",
    "print(\"log loss: {}\".format(log_loss(test_y, predicted_svm_prob)))\n",
    "print(classification_report(test_y, predicted_svm))"
   ]
  },
  {
   "cell_type": "markdown",
   "metadata": {},
   "source": [
    "## xgb"
   ]
  },
  {
   "cell_type": "code",
   "execution_count": 86,
   "metadata": {},
   "outputs": [
    {
     "name": "stdout",
     "output_type": "stream",
     "text": [
      "auc:0.801480394772\n",
      "log loss: 0.45704047464820113\n",
      "             precision    recall  f1-score   support\n",
      "\n",
      "          0       0.81      0.89      0.85       230\n",
      "          1       0.82      0.71      0.76       163\n",
      "\n",
      "avg / total       0.82      0.82      0.81       393\n",
      "\n"
     ]
    }
   ],
   "source": [
    "# with MICE impute\n",
    "predicted_xgb = model_xgb.predict(test_x_filled)\n",
    "predicted_xgb_proba = model_xgb.predict_proba(test_x_filled)\n",
    "print(\"auc:\" + str(roc_auc_score(test_y, predicted_xgb)))\n",
    "print(\"log loss: {}\".format(log_loss(test_y, predicted_xgb_proba)))\n",
    "print(classification_report(test_y, predicted_xgb))"
   ]
  },
  {
   "cell_type": "code",
   "execution_count": 83,
   "metadata": {},
   "outputs": [
    {
     "name": "stdout",
     "output_type": "stream",
     "text": [
      "auc:0.855174713257\n",
      "log loss: 0.32048847915429346\n",
      "             precision    recall  f1-score   support\n",
      "\n",
      "          0       0.85      0.94      0.89       230\n",
      "          1       0.91      0.77      0.83       163\n",
      "\n",
      "avg / total       0.87      0.87      0.87       393\n",
      "\n"
     ]
    }
   ],
   "source": [
    "# standard xgb impute\n",
    "predicted_xgb = model_xgb1.predict(test_x[['age', 'pclass', 'family', 'sex', 'fare', 'cabin_number', 'home_dest_le']])\n",
    "predicted_xgb_proba = model_xgb1.predict_proba(test_x[['age', 'pclass', 'family', 'sex', 'fare', 'cabin_number', 'home_dest_le']])\n",
    "print(\"auc:\" + str(roc_auc_score(test_y, predicted_xgb)))\n",
    "print(\"log loss: {}\".format(log_loss(test_y, predicted_xgb_proba)))\n",
    "print(classification_report(test_y, predicted_xgb))"
   ]
  },
  {
   "cell_type": "markdown",
   "metadata": {},
   "source": [
    "Boosted trees with regularization(xgb) seems to be the best performing, while svm and rf had a high accuracy on the training set it looks like they overfit the training data. Logistic performed above expectations, plus it is easily the most interpretable algorithm."
   ]
  },
  {
   "cell_type": "markdown",
   "metadata": {},
   "source": [
    "# Digging into logistic models"
   ]
  },
  {
   "cell_type": "markdown",
   "metadata": {},
   "source": [
    "## statsmodels logistic instead of sklearn"
   ]
  },
  {
   "cell_type": "code",
   "execution_count": 87,
   "metadata": {},
   "outputs": [
    {
     "name": "stdout",
     "output_type": "stream",
     "text": [
      "Optimization terminated successfully.\n",
      "         Current function value: nan\n",
      "         Iterations 1\n"
     ]
    }
   ],
   "source": [
    "logit = sm.Logit(train_y.astype(float), train_x.astype(float))\n",
    "# fit the model\n",
    "result = logit.fit()\n"
   ]
  },
  {
   "cell_type": "code",
   "execution_count": 88,
   "metadata": {},
   "outputs": [
    {
     "data": {
      "text/html": [
       "<table class=\"simpletable\">\n",
       "<caption>Logit Regression Results</caption>\n",
       "<tr>\n",
       "  <th>Dep. Variable:</th>     <td>survived</td>     <th>  No. Observations:  </th>  <td>   915</td> \n",
       "</tr>\n",
       "<tr>\n",
       "  <th>Model:</th>               <td>Logit</td>      <th>  Df Residuals:      </th>  <td>   915</td> \n",
       "</tr>\n",
       "<tr>\n",
       "  <th>Method:</th>               <td>MLE</td>       <th>  Df Model:          </th>  <td>    -1</td> \n",
       "</tr>\n",
       "<tr>\n",
       "  <th>Date:</th>          <td>Mon, 25 Sep 2017</td> <th>  Pseudo R-squ.:     </th>  <td>   nan</td> \n",
       "</tr>\n",
       "<tr>\n",
       "  <th>Time:</th>              <td>22:17:38</td>     <th>  Log-Likelihood:    </th> <td>     nan</td>\n",
       "</tr>\n",
       "<tr>\n",
       "  <th>converged:</th>           <td>True</td>       <th>  LL-Null:           </th> <td> -602.11</td>\n",
       "</tr>\n",
       "<tr>\n",
       "  <th> </th>                      <td> </td>        <th>  LLR p-value:       </th>  <td>   nan</td> \n",
       "</tr>\n",
       "</table>\n",
       "<table class=\"simpletable\">\n",
       "<tr>\n",
       "         <td></td>            <th>coef</th>     <th>std err</th>      <th>z</th>      <th>P>|z|</th>  <th>[0.025</th>    <th>0.975]</th>  \n",
       "</tr>\n",
       "<tr>\n",
       "  <th>age</th>             <td>       nan</td> <td>      nan</td> <td>      nan</td> <td>   nan</td> <td>      nan</td> <td>      nan</td>\n",
       "</tr>\n",
       "<tr>\n",
       "  <th>family</th>          <td>       nan</td> <td>      nan</td> <td>      nan</td> <td>   nan</td> <td>      nan</td> <td>      nan</td>\n",
       "</tr>\n",
       "<tr>\n",
       "  <th>pclass</th>          <td>       nan</td> <td>      nan</td> <td>      nan</td> <td>   nan</td> <td>      nan</td> <td>      nan</td>\n",
       "</tr>\n",
       "<tr>\n",
       "  <th>sex</th>             <td>       nan</td> <td>      nan</td> <td>      nan</td> <td>   nan</td> <td>      nan</td> <td>      nan</td>\n",
       "</tr>\n",
       "<tr>\n",
       "  <th>fare</th>            <td>       nan</td> <td>      nan</td> <td>      nan</td> <td>   nan</td> <td>      nan</td> <td>      nan</td>\n",
       "</tr>\n",
       "<tr>\n",
       "  <th>cabin_letter_le</th> <td>       nan</td> <td>      nan</td> <td>      nan</td> <td>   nan</td> <td>      nan</td> <td>      nan</td>\n",
       "</tr>\n",
       "<tr>\n",
       "  <th>cabin_number</th>    <td>       nan</td> <td>      nan</td> <td>      nan</td> <td>   nan</td> <td>      nan</td> <td>      nan</td>\n",
       "</tr>\n",
       "<tr>\n",
       "  <th>home_dest_le</th>    <td>       nan</td> <td>      nan</td> <td>      nan</td> <td>   nan</td> <td>      nan</td> <td>      nan</td>\n",
       "</tr>\n",
       "</table>"
      ],
      "text/plain": [
       "<class 'statsmodels.iolib.summary.Summary'>\n",
       "\"\"\"\n",
       "                           Logit Regression Results                           \n",
       "==============================================================================\n",
       "Dep. Variable:               survived   No. Observations:                  915\n",
       "Model:                          Logit   Df Residuals:                      915\n",
       "Method:                           MLE   Df Model:                           -1\n",
       "Date:                Mon, 25 Sep 2017   Pseudo R-squ.:                     nan\n",
       "Time:                        22:17:38   Log-Likelihood:                    nan\n",
       "converged:                       True   LL-Null:                       -602.11\n",
       "                                        LLR p-value:                       nan\n",
       "===================================================================================\n",
       "                      coef    std err          z      P>|z|      [0.025      0.975]\n",
       "-----------------------------------------------------------------------------------\n",
       "age                    nan        nan        nan        nan         nan         nan\n",
       "family                 nan        nan        nan        nan         nan         nan\n",
       "pclass                 nan        nan        nan        nan         nan         nan\n",
       "sex                    nan        nan        nan        nan         nan         nan\n",
       "fare                   nan        nan        nan        nan         nan         nan\n",
       "cabin_letter_le        nan        nan        nan        nan         nan         nan\n",
       "cabin_number           nan        nan        nan        nan         nan         nan\n",
       "home_dest_le           nan        nan        nan        nan         nan         nan\n",
       "===================================================================================\n",
       "\"\"\""
      ]
     },
     "execution_count": 88,
     "metadata": {},
     "output_type": "execute_result"
    }
   ],
   "source": [
    "result.summary()"
   ]
  },
  {
   "cell_type": "code",
   "execution_count": 89,
   "metadata": {},
   "outputs": [
    {
     "data": {
      "text/html": [
       "<table class=\"simpletable\">\n",
       "<caption>Generalized Linear Model Regression Results</caption>\n",
       "<tr>\n",
       "  <th>Dep. Variable:</th>      <td>survived</td>     <th>  No. Observations:  </th>  <td>  1308</td> \n",
       "</tr>\n",
       "<tr>\n",
       "  <th>Model:</th>                 <td>GLM</td>       <th>  Df Residuals:      </th>  <td>  1302</td> \n",
       "</tr>\n",
       "<tr>\n",
       "  <th>Model Family:</th>       <td>Binomial</td>     <th>  Df Model:          </th>  <td>     5</td> \n",
       "</tr>\n",
       "<tr>\n",
       "  <th>Link Function:</th>        <td>logit</td>      <th>  Scale:             </th>    <td>1.0</td>  \n",
       "</tr>\n",
       "<tr>\n",
       "  <th>Method:</th>               <td>IRLS</td>       <th>  Log-Likelihood:    </th> <td> -627.75</td>\n",
       "</tr>\n",
       "<tr>\n",
       "  <th>Date:</th>           <td>Mon, 25 Sep 2017</td> <th>  Deviance:          </th> <td>  1255.5</td>\n",
       "</tr>\n",
       "<tr>\n",
       "  <th>Time:</th>               <td>22:17:39</td>     <th>  Pearson chi2:      </th> <td>1.34e+03</td>\n",
       "</tr>\n",
       "<tr>\n",
       "  <th>No. Iterations:</th>         <td>5</td>        <th>                     </th>     <td> </td>   \n",
       "</tr>\n",
       "</table>\n",
       "<table class=\"simpletable\">\n",
       "<tr>\n",
       "         <td></td>           <th>coef</th>     <th>std err</th>      <th>z</th>      <th>P>|z|</th>  <th>[0.025</th>    <th>0.975]</th>  \n",
       "</tr>\n",
       "<tr>\n",
       "  <th>Intercept</th>      <td>   -0.5051</td> <td>    0.191</td> <td>   -2.651</td> <td> 0.008</td> <td>   -0.879</td> <td>   -0.132</td>\n",
       "</tr>\n",
       "<tr>\n",
       "  <th>C(pclass)[T.2]</th> <td>   -0.7896</td> <td>    0.224</td> <td>   -3.530</td> <td> 0.000</td> <td>   -1.228</td> <td>   -0.351</td>\n",
       "</tr>\n",
       "<tr>\n",
       "  <th>C(pclass)[T.3]</th> <td>   -1.6108</td> <td>    0.210</td> <td>   -7.658</td> <td> 0.000</td> <td>   -2.023</td> <td>   -1.199</td>\n",
       "</tr>\n",
       "<tr>\n",
       "  <th>C(sex)[T.1]</th>    <td>    2.5355</td> <td>    0.151</td> <td>   16.739</td> <td> 0.000</td> <td>    2.239</td> <td>    2.832</td>\n",
       "</tr>\n",
       "<tr>\n",
       "  <th>fare</th>           <td>    0.0016</td> <td>    0.002</td> <td>    0.876</td> <td> 0.381</td> <td>   -0.002</td> <td>    0.005</td>\n",
       "</tr>\n",
       "<tr>\n",
       "  <th>parch</th>          <td>   -0.0886</td> <td>    0.084</td> <td>   -1.055</td> <td> 0.291</td> <td>   -0.253</td> <td>    0.076</td>\n",
       "</tr>\n",
       "</table>"
      ],
      "text/plain": [
       "<class 'statsmodels.iolib.summary.Summary'>\n",
       "\"\"\"\n",
       "                 Generalized Linear Model Regression Results                  \n",
       "==============================================================================\n",
       "Dep. Variable:               survived   No. Observations:                 1308\n",
       "Model:                            GLM   Df Residuals:                     1302\n",
       "Model Family:                Binomial   Df Model:                            5\n",
       "Link Function:                  logit   Scale:                             1.0\n",
       "Method:                          IRLS   Log-Likelihood:                -627.75\n",
       "Date:                Mon, 25 Sep 2017   Deviance:                       1255.5\n",
       "Time:                        22:17:39   Pearson chi2:                 1.34e+03\n",
       "No. Iterations:                     5                                         \n",
       "==================================================================================\n",
       "                     coef    std err          z      P>|z|      [0.025      0.975]\n",
       "----------------------------------------------------------------------------------\n",
       "Intercept         -0.5051      0.191     -2.651      0.008      -0.879      -0.132\n",
       "C(pclass)[T.2]    -0.7896      0.224     -3.530      0.000      -1.228      -0.351\n",
       "C(pclass)[T.3]    -1.6108      0.210     -7.658      0.000      -2.023      -1.199\n",
       "C(sex)[T.1]        2.5355      0.151     16.739      0.000       2.239       2.832\n",
       "fare               0.0016      0.002      0.876      0.381      -0.002       0.005\n",
       "parch             -0.0886      0.084     -1.055      0.291      -0.253       0.076\n",
       "==================================================================================\n",
       "\"\"\""
      ]
     },
     "execution_count": 89,
     "metadata": {},
     "output_type": "execute_result"
    }
   ],
   "source": [
    "log_model = smf.glm('survived ~ C(pclass) + fare + parch + C(sex)', \n",
    "        data = train, family = sm.families.Binomial()).fit()\n",
    "log_model.summary()"
   ]
  },
  {
   "cell_type": "code",
   "execution_count": 90,
   "metadata": {},
   "outputs": [
    {
     "data": {
      "text/plain": [
       "Intercept        -0.505110\n",
       "C(pclass)[T.2]   -0.789616\n",
       "C(pclass)[T.3]   -1.610850\n",
       "C(sex)[T.1]       2.535549\n",
       "fare              0.001562\n",
       "parch            -0.088585\n",
       "dtype: float64"
      ]
     },
     "execution_count": 90,
     "metadata": {},
     "output_type": "execute_result"
    }
   ],
   "source": [
    "log_model.params"
   ]
  },
  {
   "cell_type": "markdown",
   "metadata": {},
   "source": [
    "## Interpreting results\n"
   ]
  },
  {
   "cell_type": "code",
   "execution_count": 91,
   "metadata": {},
   "outputs": [
    {
     "name": "stdout",
     "output_type": "stream",
     "text": [
      "ratio for p(survive) women/men 12.6233609913\n",
      "ratio inc/dec for each parent/child 0.915225138013\n"
     ]
    }
   ],
   "source": [
    "# men labeled 0\n",
    "\n",
    "print(\"ratio for p(survive) women/men \"  + str(np.exp(log_model.params[3])))\n",
    "print(\"ratio inc/dec for each parent/child \" + str(np.exp((log_model.params[5]))))"
   ]
  }
 ],
 "metadata": {
  "anaconda-cloud": {},
  "kernelspec": {
   "display_name": "Python 3",
   "language": "python",
   "name": "python3"
  },
  "language_info": {
   "codemirror_mode": {
    "name": "ipython",
    "version": 3
   },
   "file_extension": ".py",
   "mimetype": "text/x-python",
   "name": "python",
   "nbconvert_exporter": "python",
   "pygments_lexer": "ipython3",
   "version": "3.6.1"
  }
 },
 "nbformat": 4,
 "nbformat_minor": 1
}
