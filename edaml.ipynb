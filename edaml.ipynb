{
 "cells": [
  {
   "cell_type": "markdown",
   "metadata": {},
   "source": [
    "# Importing"
   ]
  },
  {
   "cell_type": "code",
   "execution_count": 1,
   "metadata": {
    "collapsed": false
   },
   "outputs": [],
   "source": [
    "import pandas as pd\n",
    "import numpy as np\n",
    "import os\n",
    "import matplotlib.pyplot as plt\n",
    "import seaborn as sns\n",
    "from IPython.display import display\n",
    "\n",
    "#import xgboost\n",
    "\n",
    "%matplotlib inline"
   ]
  },
  {
   "cell_type": "code",
   "execution_count": 2,
   "metadata": {
    "collapsed": false
   },
   "outputs": [],
   "source": [
    "#train_url = \"http://s3.amazonaws.com/assets.datacamp.com/course/Kaggle/train.csv\"\n",
    "#train = pd.read_csv(\"titanic.txt\", header = 0)\n",
    "\n",
    "#test_url = \"http://s3.amazonaws.com/assets.datacamp.com/course/Kaggle/test.csv\"\n",
    "train = pd.read_csv(\"titanic3.csv\")"
   ]
  },
  {
   "cell_type": "markdown",
   "metadata": {},
   "source": [
    "# Summarizing the data"
   ]
  },
  {
   "cell_type": "code",
   "execution_count": 3,
   "metadata": {
    "collapsed": false
   },
   "outputs": [
    {
     "data": {
      "text/plain": [
       "pclass          0\n",
       "survived        0\n",
       "name            0\n",
       "sex             0\n",
       "age           263\n",
       "sibsp           0\n",
       "parch           0\n",
       "ticket          0\n",
       "fare            1\n",
       "cabin        1014\n",
       "embarked        2\n",
       "boat          823\n",
       "body         1188\n",
       "home.dest     564\n",
       "dtype: int64"
      ]
     },
     "execution_count": 3,
     "metadata": {},
     "output_type": "execute_result"
    }
   ],
   "source": [
    "train.isnull().sum()"
   ]
  },
  {
   "cell_type": "code",
   "execution_count": 4,
   "metadata": {
    "collapsed": false
   },
   "outputs": [
    {
     "name": "stdout",
     "output_type": "stream",
     "text": [
      "<class 'pandas.core.frame.DataFrame'>\n",
      "RangeIndex: 1309 entries, 0 to 1308\n",
      "Data columns (total 14 columns):\n",
      "pclass       1309 non-null int64\n",
      "survived     1309 non-null int64\n",
      "name         1309 non-null object\n",
      "sex          1309 non-null object\n",
      "age          1046 non-null float64\n",
      "sibsp        1309 non-null int64\n",
      "parch        1309 non-null int64\n",
      "ticket       1309 non-null object\n",
      "fare         1308 non-null float64\n",
      "cabin        295 non-null object\n",
      "embarked     1307 non-null object\n",
      "boat         486 non-null object\n",
      "body         121 non-null float64\n",
      "home.dest    745 non-null object\n",
      "dtypes: float64(3), int64(4), object(7)\n",
      "memory usage: 143.2+ KB\n"
     ]
    }
   ],
   "source": [
    "train.info()"
   ]
  },
  {
   "cell_type": "code",
   "execution_count": 5,
   "metadata": {
    "collapsed": false
   },
   "outputs": [
    {
     "data": {
      "text/html": [
       "<div>\n",
       "<table border=\"1\" class=\"dataframe\">\n",
       "  <thead>\n",
       "    <tr style=\"text-align: right;\">\n",
       "      <th></th>\n",
       "      <th>pclass</th>\n",
       "      <th>survived</th>\n",
       "      <th>age</th>\n",
       "      <th>sibsp</th>\n",
       "      <th>parch</th>\n",
       "      <th>fare</th>\n",
       "      <th>body</th>\n",
       "    </tr>\n",
       "  </thead>\n",
       "  <tbody>\n",
       "    <tr>\n",
       "      <th>count</th>\n",
       "      <td>1309.000000</td>\n",
       "      <td>1309.000000</td>\n",
       "      <td>1046.000000</td>\n",
       "      <td>1309.000000</td>\n",
       "      <td>1309.000000</td>\n",
       "      <td>1308.000000</td>\n",
       "      <td>121.000000</td>\n",
       "    </tr>\n",
       "    <tr>\n",
       "      <th>mean</th>\n",
       "      <td>2.294882</td>\n",
       "      <td>0.381971</td>\n",
       "      <td>29.881138</td>\n",
       "      <td>0.498854</td>\n",
       "      <td>0.385027</td>\n",
       "      <td>33.295479</td>\n",
       "      <td>160.809917</td>\n",
       "    </tr>\n",
       "    <tr>\n",
       "      <th>std</th>\n",
       "      <td>0.837836</td>\n",
       "      <td>0.486055</td>\n",
       "      <td>14.413493</td>\n",
       "      <td>1.041658</td>\n",
       "      <td>0.865560</td>\n",
       "      <td>51.758668</td>\n",
       "      <td>97.696922</td>\n",
       "    </tr>\n",
       "    <tr>\n",
       "      <th>min</th>\n",
       "      <td>1.000000</td>\n",
       "      <td>0.000000</td>\n",
       "      <td>0.170000</td>\n",
       "      <td>0.000000</td>\n",
       "      <td>0.000000</td>\n",
       "      <td>0.000000</td>\n",
       "      <td>1.000000</td>\n",
       "    </tr>\n",
       "    <tr>\n",
       "      <th>25%</th>\n",
       "      <td>2.000000</td>\n",
       "      <td>0.000000</td>\n",
       "      <td>21.000000</td>\n",
       "      <td>0.000000</td>\n",
       "      <td>0.000000</td>\n",
       "      <td>7.895800</td>\n",
       "      <td>72.000000</td>\n",
       "    </tr>\n",
       "    <tr>\n",
       "      <th>50%</th>\n",
       "      <td>3.000000</td>\n",
       "      <td>0.000000</td>\n",
       "      <td>28.000000</td>\n",
       "      <td>0.000000</td>\n",
       "      <td>0.000000</td>\n",
       "      <td>14.454200</td>\n",
       "      <td>155.000000</td>\n",
       "    </tr>\n",
       "    <tr>\n",
       "      <th>75%</th>\n",
       "      <td>3.000000</td>\n",
       "      <td>1.000000</td>\n",
       "      <td>39.000000</td>\n",
       "      <td>1.000000</td>\n",
       "      <td>0.000000</td>\n",
       "      <td>31.275000</td>\n",
       "      <td>256.000000</td>\n",
       "    </tr>\n",
       "    <tr>\n",
       "      <th>max</th>\n",
       "      <td>3.000000</td>\n",
       "      <td>1.000000</td>\n",
       "      <td>80.000000</td>\n",
       "      <td>8.000000</td>\n",
       "      <td>9.000000</td>\n",
       "      <td>512.329200</td>\n",
       "      <td>328.000000</td>\n",
       "    </tr>\n",
       "  </tbody>\n",
       "</table>\n",
       "</div>"
      ],
      "text/plain": [
       "            pclass     survived          age        sibsp        parch  \\\n",
       "count  1309.000000  1309.000000  1046.000000  1309.000000  1309.000000   \n",
       "mean      2.294882     0.381971    29.881138     0.498854     0.385027   \n",
       "std       0.837836     0.486055    14.413493     1.041658     0.865560   \n",
       "min       1.000000     0.000000     0.170000     0.000000     0.000000   \n",
       "25%       2.000000     0.000000    21.000000     0.000000     0.000000   \n",
       "50%       3.000000     0.000000    28.000000     0.000000     0.000000   \n",
       "75%       3.000000     1.000000    39.000000     1.000000     0.000000   \n",
       "max       3.000000     1.000000    80.000000     8.000000     9.000000   \n",
       "\n",
       "              fare        body  \n",
       "count  1308.000000  121.000000  \n",
       "mean     33.295479  160.809917  \n",
       "std      51.758668   97.696922  \n",
       "min       0.000000    1.000000  \n",
       "25%       7.895800   72.000000  \n",
       "50%      14.454200  155.000000  \n",
       "75%      31.275000  256.000000  \n",
       "max     512.329200  328.000000  "
      ]
     },
     "execution_count": 5,
     "metadata": {},
     "output_type": "execute_result"
    }
   ],
   "source": [
    "#print(train['SibSp'][train['SibSp'] == 1].count())\n",
    "\n",
    "#print(pd.value_counts(train['Sex']))\n",
    "\n",
    "#train[[\"Age\", \"Sex\"]]\n",
    "\n",
    "train.describe()"
   ]
  },
  {
   "cell_type": "code",
   "execution_count": 6,
   "metadata": {
    "collapsed": false
   },
   "outputs": [],
   "source": [
    "#body is an id assigned to bodies found\n",
    "train.drop('body', axis = 1, inplace = True)"
   ]
  },
  {
   "cell_type": "code",
   "execution_count": 7,
   "metadata": {
    "collapsed": false
   },
   "outputs": [
    {
     "data": {
      "text/html": [
       "<div>\n",
       "<table border=\"1\" class=\"dataframe\">\n",
       "  <thead>\n",
       "    <tr style=\"text-align: right;\">\n",
       "      <th></th>\n",
       "      <th>pclass</th>\n",
       "      <th>survived</th>\n",
       "      <th>name</th>\n",
       "      <th>sex</th>\n",
       "      <th>age</th>\n",
       "      <th>sibsp</th>\n",
       "      <th>parch</th>\n",
       "      <th>ticket</th>\n",
       "      <th>fare</th>\n",
       "      <th>cabin</th>\n",
       "      <th>embarked</th>\n",
       "      <th>boat</th>\n",
       "      <th>home.dest</th>\n",
       "    </tr>\n",
       "  </thead>\n",
       "  <tbody>\n",
       "    <tr>\n",
       "      <th>0</th>\n",
       "      <td>1</td>\n",
       "      <td>1</td>\n",
       "      <td>Allen, Miss. Elisabeth Walton</td>\n",
       "      <td>female</td>\n",
       "      <td>29.00</td>\n",
       "      <td>0</td>\n",
       "      <td>0</td>\n",
       "      <td>24160</td>\n",
       "      <td>211.3375</td>\n",
       "      <td>B5</td>\n",
       "      <td>S</td>\n",
       "      <td>2</td>\n",
       "      <td>St Louis, MO</td>\n",
       "    </tr>\n",
       "    <tr>\n",
       "      <th>1</th>\n",
       "      <td>1</td>\n",
       "      <td>1</td>\n",
       "      <td>Allison, Master. Hudson Trevor</td>\n",
       "      <td>male</td>\n",
       "      <td>0.92</td>\n",
       "      <td>1</td>\n",
       "      <td>2</td>\n",
       "      <td>113781</td>\n",
       "      <td>151.5500</td>\n",
       "      <td>C22 C26</td>\n",
       "      <td>S</td>\n",
       "      <td>11</td>\n",
       "      <td>Montreal, PQ / Chesterville, ON</td>\n",
       "    </tr>\n",
       "    <tr>\n",
       "      <th>2</th>\n",
       "      <td>1</td>\n",
       "      <td>0</td>\n",
       "      <td>Allison, Miss. Helen Loraine</td>\n",
       "      <td>female</td>\n",
       "      <td>2.00</td>\n",
       "      <td>1</td>\n",
       "      <td>2</td>\n",
       "      <td>113781</td>\n",
       "      <td>151.5500</td>\n",
       "      <td>C22 C26</td>\n",
       "      <td>S</td>\n",
       "      <td>NaN</td>\n",
       "      <td>Montreal, PQ / Chesterville, ON</td>\n",
       "    </tr>\n",
       "    <tr>\n",
       "      <th>3</th>\n",
       "      <td>1</td>\n",
       "      <td>0</td>\n",
       "      <td>Allison, Mr. Hudson Joshua Creighton</td>\n",
       "      <td>male</td>\n",
       "      <td>30.00</td>\n",
       "      <td>1</td>\n",
       "      <td>2</td>\n",
       "      <td>113781</td>\n",
       "      <td>151.5500</td>\n",
       "      <td>C22 C26</td>\n",
       "      <td>S</td>\n",
       "      <td>NaN</td>\n",
       "      <td>Montreal, PQ / Chesterville, ON</td>\n",
       "    </tr>\n",
       "    <tr>\n",
       "      <th>4</th>\n",
       "      <td>1</td>\n",
       "      <td>0</td>\n",
       "      <td>Allison, Mrs. Hudson J C (Bessie Waldo Daniels)</td>\n",
       "      <td>female</td>\n",
       "      <td>25.00</td>\n",
       "      <td>1</td>\n",
       "      <td>2</td>\n",
       "      <td>113781</td>\n",
       "      <td>151.5500</td>\n",
       "      <td>C22 C26</td>\n",
       "      <td>S</td>\n",
       "      <td>NaN</td>\n",
       "      <td>Montreal, PQ / Chesterville, ON</td>\n",
       "    </tr>\n",
       "  </tbody>\n",
       "</table>\n",
       "</div>"
      ],
      "text/plain": [
       "   pclass  survived                                             name     sex  \\\n",
       "0       1         1                    Allen, Miss. Elisabeth Walton  female   \n",
       "1       1         1                   Allison, Master. Hudson Trevor    male   \n",
       "2       1         0                     Allison, Miss. Helen Loraine  female   \n",
       "3       1         0             Allison, Mr. Hudson Joshua Creighton    male   \n",
       "4       1         0  Allison, Mrs. Hudson J C (Bessie Waldo Daniels)  female   \n",
       "\n",
       "     age  sibsp  parch  ticket      fare    cabin embarked boat  \\\n",
       "0  29.00      0      0   24160  211.3375       B5        S    2   \n",
       "1   0.92      1      2  113781  151.5500  C22 C26        S   11   \n",
       "2   2.00      1      2  113781  151.5500  C22 C26        S  NaN   \n",
       "3  30.00      1      2  113781  151.5500  C22 C26        S  NaN   \n",
       "4  25.00      1      2  113781  151.5500  C22 C26        S  NaN   \n",
       "\n",
       "                         home.dest  \n",
       "0                     St Louis, MO  \n",
       "1  Montreal, PQ / Chesterville, ON  \n",
       "2  Montreal, PQ / Chesterville, ON  \n",
       "3  Montreal, PQ / Chesterville, ON  \n",
       "4  Montreal, PQ / Chesterville, ON  "
      ]
     },
     "execution_count": 7,
     "metadata": {},
     "output_type": "execute_result"
    }
   ],
   "source": [
    "train.head()"
   ]
  },
  {
   "cell_type": "markdown",
   "metadata": {},
   "source": [
    "# Feature engineering"
   ]
  },
  {
   "cell_type": "code",
   "execution_count": 8,
   "metadata": {
    "collapsed": false
   },
   "outputs": [
    {
     "data": {
      "text/plain": [
       "NaN                1014\n",
       "C23 C25 C27           6\n",
       "B57 B59 B63 B66       5\n",
       "G6                    5\n",
       "F2                    4\n",
       "F4                    4\n",
       "C22 C26               4\n",
       "C78                   4\n",
       "B96 B98               4\n",
       "D                     4\n",
       "F33                   4\n",
       "B51 B53 B55           3\n",
       "E34                   3\n",
       "C101                  3\n",
       "A34                   3\n",
       "B58 B60               3\n",
       "E101                  3\n",
       "C55 C57               2\n",
       "E25                   2\n",
       "E31                   2\n",
       "Name: cabin, dtype: int64"
      ]
     },
     "execution_count": 8,
     "metadata": {},
     "output_type": "execute_result"
    }
   ],
   "source": [
    "\n",
    "pd.value_counts(train['cabin'], dropna = False)[0:20]\n",
    "\n",
    "#pd.value_counts([np.inf, -np.inf, 1, 2, np.nan ], dropna = False)"
   ]
  },
  {
   "cell_type": "code",
   "execution_count": 9,
   "metadata": {
    "collapsed": false
   },
   "outputs": [
    {
     "name": "stdout",
     "output_type": "stream",
     "text": [
      "0         B5\n",
      "1    C22 C26\n",
      "2    C22 C26\n",
      "3    C22 C26\n",
      "4    C22 C26\n",
      "5        E12\n",
      "6         D7\n",
      "7        A36\n",
      "8       C101\n",
      "Name: cabin, dtype: object\n",
      "0             [B, 5, ]\n",
      "1    [C, 22,  C, 26, ]\n",
      "2    [C, 22,  C, 26, ]\n",
      "3    [C, 22,  C, 26, ]\n",
      "4    [C, 22,  C, 26, ]\n",
      "5            [E, 12, ]\n",
      "6             [D, 7, ]\n",
      "7            [A, 36, ]\n",
      "8           [C, 101, ]\n",
      "Name: cabin, dtype: object\n"
     ]
    }
   ],
   "source": [
    "cabin_split = train['cabin'].str.split('(\\d+)')\n",
    "\n",
    "def find_letter(entry) :\n",
    "    \n",
    "        if entry is np.nan:\n",
    "            return \"unknown\"\n",
    "        else: \n",
    "            for item in entry: \n",
    "                if item.isalpha():\n",
    "                    return item\n",
    "                \n",
    "print(train['cabin'][0:9])\n",
    "print(cabin_split[0:9])\n",
    "cabin_letter = cabin_split.apply(find_letter)\n",
    "train['cabin_letter'] = (cabin_letter)"
   ]
  },
  {
   "cell_type": "code",
   "execution_count": 10,
   "metadata": {
    "collapsed": false
   },
   "outputs": [
    {
     "data": {
      "text/plain": [
       "['F E', '46', '']"
      ]
     },
     "execution_count": 10,
     "metadata": {},
     "output_type": "execute_result"
    }
   ],
   "source": [
    "cabin_split2 = train['cabin'].str.split('([0-9]+)')\n",
    "cabin_split2[994]\n"
   ]
  },
  {
   "cell_type": "code",
   "execution_count": 11,
   "metadata": {
    "collapsed": false
   },
   "outputs": [],
   "source": [
    "#function for extracting letters or numbers\n",
    "def find_info(entry, number = True ) :\n",
    "    \n",
    "        numbers = []\n",
    "        \n",
    "        if number is True: \n",
    "            if entry is np.nan:\n",
    "                return 0\n",
    "            else:\n",
    "                for item in entry: \n",
    "                    if item.isnumeric():\n",
    "                        numbers.append(float(item))\n",
    "                    else:\n",
    "                        numbers.append(0)\n",
    "            return np.mean(numbers)\n",
    "        \n",
    "        else: \n",
    "            if entry is np.nan:\n",
    "                return \"u\"\n",
    "            for item in entry: \n",
    "                if item[0].isalpha():\n",
    "                    return item\n",
    "                \n",
    "cabin_number = cabin_split.apply(find_info, number = True)\n",
    "cabin_letter = cabin_split.apply(find_info, number = False)\n",
    "train['cabin_letter'] = (cabin_letter)\n",
    "#print(pd.value_counts(cabin_number, dropna = False))\n",
    "#print(pd.value_counts(cabin_letter, dropna = False))\n",
    "#print(cabin_number[cabin_number.isnull()])\n",
    "#print(train['cabin'][[30, 333, 465,491,568, 569]])\n"
   ]
  },
  {
   "cell_type": "code",
   "execution_count": 12,
   "metadata": {
    "collapsed": false
   },
   "outputs": [],
   "source": [
    "from sklearn.preprocessing import LabelEncoder\n",
    "le = LabelEncoder()\n",
    "le.fit(cabin_letter)\n",
    "#print(le.classes_)\n",
    "cabin_le = le.transform(cabin_letter)\n",
    "#print(cabin_letter[cabin_letter.isnull()])\n",
    "#print(cabin_split.iloc[[605, 873, 940, 941, 994]])\n",
    "#cabin_letter[[605, 873, 940, 941, 994]]\n",
    "#print(cabin_le[0:10])\n",
    "#print(list(cabin_letter[0:10]))\n",
    "zip_obj = zip(list(cabin_letter), cabin_le)\n"
   ]
  },
  {
   "cell_type": "code",
   "execution_count": 13,
   "metadata": {
    "collapsed": false
   },
   "outputs": [
    {
     "data": {
      "text/plain": [
       "{'A': 0,\n",
       " 'B': 1,\n",
       " 'C': 2,\n",
       " 'D': 3,\n",
       " 'E': 4,\n",
       " 'F': 5,\n",
       " 'F E': 6,\n",
       " 'F G': 7,\n",
       " 'G': 8,\n",
       " 'T': 9,\n",
       " 'u': 10}"
      ]
     },
     "execution_count": 13,
     "metadata": {},
     "output_type": "execute_result"
    }
   ],
   "source": [
    "dict(list(zip_obj))"
   ]
  },
  {
   "cell_type": "code",
   "execution_count": 14,
   "metadata": {
    "collapsed": true
   },
   "outputs": [],
   "source": [
    "train['cabin_letter_le'] = cabin_le\n",
    "train['cabin_number'] = cabin_number"
   ]
  },
  {
   "cell_type": "code",
   "execution_count": 15,
   "metadata": {
    "collapsed": false
   },
   "outputs": [],
   "source": [
    "train['family'] = train['sibsp'] + train['parch']"
   ]
  },
  {
   "cell_type": "markdown",
   "metadata": {
    "collapsed": false
   },
   "source": [
    "# Charts"
   ]
  },
  {
   "cell_type": "code",
   "execution_count": 16,
   "metadata": {
    "collapsed": false
   },
   "outputs": [
    {
     "data": {
      "image/png": "[encoded data removed]",
      "text/plain": [
       "<matplotlib.figure.Figure at 0x7fcd51c71dd8>"
      ]
     },
     "metadata": {},
     "output_type": "display_data"
    },
    {
     "data": {
      "image/png": "[encoded data removed]",
      "text/plain": [
       "<matplotlib.figure.Figure at 0x7fcd4f8d09e8>"
      ]
     },
     "metadata": {},
     "output_type": "display_data"
    },
    {
     "data": {
      "image/png": "[encoded data removed]",
      "text/plain": [
       "<matplotlib.figure.Figure at 0x7fcd4f892128>"
      ]
     },
     "metadata": {},
     "output_type": "display_data"
    }
   ],
   "source": [
    "from pylab import rcParams\n",
    "rcParams.update({'font.size' : 20, 'legend.fontsize' : \"small\", \n",
    "                 \"xtick.labelsize\" : 20, \"ytick.labelsize\" : 20, \n",
    "                 \"figure.figsize\":(9, 6), \"axes.titlesize\" : 30,\n",
    "                 \"axes.labelsize\" : 20, \"lines.linewidth\" : 3, \n",
    "                 \"lines.markersize\" : 10\n",
    "})\n",
    "sns.set_style(\"darkgrid\")\n",
    "\n",
    "#fig=plt.figure(figsize=(8, 8), dpi= 150)\n",
    "plt.title(\"Age\")\n",
    "sns.distplot(train['age'].dropna())\n",
    "plt.show()\n",
    "\n",
    "#fig=plt.figure(figsize=(8, 5), dpi = 150, facecolor='w', edgecolor='k')\n",
    "sns.countplot('sex', data = train, hue = 'sex')\n",
    "plt.show()\n",
    "\n",
    "fare_plot = sns.distplot(train['fare'].dropna(), bins = 30)\n",
    "fare_plot.set_xlim([0, 200])\n",
    "plt.show()"
   ]
  },
  {
   "cell_type": "code",
   "execution_count": 17,
   "metadata": {
    "collapsed": false
   },
   "outputs": [
    {
     "data": {
      "text/plain": [
       "<seaborn.axisgrid.PairGrid at 0x7fcd4f8d09b0>"
      ]
     },
     "execution_count": 17,
     "metadata": {},
     "output_type": "execute_result"
    },
    {
     "data": {
      "image/png": "[encoded data removed]",
      "text/plain": [
       "<matplotlib.figure.Figure at 0x7fcd4f8e1cf8>"
      ]
     },
     "metadata": {},
     "output_type": "display_data"
    }
   ],
   "source": [
    "#fig=plt.figure(figsize=(16, 16), dpi= 300)\n",
    "sns.pairplot(data = train[['age', 'fare', 'cabin_number', 'sex']].dropna(), hue = 'sex')"
   ]
  },
  {
   "cell_type": "code",
   "execution_count": 18,
   "metadata": {
    "collapsed": false
   },
   "outputs": [
    {
     "data": {
      "image/png": "[encoded data removed]",
      "text/plain": [
       "<matplotlib.figure.Figure at 0x7fcd4f3d9668>"
      ]
     },
     "metadata": {},
     "output_type": "display_data"
    },
    {
     "data": {
      "image/png": "[encoded data removed]",
      "text/plain": [
       "<matplotlib.figure.Figure at 0x7fcd4dace668>"
      ]
     },
     "metadata": {},
     "output_type": "display_data"
    },
    {
     "data": {
      "text/plain": [
       "<matplotlib.axes._subplots.AxesSubplot at 0x7fcd4da42be0>"
      ]
     },
     "execution_count": 18,
     "metadata": {},
     "output_type": "execute_result"
    },
    {
     "data": {
      "image/png": "[encoded data removed]",
      "text/plain": [
       "<matplotlib.figure.Figure at 0x7fcd4d9e15c0>"
      ]
     },
     "metadata": {},
     "output_type": "display_data"
    }
   ],
   "source": [
    "\n",
    "sns.barplot(x = \"cabin_letter\", y = \"survived\", data=train.sort_values('cabin_letter'), \n",
    "            ci = None)\n",
    "plt.show()\n",
    "\n",
    "sns.barplot(x = \"cabin_letter\", y = \"fare\", \n",
    "            data=train[train['cabin_letter'].notnull()].sort_values('cabin_letter'), \n",
    "            ci = None, estimator = np.median)\n",
    "plt.show()\n",
    "\n",
    "sns.barplot(x = \"cabin_letter\", y = \"fare\", \n",
    "            data=train[train['cabin_letter'].notnull()].sort_values('cabin_letter'), \n",
    "            ci = None)\n"
   ]
  },
  {
   "cell_type": "code",
   "execution_count": 19,
   "metadata": {
    "collapsed": false
   },
   "outputs": [
    {
     "data": {
      "image/png": "[encoded data removed]",
      "text/plain": [
       "<matplotlib.figure.Figure at 0x7fcd4f32bb70>"
      ]
     },
     "metadata": {},
     "output_type": "display_data"
    }
   ],
   "source": [
    "\n",
    "#fig=plt.figure(figsize=(8, 5), dpi = 150, facecolor='w', edgecolor='k')\n",
    "plt.title(\"Siblings & Spouses On Board\")\n",
    "sns.countplot(train['sibsp'].dropna())\n",
    "plt.show()\n"
   ]
  },
  {
   "cell_type": "code",
   "execution_count": 20,
   "metadata": {
    "collapsed": false
   },
   "outputs": [
    {
     "data": {
      "image/png": "[encoded data removed]",
      "text/plain": [
       "<matplotlib.figure.Figure at 0x7fcd4d8ea438>"
      ]
     },
     "metadata": {},
     "output_type": "display_data"
    }
   ],
   "source": [
    "#fig=plt.figure(figsize=(8, 5), dpi = 150, facecolor='w', edgecolor='k')\n",
    "plt.title(\"Parents & Children On Board\")\n",
    "sns.countplot(train['parch'].dropna())\n",
    "plt.show()"
   ]
  },
  {
   "cell_type": "markdown",
   "metadata": {},
   "source": [
    "# Preparing data"
   ]
  },
  {
   "cell_type": "code",
   "execution_count": 21,
   "metadata": {
    "collapsed": false
   },
   "outputs": [
    {
     "data": {
      "text/html": [
       "<div>\n",
       "<table border=\"1\" class=\"dataframe\">\n",
       "  <thead>\n",
       "    <tr style=\"text-align: right;\">\n",
       "      <th></th>\n",
       "      <th>age</th>\n",
       "      <th>cabin_letter_le</th>\n",
       "      <th>cabin_number</th>\n",
       "      <th>family</th>\n",
       "      <th>fare</th>\n",
       "      <th>parch</th>\n",
       "      <th>pclass</th>\n",
       "      <th>sibsp</th>\n",
       "      <th>survived</th>\n",
       "    </tr>\n",
       "    <tr>\n",
       "      <th>embarked</th>\n",
       "      <th></th>\n",
       "      <th></th>\n",
       "      <th></th>\n",
       "      <th></th>\n",
       "      <th></th>\n",
       "      <th></th>\n",
       "      <th></th>\n",
       "      <th></th>\n",
       "      <th></th>\n",
       "    </tr>\n",
       "  </thead>\n",
       "  <tbody>\n",
       "    <tr>\n",
       "      <th>C</th>\n",
       "      <td>32.332170</td>\n",
       "      <td>6.503704</td>\n",
       "      <td>7.739777</td>\n",
       "      <td>0.770370</td>\n",
       "      <td>62.336267</td>\n",
       "      <td>0.370370</td>\n",
       "      <td>1.851852</td>\n",
       "      <td>0.400000</td>\n",
       "      <td>0.555556</td>\n",
       "    </tr>\n",
       "    <tr>\n",
       "      <th>Q</th>\n",
       "      <td>28.630000</td>\n",
       "      <td>9.715447</td>\n",
       "      <td>1.010840</td>\n",
       "      <td>0.455285</td>\n",
       "      <td>12.409012</td>\n",
       "      <td>0.113821</td>\n",
       "      <td>2.894309</td>\n",
       "      <td>0.341463</td>\n",
       "      <td>0.357724</td>\n",
       "    </tr>\n",
       "    <tr>\n",
       "      <th>S</th>\n",
       "      <td>29.245205</td>\n",
       "      <td>8.650985</td>\n",
       "      <td>2.961207</td>\n",
       "      <td>0.977024</td>\n",
       "      <td>27.418824</td>\n",
       "      <td>0.426696</td>\n",
       "      <td>2.347921</td>\n",
       "      <td>0.550328</td>\n",
       "      <td>0.332604</td>\n",
       "    </tr>\n",
       "  </tbody>\n",
       "</table>\n",
       "</div>"
      ],
      "text/plain": [
       "                age  cabin_letter_le  cabin_number    family       fare  \\\n",
       "embarked                                                                  \n",
       "C         32.332170         6.503704      7.739777  0.770370  62.336267   \n",
       "Q         28.630000         9.715447      1.010840  0.455285  12.409012   \n",
       "S         29.245205         8.650985      2.961207  0.977024  27.418824   \n",
       "\n",
       "             parch    pclass     sibsp  survived  \n",
       "embarked                                          \n",
       "C         0.370370  1.851852  0.400000  0.555556  \n",
       "Q         0.113821  2.894309  0.341463  0.357724  \n",
       "S         0.426696  2.347921  0.550328  0.332604  "
      ]
     },
     "metadata": {},
     "output_type": "display_data"
    },
    {
     "data": {
      "text/html": [
       "<div>\n",
       "<table border=\"1\" class=\"dataframe\">\n",
       "  <thead>\n",
       "    <tr style=\"text-align: right;\">\n",
       "      <th></th>\n",
       "      <th>age</th>\n",
       "      <th>cabin_letter_le</th>\n",
       "      <th>cabin_number</th>\n",
       "      <th>family</th>\n",
       "      <th>fare</th>\n",
       "      <th>parch</th>\n",
       "      <th>pclass</th>\n",
       "      <th>sibsp</th>\n",
       "      <th>survived</th>\n",
       "    </tr>\n",
       "    <tr>\n",
       "      <th>sex</th>\n",
       "      <th></th>\n",
       "      <th></th>\n",
       "      <th></th>\n",
       "      <th></th>\n",
       "      <th></th>\n",
       "      <th></th>\n",
       "      <th></th>\n",
       "      <th></th>\n",
       "      <th></th>\n",
       "    </tr>\n",
       "  </thead>\n",
       "  <tbody>\n",
       "    <tr>\n",
       "      <th>female</th>\n",
       "      <td>28.687088</td>\n",
       "      <td>7.733906</td>\n",
       "      <td>4.986205</td>\n",
       "      <td>1.285408</td>\n",
       "      <td>46.198097</td>\n",
       "      <td>0.633047</td>\n",
       "      <td>2.154506</td>\n",
       "      <td>0.652361</td>\n",
       "      <td>0.727468</td>\n",
       "    </tr>\n",
       "    <tr>\n",
       "      <th>male</th>\n",
       "      <td>30.585228</td>\n",
       "      <td>8.607355</td>\n",
       "      <td>3.102860</td>\n",
       "      <td>0.661922</td>\n",
       "      <td>26.154601</td>\n",
       "      <td>0.247924</td>\n",
       "      <td>2.372479</td>\n",
       "      <td>0.413998</td>\n",
       "      <td>0.190985</td>\n",
       "    </tr>\n",
       "  </tbody>\n",
       "</table>\n",
       "</div>"
      ],
      "text/plain": [
       "              age  cabin_letter_le  cabin_number    family       fare  \\\n",
       "sex                                                                     \n",
       "female  28.687088         7.733906      4.986205  1.285408  46.198097   \n",
       "male    30.585228         8.607355      3.102860  0.661922  26.154601   \n",
       "\n",
       "           parch    pclass     sibsp  survived  \n",
       "sex                                             \n",
       "female  0.633047  2.154506  0.652361  0.727468  \n",
       "male    0.247924  2.372479  0.413998  0.190985  "
      ]
     },
     "metadata": {},
     "output_type": "display_data"
    }
   ],
   "source": [
    "#display(pd.pivot_table(train, index = [\"Sex\", \"Pclass\", \"Embarked\", \"Survived\"], aggfunc = len))\n",
    "\n",
    "#display(pd.pivot_table(train, index = [\"Sex\", \"Pclass\", \"Embarked\"]))\n",
    "\n",
    "#display(pd.pivot_table(train, index = [\"embarked\", \"pclass\"]))\n",
    "\n",
    "display(pd.pivot_table(train, index = [\"embarked\"]))\n",
    "\n",
    "display(pd.pivot_table(train, index = [\"sex\"]))"
   ]
  },
  {
   "cell_type": "code",
   "execution_count": 22,
   "metadata": {
    "collapsed": false
   },
   "outputs": [
    {
     "name": "stderr",
     "output_type": "stream",
     "text": [
      "/home/ey/miniconda3/lib/python3.5/site-packages/ipykernel/__main__.py:4: SettingWithCopyWarning: \n",
      "A value is trying to be set on a copy of a slice from a DataFrame\n",
      "\n",
      "See the caveats in the documentation: http://pandas.pydata.org/pandas-docs/stable/indexing.html#indexing-view-versus-copy\n",
      "/home/ey/miniconda3/lib/python3.5/site-packages/ipykernel/__main__.py:5: SettingWithCopyWarning: \n",
      "A value is trying to be set on a copy of a slice from a DataFrame\n",
      "\n",
      "See the caveats in the documentation: http://pandas.pydata.org/pandas-docs/stable/indexing.html#indexing-view-versus-copy\n",
      "/home/ey/miniconda3/lib/python3.5/site-packages/ipykernel/__main__.py:10: SettingWithCopyWarning: \n",
      "A value is trying to be set on a copy of a slice from a DataFrame\n",
      "\n",
      "See the caveats in the documentation: http://pandas.pydata.org/pandas-docs/stable/indexing.html#indexing-view-versus-copy\n",
      "/home/ey/miniconda3/lib/python3.5/site-packages/ipykernel/__main__.py:11: SettingWithCopyWarning: \n",
      "A value is trying to be set on a copy of a slice from a DataFrame\n",
      "\n",
      "See the caveats in the documentation: http://pandas.pydata.org/pandas-docs/stable/indexing.html#indexing-view-versus-copy\n",
      "/home/ey/miniconda3/lib/python3.5/site-packages/ipykernel/__main__.py:12: SettingWithCopyWarning: \n",
      "A value is trying to be set on a copy of a slice from a DataFrame\n",
      "\n",
      "See the caveats in the documentation: http://pandas.pydata.org/pandas-docs/stable/indexing.html#indexing-view-versus-copy\n"
     ]
    }
   ],
   "source": [
    "#train[\"Embarked\"][train['Embarked']==\"C\"] = 1\n",
    "\n",
    "#Convert the male and female groups to integer form\n",
    "train[\"sex\"][train[\"sex\"] == \"male\"] = 0\n",
    "train[\"sex\"][train[\"sex\"] == \"female\"] = 1\n",
    "#Impute the Embarked variable\n",
    "train[\"embarked\"] = train[\"embarked\"].fillna(\"S\")\n",
    "\n",
    "#Convert the Embarked classes to integer form\n",
    "train[\"embarked\"][train[\"embarked\"] == \"S\"] = 0\n",
    "train[\"embarked\"][train[\"embarked\"] == \"C\"] = 1\n",
    "train[\"embarked\"][train[\"embarked\"] == \"Q\"] = 2\n",
    "\n",
    "#creating family variable"
   ]
  },
  {
   "cell_type": "code",
   "execution_count": 23,
   "metadata": {
    "collapsed": false
   },
   "outputs": [
    {
     "data": {
      "text/html": [
       "<div>\n",
       "<table border=\"1\" class=\"dataframe\">\n",
       "  <thead>\n",
       "    <tr style=\"text-align: right;\">\n",
       "      <th></th>\n",
       "      <th>pclass</th>\n",
       "      <th>survived</th>\n",
       "      <th>name</th>\n",
       "      <th>sex</th>\n",
       "      <th>age</th>\n",
       "      <th>sibsp</th>\n",
       "      <th>parch</th>\n",
       "      <th>ticket</th>\n",
       "      <th>fare</th>\n",
       "      <th>cabin</th>\n",
       "      <th>embarked</th>\n",
       "      <th>boat</th>\n",
       "      <th>home.dest</th>\n",
       "      <th>cabin_letter</th>\n",
       "      <th>cabin_letter_le</th>\n",
       "      <th>cabin_number</th>\n",
       "      <th>family</th>\n",
       "    </tr>\n",
       "  </thead>\n",
       "  <tbody>\n",
       "    <tr>\n",
       "      <th>0</th>\n",
       "      <td>1</td>\n",
       "      <td>1</td>\n",
       "      <td>Allen, Miss. Elisabeth Walton</td>\n",
       "      <td>1</td>\n",
       "      <td>29.00</td>\n",
       "      <td>0</td>\n",
       "      <td>0</td>\n",
       "      <td>24160</td>\n",
       "      <td>211.3375</td>\n",
       "      <td>B5</td>\n",
       "      <td>0</td>\n",
       "      <td>2</td>\n",
       "      <td>St Louis, MO</td>\n",
       "      <td>B</td>\n",
       "      <td>1</td>\n",
       "      <td>1.666667</td>\n",
       "      <td>0</td>\n",
       "    </tr>\n",
       "    <tr>\n",
       "      <th>1</th>\n",
       "      <td>1</td>\n",
       "      <td>1</td>\n",
       "      <td>Allison, Master. Hudson Trevor</td>\n",
       "      <td>0</td>\n",
       "      <td>0.92</td>\n",
       "      <td>1</td>\n",
       "      <td>2</td>\n",
       "      <td>113781</td>\n",
       "      <td>151.5500</td>\n",
       "      <td>C22 C26</td>\n",
       "      <td>0</td>\n",
       "      <td>11</td>\n",
       "      <td>Montreal, PQ / Chesterville, ON</td>\n",
       "      <td>C</td>\n",
       "      <td>2</td>\n",
       "      <td>9.600000</td>\n",
       "      <td>3</td>\n",
       "    </tr>\n",
       "    <tr>\n",
       "      <th>2</th>\n",
       "      <td>1</td>\n",
       "      <td>0</td>\n",
       "      <td>Allison, Miss. Helen Loraine</td>\n",
       "      <td>1</td>\n",
       "      <td>2.00</td>\n",
       "      <td>1</td>\n",
       "      <td>2</td>\n",
       "      <td>113781</td>\n",
       "      <td>151.5500</td>\n",
       "      <td>C22 C26</td>\n",
       "      <td>0</td>\n",
       "      <td>NaN</td>\n",
       "      <td>Montreal, PQ / Chesterville, ON</td>\n",
       "      <td>C</td>\n",
       "      <td>2</td>\n",
       "      <td>9.600000</td>\n",
       "      <td>3</td>\n",
       "    </tr>\n",
       "    <tr>\n",
       "      <th>3</th>\n",
       "      <td>1</td>\n",
       "      <td>0</td>\n",
       "      <td>Allison, Mr. Hudson Joshua Creighton</td>\n",
       "      <td>0</td>\n",
       "      <td>30.00</td>\n",
       "      <td>1</td>\n",
       "      <td>2</td>\n",
       "      <td>113781</td>\n",
       "      <td>151.5500</td>\n",
       "      <td>C22 C26</td>\n",
       "      <td>0</td>\n",
       "      <td>NaN</td>\n",
       "      <td>Montreal, PQ / Chesterville, ON</td>\n",
       "      <td>C</td>\n",
       "      <td>2</td>\n",
       "      <td>9.600000</td>\n",
       "      <td>3</td>\n",
       "    </tr>\n",
       "    <tr>\n",
       "      <th>4</th>\n",
       "      <td>1</td>\n",
       "      <td>0</td>\n",
       "      <td>Allison, Mrs. Hudson J C (Bessie Waldo Daniels)</td>\n",
       "      <td>1</td>\n",
       "      <td>25.00</td>\n",
       "      <td>1</td>\n",
       "      <td>2</td>\n",
       "      <td>113781</td>\n",
       "      <td>151.5500</td>\n",
       "      <td>C22 C26</td>\n",
       "      <td>0</td>\n",
       "      <td>NaN</td>\n",
       "      <td>Montreal, PQ / Chesterville, ON</td>\n",
       "      <td>C</td>\n",
       "      <td>2</td>\n",
       "      <td>9.600000</td>\n",
       "      <td>3</td>\n",
       "    </tr>\n",
       "    <tr>\n",
       "      <th>5</th>\n",
       "      <td>1</td>\n",
       "      <td>1</td>\n",
       "      <td>Anderson, Mr. Harry</td>\n",
       "      <td>0</td>\n",
       "      <td>48.00</td>\n",
       "      <td>0</td>\n",
       "      <td>0</td>\n",
       "      <td>19952</td>\n",
       "      <td>26.5500</td>\n",
       "      <td>E12</td>\n",
       "      <td>0</td>\n",
       "      <td>3</td>\n",
       "      <td>New York, NY</td>\n",
       "      <td>E</td>\n",
       "      <td>4</td>\n",
       "      <td>4.000000</td>\n",
       "      <td>0</td>\n",
       "    </tr>\n",
       "  </tbody>\n",
       "</table>\n",
       "</div>"
      ],
      "text/plain": [
       "   pclass  survived                                             name sex  \\\n",
       "0       1         1                    Allen, Miss. Elisabeth Walton   1   \n",
       "1       1         1                   Allison, Master. Hudson Trevor   0   \n",
       "2       1         0                     Allison, Miss. Helen Loraine   1   \n",
       "3       1         0             Allison, Mr. Hudson Joshua Creighton   0   \n",
       "4       1         0  Allison, Mrs. Hudson J C (Bessie Waldo Daniels)   1   \n",
       "5       1         1                              Anderson, Mr. Harry   0   \n",
       "\n",
       "     age  sibsp  parch  ticket      fare    cabin embarked boat  \\\n",
       "0  29.00      0      0   24160  211.3375       B5        0    2   \n",
       "1   0.92      1      2  113781  151.5500  C22 C26        0   11   \n",
       "2   2.00      1      2  113781  151.5500  C22 C26        0  NaN   \n",
       "3  30.00      1      2  113781  151.5500  C22 C26        0  NaN   \n",
       "4  25.00      1      2  113781  151.5500  C22 C26        0  NaN   \n",
       "5  48.00      0      0   19952   26.5500      E12        0    3   \n",
       "\n",
       "                         home.dest cabin_letter  cabin_letter_le  \\\n",
       "0                     St Louis, MO            B                1   \n",
       "1  Montreal, PQ / Chesterville, ON            C                2   \n",
       "2  Montreal, PQ / Chesterville, ON            C                2   \n",
       "3  Montreal, PQ / Chesterville, ON            C                2   \n",
       "4  Montreal, PQ / Chesterville, ON            C                2   \n",
       "5                     New York, NY            E                4   \n",
       "\n",
       "   cabin_number  family  \n",
       "0      1.666667       0  \n",
       "1      9.600000       3  \n",
       "2      9.600000       3  \n",
       "3      9.600000       3  \n",
       "4      9.600000       3  \n",
       "5      4.000000       0  "
      ]
     },
     "execution_count": 23,
     "metadata": {},
     "output_type": "execute_result"
    }
   ],
   "source": [
    "train.head(6)\n",
    "#train[\"Pclass\"][0:5]"
   ]
  },
  {
   "cell_type": "code",
   "execution_count": 24,
   "metadata": {
    "collapsed": false
   },
   "outputs": [
    {
     "name": "stdout",
     "output_type": "stream",
     "text": [
      "   class_1  class_2  class_3\n",
      "0        1        0        0\n",
      "1        1        0        0\n",
      "2        1        0        0\n",
      "3        1        0        0\n",
      "4        1        0        0\n",
      "5        1        0        0\n"
     ]
    }
   ],
   "source": [
    "dummy_vars = pd.get_dummies(train['pclass'], prefix = \"class\")\n",
    "print(dummy_vars[0:6])"
   ]
  },
  {
   "cell_type": "code",
   "execution_count": 25,
   "metadata": {
    "collapsed": false
   },
   "outputs": [
    {
     "data": {
      "text/plain": [
       "(1309, 17)"
      ]
     },
     "execution_count": 25,
     "metadata": {},
     "output_type": "execute_result"
    }
   ],
   "source": [
    "train.shape"
   ]
  },
  {
   "cell_type": "code",
   "execution_count": 26,
   "metadata": {
    "collapsed": true
   },
   "outputs": [],
   "source": [
    "train_processed = train.join(dummy_vars) "
   ]
  },
  {
   "cell_type": "code",
   "execution_count": 27,
   "metadata": {
    "collapsed": false
   },
   "outputs": [
    {
     "data": {
      "text/html": [
       "<div>\n",
       "<table border=\"1\" class=\"dataframe\">\n",
       "  <thead>\n",
       "    <tr style=\"text-align: right;\">\n",
       "      <th></th>\n",
       "      <th>pclass</th>\n",
       "      <th>survived</th>\n",
       "      <th>name</th>\n",
       "      <th>sex</th>\n",
       "      <th>age</th>\n",
       "      <th>sibsp</th>\n",
       "      <th>parch</th>\n",
       "      <th>ticket</th>\n",
       "      <th>fare</th>\n",
       "      <th>cabin</th>\n",
       "      <th>embarked</th>\n",
       "      <th>boat</th>\n",
       "      <th>home.dest</th>\n",
       "      <th>cabin_letter</th>\n",
       "      <th>cabin_letter_le</th>\n",
       "      <th>cabin_number</th>\n",
       "      <th>family</th>\n",
       "      <th>class_1</th>\n",
       "      <th>class_2</th>\n",
       "      <th>class_3</th>\n",
       "    </tr>\n",
       "  </thead>\n",
       "  <tbody>\n",
       "    <tr>\n",
       "      <th>1</th>\n",
       "      <td>1</td>\n",
       "      <td>1</td>\n",
       "      <td>Allison, Master. Hudson Trevor</td>\n",
       "      <td>0</td>\n",
       "      <td>0.92</td>\n",
       "      <td>1</td>\n",
       "      <td>2</td>\n",
       "      <td>113781</td>\n",
       "      <td>151.55</td>\n",
       "      <td>C22 C26</td>\n",
       "      <td>0</td>\n",
       "      <td>11</td>\n",
       "      <td>Montreal, PQ / Chesterville, ON</td>\n",
       "      <td>C</td>\n",
       "      <td>2</td>\n",
       "      <td>9.6</td>\n",
       "      <td>3</td>\n",
       "      <td>1</td>\n",
       "      <td>0</td>\n",
       "      <td>0</td>\n",
       "    </tr>\n",
       "    <tr>\n",
       "      <th>2</th>\n",
       "      <td>1</td>\n",
       "      <td>0</td>\n",
       "      <td>Allison, Miss. Helen Loraine</td>\n",
       "      <td>1</td>\n",
       "      <td>2.00</td>\n",
       "      <td>1</td>\n",
       "      <td>2</td>\n",
       "      <td>113781</td>\n",
       "      <td>151.55</td>\n",
       "      <td>C22 C26</td>\n",
       "      <td>0</td>\n",
       "      <td>NaN</td>\n",
       "      <td>Montreal, PQ / Chesterville, ON</td>\n",
       "      <td>C</td>\n",
       "      <td>2</td>\n",
       "      <td>9.6</td>\n",
       "      <td>3</td>\n",
       "      <td>1</td>\n",
       "      <td>0</td>\n",
       "      <td>0</td>\n",
       "    </tr>\n",
       "    <tr>\n",
       "      <th>3</th>\n",
       "      <td>1</td>\n",
       "      <td>0</td>\n",
       "      <td>Allison, Mr. Hudson Joshua Creighton</td>\n",
       "      <td>0</td>\n",
       "      <td>30.00</td>\n",
       "      <td>1</td>\n",
       "      <td>2</td>\n",
       "      <td>113781</td>\n",
       "      <td>151.55</td>\n",
       "      <td>C22 C26</td>\n",
       "      <td>0</td>\n",
       "      <td>NaN</td>\n",
       "      <td>Montreal, PQ / Chesterville, ON</td>\n",
       "      <td>C</td>\n",
       "      <td>2</td>\n",
       "      <td>9.6</td>\n",
       "      <td>3</td>\n",
       "      <td>1</td>\n",
       "      <td>0</td>\n",
       "      <td>0</td>\n",
       "    </tr>\n",
       "  </tbody>\n",
       "</table>\n",
       "</div>"
      ],
      "text/plain": [
       "   pclass  survived                                  name sex    age  sibsp  \\\n",
       "1       1         1        Allison, Master. Hudson Trevor   0   0.92      1   \n",
       "2       1         0          Allison, Miss. Helen Loraine   1   2.00      1   \n",
       "3       1         0  Allison, Mr. Hudson Joshua Creighton   0  30.00      1   \n",
       "\n",
       "   parch  ticket    fare    cabin embarked boat  \\\n",
       "1      2  113781  151.55  C22 C26        0   11   \n",
       "2      2  113781  151.55  C22 C26        0  NaN   \n",
       "3      2  113781  151.55  C22 C26        0  NaN   \n",
       "\n",
       "                         home.dest cabin_letter  cabin_letter_le  \\\n",
       "1  Montreal, PQ / Chesterville, ON            C                2   \n",
       "2  Montreal, PQ / Chesterville, ON            C                2   \n",
       "3  Montreal, PQ / Chesterville, ON            C                2   \n",
       "\n",
       "   cabin_number  family  class_1  class_2  class_3  \n",
       "1           9.6       3        1        0        0  \n",
       "2           9.6       3        1        0        0  \n",
       "3           9.6       3        1        0        0  "
      ]
     },
     "execution_count": 27,
     "metadata": {},
     "output_type": "execute_result"
    }
   ],
   "source": [
    "\n",
    "train_processed.loc[1:3,]"
   ]
  },
  {
   "cell_type": "code",
   "execution_count": 28,
   "metadata": {
    "collapsed": false
   },
   "outputs": [],
   "source": [
    "train_processed = train_processed[train_processed.fare.notnull()]\n",
    "train_processed['sex'] = train_processed['sex'].astype('int')\n",
    "feature_columns_to_use =  [\"pclass\", 'sex', 'parch', 'sibsp', 'fare', 'cabin_letter_le', 'cabin_number']\n",
    "#train_x = train_processed[feature_columns_to_use]\n",
    "#train_y = train_processed[\"survived\"].values"
   ]
  },
  {
   "cell_type": "code",
   "execution_count": 29,
   "metadata": {
    "collapsed": false
   },
   "outputs": [
    {
     "name": "stdout",
     "output_type": "stream",
     "text": [
      "<class 'pandas.core.frame.DataFrame'>\n",
      "Int64Index: 1308 entries, 0 to 1308\n",
      "Data columns (total 20 columns):\n",
      "pclass             1308 non-null int64\n",
      "survived           1308 non-null int64\n",
      "name               1308 non-null object\n",
      "sex                1308 non-null int64\n",
      "age                1045 non-null float64\n",
      "sibsp              1308 non-null int64\n",
      "parch              1308 non-null int64\n",
      "ticket             1308 non-null object\n",
      "fare               1308 non-null float64\n",
      "cabin              295 non-null object\n",
      "embarked           1308 non-null object\n",
      "boat               486 non-null object\n",
      "home.dest          745 non-null object\n",
      "cabin_letter       1308 non-null object\n",
      "cabin_letter_le    1308 non-null int64\n",
      "cabin_number       1308 non-null float64\n",
      "family             1308 non-null int64\n",
      "class_1            1308 non-null uint8\n",
      "class_2            1308 non-null uint8\n",
      "class_3            1308 non-null uint8\n",
      "dtypes: float64(3), int64(7), object(7), uint8(3)\n",
      "memory usage: 187.8+ KB\n"
     ]
    }
   ],
   "source": [
    "train_processed.info()"
   ]
  },
  {
   "cell_type": "markdown",
   "metadata": {},
   "source": [
    "## splitting train and test for cv"
   ]
  },
  {
   "cell_type": "code",
   "execution_count": 30,
   "metadata": {
    "collapsed": true
   },
   "outputs": [],
   "source": [
    "from sklearn.model_selection import train_test_split\n",
    "\n",
    "train_x, test_x, train_y, test_y = train_test_split(train_processed[feature_columns_to_use], \n",
    "                                                    train_processed['survived'], test_size = .3, random_state = 42)"
   ]
  },
  {
   "cell_type": "code",
   "execution_count": 31,
   "metadata": {
    "collapsed": false
   },
   "outputs": [
    {
     "data": {
      "text/plain": [
       "(393, 7)"
      ]
     },
     "execution_count": 31,
     "metadata": {},
     "output_type": "execute_result"
    }
   ],
   "source": [
    "test_x.shape"
   ]
  },
  {
   "cell_type": "code",
   "execution_count": 32,
   "metadata": {
    "collapsed": false
   },
   "outputs": [
    {
     "data": {
      "text/plain": [
       "pclass             0\n",
       "sex                0\n",
       "parch              0\n",
       "sibsp              0\n",
       "fare               0\n",
       "cabin_letter_le    0\n",
       "cabin_number       0\n",
       "dtype: int64"
      ]
     },
     "execution_count": 32,
     "metadata": {},
     "output_type": "execute_result"
    }
   ],
   "source": [
    "train_x.loc[:,'sex'] = train_x.loc[:,'sex'].astype('int')\n",
    "train_x.isnull().sum()\n",
    "\n"
   ]
  },
  {
   "cell_type": "code",
   "execution_count": 33,
   "metadata": {
    "collapsed": false
   },
   "outputs": [
    {
     "name": "stdout",
     "output_type": "stream",
     "text": [
      "<class 'pandas.core.frame.DataFrame'>\n",
      "Int64Index: 915 entries, 1213 to 1126\n",
      "Data columns (total 7 columns):\n",
      "pclass             915 non-null int64\n",
      "sex                915 non-null int64\n",
      "parch              915 non-null int64\n",
      "sibsp              915 non-null int64\n",
      "fare               915 non-null float64\n",
      "cabin_letter_le    915 non-null int64\n",
      "cabin_number       915 non-null float64\n",
      "dtypes: float64(2), int64(5)\n",
      "memory usage: 57.2 KB\n"
     ]
    }
   ],
   "source": [
    "train_x.info()"
   ]
  },
  {
   "cell_type": "code",
   "execution_count": 34,
   "metadata": {
    "collapsed": false
   },
   "outputs": [],
   "source": [
    "train_x_matrix = train_x.as_matrix()\n"
   ]
  },
  {
   "cell_type": "markdown",
   "metadata": {},
   "source": [
    "# Models"
   ]
  },
  {
   "cell_type": "markdown",
   "metadata": {},
   "source": [
    "## logistic"
   ]
  },
  {
   "cell_type": "code",
   "execution_count": 35,
   "metadata": {
    "collapsed": true
   },
   "outputs": [],
   "source": [
    "from sklearn.metrics import roc_auc_score\n",
    "from sklearn.metrics import precision_recall_fscore_support\n",
    "from sklearn.metrics import classification_report\n",
    "from sklearn.metrics import log_loss\n",
    "from sklearn.metrics import accuracy_score"
   ]
  },
  {
   "cell_type": "code",
   "execution_count": 36,
   "metadata": {
    "collapsed": false
   },
   "outputs": [
    {
     "name": "stdout",
     "output_type": "stream",
     "text": [
      "<class 'pandas.core.frame.DataFrame'>\n",
      "Int64Index: 915 entries, 1213 to 1126\n",
      "Data columns (total 7 columns):\n",
      "pclass             915 non-null int64\n",
      "sex                915 non-null int64\n",
      "parch              915 non-null int64\n",
      "sibsp              915 non-null int64\n",
      "fare               915 non-null float64\n",
      "cabin_letter_le    915 non-null int64\n",
      "cabin_number       915 non-null float64\n",
      "dtypes: float64(2), int64(5)\n",
      "memory usage: 57.2 KB\n"
     ]
    }
   ],
   "source": [
    "train_x.info()"
   ]
  },
  {
   "cell_type": "code",
   "execution_count": 37,
   "metadata": {
    "collapsed": false
   },
   "outputs": [
    {
     "name": "stdout",
     "output_type": "stream",
     "text": [
      "0.795628415301\n"
     ]
    }
   ],
   "source": [
    "from sklearn.linear_model import LogisticRegression\n",
    "\n",
    "model = LogisticRegression()\n",
    "model = model.fit(X = train_x_matrix, y = train_y)\n",
    "print(model.score(X = train_x_matrix, y = train_y))\n",
    "\n",
    "#model5 = LogisticRegression()\n",
    "#model5 = model5.fit(train_processed[['pclass', 'sex', 'parch', 'fare']], y = train_y)\n",
    "#model5.score(train_processed[['pclass', 'sex', 'parch', 'fare']], y = train_y)"
   ]
  },
  {
   "cell_type": "code",
   "execution_count": 38,
   "metadata": {
    "collapsed": false
   },
   "outputs": [
    {
     "name": "stdout",
     "output_type": "stream",
     "text": [
      "auc: 0.77142351093\n",
      "log loss: 0.4676643908944579\n",
      "             precision    recall  f1-score   support\n",
      "\n",
      "          0       0.82      0.86      0.84       578\n",
      "          1       0.74      0.68      0.71       337\n",
      "\n",
      "avg / total       0.79      0.80      0.79       915\n",
      "\n"
     ]
    }
   ],
   "source": [
    "predicted = model.predict(train_x_matrix)\n",
    "predicted_prob = model.predict_proba(train_x_matrix)\n",
    "print(\"auc: \" + str(roc_auc_score(train_y, predicted)))\n",
    "print(\"log loss: {}\".format(log_loss(train_y, predicted_prob)))\n",
    "print(classification_report(train_y, predicted))\n",
    "\n",
    "#print(metrics.confusion_matrix(train_y, predicted))\n",
    "#print(train_y.astype(float).mean())\n",
    "#print(predicted.astype(int).mean())\n",
    "\n",
    "#predicted5 = model5.predict(train_processed[['pclass', 'sex', 'parch', 'fare']])\n",
    "#predicted_prob5 = model5.predict_proba(train_processed[['pclass', 'sex', 'parch', 'fare']])\n",
    "#print(\"auc: \" + str(roc_auc_score(train_y, predicted5)))\n",
    "#print(\"log loss: {}\".format(log_loss(train_y, predicted_prob5)))\n",
    "#print(classification_report(train_y, predicted5))\n"
   ]
  },
  {
   "cell_type": "code",
   "execution_count": 39,
   "metadata": {
    "collapsed": false
   },
   "outputs": [
    {
     "data": {
      "text/plain": [
       "0.93224043715846994"
      ]
     },
     "execution_count": 39,
     "metadata": {},
     "output_type": "execute_result"
    }
   ],
   "source": [
    "from sklearn.ensemble import RandomForestClassifier\n",
    "#train[\"Sex\"] = train['Sex'].astype('category')\n",
    "#train[\"Pclass\"] = train['Pclass'].astype('category')\n",
    "#rf_model = RandomForestClassifier().fit(train[['Pclass', 'Sex', 'Parch', 'Fare']], train_y)\n",
    "rf_model = RandomForestClassifier(n_estimators = 500, random_state=42).fit(train_x_matrix, train_y)\n",
    "rf_model.score(train_x_matrix, train_y)\n",
    "\n",
    "#rf_model.score(train[['Pclass', 'Sex', 'Parch', 'Fare']], train_y)"
   ]
  },
  {
   "cell_type": "code",
   "execution_count": 40,
   "metadata": {
    "collapsed": false
   },
   "outputs": [
    {
     "data": {
      "text/plain": [
       "0.9027322404371585"
      ]
     },
     "execution_count": 40,
     "metadata": {},
     "output_type": "execute_result"
    }
   ],
   "source": [
    "from sklearn.svm import SVC\n",
    "\n",
    "svm_m = SVC(kernel = \"rbf\", C = 100, probability = True).fit(train_x_matrix, train_y)\n",
    "svm_m.score(train_x_matrix, train_y)"
   ]
  },
  {
   "cell_type": "code",
   "execution_count": 41,
   "metadata": {
    "collapsed": false
   },
   "outputs": [
    {
     "data": {
      "text/plain": [
       "'print(__doc__)\\n\\nimport numpy as np\\n\\nfrom time import time\\nfrom scipy.stats import randint as sp_randint\\n\\nfrom sklearn.model_selection import GridSearchCV\\nfrom sklearn.model_selection import RandomizedSearchCV\\n\\n\\n# Utility function to report best scores\\ndef report(results, n_top=3):\\n    for i in range(1, n_top + 1):\\n        candidates = np.flatnonzero(results[\\'rank_test_score\\'] == i)\\n        for candidate in candidates:\\n            print(\"Model with rank: {0}\".format(i))\\n            print(\"Mean validation score: {0:.3f} (std: {1:.3f})\".format(\\n                  results[\\'mean_test_score\\'][candidate],\\n                  results[\\'std_test_score\\'][candidate]))\\n            print(\"Parameters: {0}\".format(results[\\'params\\'][candidate]))\\n            print(\"\")\\n\\n#specify params\\nC_range = np.logspace(-2, 10, 13)\\ngamma_range = np.logspace(-9, 3, 13)\\nparam_dist = dict(gamma=gamma_range, C=C_range)\\n#cv = StratifiedShuffleSplit(n_splits=5, test_size=0.2, random_state=42)\\n#grid = GridSearchCV(SVC(), param_grid=param_grid, cv=cv)\\n\\n# run randomized search\\nn_iter_search = 50\\nrandom_search = RandomizedSearchCV(SVC(), param_distributions=param_dist,\\n                                   n_iter=n_iter_search)\\n\\nstart = time()\\nrandom_search.fit(train_x_matrix, train_y)\\nprint(\"RandomizedSearchCV took %.2f seconds for %d candidates\"\\n      \" parameter settings.\" % ((time() - start), n_iter_search))\\nreport(random_search.cv_results_)\\n'"
      ]
     },
     "execution_count": 41,
     "metadata": {},
     "output_type": "execute_result"
    }
   ],
   "source": [
    "\"\"\"print(__doc__)\n",
    "\n",
    "import numpy as np\n",
    "\n",
    "from time import time\n",
    "from scipy.stats import randint as sp_randint\n",
    "\n",
    "from sklearn.model_selection import GridSearchCV\n",
    "from sklearn.model_selection import RandomizedSearchCV\n",
    "\n",
    "\n",
    "# Utility function to report best scores\n",
    "def report(results, n_top=3):\n",
    "    for i in range(1, n_top + 1):\n",
    "        candidates = np.flatnonzero(results['rank_test_score'] == i)\n",
    "        for candidate in candidates:\n",
    "            print(\"Model with rank: {0}\".format(i))\n",
    "            print(\"Mean validation score: {0:.3f} (std: {1:.3f})\".format(\n",
    "                  results['mean_test_score'][candidate],\n",
    "                  results['std_test_score'][candidate]))\n",
    "            print(\"Parameters: {0}\".format(results['params'][candidate]))\n",
    "            print(\"\")\n",
    "\n",
    "#specify params\n",
    "C_range = np.logspace(-2, 10, 13)\n",
    "gamma_range = np.logspace(-9, 3, 13)\n",
    "param_dist = dict(gamma=gamma_range, C=C_range)\n",
    "#cv = StratifiedShuffleSplit(n_splits=5, test_size=0.2, random_state=42)\n",
    "#grid = GridSearchCV(SVC(), param_grid=param_grid, cv=cv)\n",
    "\n",
    "# run randomized search\n",
    "n_iter_search = 50\n",
    "random_search = RandomizedSearchCV(SVC(), param_distributions=param_dist,\n",
    "                                   n_iter=n_iter_search)\n",
    "\n",
    "start = time()\n",
    "random_search.fit(train_x_matrix, train_y)\n",
    "print(\"RandomizedSearchCV took %.2f seconds for %d candidates\"\n",
    "      \" parameter settings.\" % ((time() - start), n_iter_search))\n",
    "report(random_search.cv_results_)\n",
    "\"\"\""
   ]
  },
  {
   "cell_type": "code",
   "execution_count": 42,
   "metadata": {
    "collapsed": false
   },
   "outputs": [],
   "source": [
    "params = {'gamma':np.random.uniform(0, 1, 20)}"
   ]
  },
  {
   "cell_type": "markdown",
   "metadata": {},
   "source": [
    "## xgboost (gradient boosted trees)"
   ]
  },
  {
   "cell_type": "code",
   "execution_count": 43,
   "metadata": {
    "collapsed": false
   },
   "outputs": [
    {
     "data": {
      "text/plain": [
       "0.86120218579234975"
      ]
     },
     "execution_count": 43,
     "metadata": {},
     "output_type": "execute_result"
    }
   ],
   "source": [
    "from xgboost import XGBClassifier\n",
    "import xgboost as xgb\n",
    "\n",
    "model_xgb = XGBClassifier(\n",
    "  learning_rate =0.01,\n",
    " n_estimators=1000,\n",
    " max_depth=9,\n",
    " min_child_weight=5,\n",
    " gamma=0.00,\n",
    " subsample=0.9,\n",
    " colsample_bytree=0.8,\n",
    " reg_alpha=0.05,\n",
    " objective= 'binary:logistic',\n",
    " nthread=4,\n",
    " scale_pos_weight=1,\n",
    " seed=27)\n",
    "\n",
    "xgb_result1 = model_xgb.fit(train_processed[[\"pclass\", 'sex', 'parch', 'sibsp', 'fare', 'cabin_letter_le', 'cabin_number']], train_processed['survived'])\n",
    "xgb_result1.score(train_x, train_y)"
   ]
  },
  {
   "cell_type": "markdown",
   "metadata": {},
   "source": [
    "## Tuning xgb"
   ]
  },
  {
   "cell_type": "code",
   "execution_count": 44,
   "metadata": {
    "collapsed": false
   },
   "outputs": [],
   "source": [
    "def modelfit(alg, dtrain, predictors, target, useTrainCV=True, cv_folds=5, early_stopping_rounds=50):\n",
    "    \n",
    "    if useTrainCV:\n",
    "        xgb_param = alg.get_xgb_params()\n",
    "        xgtrain = xgb.DMatrix(dtrain[predictors].values, label=dtrain[target].values)\n",
    "        cvresult = xgb.cv(xgb_param, xgtrain, num_boost_round=alg.get_params()['n_estimators'], nfold=cv_folds,\n",
    "            metrics=['auc','logloss'], early_stopping_rounds=early_stopping_rounds, verbose_eval=False)\n",
    "        alg.set_params(n_estimators=cvresult.shape[0])\n",
    "    \n",
    "    #Fit the algorithm on the data\n",
    "    alg.fit(dtrain[predictors], dtrain[target],eval_metric='logloss')\n",
    "        \n",
    "    #Predict training set:\n",
    "    dtrain_predictions = alg.predict(dtrain[predictors])\n",
    "    dtrain_predprob = alg.predict_proba(dtrain[predictors])[:,1]\n",
    "        \n",
    "    #Print model report:\n",
    "    print(\"\\nModel Report\")\n",
    "    print(\"Accuracy : %.4g\" % accuracy_score(dtrain[target].values, dtrain_predictions))\n",
    "    print(\"AUC Score (Train): %f\" % roc_auc_score(dtrain[target], dtrain_predprob))\n",
    "    print(\"logloss :{}\".format(log_loss(dtrain[target], dtrain_predprob)))\n",
    "                    \n",
    "    feat_imp = pd.Series(alg.booster().get_fscore()).sort_values(ascending=False)\n",
    "    feat_imp.plot(kind='bar', title='Feature Importances')\n",
    "    plt.ylabel('Feature Importance Score')"
   ]
  },
  {
   "cell_type": "code",
   "execution_count": 45,
   "metadata": {
    "collapsed": false
   },
   "outputs": [
    {
     "name": "stderr",
     "output_type": "stream",
     "text": [
      "/home/ey/miniconda3/lib/python3.5/site-packages/sklearn/preprocessing/label.py:112: DataConversionWarning: A column-vector y was passed when a 1d array was expected. Please change the shape of y to (n_samples, ), for example using ravel().\n",
      "  y = column_or_1d(y, warn=True)\n",
      "/home/ey/miniconda3/lib/python3.5/site-packages/sklearn/preprocessing/label.py:147: DataConversionWarning: A column-vector y was passed when a 1d array was expected. Please change the shape of y to (n_samples, ), for example using ravel().\n",
      "  y = column_or_1d(y, warn=True)\n"
     ]
    },
    {
     "name": "stdout",
     "output_type": "stream",
     "text": [
      "\n",
      "Model Report\n",
      "Accuracy : 0.8631\n",
      "AUC Score (Train): 0.927370\n",
      "logloss :0.34351686833266865\n"
     ]
    },
    {
     "data": {
      "image/png": "[encoded data removed]",
      "text/plain": [
       "<matplotlib.figure.Figure at 0x7fcd4daa68d0>"
      ]
     },
     "metadata": {},
     "output_type": "display_data"
    }
   ],
   "source": [
    "model_xgb1 = XGBClassifier(\n",
    " learning_rate =0.01,\n",
    " n_estimators=1000,\n",
    " max_depth=9,\n",
    " min_child_weight=5,\n",
    " gamma=0.00,\n",
    " subsample=0.9,\n",
    " colsample_bytree=0.8,\n",
    " reg_alpha=0.05,\n",
    " objective= 'binary:logistic',\n",
    " nthread=4,\n",
    " scale_pos_weight=1,\n",
    " seed=27)\n",
    "\n",
    "modelfit(model_xgb1, train_processed, [\"class_3\", \"class_1\", 'family', 'sex', \n",
    "                                       'parch', 'sibsp', 'fare', 'cabin_letter_le', \n",
    "                                       'cabin_number', 'age'], target = ['survived'])"
   ]
  },
  {
   "cell_type": "code",
   "execution_count": 46,
   "metadata": {
    "collapsed": false
   },
   "outputs": [
    {
     "name": "stderr",
     "output_type": "stream",
     "text": [
      "/home/ey/miniconda3/lib/python3.5/site-packages/sklearn/preprocessing/label.py:112: DataConversionWarning: A column-vector y was passed when a 1d array was expected. Please change the shape of y to (n_samples, ), for example using ravel().\n",
      "  y = column_or_1d(y, warn=True)\n",
      "/home/ey/miniconda3/lib/python3.5/site-packages/sklearn/preprocessing/label.py:147: DataConversionWarning: A column-vector y was passed when a 1d array was expected. Please change the shape of y to (n_samples, ), for example using ravel().\n",
      "  y = column_or_1d(y, warn=True)\n"
     ]
    },
    {
     "name": "stdout",
     "output_type": "stream",
     "text": [
      "\n",
      "Model Report\n",
      "Accuracy : 0.8685\n",
      "AUC Score (Train): 0.929775\n",
      "logloss :0.3386235861178909\n"
     ]
    },
    {
     "data": {
      "image/png": "[encoded data removed]",
      "text/plain": [
       "<matplotlib.figure.Figure at 0x7fcd4da58ba8>"
      ]
     },
     "metadata": {},
     "output_type": "display_data"
    }
   ],
   "source": [
    "model_xgb1 = XGBClassifier(learning_rate =0.01, n_estimators=1000,\n",
    "                             max_depth=9, min_child_weight=5,\n",
    "                             gamma=0.00, subsample=0.9,\n",
    "                             colsample_bytree=0.8, reg_alpha=0.05,\n",
    "                             objective= 'binary:logistic', nthread=4,\n",
    "                             scale_pos_weight=1, seed=27)\n",
    "\n",
    "modelfit(model_xgb1, train_processed, ['age', 'pclass', 'family', 'sex', 'fare', 'cabin_number'], \n",
    "         target = ['survived'])"
   ]
  },
  {
   "cell_type": "code",
   "execution_count": 47,
   "metadata": {
    "collapsed": false
   },
   "outputs": [
    {
     "name": "stderr",
     "output_type": "stream",
     "text": [
      "/home/ey/miniconda3/lib/python3.5/site-packages/sklearn/cross_validation.py:44: DeprecationWarning: This module was deprecated in version 0.18 in favor of the model_selection module into which all the refactored classes and functions are moved. Also note that the interface of the new CV iterators are different from that of this module. This module will be removed in 0.20.\n",
      "  \"This module will be removed in 0.20.\", DeprecationWarning)\n",
      "/home/ey/miniconda3/lib/python3.5/site-packages/sklearn/grid_search.py:43: DeprecationWarning: This module was deprecated in version 0.18 in favor of the model_selection module into which all the refactored classes and functions are moved. This module will be removed in 0.20.\n",
      "  DeprecationWarning)\n"
     ]
    }
   ],
   "source": [
    "from sklearn.grid_search import GridSearchCV\n",
    "\n",
    "cv_params = {'min_child_weight':[1,2,3,4,5,6,7,8], 'max_depth':[2,3,4,5,6,7,8,9], \"gamma\":[0,0.001,0.1,0.5,1]}\n",
    "\n",
    "\n",
    "optimized_GBM = GridSearchCV(XGBClassifier(learning_rate =0.01, n_estimators=1000,\n",
    "                             max_depth=4, min_child_weight=6,\n",
    "                             gamma=0.05, subsample=0.9,\n",
    "                             colsample_bytree=0.8, reg_alpha=0.05,\n",
    "                             objective= 'binary:logistic', nthread=4,\n",
    "                             scale_pos_weight=1, seed=27), cv_params, scoring = 'neg_log_loss', cv = 5, n_jobs = 3) "
   ]
  },
  {
   "cell_type": "code",
   "execution_count": 48,
   "metadata": {
    "collapsed": false
   },
   "outputs": [
    {
     "data": {
      "text/plain": [
       "GridSearchCV(cv=5, error_score='raise',\n",
       "       estimator=XGBClassifier(base_score=0.5, colsample_bylevel=1, colsample_bytree=0.8,\n",
       "       gamma=0.05, learning_rate=0.01, max_delta_step=0, max_depth=4,\n",
       "       min_child_weight=6, missing=None, n_estimators=1000, nthread=4,\n",
       "       objective='binary:logistic', reg_alpha=0.05, reg_lambda=1,\n",
       "       scale_pos_weight=1, seed=27, silent=True, subsample=0.9),\n",
       "       fit_params={}, iid=True, n_jobs=3,\n",
       "       param_grid={'gamma': [0, 0.001, 0.1, 0.5, 1], 'min_child_weight': [1, 2, 3, 4, 5, 6, 7, 8], 'max_depth': [2, 3, 4, 5, 6, 7, 8, 9]},\n",
       "       pre_dispatch='2*n_jobs', refit=True, scoring='neg_log_loss',\n",
       "       verbose=0)"
      ]
     },
     "execution_count": 48,
     "metadata": {},
     "output_type": "execute_result"
    }
   ],
   "source": [
    "optimized_GBM.fit(train_x, train_y)\n",
    "\n"
   ]
  },
  {
   "cell_type": "code",
   "execution_count": 49,
   "metadata": {
    "collapsed": false
   },
   "outputs": [
    {
     "data": {
      "text/plain": [
       "[mean: -0.44741, std: 0.02883, params: {'gamma': 0, 'min_child_weight': 1, 'max_depth': 2},\n",
       " mean: -0.44813, std: 0.02741, params: {'gamma': 0, 'min_child_weight': 2, 'max_depth': 2},\n",
       " mean: -0.44938, std: 0.02741, params: {'gamma': 0, 'min_child_weight': 3, 'max_depth': 2},\n",
       " mean: -0.45012, std: 0.02869, params: {'gamma': 0, 'min_child_weight': 4, 'max_depth': 2},\n",
       " mean: -0.45063, std: 0.02947, params: {'gamma': 0, 'min_child_weight': 5, 'max_depth': 2},\n",
       " mean: -0.45025, std: 0.03038, params: {'gamma': 0, 'min_child_weight': 6, 'max_depth': 2},\n",
       " mean: -0.45095, std: 0.03035, params: {'gamma': 0, 'min_child_weight': 7, 'max_depth': 2},\n",
       " mean: -0.45116, std: 0.03017, params: {'gamma': 0, 'min_child_weight': 8, 'max_depth': 2},\n",
       " mean: -0.44218, std: 0.03121, params: {'gamma': 0, 'min_child_weight': 1, 'max_depth': 3},\n",
       " mean: -0.44419, std: 0.02964, params: {'gamma': 0, 'min_child_weight': 2, 'max_depth': 3},\n",
       " mean: -0.44556, std: 0.03197, params: {'gamma': 0, 'min_child_weight': 3, 'max_depth': 3},\n",
       " mean: -0.44524, std: 0.03370, params: {'gamma': 0, 'min_child_weight': 4, 'max_depth': 3},\n",
       " mean: -0.44526, std: 0.03409, params: {'gamma': 0, 'min_child_weight': 5, 'max_depth': 3},\n",
       " mean: -0.44582, std: 0.03352, params: {'gamma': 0, 'min_child_weight': 6, 'max_depth': 3},\n",
       " mean: -0.44751, std: 0.03310, params: {'gamma': 0, 'min_child_weight': 7, 'max_depth': 3},\n",
       " mean: -0.44875, std: 0.03268, params: {'gamma': 0, 'min_child_weight': 8, 'max_depth': 3},\n",
       " mean: -0.44040, std: 0.03383, params: {'gamma': 0, 'min_child_weight': 1, 'max_depth': 4},\n",
       " mean: -0.44392, std: 0.03378, params: {'gamma': 0, 'min_child_weight': 2, 'max_depth': 4},\n",
       " mean: -0.44392, std: 0.03430, params: {'gamma': 0, 'min_child_weight': 3, 'max_depth': 4},\n",
       " mean: -0.44308, std: 0.03516, params: {'gamma': 0, 'min_child_weight': 4, 'max_depth': 4},\n",
       " mean: -0.44278, std: 0.03540, params: {'gamma': 0, 'min_child_weight': 5, 'max_depth': 4},\n",
       " mean: -0.44319, std: 0.03389, params: {'gamma': 0, 'min_child_weight': 6, 'max_depth': 4},\n",
       " mean: -0.44545, std: 0.03352, params: {'gamma': 0, 'min_child_weight': 7, 'max_depth': 4},\n",
       " mean: -0.44653, std: 0.03320, params: {'gamma': 0, 'min_child_weight': 8, 'max_depth': 4},\n",
       " mean: -0.44080, std: 0.03715, params: {'gamma': 0, 'min_child_weight': 1, 'max_depth': 5},\n",
       " mean: -0.44604, std: 0.03617, params: {'gamma': 0, 'min_child_weight': 2, 'max_depth': 5},\n",
       " mean: -0.44341, std: 0.03533, params: {'gamma': 0, 'min_child_weight': 3, 'max_depth': 5},\n",
       " mean: -0.44086, std: 0.03579, params: {'gamma': 0, 'min_child_weight': 4, 'max_depth': 5},\n",
       " mean: -0.44091, std: 0.03533, params: {'gamma': 0, 'min_child_weight': 5, 'max_depth': 5},\n",
       " mean: -0.44108, std: 0.03447, params: {'gamma': 0, 'min_child_weight': 6, 'max_depth': 5},\n",
       " mean: -0.44361, std: 0.03401, params: {'gamma': 0, 'min_child_weight': 7, 'max_depth': 5},\n",
       " mean: -0.44495, std: 0.03364, params: {'gamma': 0, 'min_child_weight': 8, 'max_depth': 5},\n",
       " mean: -0.44539, std: 0.03879, params: {'gamma': 0, 'min_child_weight': 1, 'max_depth': 6},\n",
       " mean: -0.44634, std: 0.03737, params: {'gamma': 0, 'min_child_weight': 2, 'max_depth': 6},\n",
       " mean: -0.44335, std: 0.03621, params: {'gamma': 0, 'min_child_weight': 3, 'max_depth': 6},\n",
       " mean: -0.44025, std: 0.03644, params: {'gamma': 0, 'min_child_weight': 4, 'max_depth': 6},\n",
       " mean: -0.44044, std: 0.03556, params: {'gamma': 0, 'min_child_weight': 5, 'max_depth': 6},\n",
       " mean: -0.44061, std: 0.03408, params: {'gamma': 0, 'min_child_weight': 6, 'max_depth': 6},\n",
       " mean: -0.44334, std: 0.03352, params: {'gamma': 0, 'min_child_weight': 7, 'max_depth': 6},\n",
       " mean: -0.44460, std: 0.03334, params: {'gamma': 0, 'min_child_weight': 8, 'max_depth': 6},\n",
       " mean: -0.44991, std: 0.04146, params: {'gamma': 0, 'min_child_weight': 1, 'max_depth': 7},\n",
       " mean: -0.44741, std: 0.03872, params: {'gamma': 0, 'min_child_weight': 2, 'max_depth': 7},\n",
       " mean: -0.44323, std: 0.03683, params: {'gamma': 0, 'min_child_weight': 3, 'max_depth': 7},\n",
       " mean: -0.44017, std: 0.03605, params: {'gamma': 0, 'min_child_weight': 4, 'max_depth': 7},\n",
       " mean: -0.43958, std: 0.03490, params: {'gamma': 0, 'min_child_weight': 5, 'max_depth': 7},\n",
       " mean: -0.44030, std: 0.03362, params: {'gamma': 0, 'min_child_weight': 6, 'max_depth': 7},\n",
       " mean: -0.44315, std: 0.03363, params: {'gamma': 0, 'min_child_weight': 7, 'max_depth': 7},\n",
       " mean: -0.44456, std: 0.03367, params: {'gamma': 0, 'min_child_weight': 8, 'max_depth': 7},\n",
       " mean: -0.45280, std: 0.04239, params: {'gamma': 0, 'min_child_weight': 1, 'max_depth': 8},\n",
       " mean: -0.44904, std: 0.03981, params: {'gamma': 0, 'min_child_weight': 2, 'max_depth': 8},\n",
       " mean: -0.44310, std: 0.03659, params: {'gamma': 0, 'min_child_weight': 3, 'max_depth': 8},\n",
       " mean: -0.43993, std: 0.03555, params: {'gamma': 0, 'min_child_weight': 4, 'max_depth': 8},\n",
       " mean: -0.43962, std: 0.03451, params: {'gamma': 0, 'min_child_weight': 5, 'max_depth': 8},\n",
       " mean: -0.44029, std: 0.03368, params: {'gamma': 0, 'min_child_weight': 6, 'max_depth': 8},\n",
       " mean: -0.44300, std: 0.03391, params: {'gamma': 0, 'min_child_weight': 7, 'max_depth': 8},\n",
       " mean: -0.44446, std: 0.03348, params: {'gamma': 0, 'min_child_weight': 8, 'max_depth': 8},\n",
       " mean: -0.45548, std: 0.04359, params: {'gamma': 0, 'min_child_weight': 1, 'max_depth': 9},\n",
       " mean: -0.45012, std: 0.04000, params: {'gamma': 0, 'min_child_weight': 2, 'max_depth': 9},\n",
       " mean: -0.44292, std: 0.03626, params: {'gamma': 0, 'min_child_weight': 3, 'max_depth': 9},\n",
       " mean: -0.43991, std: 0.03533, params: {'gamma': 0, 'min_child_weight': 4, 'max_depth': 9},\n",
       " mean: -0.43947, std: 0.03443, params: {'gamma': 0, 'min_child_weight': 5, 'max_depth': 9},\n",
       " mean: -0.44003, std: 0.03348, params: {'gamma': 0, 'min_child_weight': 6, 'max_depth': 9},\n",
       " mean: -0.44302, std: 0.03367, params: {'gamma': 0, 'min_child_weight': 7, 'max_depth': 9},\n",
       " mean: -0.44450, std: 0.03347, params: {'gamma': 0, 'min_child_weight': 8, 'max_depth': 9},\n",
       " mean: -0.44741, std: 0.02883, params: {'gamma': 0.001, 'min_child_weight': 1, 'max_depth': 2},\n",
       " mean: -0.44813, std: 0.02741, params: {'gamma': 0.001, 'min_child_weight': 2, 'max_depth': 2},\n",
       " mean: -0.44938, std: 0.02741, params: {'gamma': 0.001, 'min_child_weight': 3, 'max_depth': 2},\n",
       " mean: -0.45012, std: 0.02869, params: {'gamma': 0.001, 'min_child_weight': 4, 'max_depth': 2},\n",
       " mean: -0.45063, std: 0.02947, params: {'gamma': 0.001, 'min_child_weight': 5, 'max_depth': 2},\n",
       " mean: -0.45025, std: 0.03038, params: {'gamma': 0.001, 'min_child_weight': 6, 'max_depth': 2},\n",
       " mean: -0.45095, std: 0.03035, params: {'gamma': 0.001, 'min_child_weight': 7, 'max_depth': 2},\n",
       " mean: -0.45116, std: 0.03017, params: {'gamma': 0.001, 'min_child_weight': 8, 'max_depth': 2},\n",
       " mean: -0.44221, std: 0.03125, params: {'gamma': 0.001, 'min_child_weight': 1, 'max_depth': 3},\n",
       " mean: -0.44419, std: 0.02965, params: {'gamma': 0.001, 'min_child_weight': 2, 'max_depth': 3},\n",
       " mean: -0.44551, std: 0.03203, params: {'gamma': 0.001, 'min_child_weight': 3, 'max_depth': 3},\n",
       " mean: -0.44528, std: 0.03369, params: {'gamma': 0.001, 'min_child_weight': 4, 'max_depth': 3},\n",
       " mean: -0.44520, std: 0.03412, params: {'gamma': 0.001, 'min_child_weight': 5, 'max_depth': 3},\n",
       " mean: -0.44584, std: 0.03352, params: {'gamma': 0.001, 'min_child_weight': 6, 'max_depth': 3},\n",
       " mean: -0.44751, std: 0.03310, params: {'gamma': 0.001, 'min_child_weight': 7, 'max_depth': 3},\n",
       " mean: -0.44873, std: 0.03269, params: {'gamma': 0.001, 'min_child_weight': 8, 'max_depth': 3},\n",
       " mean: -0.44044, std: 0.03381, params: {'gamma': 0.001, 'min_child_weight': 1, 'max_depth': 4},\n",
       " mean: -0.44396, std: 0.03376, params: {'gamma': 0.001, 'min_child_weight': 2, 'max_depth': 4},\n",
       " mean: -0.44389, std: 0.03433, params: {'gamma': 0.001, 'min_child_weight': 3, 'max_depth': 4},\n",
       " mean: -0.44311, std: 0.03518, params: {'gamma': 0.001, 'min_child_weight': 4, 'max_depth': 4},\n",
       " mean: -0.44271, std: 0.03540, params: {'gamma': 0.001, 'min_child_weight': 5, 'max_depth': 4},\n",
       " mean: -0.44311, std: 0.03382, params: {'gamma': 0.001, 'min_child_weight': 6, 'max_depth': 4},\n",
       " mean: -0.44544, std: 0.03353, params: {'gamma': 0.001, 'min_child_weight': 7, 'max_depth': 4},\n",
       " mean: -0.44658, std: 0.03317, params: {'gamma': 0.001, 'min_child_weight': 8, 'max_depth': 4},\n",
       " mean: -0.44085, std: 0.03707, params: {'gamma': 0.001, 'min_child_weight': 1, 'max_depth': 5},\n",
       " mean: -0.44613, std: 0.03638, params: {'gamma': 0.001, 'min_child_weight': 2, 'max_depth': 5},\n",
       " mean: -0.44340, std: 0.03526, params: {'gamma': 0.001, 'min_child_weight': 3, 'max_depth': 5},\n",
       " mean: -0.44087, std: 0.03581, params: {'gamma': 0.001, 'min_child_weight': 4, 'max_depth': 5},\n",
       " mean: -0.44097, std: 0.03524, params: {'gamma': 0.001, 'min_child_weight': 5, 'max_depth': 5},\n",
       " mean: -0.44109, std: 0.03439, params: {'gamma': 0.001, 'min_child_weight': 6, 'max_depth': 5},\n",
       " mean: -0.44362, std: 0.03399, params: {'gamma': 0.001, 'min_child_weight': 7, 'max_depth': 5},\n",
       " mean: -0.44497, std: 0.03367, params: {'gamma': 0.001, 'min_child_weight': 8, 'max_depth': 5},\n",
       " mean: -0.44549, std: 0.03891, params: {'gamma': 0.001, 'min_child_weight': 1, 'max_depth': 6},\n",
       " mean: -0.44650, std: 0.03752, params: {'gamma': 0.001, 'min_child_weight': 2, 'max_depth': 6},\n",
       " mean: -0.44316, std: 0.03609, params: {'gamma': 0.001, 'min_child_weight': 3, 'max_depth': 6},\n",
       " mean: -0.44036, std: 0.03648, params: {'gamma': 0.001, 'min_child_weight': 4, 'max_depth': 6},\n",
       " mean: -0.44031, std: 0.03564, params: {'gamma': 0.001, 'min_child_weight': 5, 'max_depth': 6},\n",
       " mean: -0.44062, std: 0.03413, params: {'gamma': 0.001, 'min_child_weight': 6, 'max_depth': 6},\n",
       " mean: -0.44333, std: 0.03352, params: {'gamma': 0.001, 'min_child_weight': 7, 'max_depth': 6},\n",
       " mean: -0.44465, std: 0.03329, params: {'gamma': 0.001, 'min_child_weight': 8, 'max_depth': 6},\n",
       " mean: -0.45025, std: 0.04146, params: {'gamma': 0.001, 'min_child_weight': 1, 'max_depth': 7},\n",
       " mean: -0.44758, std: 0.03863, params: {'gamma': 0.001, 'min_child_weight': 2, 'max_depth': 7},\n",
       " mean: -0.44322, std: 0.03686, params: {'gamma': 0.001, 'min_child_weight': 3, 'max_depth': 7},\n",
       " mean: -0.44024, std: 0.03598, params: {'gamma': 0.001, 'min_child_weight': 4, 'max_depth': 7},\n",
       " mean: -0.43969, std: 0.03480, params: {'gamma': 0.001, 'min_child_weight': 5, 'max_depth': 7},\n",
       " mean: -0.44028, std: 0.03359, params: {'gamma': 0.001, 'min_child_weight': 6, 'max_depth': 7},\n",
       " mean: -0.44322, std: 0.03370, params: {'gamma': 0.001, 'min_child_weight': 7, 'max_depth': 7},\n",
       " mean: -0.44456, std: 0.03367, params: {'gamma': 0.001, 'min_child_weight': 8, 'max_depth': 7},\n",
       " mean: -0.45307, std: 0.04209, params: {'gamma': 0.001, 'min_child_weight': 1, 'max_depth': 8},\n",
       " mean: -0.44894, std: 0.03972, params: {'gamma': 0.001, 'min_child_weight': 2, 'max_depth': 8},\n",
       " mean: -0.44308, std: 0.03658, params: {'gamma': 0.001, 'min_child_weight': 3, 'max_depth': 8},\n",
       " mean: -0.43983, std: 0.03565, params: {'gamma': 0.001, 'min_child_weight': 4, 'max_depth': 8},\n",
       " mean: -0.43956, std: 0.03447, params: {'gamma': 0.001, 'min_child_weight': 5, 'max_depth': 8},\n",
       " mean: -0.44022, std: 0.03365, params: {'gamma': 0.001, 'min_child_weight': 6, 'max_depth': 8},\n",
       " mean: -0.44295, std: 0.03385, params: {'gamma': 0.001, 'min_child_weight': 7, 'max_depth': 8},\n",
       " mean: -0.44439, std: 0.03340, params: {'gamma': 0.001, 'min_child_weight': 8, 'max_depth': 8},\n",
       " mean: -0.45574, std: 0.04365, params: {'gamma': 0.001, 'min_child_weight': 1, 'max_depth': 9},\n",
       " mean: -0.45020, std: 0.03969, params: {'gamma': 0.001, 'min_child_weight': 2, 'max_depth': 9},\n",
       " mean: -0.44290, std: 0.03641, params: {'gamma': 0.001, 'min_child_weight': 3, 'max_depth': 9},\n",
       " mean: -0.43986, std: 0.03538, params: {'gamma': 0.001, 'min_child_weight': 4, 'max_depth': 9},\n",
       " mean: -0.43951, std: 0.03443, params: {'gamma': 0.001, 'min_child_weight': 5, 'max_depth': 9},\n",
       " mean: -0.44015, std: 0.03344, params: {'gamma': 0.001, 'min_child_weight': 6, 'max_depth': 9},\n",
       " mean: -0.44294, std: 0.03374, params: {'gamma': 0.001, 'min_child_weight': 7, 'max_depth': 9},\n",
       " mean: -0.44445, std: 0.03342, params: {'gamma': 0.001, 'min_child_weight': 8, 'max_depth': 9},\n",
       " mean: -0.44730, std: 0.02880, params: {'gamma': 0.1, 'min_child_weight': 1, 'max_depth': 2},\n",
       " mean: -0.44820, std: 0.02740, params: {'gamma': 0.1, 'min_child_weight': 2, 'max_depth': 2},\n",
       " mean: -0.44928, std: 0.02737, params: {'gamma': 0.1, 'min_child_weight': 3, 'max_depth': 2},\n",
       " mean: -0.45017, std: 0.02869, params: {'gamma': 0.1, 'min_child_weight': 4, 'max_depth': 2},\n",
       " mean: -0.45065, std: 0.02945, params: {'gamma': 0.1, 'min_child_weight': 5, 'max_depth': 2},\n",
       " mean: -0.45028, std: 0.03028, params: {'gamma': 0.1, 'min_child_weight': 6, 'max_depth': 2},\n",
       " mean: -0.45095, std: 0.03036, params: {'gamma': 0.1, 'min_child_weight': 7, 'max_depth': 2},\n",
       " mean: -0.45109, std: 0.03018, params: {'gamma': 0.1, 'min_child_weight': 8, 'max_depth': 2},\n",
       " mean: -0.44220, std: 0.03121, params: {'gamma': 0.1, 'min_child_weight': 1, 'max_depth': 3},\n",
       " mean: -0.44407, std: 0.02961, params: {'gamma': 0.1, 'min_child_weight': 2, 'max_depth': 3},\n",
       " mean: -0.44541, std: 0.03202, params: {'gamma': 0.1, 'min_child_weight': 3, 'max_depth': 3},\n",
       " mean: -0.44557, std: 0.03369, params: {'gamma': 0.1, 'min_child_weight': 4, 'max_depth': 3},\n",
       " mean: -0.44536, std: 0.03405, params: {'gamma': 0.1, 'min_child_weight': 5, 'max_depth': 3},\n",
       " mean: -0.44591, std: 0.03349, params: {'gamma': 0.1, 'min_child_weight': 6, 'max_depth': 3},\n",
       " mean: -0.44765, std: 0.03314, params: {'gamma': 0.1, 'min_child_weight': 7, 'max_depth': 3},\n",
       " mean: -0.44870, std: 0.03270, params: {'gamma': 0.1, 'min_child_weight': 8, 'max_depth': 3},\n",
       " mean: -0.44033, std: 0.03354, params: {'gamma': 0.1, 'min_child_weight': 1, 'max_depth': 4},\n",
       " mean: -0.44409, std: 0.03360, params: {'gamma': 0.1, 'min_child_weight': 2, 'max_depth': 4},\n",
       " mean: -0.44413, std: 0.03424, params: {'gamma': 0.1, 'min_child_weight': 3, 'max_depth': 4},\n",
       " mean: -0.44315, std: 0.03531, params: {'gamma': 0.1, 'min_child_weight': 4, 'max_depth': 4},\n",
       " mean: -0.44284, std: 0.03544, params: {'gamma': 0.1, 'min_child_weight': 5, 'max_depth': 4},\n",
       " mean: -0.44348, std: 0.03395, params: {'gamma': 0.1, 'min_child_weight': 6, 'max_depth': 4},\n",
       " mean: -0.44543, std: 0.03355, params: {'gamma': 0.1, 'min_child_weight': 7, 'max_depth': 4},\n",
       " mean: -0.44670, std: 0.03315, params: {'gamma': 0.1, 'min_child_weight': 8, 'max_depth': 4},\n",
       " mean: -0.44095, std: 0.03685, params: {'gamma': 0.1, 'min_child_weight': 1, 'max_depth': 5},\n",
       " mean: -0.44608, std: 0.03660, params: {'gamma': 0.1, 'min_child_weight': 2, 'max_depth': 5},\n",
       " mean: -0.44357, std: 0.03520, params: {'gamma': 0.1, 'min_child_weight': 3, 'max_depth': 5},\n",
       " mean: -0.44072, std: 0.03577, params: {'gamma': 0.1, 'min_child_weight': 4, 'max_depth': 5},\n",
       " mean: -0.44114, std: 0.03525, params: {'gamma': 0.1, 'min_child_weight': 5, 'max_depth': 5},\n",
       " mean: -0.44118, std: 0.03445, params: {'gamma': 0.1, 'min_child_weight': 6, 'max_depth': 5},\n",
       " mean: -0.44379, std: 0.03414, params: {'gamma': 0.1, 'min_child_weight': 7, 'max_depth': 5},\n",
       " mean: -0.44506, std: 0.03378, params: {'gamma': 0.1, 'min_child_weight': 8, 'max_depth': 5},\n",
       " mean: -0.44552, std: 0.03885, params: {'gamma': 0.1, 'min_child_weight': 1, 'max_depth': 6},\n",
       " mean: -0.44668, std: 0.03796, params: {'gamma': 0.1, 'min_child_weight': 2, 'max_depth': 6},\n",
       " mean: -0.44364, std: 0.03603, params: {'gamma': 0.1, 'min_child_weight': 3, 'max_depth': 6},\n",
       " mean: -0.44022, std: 0.03632, params: {'gamma': 0.1, 'min_child_weight': 4, 'max_depth': 6},\n",
       " mean: -0.44044, std: 0.03527, params: {'gamma': 0.1, 'min_child_weight': 5, 'max_depth': 6},\n",
       " mean: -0.44092, std: 0.03427, params: {'gamma': 0.1, 'min_child_weight': 6, 'max_depth': 6},\n",
       " mean: -0.44340, std: 0.03370, params: {'gamma': 0.1, 'min_child_weight': 7, 'max_depth': 6},\n",
       " mean: -0.44491, std: 0.03353, params: {'gamma': 0.1, 'min_child_weight': 8, 'max_depth': 6},\n",
       " mean: -0.44982, std: 0.04105, params: {'gamma': 0.1, 'min_child_weight': 1, 'max_depth': 7},\n",
       " mean: -0.44756, std: 0.03898, params: {'gamma': 0.1, 'min_child_weight': 2, 'max_depth': 7},\n",
       " mean: -0.44326, std: 0.03672, params: {'gamma': 0.1, 'min_child_weight': 3, 'max_depth': 7},\n",
       " mean: -0.44003, std: 0.03600, params: {'gamma': 0.1, 'min_child_weight': 4, 'max_depth': 7},\n",
       " mean: -0.43975, std: 0.03485, params: {'gamma': 0.1, 'min_child_weight': 5, 'max_depth': 7},\n",
       " mean: -0.44076, std: 0.03395, params: {'gamma': 0.1, 'min_child_weight': 6, 'max_depth': 7},\n",
       " mean: -0.44325, std: 0.03381, params: {'gamma': 0.1, 'min_child_weight': 7, 'max_depth': 7},\n",
       " mean: -0.44467, std: 0.03362, params: {'gamma': 0.1, 'min_child_weight': 8, 'max_depth': 7},\n",
       " mean: -0.45242, std: 0.04226, params: {'gamma': 0.1, 'min_child_weight': 1, 'max_depth': 8},\n",
       " mean: -0.44921, std: 0.03981, params: {'gamma': 0.1, 'min_child_weight': 2, 'max_depth': 8},\n",
       " mean: -0.44307, std: 0.03618, params: {'gamma': 0.1, 'min_child_weight': 3, 'max_depth': 8},\n",
       " mean: -0.44021, std: 0.03543, params: {'gamma': 0.1, 'min_child_weight': 4, 'max_depth': 8},\n",
       " mean: -0.43956, std: 0.03459, params: {'gamma': 0.1, 'min_child_weight': 5, 'max_depth': 8},\n",
       " mean: -0.44037, std: 0.03343, params: {'gamma': 0.1, 'min_child_weight': 6, 'max_depth': 8},\n",
       " mean: -0.44322, std: 0.03390, params: {'gamma': 0.1, 'min_child_weight': 7, 'max_depth': 8},\n",
       " mean: -0.44472, std: 0.03358, params: {'gamma': 0.1, 'min_child_weight': 8, 'max_depth': 8},\n",
       " mean: -0.45509, std: 0.04314, params: {'gamma': 0.1, 'min_child_weight': 1, 'max_depth': 9},\n",
       " mean: -0.45024, std: 0.04021, params: {'gamma': 0.1, 'min_child_weight': 2, 'max_depth': 9},\n",
       " mean: -0.44289, std: 0.03627, params: {'gamma': 0.1, 'min_child_weight': 3, 'max_depth': 9},\n",
       " mean: -0.43999, std: 0.03536, params: {'gamma': 0.1, 'min_child_weight': 4, 'max_depth': 9},\n",
       " mean: -0.43974, std: 0.03423, params: {'gamma': 0.1, 'min_child_weight': 5, 'max_depth': 9},\n",
       " mean: -0.44037, std: 0.03361, params: {'gamma': 0.1, 'min_child_weight': 6, 'max_depth': 9},\n",
       " mean: -0.44321, std: 0.03380, params: {'gamma': 0.1, 'min_child_weight': 7, 'max_depth': 9},\n",
       " mean: -0.44471, std: 0.03360, params: {'gamma': 0.1, 'min_child_weight': 8, 'max_depth': 9},\n",
       " mean: -0.44744, std: 0.02881, params: {'gamma': 0.5, 'min_child_weight': 1, 'max_depth': 2},\n",
       " mean: -0.44793, std: 0.02736, params: {'gamma': 0.5, 'min_child_weight': 2, 'max_depth': 2},\n",
       " mean: -0.44926, std: 0.02743, params: {'gamma': 0.5, 'min_child_weight': 3, 'max_depth': 2},\n",
       " mean: -0.45006, std: 0.02870, params: {'gamma': 0.5, 'min_child_weight': 4, 'max_depth': 2},\n",
       " mean: -0.45048, std: 0.02938, params: {'gamma': 0.5, 'min_child_weight': 5, 'max_depth': 2},\n",
       " mean: -0.45026, std: 0.03047, params: {'gamma': 0.5, 'min_child_weight': 6, 'max_depth': 2},\n",
       " mean: -0.45101, std: 0.03051, params: {'gamma': 0.5, 'min_child_weight': 7, 'max_depth': 2},\n",
       " mean: -0.45129, std: 0.03018, params: {'gamma': 0.5, 'min_child_weight': 8, 'max_depth': 2},\n",
       " mean: -0.44233, std: 0.03148, params: {'gamma': 0.5, 'min_child_weight': 1, 'max_depth': 3},\n",
       " mean: -0.44430, std: 0.02980, params: {'gamma': 0.5, 'min_child_weight': 2, 'max_depth': 3},\n",
       " mean: -0.44583, std: 0.03192, params: {'gamma': 0.5, 'min_child_weight': 3, 'max_depth': 3},\n",
       " mean: -0.44578, std: 0.03362, params: {'gamma': 0.5, 'min_child_weight': 4, 'max_depth': 3},\n",
       " mean: -0.44583, std: 0.03396, params: {'gamma': 0.5, 'min_child_weight': 5, 'max_depth': 3},\n",
       " mean: -0.44616, std: 0.03333, params: {'gamma': 0.5, 'min_child_weight': 6, 'max_depth': 3},\n",
       " mean: -0.44814, std: 0.03320, params: {'gamma': 0.5, 'min_child_weight': 7, 'max_depth': 3},\n",
       " mean: -0.44880, std: 0.03269, params: {'gamma': 0.5, 'min_child_weight': 8, 'max_depth': 3},\n",
       " mean: -0.44102, std: 0.03351, params: {'gamma': 0.5, 'min_child_weight': 1, 'max_depth': 4},\n",
       " mean: -0.44453, std: 0.03357, params: {'gamma': 0.5, 'min_child_weight': 2, 'max_depth': 4},\n",
       " mean: -0.44453, std: 0.03408, params: {'gamma': 0.5, 'min_child_weight': 3, 'max_depth': 4},\n",
       " mean: -0.44428, std: 0.03505, params: {'gamma': 0.5, 'min_child_weight': 4, 'max_depth': 4},\n",
       " mean: -0.44371, std: 0.03558, params: {'gamma': 0.5, 'min_child_weight': 5, 'max_depth': 4},\n",
       " mean: -0.44436, std: 0.03426, params: {'gamma': 0.5, 'min_child_weight': 6, 'max_depth': 4},\n",
       " mean: -0.44587, std: 0.03393, params: {'gamma': 0.5, 'min_child_weight': 7, 'max_depth': 4},\n",
       " mean: -0.44675, std: 0.03310, params: {'gamma': 0.5, 'min_child_weight': 8, 'max_depth': 4},\n",
       " mean: -0.44196, std: 0.03623, params: {'gamma': 0.5, 'min_child_weight': 1, 'max_depth': 5},\n",
       " mean: -0.44589, std: 0.03631, params: {'gamma': 0.5, 'min_child_weight': 2, 'max_depth': 5},\n",
       " mean: -0.44377, std: 0.03533, params: {'gamma': 0.5, 'min_child_weight': 3, 'max_depth': 5},\n",
       " mean: -0.44189, std: 0.03567, params: {'gamma': 0.5, 'min_child_weight': 4, 'max_depth': 5},\n",
       " mean: -0.44235, std: 0.03561, params: {'gamma': 0.5, 'min_child_weight': 5, 'max_depth': 5},\n",
       " mean: -0.44263, std: 0.03476, params: {'gamma': 0.5, 'min_child_weight': 6, 'max_depth': 5},\n",
       " mean: -0.44450, std: 0.03414, params: {'gamma': 0.5, 'min_child_weight': 7, 'max_depth': 5},\n",
       " mean: -0.44573, std: 0.03379, params: {'gamma': 0.5, 'min_child_weight': 8, 'max_depth': 5},\n",
       " mean: -0.44496, std: 0.03743, params: {'gamma': 0.5, 'min_child_weight': 1, 'max_depth': 6},\n",
       " mean: -0.44640, std: 0.03675, params: {'gamma': 0.5, 'min_child_weight': 2, 'max_depth': 6},\n",
       " mean: -0.44397, std: 0.03614, params: {'gamma': 0.5, 'min_child_weight': 3, 'max_depth': 6},\n",
       " mean: -0.44139, std: 0.03648, params: {'gamma': 0.5, 'min_child_weight': 4, 'max_depth': 6},\n",
       " mean: -0.44181, std: 0.03580, params: {'gamma': 0.5, 'min_child_weight': 5, 'max_depth': 6},\n",
       " mean: -0.44217, std: 0.03495, params: {'gamma': 0.5, 'min_child_weight': 6, 'max_depth': 6},\n",
       " mean: -0.44425, std: 0.03393, params: {'gamma': 0.5, 'min_child_weight': 7, 'max_depth': 6},\n",
       " mean: -0.44582, std: 0.03353, params: {'gamma': 0.5, 'min_child_weight': 8, 'max_depth': 6},\n",
       " mean: -0.44667, std: 0.03878, params: {'gamma': 0.5, 'min_child_weight': 1, 'max_depth': 7},\n",
       " mean: -0.44683, std: 0.03836, params: {'gamma': 0.5, 'min_child_weight': 2, 'max_depth': 7},\n",
       " mean: -0.44393, std: 0.03695, params: {'gamma': 0.5, 'min_child_weight': 3, 'max_depth': 7},\n",
       " mean: -0.44087, std: 0.03604, params: {'gamma': 0.5, 'min_child_weight': 4, 'max_depth': 7},\n",
       " mean: -0.44085, std: 0.03579, params: {'gamma': 0.5, 'min_child_weight': 5, 'max_depth': 7},\n",
       " mean: -0.44186, std: 0.03451, params: {'gamma': 0.5, 'min_child_weight': 6, 'max_depth': 7},\n",
       " mean: -0.44392, std: 0.03409, params: {'gamma': 0.5, 'min_child_weight': 7, 'max_depth': 7},\n",
       " mean: -0.44558, std: 0.03372, params: {'gamma': 0.5, 'min_child_weight': 8, 'max_depth': 7},\n",
       " mean: -0.44749, std: 0.04082, params: {'gamma': 0.5, 'min_child_weight': 1, 'max_depth': 8},\n",
       " mean: -0.44710, std: 0.03889, params: {'gamma': 0.5, 'min_child_weight': 2, 'max_depth': 8},\n",
       " mean: -0.44357, std: 0.03633, params: {'gamma': 0.5, 'min_child_weight': 3, 'max_depth': 8},\n",
       " mean: -0.44083, std: 0.03575, params: {'gamma': 0.5, 'min_child_weight': 4, 'max_depth': 8},\n",
       " mean: -0.44102, std: 0.03545, params: {'gamma': 0.5, 'min_child_weight': 5, 'max_depth': 8},\n",
       " mean: -0.44196, std: 0.03417, params: {'gamma': 0.5, 'min_child_weight': 6, 'max_depth': 8},\n",
       " mean: -0.44395, std: 0.03417, params: {'gamma': 0.5, 'min_child_weight': 7, 'max_depth': 8},\n",
       " mean: -0.44561, std: 0.03368, params: {'gamma': 0.5, 'min_child_weight': 8, 'max_depth': 8},\n",
       " mean: -0.44931, std: 0.04130, params: {'gamma': 0.5, 'min_child_weight': 1, 'max_depth': 9},\n",
       " mean: -0.44769, std: 0.03921, params: {'gamma': 0.5, 'min_child_weight': 2, 'max_depth': 9},\n",
       " mean: -0.44348, std: 0.03628, params: {'gamma': 0.5, 'min_child_weight': 3, 'max_depth': 9},\n",
       " mean: -0.44054, std: 0.03579, params: {'gamma': 0.5, 'min_child_weight': 4, 'max_depth': 9},\n",
       " mean: -0.44073, std: 0.03540, params: {'gamma': 0.5, 'min_child_weight': 5, 'max_depth': 9},\n",
       " mean: -0.44187, std: 0.03431, params: {'gamma': 0.5, 'min_child_weight': 6, 'max_depth': 9},\n",
       " mean: -0.44398, std: 0.03409, params: {'gamma': 0.5, 'min_child_weight': 7, 'max_depth': 9},\n",
       " mean: -0.44557, std: 0.03372, params: {'gamma': 0.5, 'min_child_weight': 8, 'max_depth': 9},\n",
       " mean: -0.44775, std: 0.02809, params: {'gamma': 1, 'min_child_weight': 1, 'max_depth': 2},\n",
       " mean: -0.44842, std: 0.02703, params: {'gamma': 1, 'min_child_weight': 2, 'max_depth': 2},\n",
       " mean: -0.44943, std: 0.02738, params: {'gamma': 1, 'min_child_weight': 3, 'max_depth': 2},\n",
       " mean: -0.45017, std: 0.02839, params: {'gamma': 1, 'min_child_weight': 4, 'max_depth': 2},\n",
       " mean: -0.45065, std: 0.02925, params: {'gamma': 1, 'min_child_weight': 5, 'max_depth': 2},\n",
       " mean: -0.45089, std: 0.03007, params: {'gamma': 1, 'min_child_weight': 6, 'max_depth': 2},\n",
       " mean: -0.45174, std: 0.03035, params: {'gamma': 1, 'min_child_weight': 7, 'max_depth': 2},\n",
       " mean: -0.45238, std: 0.03003, params: {'gamma': 1, 'min_child_weight': 8, 'max_depth': 2},\n",
       " mean: -0.44265, std: 0.03017, params: {'gamma': 1, 'min_child_weight': 1, 'max_depth': 3},\n",
       " mean: -0.44516, std: 0.02956, params: {'gamma': 1, 'min_child_weight': 2, 'max_depth': 3},\n",
       " mean: -0.44644, std: 0.03139, params: {'gamma': 1, 'min_child_weight': 3, 'max_depth': 3},\n",
       " mean: -0.44655, std: 0.03344, params: {'gamma': 1, 'min_child_weight': 4, 'max_depth': 3},\n",
       " mean: -0.44713, std: 0.03377, params: {'gamma': 1, 'min_child_weight': 5, 'max_depth': 3},\n",
       " mean: -0.44714, std: 0.03339, params: {'gamma': 1, 'min_child_weight': 6, 'max_depth': 3},\n",
       " mean: -0.44862, std: 0.03300, params: {'gamma': 1, 'min_child_weight': 7, 'max_depth': 3},\n",
       " mean: -0.44960, std: 0.03245, params: {'gamma': 1, 'min_child_weight': 8, 'max_depth': 3},\n",
       " mean: -0.44117, std: 0.03277, params: {'gamma': 1, 'min_child_weight': 1, 'max_depth': 4},\n",
       " mean: -0.44408, std: 0.03235, params: {'gamma': 1, 'min_child_weight': 2, 'max_depth': 4},\n",
       " mean: -0.44493, std: 0.03366, params: {'gamma': 1, 'min_child_weight': 3, 'max_depth': 4},\n",
       " mean: -0.44526, std: 0.03436, params: {'gamma': 1, 'min_child_weight': 4, 'max_depth': 4},\n",
       " mean: -0.44546, std: 0.03468, params: {'gamma': 1, 'min_child_weight': 5, 'max_depth': 4},\n",
       " mean: -0.44536, std: 0.03411, params: {'gamma': 1, 'min_child_weight': 6, 'max_depth': 4},\n",
       " mean: -0.44714, std: 0.03351, params: {'gamma': 1, 'min_child_weight': 7, 'max_depth': 4},\n",
       " mean: -0.44800, std: 0.03290, params: {'gamma': 1, 'min_child_weight': 8, 'max_depth': 4},\n",
       " mean: -0.44097, std: 0.03467, params: {'gamma': 1, 'min_child_weight': 1, 'max_depth': 5},\n",
       " mean: -0.44458, std: 0.03471, params: {'gamma': 1, 'min_child_weight': 2, 'max_depth': 5},\n",
       " mean: -0.44414, std: 0.03473, params: {'gamma': 1, 'min_child_weight': 3, 'max_depth': 5},\n",
       " mean: -0.44356, std: 0.03527, params: {'gamma': 1, 'min_child_weight': 4, 'max_depth': 5},\n",
       " mean: -0.44433, std: 0.03514, params: {'gamma': 1, 'min_child_weight': 5, 'max_depth': 5},\n",
       " mean: -0.44450, std: 0.03479, params: {'gamma': 1, 'min_child_weight': 6, 'max_depth': 5},\n",
       " mean: -0.44614, std: 0.03387, params: {'gamma': 1, 'min_child_weight': 7, 'max_depth': 5},\n",
       " mean: -0.44686, std: 0.03312, params: {'gamma': 1, 'min_child_weight': 8, 'max_depth': 5},\n",
       " mean: -0.44148, std: 0.03594, params: {'gamma': 1, 'min_child_weight': 1, 'max_depth': 6},\n",
       " mean: -0.44456, std: 0.03497, params: {'gamma': 1, 'min_child_weight': 2, 'max_depth': 6},\n",
       " mean: -0.44403, std: 0.03545, params: {'gamma': 1, 'min_child_weight': 3, 'max_depth': 6},\n",
       " mean: -0.44297, std: 0.03602, params: {'gamma': 1, 'min_child_weight': 4, 'max_depth': 6},\n",
       " mean: -0.44358, std: 0.03575, params: {'gamma': 1, 'min_child_weight': 5, 'max_depth': 6},\n",
       " mean: -0.44430, std: 0.03480, params: {'gamma': 1, 'min_child_weight': 6, 'max_depth': 6},\n",
       " mean: -0.44565, std: 0.03382, params: {'gamma': 1, 'min_child_weight': 7, 'max_depth': 6},\n",
       " mean: -0.44694, std: 0.03307, params: {'gamma': 1, 'min_child_weight': 8, 'max_depth': 6},\n",
       " mean: -0.44225, std: 0.03673, params: {'gamma': 1, 'min_child_weight': 1, 'max_depth': 7},\n",
       " mean: -0.44471, std: 0.03539, params: {'gamma': 1, 'min_child_weight': 2, 'max_depth': 7},\n",
       " mean: -0.44392, std: 0.03569, params: {'gamma': 1, 'min_child_weight': 3, 'max_depth': 7},\n",
       " mean: -0.44243, std: 0.03640, params: {'gamma': 1, 'min_child_weight': 4, 'max_depth': 7},\n",
       " mean: -0.44335, std: 0.03557, params: {'gamma': 1, 'min_child_weight': 5, 'max_depth': 7},\n",
       " mean: -0.44383, std: 0.03453, params: {'gamma': 1, 'min_child_weight': 6, 'max_depth': 7},\n",
       " mean: -0.44530, std: 0.03381, params: {'gamma': 1, 'min_child_weight': 7, 'max_depth': 7},\n",
       " mean: -0.44690, std: 0.03319, params: {'gamma': 1, 'min_child_weight': 8, 'max_depth': 7},\n",
       " mean: -0.44229, std: 0.03720, params: {'gamma': 1, 'min_child_weight': 1, 'max_depth': 8},\n",
       " mean: -0.44480, std: 0.03588, params: {'gamma': 1, 'min_child_weight': 2, 'max_depth': 8},\n",
       " mean: -0.44404, std: 0.03612, params: {'gamma': 1, 'min_child_weight': 3, 'max_depth': 8},\n",
       " mean: -0.44250, std: 0.03640, params: {'gamma': 1, 'min_child_weight': 4, 'max_depth': 8},\n",
       " mean: -0.44322, std: 0.03586, params: {'gamma': 1, 'min_child_weight': 5, 'max_depth': 8},\n",
       " mean: -0.44374, std: 0.03457, params: {'gamma': 1, 'min_child_weight': 6, 'max_depth': 8},\n",
       " mean: -0.44527, std: 0.03399, params: {'gamma': 1, 'min_child_weight': 7, 'max_depth': 8},\n",
       " mean: -0.44686, std: 0.03332, params: {'gamma': 1, 'min_child_weight': 8, 'max_depth': 8},\n",
       " mean: -0.44232, std: 0.03741, params: {'gamma': 1, 'min_child_weight': 1, 'max_depth': 9},\n",
       " mean: -0.44530, std: 0.03628, params: {'gamma': 1, 'min_child_weight': 2, 'max_depth': 9},\n",
       " mean: -0.44369, std: 0.03606, params: {'gamma': 1, 'min_child_weight': 3, 'max_depth': 9},\n",
       " mean: -0.44215, std: 0.03610, params: {'gamma': 1, 'min_child_weight': 4, 'max_depth': 9},\n",
       " mean: -0.44290, std: 0.03587, params: {'gamma': 1, 'min_child_weight': 5, 'max_depth': 9},\n",
       " mean: -0.44358, std: 0.03459, params: {'gamma': 1, 'min_child_weight': 6, 'max_depth': 9},\n",
       " mean: -0.44532, std: 0.03380, params: {'gamma': 1, 'min_child_weight': 7, 'max_depth': 9},\n",
       " mean: -0.44686, std: 0.03332, params: {'gamma': 1, 'min_child_weight': 8, 'max_depth': 9}]"
      ]
     },
     "execution_count": 49,
     "metadata": {},
     "output_type": "execute_result"
    }
   ],
   "source": [
    "#optimized_GBM.grid_scores_"
   ]
  },
  {
   "cell_type": "code",
   "execution_count": 50,
   "metadata": {
    "collapsed": false
   },
   "outputs": [
    {
     "data": {
      "text/plain": [
       "{'gamma': 0, 'max_depth': 9, 'min_child_weight': 5}"
      ]
     },
     "execution_count": 50,
     "metadata": {},
     "output_type": "execute_result"
    }
   ],
   "source": [
    "#optimized_GBM.best_score_\n",
    "#optimized_GBM.best_params_\n"
   ]
  },
  {
   "cell_type": "markdown",
   "metadata": {},
   "source": [
    "# Evaluation"
   ]
  },
  {
   "cell_type": "markdown",
   "metadata": {},
   "source": [
    "## logistic"
   ]
  },
  {
   "cell_type": "code",
   "execution_count": 52,
   "metadata": {
    "collapsed": false
   },
   "outputs": [
    {
     "name": "stdout",
     "output_type": "stream",
     "text": [
      "auc: 0.77142351093\n",
      "log loss: 0.4676643908944579\n",
      "             precision    recall  f1-score   support\n",
      "\n",
      "          0       0.82      0.86      0.84       578\n",
      "          1       0.74      0.68      0.71       337\n",
      "\n",
      "avg / total       0.79      0.80      0.79       915\n",
      "\n"
     ]
    }
   ],
   "source": [
    "\n",
    "predicted = model.predict(train_x_matrix)\n",
    "predicted_prob = model.predict_proba(train_x_matrix)\n",
    "\n",
    "#print(metrics.confusion_matrix(train_y, predicted))\n",
    "#print(train_y.astype(float).mean())\n",
    "#print(predicted.astype(int).mean())\n",
    "\n",
    "\n",
    "print(\"auc: \" + str(roc_auc_score(train_y, predicted)))\n",
    "print(\"log loss: {}\".format(log_loss(train_y, predicted_prob)))\n",
    "print(classification_report(train_y, predicted))"
   ]
  },
  {
   "cell_type": "markdown",
   "metadata": {},
   "source": [
    "## random forest"
   ]
  },
  {
   "cell_type": "code",
   "execution_count": 53,
   "metadata": {
    "collapsed": false
   },
   "outputs": [
    {
     "name": "stdout",
     "output_type": "stream",
     "text": [
      "auc:0.766577754068\n",
      "log loss: 0.6139258637404342\n",
      "             precision    recall  f1-score   support\n",
      "\n",
      "          0       0.79      0.85      0.82       230\n",
      "          1       0.77      0.68      0.72       163\n",
      "\n",
      "avg / total       0.78      0.78      0.78       393\n",
      "\n"
     ]
    }
   ],
   "source": [
    "predicted_rf = rf_model.predict(test_x)\n",
    "predicted_rf_prob = rf_model.predict_proba(test_x)\n",
    "print(\"auc:\" + str(roc_auc_score(test_y, predicted_rf)))\n",
    "print(\"log loss: {}\".format(log_loss(test_y, predicted_rf_prob)))\n",
    "print(classification_report(test_y, predicted_rf))"
   ]
  },
  {
   "cell_type": "markdown",
   "metadata": {},
   "source": [
    "## svm"
   ]
  },
  {
   "cell_type": "code",
   "execution_count": 54,
   "metadata": {
    "collapsed": false
   },
   "outputs": [
    {
     "name": "stdout",
     "output_type": "stream",
     "text": [
      "auc:0.71389703921\n",
      "log loss: 0.5596609541744817\n",
      "             precision    recall  f1-score   support\n",
      "\n",
      "          0       0.76      0.77      0.76       230\n",
      "          1       0.67      0.66      0.66       163\n",
      "\n",
      "avg / total       0.72      0.72      0.72       393\n",
      "\n"
     ]
    }
   ],
   "source": [
    "predicted_svm = svm_m.predict(test_x)\n",
    "predicted_svm_prob = svm_m.predict_proba(test_x)\n",
    "print(\"auc:\" + str(roc_auc_score(test_y, predicted_svm)))\n",
    "print(\"log loss: {}\".format(log_loss(test_y, predicted_svm_prob)))\n",
    "print(classification_report(test_y, predicted_svm))"
   ]
  },
  {
   "cell_type": "markdown",
   "metadata": {},
   "source": [
    "## xgb"
   ]
  },
  {
   "cell_type": "code",
   "execution_count": 55,
   "metadata": {
    "collapsed": false
   },
   "outputs": [
    {
     "name": "stdout",
     "output_type": "stream",
     "text": [
      "auc:0.839957321953\n",
      "log loss: 0.36240311959905325\n",
      "             precision    recall  f1-score   support\n",
      "\n",
      "          0       0.85      0.91      0.88       230\n",
      "          1       0.86      0.77      0.81       163\n",
      "\n",
      "avg / total       0.85      0.85      0.85       393\n",
      "\n"
     ]
    }
   ],
   "source": [
    "predicted_xgb = xgb_result1.predict(test_x)\n",
    "predicted_xgb_proba = xgb_result1.predict_proba(test_x)\n",
    "print(\"auc:\" + str(roc_auc_score(test_y, predicted_xgb)))\n",
    "print(\"log loss: {}\".format(log_loss(test_y, predicted_xgb_proba)))\n",
    "print(classification_report(test_y, predicted_xgb))"
   ]
  },
  {
   "cell_type": "markdown",
   "metadata": {
    "collapsed": false
   },
   "source": [
    "## statsmodels logistic instead of sklearn"
   ]
  },
  {
   "cell_type": "code",
   "execution_count": 56,
   "metadata": {
    "collapsed": false
   },
   "outputs": [
    {
     "name": "stdout",
     "output_type": "stream",
     "text": [
      "Optimization terminated successfully.\n",
      "         Current function value: 0.467958\n",
      "         Iterations 6\n"
     ]
    }
   ],
   "source": [
    "import statsmodels.api as sm\n",
    "\n",
    "\n",
    "logit = sm.Logit(train_y.astype(float), train_x.astype(float))\n",
    "#logit2 = sm.Logit(train_y.astype(float), train[['pclass', 'sex', 'Parch', 'Fare']].astype(float))\n",
    "\n",
    "# fit the model\n",
    "result = logit.fit()\n",
    "#result2 = logit2.fit()"
   ]
  },
  {
   "cell_type": "code",
   "execution_count": 57,
   "metadata": {
    "collapsed": false
   },
   "outputs": [
    {
     "data": {
      "text/html": [
       "<table class=\"simpletable\">\n",
       "<caption>Logit Regression Results</caption>\n",
       "<tr>\n",
       "  <th>Dep. Variable:</th>     <td>survived</td>     <th>  No. Observations:  </th>  <td>   915</td>  \n",
       "</tr>\n",
       "<tr>\n",
       "  <th>Model:</th>               <td>Logit</td>      <th>  Df Residuals:      </th>  <td>   908</td>  \n",
       "</tr>\n",
       "<tr>\n",
       "  <th>Method:</th>               <td>MLE</td>       <th>  Df Model:          </th>  <td>     6</td>  \n",
       "</tr>\n",
       "<tr>\n",
       "  <th>Date:</th>          <td>Tue, 02 May 2017</td> <th>  Pseudo R-squ.:     </th>  <td>0.2889</td>  \n",
       "</tr>\n",
       "<tr>\n",
       "  <th>Time:</th>              <td>13:26:23</td>     <th>  Log-Likelihood:    </th> <td> -428.18</td> \n",
       "</tr>\n",
       "<tr>\n",
       "  <th>converged:</th>           <td>True</td>       <th>  LL-Null:           </th> <td> -602.11</td> \n",
       "</tr>\n",
       "<tr>\n",
       "  <th> </th>                      <td> </td>        <th>  LLR p-value:       </th> <td>4.435e-72</td>\n",
       "</tr>\n",
       "</table>\n",
       "<table class=\"simpletable\">\n",
       "<tr>\n",
       "         <td></td>            <th>coef</th>     <th>std err</th>      <th>z</th>      <th>P>|z|</th>  <th>[0.025</th>    <th>0.975]</th>  \n",
       "</tr>\n",
       "<tr>\n",
       "  <th>pclass</th>          <td>   -0.4577</td> <td>    0.148</td> <td>   -3.097</td> <td> 0.002</td> <td>   -0.747</td> <td>   -0.168</td>\n",
       "</tr>\n",
       "<tr>\n",
       "  <th>sex</th>             <td>    2.6199</td> <td>    0.186</td> <td>   14.080</td> <td> 0.000</td> <td>    2.255</td> <td>    2.985</td>\n",
       "</tr>\n",
       "<tr>\n",
       "  <th>parch</th>           <td>   -0.1223</td> <td>    0.102</td> <td>   -1.204</td> <td> 0.229</td> <td>   -0.321</td> <td>    0.077</td>\n",
       "</tr>\n",
       "<tr>\n",
       "  <th>sibsp</th>           <td>   -0.2349</td> <td>    0.103</td> <td>   -2.284</td> <td> 0.022</td> <td>   -0.436</td> <td>   -0.033</td>\n",
       "</tr>\n",
       "<tr>\n",
       "  <th>fare</th>            <td>    0.0037</td> <td>    0.002</td> <td>    1.675</td> <td> 0.094</td> <td>   -0.001</td> <td>    0.008</td>\n",
       "</tr>\n",
       "<tr>\n",
       "  <th>cabin_letter_le</th> <td>   -0.0672</td> <td>    0.039</td> <td>   -1.708</td> <td> 0.088</td> <td>   -0.144</td> <td>    0.010</td>\n",
       "</tr>\n",
       "<tr>\n",
       "  <th>cabin_number</th>    <td>    0.0042</td> <td>    0.012</td> <td>    0.355</td> <td> 0.723</td> <td>   -0.019</td> <td>    0.027</td>\n",
       "</tr>\n",
       "</table>"
      ],
      "text/plain": [
       "<class 'statsmodels.iolib.summary.Summary'>\n",
       "\"\"\"\n",
       "                           Logit Regression Results                           \n",
       "==============================================================================\n",
       "Dep. Variable:               survived   No. Observations:                  915\n",
       "Model:                          Logit   Df Residuals:                      908\n",
       "Method:                           MLE   Df Model:                            6\n",
       "Date:                Tue, 02 May 2017   Pseudo R-squ.:                  0.2889\n",
       "Time:                        13:26:23   Log-Likelihood:                -428.18\n",
       "converged:                       True   LL-Null:                       -602.11\n",
       "                                        LLR p-value:                 4.435e-72\n",
       "===================================================================================\n",
       "                      coef    std err          z      P>|z|      [0.025      0.975]\n",
       "-----------------------------------------------------------------------------------\n",
       "pclass             -0.4577      0.148     -3.097      0.002      -0.747      -0.168\n",
       "sex                 2.6199      0.186     14.080      0.000       2.255       2.985\n",
       "parch              -0.1223      0.102     -1.204      0.229      -0.321       0.077\n",
       "sibsp              -0.2349      0.103     -2.284      0.022      -0.436      -0.033\n",
       "fare                0.0037      0.002      1.675      0.094      -0.001       0.008\n",
       "cabin_letter_le    -0.0672      0.039     -1.708      0.088      -0.144       0.010\n",
       "cabin_number        0.0042      0.012      0.355      0.723      -0.019       0.027\n",
       "===================================================================================\n",
       "\"\"\""
      ]
     },
     "execution_count": 57,
     "metadata": {},
     "output_type": "execute_result"
    }
   ],
   "source": [
    "result.summary()"
   ]
  },
  {
   "cell_type": "code",
   "execution_count": 58,
   "metadata": {
    "collapsed": false
   },
   "outputs": [
    {
     "data": {
      "text/html": [
       "<table class=\"simpletable\">\n",
       "<caption>Generalized Linear Model Regression Results</caption>\n",
       "<tr>\n",
       "  <th>Dep. Variable:</th>      <td>survived</td>     <th>  No. Observations:  </th>  <td>  1308</td> \n",
       "</tr>\n",
       "<tr>\n",
       "  <th>Model:</th>                 <td>GLM</td>       <th>  Df Residuals:      </th>  <td>  1302</td> \n",
       "</tr>\n",
       "<tr>\n",
       "  <th>Model Family:</th>       <td>Binomial</td>     <th>  Df Model:          </th>  <td>     5</td> \n",
       "</tr>\n",
       "<tr>\n",
       "  <th>Link Function:</th>        <td>logit</td>      <th>  Scale:             </th>    <td>1.0</td>  \n",
       "</tr>\n",
       "<tr>\n",
       "  <th>Method:</th>               <td>IRLS</td>       <th>  Log-Likelihood:    </th> <td> -627.75</td>\n",
       "</tr>\n",
       "<tr>\n",
       "  <th>Date:</th>           <td>Tue, 02 May 2017</td> <th>  Deviance:          </th> <td>  1255.5</td>\n",
       "</tr>\n",
       "<tr>\n",
       "  <th>Time:</th>               <td>13:26:23</td>     <th>  Pearson chi2:      </th> <td>1.34e+03</td>\n",
       "</tr>\n",
       "<tr>\n",
       "  <th>No. Iterations:</th>         <td>5</td>        <th>                     </th>     <td> </td>   \n",
       "</tr>\n",
       "</table>\n",
       "<table class=\"simpletable\">\n",
       "<tr>\n",
       "         <td></td>           <th>coef</th>     <th>std err</th>      <th>z</th>      <th>P>|z|</th>  <th>[0.025</th>    <th>0.975]</th>  \n",
       "</tr>\n",
       "<tr>\n",
       "  <th>Intercept</th>      <td>   -0.5051</td> <td>    0.191</td> <td>   -2.651</td> <td> 0.008</td> <td>   -0.879</td> <td>   -0.132</td>\n",
       "</tr>\n",
       "<tr>\n",
       "  <th>C(pclass)[T.2]</th> <td>   -0.7896</td> <td>    0.224</td> <td>   -3.530</td> <td> 0.000</td> <td>   -1.228</td> <td>   -0.351</td>\n",
       "</tr>\n",
       "<tr>\n",
       "  <th>C(pclass)[T.3]</th> <td>   -1.6108</td> <td>    0.210</td> <td>   -7.658</td> <td> 0.000</td> <td>   -2.023</td> <td>   -1.199</td>\n",
       "</tr>\n",
       "<tr>\n",
       "  <th>C(sex)[T.1]</th>    <td>    2.5355</td> <td>    0.151</td> <td>   16.739</td> <td> 0.000</td> <td>    2.239</td> <td>    2.832</td>\n",
       "</tr>\n",
       "<tr>\n",
       "  <th>fare</th>           <td>    0.0016</td> <td>    0.002</td> <td>    0.876</td> <td> 0.381</td> <td>   -0.002</td> <td>    0.005</td>\n",
       "</tr>\n",
       "<tr>\n",
       "  <th>parch</th>          <td>   -0.0886</td> <td>    0.084</td> <td>   -1.055</td> <td> 0.291</td> <td>   -0.253</td> <td>    0.076</td>\n",
       "</tr>\n",
       "</table>"
      ],
      "text/plain": [
       "<class 'statsmodels.iolib.summary.Summary'>\n",
       "\"\"\"\n",
       "                 Generalized Linear Model Regression Results                  \n",
       "==============================================================================\n",
       "Dep. Variable:               survived   No. Observations:                 1308\n",
       "Model:                            GLM   Df Residuals:                     1302\n",
       "Model Family:                Binomial   Df Model:                            5\n",
       "Link Function:                  logit   Scale:                             1.0\n",
       "Method:                          IRLS   Log-Likelihood:                -627.75\n",
       "Date:                Tue, 02 May 2017   Deviance:                       1255.5\n",
       "Time:                        13:26:23   Pearson chi2:                 1.34e+03\n",
       "No. Iterations:                     5                                         \n",
       "==================================================================================\n",
       "                     coef    std err          z      P>|z|      [0.025      0.975]\n",
       "----------------------------------------------------------------------------------\n",
       "Intercept         -0.5051      0.191     -2.651      0.008      -0.879      -0.132\n",
       "C(pclass)[T.2]    -0.7896      0.224     -3.530      0.000      -1.228      -0.351\n",
       "C(pclass)[T.3]    -1.6108      0.210     -7.658      0.000      -2.023      -1.199\n",
       "C(sex)[T.1]        2.5355      0.151     16.739      0.000       2.239       2.832\n",
       "fare               0.0016      0.002      0.876      0.381      -0.002       0.005\n",
       "parch             -0.0886      0.084     -1.055      0.291      -0.253       0.076\n",
       "==================================================================================\n",
       "\"\"\""
      ]
     },
     "execution_count": 58,
     "metadata": {},
     "output_type": "execute_result"
    }
   ],
   "source": [
    "import statsmodels.formula.api as smf\n",
    "import statsmodels.api as sm\n",
    "log_model = smf.glm('survived ~ C(pclass) + fare + parch + C(sex)', \n",
    "        data = train, family = sm.families.Binomial()).fit()\n",
    "log_model.summary()"
   ]
  },
  {
   "cell_type": "code",
   "execution_count": 59,
   "metadata": {
    "collapsed": false
   },
   "outputs": [
    {
     "name": "stdout",
     "output_type": "stream",
     "text": [
      "(1308,)\n",
      "      pclass  sex  parch  sibsp   fare  cabin_letter_le  cabin_number\n",
      "1213       3    0      0      0   8.05               10           0.0\n",
      "1208       3    1      2      3  27.90               10           0.0\n",
      "[ 0.91377443  0.39042882  0.88993126  0.39042882  0.88993126]\n",
      "[ 0.12069396  0.42790054  0.74530071  0.12064429  0.12063089]\n"
     ]
    }
   ],
   "source": [
    "y = log_model.predict()\n",
    "print(y.shape)\n",
    "print(train_x.iloc[0:2,])\n",
    "print(y[0:5])\n",
    "print(predicted_prob[0:5,1])"
   ]
  },
  {
   "cell_type": "markdown",
   "metadata": {},
   "source": [
    "## Interpreting results\n"
   ]
  },
  {
   "cell_type": "code",
   "execution_count": 61,
   "metadata": {
    "collapsed": false
   },
   "outputs": [
    {
     "name": "stdout",
     "output_type": "stream",
     "text": [
      "ratio for men/women 15.0473214709\n",
      "15.0473214709\n",
      "ratio inc/dec for each parent/child 0.823987433332\n"
     ]
    }
   ],
   "source": [
    "# men labeled 0\n",
    "print(\"ratio for men/women \"  + str(np.exp(2.7112)))\n",
    "print(\"ratio inc/dec for each parent/child \" + str(np.exp((-0.1936))))"
   ]
  }
 ],
 "metadata": {
  "anaconda-cloud": {},
  "kernelspec": {
   "display_name": "Python 3",
   "language": "python",
   "name": "python3"
  },
  "language_info": {
   "codemirror_mode": {
    "name": "ipython",
    "version": 3
   },
   "file_extension": ".py",
   "mimetype": "text/x-python",
   "name": "python",
   "nbconvert_exporter": "python",
   "pygments_lexer": "ipython3",
   "version": "3.5.2"
  }
 },
 "nbformat": 4,
 "nbformat_minor": 1
}
