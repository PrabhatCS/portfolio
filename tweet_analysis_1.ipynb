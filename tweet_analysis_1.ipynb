{
 "cells": [
  {
   "cell_type": "markdown",
   "metadata": {},
   "source": [
    "## Introduction"
   ]
  },
  {
   "cell_type": "markdown",
   "metadata": {},
   "source": [
    "This notebook goes through the process using tweepy to collect streaming tweets, then uploads those tweets to an existing postgres database in Linux."
   ]
  },
  {
   "cell_type": "markdown",
   "metadata": {},
   "source": [
    "## Tweepy and the twitter streaming api"
   ]
  },
  {
   "cell_type": "markdown",
   "metadata": {},
   "source": [
    "Twitter has an api that lets you access stored tweets in a limited way or an active stream of live tweets that can be filtered. Tweepy is the most popular python library for interacting with this api. It handles the authorization for you, and has a streamlistener class that you need to customize to use. "
   ]
  },
  {
   "cell_type": "markdown",
   "metadata": {},
   "source": [
    "## Authorization"
   ]
  },
  {
   "cell_type": "code",
   "execution_count": 5,
   "metadata": {
    "collapsed": true
   },
   "outputs": [],
   "source": [
    "import numpy as np\n",
    "import pandas as pd\n",
    "import time\n",
    "import tweepy\n",
    "from tweepy import Stream\n",
    "from tweepy import OAuthHandler\n",
    "from tweepy import StreamListener\n",
    "import os\n",
    "import json"
   ]
  },
  {
   "cell_type": "code",
   "execution_count": 2,
   "metadata": {
    "collapsed": true
   },
   "outputs": [],
   "source": [
    "cons_key = \n",
    "cons_secret = \n",
    "access_token = \n",
    "access_token_secret = \n",
    "auth = OAuthHandler(cons_key, cons_secret)\n",
    "auth.set_access_token(access_token, access_token_secret)"
   ]
  },
  {
   "cell_type": "markdown",
   "metadata": {},
   "source": [
    "## The streamelistener class"
   ]
  },
  {
   "cell_type": "code",
   "execution_count": 5,
   "metadata": {
    "collapsed": true
   },
   "outputs": [],
   "source": [
    "class MyStreamListener(tweepy.StreamListener):\n",
    "    def __init__(self, api=None):\n",
    "        super(MyStreamListener, self).__init__()\n",
    "        self.num_tweets = 0\n",
    "        self.file = open(\"tweets.txt\", \"w\")\n",
    "\n",
    "    def on_status(self, status):\n",
    "        # The try/except statements were used here to filter out retweets \n",
    "        try:\n",
    "            status.retweeted_status\n",
    "        except:     \n",
    "            if status.in_reply_to_user_id is None:           \n",
    "                #print(status.text)\n",
    "                tweet = status._json\n",
    "                self.file.write( json.dumps(tweet) + '\\n' )\n",
    "                self.num_tweets += 1\n",
    "                if self.num_tweets <= 1000:\n",
    "                    return True\n",
    "                else:\n",
    "                    return False\n",
    "                self.file.close()\n",
    "\n",
    "    def on_error(self, status):\n",
    "        print(status)"
   ]
  },
  {
   "cell_type": "code",
   "execution_count": 6,
   "metadata": {
    "collapsed": true
   },
   "outputs": [],
   "source": [
    "# wonder woman grabs tweets that have 'wonderwoman' and 'wonder woman'\n",
    "\n",
    "keyword_list = ['wonder woman']\n",
    "twitterStream = Stream(auth, MyStreamListener()) \n",
    "twitterStream.filter(track=keyword_list, languages=['en'])  "
   ]
  },
  {
   "cell_type": "markdown",
   "metadata": {},
   "source": [
    "## Parsing json strings"
   ]
  },
  {
   "cell_type": "markdown",
   "metadata": {},
   "source": [
    "The stream of tweets has been saved as tweets.txt, each tweet is saved as a json file with a number of attributes. In order to read the file I go through the text file tweet by tweet and convert each json string to a dictionary and put them all in a list. Finally, the list is converted to a pandas dataframe."
   ]
  },
  {
   "cell_type": "code",
   "execution_count": 1,
   "metadata": {},
   "outputs": [
    {
     "name": "stdout",
     "output_type": "stream",
     "text": [
      "dict_keys(['retweet_count', 'quoted_status_id', 'is_quote_status', 'in_reply_to_screen_name', 'truncated', 'favorited', 'contributors', 'retweeted', 'id_str', 'text', 'geo', 'entities', 'quoted_status', 'place', 'lang', 'timestamp_ms', 'id', 'in_reply_to_user_id', 'source', 'coordinates', 'possibly_sensitive', 'created_at', 'in_reply_to_status_id_str', 'filter_level', 'favorite_count', 'user', 'in_reply_to_user_id_str', 'quoted_status_id_str', 'in_reply_to_status_id'])\n"
     ]
    }
   ],
   "source": [
    "# each line is a complete json object\n",
    "\n",
    "with open('tweets.txt', 'r') as f:\n",
    "    tweet_list = []\n",
    "    for line in f:\n",
    "        tweets = json.loads(line)\n",
    "        tweet_list.append(tweets)\n",
    "    \n",
    "print(tweet_list[0].keys())    \n"
   ]
  },
  {
   "cell_type": "code",
   "execution_count": 2,
   "metadata": {
    "collapsed": true
   },
   "outputs": [],
   "source": [
    "import pandas as pd\n",
    "t = pd.DataFrame(tweet_list)"
   ]
  },
  {
   "cell_type": "code",
   "execution_count": 3,
   "metadata": {},
   "outputs": [
    {
     "data": {
      "text/plain": [
       "Index(['contributors', 'coordinates', 'created_at', 'display_text_range',\n",
       "       'entities', 'extended_entities', 'extended_tweet', 'favorite_count',\n",
       "       'favorited', 'filter_level', 'geo', 'id', 'id_str',\n",
       "       'in_reply_to_screen_name', 'in_reply_to_status_id',\n",
       "       'in_reply_to_status_id_str', 'in_reply_to_user_id',\n",
       "       'in_reply_to_user_id_str', 'is_quote_status', 'lang', 'place',\n",
       "       'possibly_sensitive', 'quoted_status', 'quoted_status_id',\n",
       "       'quoted_status_id_str', 'retweet_count', 'retweeted', 'source', 'text',\n",
       "       'timestamp_ms', 'truncated', 'user'],\n",
       "      dtype='object')"
      ]
     },
     "execution_count": 3,
     "metadata": {},
     "output_type": "execute_result"
    }
   ],
   "source": [
    "t.columns"
   ]
  },
  {
   "cell_type": "code",
   "execution_count": 9,
   "metadata": {},
   "outputs": [
    {
     "data": {
      "text/html": [
       "<div>\n",
       "<table border=\"1\" class=\"dataframe\">\n",
       "  <thead>\n",
       "    <tr style=\"text-align: right;\">\n",
       "      <th></th>\n",
       "      <th>in_reply_to_status_id</th>\n",
       "      <th>created_at</th>\n",
       "      <th>in_reply_to_user_id_str</th>\n",
       "      <th>text</th>\n",
       "    </tr>\n",
       "  </thead>\n",
       "  <tbody>\n",
       "    <tr>\n",
       "      <th>0</th>\n",
       "      <td>None</td>\n",
       "      <td>Tue Jun 06 14:20:14 +0000 2017</td>\n",
       "      <td>None</td>\n",
       "      <td>JERUSALEMPOST reports Jordan considering banni...</td>\n",
       "    </tr>\n",
       "    <tr>\n",
       "      <th>1</th>\n",
       "      <td>None</td>\n",
       "      <td>Tue Jun 06 14:20:21 +0000 2017</td>\n",
       "      <td>None</td>\n",
       "      <td>How WONDER WOMAN Inspires Leaving Your Safe Sp...</td>\n",
       "    </tr>\n",
       "    <tr>\n",
       "      <th>2</th>\n",
       "      <td>None</td>\n",
       "      <td>Tue Jun 06 14:20:24 +0000 2017</td>\n",
       "      <td>None</td>\n",
       "      <td>I may be marvel af but Wonder Woman is my favo...</td>\n",
       "    </tr>\n",
       "    <tr>\n",
       "      <th>3</th>\n",
       "      <td>None</td>\n",
       "      <td>Tue Jun 06 14:20:27 +0000 2017</td>\n",
       "      <td>None</td>\n",
       "      <td>The Complex Gender Politics of the 'Wonder Wom...</td>\n",
       "    </tr>\n",
       "    <tr>\n",
       "      <th>4</th>\n",
       "      <td>None</td>\n",
       "      <td>Tue Jun 06 14:20:29 +0000 2017</td>\n",
       "      <td>None</td>\n",
       "      <td>Oh. Right. Yes, that definitely has to happen ...</td>\n",
       "    </tr>\n",
       "    <tr>\n",
       "      <th>5</th>\n",
       "      <td>None</td>\n",
       "      <td>Tue Jun 06 14:20:29 +0000 2017</td>\n",
       "      <td>None</td>\n",
       "      <td>https://t.co/oaRFItq0N2 @BuncheUCLA 2017 #Holl...</td>\n",
       "    </tr>\n",
       "    <tr>\n",
       "      <th>6</th>\n",
       "      <td>None</td>\n",
       "      <td>Tue Jun 06 14:20:31 +0000 2017</td>\n",
       "      <td>None</td>\n",
       "      <td>The turnout to my BBQ was one of the best ever...</td>\n",
       "    </tr>\n",
       "    <tr>\n",
       "      <th>7</th>\n",
       "      <td>None</td>\n",
       "      <td>Tue Jun 06 14:20:32 +0000 2017</td>\n",
       "      <td>None</td>\n",
       "      <td>The more I think about Wonder Woman, the more ...</td>\n",
       "    </tr>\n",
       "    <tr>\n",
       "      <th>8</th>\n",
       "      <td>None</td>\n",
       "      <td>Tue Jun 06 14:20:34 +0000 2017</td>\n",
       "      <td>None</td>\n",
       "      <td>Lets discuss! https://t.co/XygbnJo6z8</td>\n",
       "    </tr>\n",
       "    <tr>\n",
       "      <th>9</th>\n",
       "      <td>None</td>\n",
       "      <td>Tue Jun 06 14:20:34 +0000 2017</td>\n",
       "      <td>None</td>\n",
       "      <td>And can I just say I've never wanted to be an ...</td>\n",
       "    </tr>\n",
       "  </tbody>\n",
       "</table>\n",
       "</div>"
      ],
      "text/plain": [
       "  in_reply_to_status_id                      created_at  \\\n",
       "0                  None  Tue Jun 06 14:20:14 +0000 2017   \n",
       "1                  None  Tue Jun 06 14:20:21 +0000 2017   \n",
       "2                  None  Tue Jun 06 14:20:24 +0000 2017   \n",
       "3                  None  Tue Jun 06 14:20:27 +0000 2017   \n",
       "4                  None  Tue Jun 06 14:20:29 +0000 2017   \n",
       "5                  None  Tue Jun 06 14:20:29 +0000 2017   \n",
       "6                  None  Tue Jun 06 14:20:31 +0000 2017   \n",
       "7                  None  Tue Jun 06 14:20:32 +0000 2017   \n",
       "8                  None  Tue Jun 06 14:20:34 +0000 2017   \n",
       "9                  None  Tue Jun 06 14:20:34 +0000 2017   \n",
       "\n",
       "  in_reply_to_user_id_str                                               text  \n",
       "0                    None  JERUSALEMPOST reports Jordan considering banni...  \n",
       "1                    None  How WONDER WOMAN Inspires Leaving Your Safe Sp...  \n",
       "2                    None  I may be marvel af but Wonder Woman is my favo...  \n",
       "3                    None  The Complex Gender Politics of the 'Wonder Wom...  \n",
       "4                    None  Oh. Right. Yes, that definitely has to happen ...  \n",
       "5                    None  https://t.co/oaRFItq0N2 @BuncheUCLA 2017 #Holl...  \n",
       "6                    None  The turnout to my BBQ was one of the best ever...  \n",
       "7                    None  The more I think about Wonder Woman, the more ...  \n",
       "8                    None              Lets discuss! https://t.co/XygbnJo6z8  \n",
       "9                    None  And can I just say I've never wanted to be an ...  "
      ]
     },
     "execution_count": 9,
     "metadata": {},
     "output_type": "execute_result"
    }
   ],
   "source": [
    "t[['in_reply_to_status_id', 'created_at', 'in_reply_to_user_id_str', 'text']].head(10)"
   ]
  },
  {
   "cell_type": "markdown",
   "metadata": {},
   "source": [
    "Some columns are actually multiple values, in the case of the entities key they are dicts. You'll need to convert these if you want to store them in a SQL database like postgres. For my purposes, I really only need the texts though."
   ]
  },
  {
   "cell_type": "code",
   "execution_count": 12,
   "metadata": {},
   "outputs": [
    {
     "data": {
      "text/plain": [
       "{'hashtags': [],\n",
       " 'symbols': [],\n",
       " 'urls': [{'display_url': 'twitter.com/Jerusalem_Post…',\n",
       "   'expanded_url': 'https://twitter.com/Jerusalem_Post/status/872094509194035201',\n",
       "   'indices': [94, 117],\n",
       "   'url': 'https://t.co/kjYL4EfQID'}],\n",
       " 'user_mentions': []}"
      ]
     },
     "execution_count": 12,
     "metadata": {},
     "output_type": "execute_result"
    }
   ],
   "source": [
    "t['entities'][0]"
   ]
  },
  {
   "cell_type": "code",
   "execution_count": 5,
   "metadata": {},
   "outputs": [
    {
     "data": {
      "text/html": [
       "<div>\n",
       "<table border=\"1\" class=\"dataframe\">\n",
       "  <thead>\n",
       "    <tr style=\"text-align: right;\">\n",
       "      <th></th>\n",
       "      <th>created_at</th>\n",
       "      <th>favorite_count</th>\n",
       "      <th>text</th>\n",
       "    </tr>\n",
       "  </thead>\n",
       "  <tbody>\n",
       "    <tr>\n",
       "      <th>0</th>\n",
       "      <td>Tue Jun 06 14:20:14 +0000 2017</td>\n",
       "      <td>0</td>\n",
       "      <td>JERUSALEMPOST reports Jordan considering banni...</td>\n",
       "    </tr>\n",
       "    <tr>\n",
       "      <th>1</th>\n",
       "      <td>Tue Jun 06 14:20:21 +0000 2017</td>\n",
       "      <td>0</td>\n",
       "      <td>How WONDER WOMAN Inspires Leaving Your Safe Sp...</td>\n",
       "    </tr>\n",
       "    <tr>\n",
       "      <th>2</th>\n",
       "      <td>Tue Jun 06 14:20:24 +0000 2017</td>\n",
       "      <td>0</td>\n",
       "      <td>I may be marvel af but Wonder Woman is my favo...</td>\n",
       "    </tr>\n",
       "    <tr>\n",
       "      <th>3</th>\n",
       "      <td>Tue Jun 06 14:20:27 +0000 2017</td>\n",
       "      <td>0</td>\n",
       "      <td>The Complex Gender Politics of the 'Wonder Wom...</td>\n",
       "    </tr>\n",
       "    <tr>\n",
       "      <th>4</th>\n",
       "      <td>Tue Jun 06 14:20:29 +0000 2017</td>\n",
       "      <td>0</td>\n",
       "      <td>Oh. Right. Yes, that definitely has to happen ...</td>\n",
       "    </tr>\n",
       "    <tr>\n",
       "      <th>5</th>\n",
       "      <td>Tue Jun 06 14:20:29 +0000 2017</td>\n",
       "      <td>0</td>\n",
       "      <td>https://t.co/oaRFItq0N2 @BuncheUCLA 2017 #Holl...</td>\n",
       "    </tr>\n",
       "    <tr>\n",
       "      <th>6</th>\n",
       "      <td>Tue Jun 06 14:20:31 +0000 2017</td>\n",
       "      <td>0</td>\n",
       "      <td>The turnout to my BBQ was one of the best ever...</td>\n",
       "    </tr>\n",
       "    <tr>\n",
       "      <th>7</th>\n",
       "      <td>Tue Jun 06 14:20:32 +0000 2017</td>\n",
       "      <td>0</td>\n",
       "      <td>The more I think about Wonder Woman, the more ...</td>\n",
       "    </tr>\n",
       "    <tr>\n",
       "      <th>8</th>\n",
       "      <td>Tue Jun 06 14:20:34 +0000 2017</td>\n",
       "      <td>0</td>\n",
       "      <td>Lets discuss! https://t.co/XygbnJo6z8</td>\n",
       "    </tr>\n",
       "    <tr>\n",
       "      <th>9</th>\n",
       "      <td>Tue Jun 06 14:20:34 +0000 2017</td>\n",
       "      <td>0</td>\n",
       "      <td>And can I just say I've never wanted to be an ...</td>\n",
       "    </tr>\n",
       "    <tr>\n",
       "      <th>10</th>\n",
       "      <td>Tue Jun 06 14:20:37 +0000 2017</td>\n",
       "      <td>0</td>\n",
       "      <td>If Wonder Woman Can Do It, She Can Too https:/...</td>\n",
       "    </tr>\n",
       "    <tr>\n",
       "      <th>11</th>\n",
       "      <td>Tue Jun 06 14:20:40 +0000 2017</td>\n",
       "      <td>0</td>\n",
       "      <td>Saw Wonder Woman last night. #IApprove</td>\n",
       "    </tr>\n",
       "    <tr>\n",
       "      <th>12</th>\n",
       "      <td>Tue Jun 06 14:20:40 +0000 2017</td>\n",
       "      <td>0</td>\n",
       "      <td>With ‘Wonder Woman’s’ milestone opening, can c...</td>\n",
       "    </tr>\n",
       "    <tr>\n",
       "      <th>13</th>\n",
       "      <td>Tue Jun 06 14:20:42 +0000 2017</td>\n",
       "      <td>0</td>\n",
       "      <td>For Aggie movie night, does anyone know what t...</td>\n",
       "    </tr>\n",
       "    <tr>\n",
       "      <th>14</th>\n",
       "      <td>Tue Jun 06 14:20:43 +0000 2017</td>\n",
       "      <td>0</td>\n",
       "      <td>Anyone want to go see Wonder Woman with me ton...</td>\n",
       "    </tr>\n",
       "    <tr>\n",
       "      <th>15</th>\n",
       "      <td>Tue Jun 06 14:20:43 +0000 2017</td>\n",
       "      <td>0</td>\n",
       "      <td>‘Wonder Woman’ Kicks Off With Massive $223 Mil...</td>\n",
       "    </tr>\n",
       "    <tr>\n",
       "      <th>16</th>\n",
       "      <td>Tue Jun 06 14:20:46 +0000 2017</td>\n",
       "      <td>0</td>\n",
       "      <td>I watched Wonder Woman yesterday after I decid...</td>\n",
       "    </tr>\n",
       "    <tr>\n",
       "      <th>17</th>\n",
       "      <td>Tue Jun 06 14:20:48 +0000 2017</td>\n",
       "      <td>0</td>\n",
       "      <td>10 Things You Probably Didn&amp;amp;apos;t Know Ab...</td>\n",
       "    </tr>\n",
       "    <tr>\n",
       "      <th>18</th>\n",
       "      <td>Tue Jun 06 14:20:49 +0000 2017</td>\n",
       "      <td>0</td>\n",
       "      <td>Honestly. https://t.co/aICBEXp5OC</td>\n",
       "    </tr>\n",
       "    <tr>\n",
       "      <th>19</th>\n",
       "      <td>Tue Jun 06 14:20:49 +0000 2017</td>\n",
       "      <td>0</td>\n",
       "      <td>Original ‘Wonder Woman’ Lynda Carter Reacts to...</td>\n",
       "    </tr>\n",
       "  </tbody>\n",
       "</table>\n",
       "</div>"
      ],
      "text/plain": [
       "                        created_at  favorite_count  \\\n",
       "0   Tue Jun 06 14:20:14 +0000 2017               0   \n",
       "1   Tue Jun 06 14:20:21 +0000 2017               0   \n",
       "2   Tue Jun 06 14:20:24 +0000 2017               0   \n",
       "3   Tue Jun 06 14:20:27 +0000 2017               0   \n",
       "4   Tue Jun 06 14:20:29 +0000 2017               0   \n",
       "5   Tue Jun 06 14:20:29 +0000 2017               0   \n",
       "6   Tue Jun 06 14:20:31 +0000 2017               0   \n",
       "7   Tue Jun 06 14:20:32 +0000 2017               0   \n",
       "8   Tue Jun 06 14:20:34 +0000 2017               0   \n",
       "9   Tue Jun 06 14:20:34 +0000 2017               0   \n",
       "10  Tue Jun 06 14:20:37 +0000 2017               0   \n",
       "11  Tue Jun 06 14:20:40 +0000 2017               0   \n",
       "12  Tue Jun 06 14:20:40 +0000 2017               0   \n",
       "13  Tue Jun 06 14:20:42 +0000 2017               0   \n",
       "14  Tue Jun 06 14:20:43 +0000 2017               0   \n",
       "15  Tue Jun 06 14:20:43 +0000 2017               0   \n",
       "16  Tue Jun 06 14:20:46 +0000 2017               0   \n",
       "17  Tue Jun 06 14:20:48 +0000 2017               0   \n",
       "18  Tue Jun 06 14:20:49 +0000 2017               0   \n",
       "19  Tue Jun 06 14:20:49 +0000 2017               0   \n",
       "\n",
       "                                                 text  \n",
       "0   JERUSALEMPOST reports Jordan considering banni...  \n",
       "1   How WONDER WOMAN Inspires Leaving Your Safe Sp...  \n",
       "2   I may be marvel af but Wonder Woman is my favo...  \n",
       "3   The Complex Gender Politics of the 'Wonder Wom...  \n",
       "4   Oh. Right. Yes, that definitely has to happen ...  \n",
       "5   https://t.co/oaRFItq0N2 @BuncheUCLA 2017 #Holl...  \n",
       "6   The turnout to my BBQ was one of the best ever...  \n",
       "7   The more I think about Wonder Woman, the more ...  \n",
       "8               Lets discuss! https://t.co/XygbnJo6z8  \n",
       "9   And can I just say I've never wanted to be an ...  \n",
       "10  If Wonder Woman Can Do It, She Can Too https:/...  \n",
       "11             Saw Wonder Woman last night. #IApprove  \n",
       "12  With ‘Wonder Woman’s’ milestone opening, can c...  \n",
       "13  For Aggie movie night, does anyone know what t...  \n",
       "14  Anyone want to go see Wonder Woman with me ton...  \n",
       "15  ‘Wonder Woman’ Kicks Off With Massive $223 Mil...  \n",
       "16  I watched Wonder Woman yesterday after I decid...  \n",
       "17  10 Things You Probably Didn&amp;apos;t Know Ab...  \n",
       "18                  Honestly. https://t.co/aICBEXp5OC  \n",
       "19  Original ‘Wonder Woman’ Lynda Carter Reacts to...  "
      ]
     },
     "execution_count": 5,
     "metadata": {},
     "output_type": "execute_result"
    }
   ],
   "source": [
    "df = t[['created_at', 'favorite_count', 'text']]\n",
    "df.head(20)"
   ]
  },
  {
   "cell_type": "markdown",
   "metadata": {},
   "source": [
    "## Connecting to postgres with psycopg2"
   ]
  },
  {
   "cell_type": "markdown",
   "metadata": {},
   "source": [
    "Psycopg2 is a driver designed only for postgres and allows you to pass on SQL code to interact with the database, whereas sqlalchemy provides an orm model and a way to connect to postgres. "
   ]
  },
  {
   "cell_type": "code",
   "execution_count": 6,
   "metadata": {},
   "outputs": [
    {
     "name": "stdout",
     "output_type": "stream",
     "text": [
      "Uh oh, can't connect. Invalid dbname, user or password?\n",
      "relation \"ww\" already exists\n",
      "\n"
     ]
    }
   ],
   "source": [
    "import psycopg2\n",
    "\n",
    "try:\n",
    "    connect_str = \"dbname='' user='' host='' \" + \\\n",
    "                  \"password=''\"\n",
    "    # use our connection values to establish a connection\n",
    "    conn = psycopg2.connect(connect_str)\n",
    "    # create a psycopg2 cursor that can execute queries\n",
    "    cursor = conn.cursor()\n",
    "    # create a new table with a single column called \"name\"\n",
    "    cursor.execute(\"\"\"CREATE TABLE ww (name char(40));\"\"\")\n",
    "    # run a SELECT statement - no data in there, but we can try it\n",
    "    cursor.execute(\"\"\"SELECT * from ww\"\"\")\n",
    "    rows = cursor.fetchall()\n",
    "    print(rows)\n",
    "except Exception as e:\n",
    "    print(e)"
   ]
  },
  {
   "cell_type": "code",
   "execution_count": 7,
   "metadata": {
    "collapsed": true
   },
   "outputs": [],
   "source": [
    "conn.close()"
   ]
  },
  {
   "cell_type": "markdown",
   "metadata": {},
   "source": [
    "## Connecting to postgres with sqlalchemy"
   ]
  },
  {
   "cell_type": "code",
   "execution_count": 1,
   "metadata": {
    "collapsed": true
   },
   "outputs": [],
   "source": [
    "\n",
    "user='' \n",
    "host=':' \n",
    "password=''\n",
    "dbname = ''\n",
    "\n",
    "url = 'postgresql://{}:{}@{}/{}'\n",
    "url = url.format(user, password, host, dbname)"
   ]
  },
  {
   "cell_type": "code",
   "execution_count": 3,
   "metadata": {
    "collapsed": true,
    "scrolled": true
   },
   "outputs": [],
   "source": [
    "import pandas as pd\n",
    "from sqlalchemy import create_engine, MetaData\n",
    "\n",
    "engine = create_engine(url)\n",
    "conn = engine.connect()\n",
    "\n",
    "df.to_sql(\"wonder\", con = engine, if_exists = 'replace')\n",
    "meta = MetaData()\n",
    "meta.create_all(engine)\n",
    "result = conn.execute(\"SELECT * FROM wonder LIMIT 100\")"
   ]
  },
  {
   "cell_type": "code",
   "execution_count": null,
   "metadata": {
    "collapsed": true
   },
   "outputs": [],
   "source": [
    "ww_tweets = []\n",
    "for row in result:\n",
    "    ww_tweets.append(row)"
   ]
  },
  {
   "cell_type": "markdown",
   "metadata": {},
   "source": [
    "## Viewing column names"
   ]
  },
  {
   "cell_type": "code",
   "execution_count": 7,
   "metadata": {
    "collapsed": true
   },
   "outputs": [],
   "source": [
    "from sqlalchemy import Table, inspect"
   ]
  },
  {
   "cell_type": "code",
   "execution_count": 8,
   "metadata": {},
   "outputs": [
    {
     "data": {
      "text/plain": [
       "[{'autoincrement': False,\n",
       "  'default': None,\n",
       "  'name': 'index',\n",
       "  'nullable': True,\n",
       "  'type': BIGINT()},\n",
       " {'autoincrement': False,\n",
       "  'default': None,\n",
       "  'name': 'created_at',\n",
       "  'nullable': True,\n",
       "  'type': TEXT()},\n",
       " {'autoincrement': False,\n",
       "  'default': None,\n",
       "  'name': 'favorite_count',\n",
       "  'nullable': True,\n",
       "  'type': BIGINT()},\n",
       " {'autoincrement': False,\n",
       "  'default': None,\n",
       "  'name': 'text',\n",
       "  'nullable': True,\n",
       "  'type': TEXT()}]"
      ]
     },
     "execution_count": 8,
     "metadata": {},
     "output_type": "execute_result"
    }
   ],
   "source": [
    "inspector=inspect(engine)\n",
    "inspector.get_columns('wonder')"
   ]
  }
 ],
 "metadata": {
  "anaconda-cloud": {},
  "kernelspec": {
   "display_name": "Python 3",
   "language": "python",
   "name": "python3"
  },
  "language_info": {
   "codemirror_mode": {
    "name": "ipython",
    "version": 3
   },
   "file_extension": ".py",
   "mimetype": "text/x-python",
   "name": "python",
   "nbconvert_exporter": "python",
   "pygments_lexer": "ipython3",
   "version": "3.6.1"
  }
 },
 "nbformat": 4,
 "nbformat_minor": 1
}
