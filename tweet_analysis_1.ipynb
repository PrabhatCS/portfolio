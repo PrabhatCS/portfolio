{
 "cells": [
  {
   "cell_type": "markdown",
   "metadata": {},
   "source": [
    "## Introduction"
   ]
  },
  {
   "cell_type": "markdown",
   "metadata": {},
   "source": [
    "This notebook goes through the process using tweepy to collect streaming tweets, then uploads those tweets to an existing postgres database in Linux."
   ]
  },
  {
   "cell_type": "markdown",
   "metadata": {},
   "source": [
    "## Tweepy and the twitter streaming api"
   ]
  },
  {
   "cell_type": "markdown",
   "metadata": {},
   "source": [
    "Twitter has an api that lets you access stored tweets in a limited way or an active stream of live tweets that can be filtered. Tweepy is the most popular python library for interacting with this api. It handles the authorization for you, and has a streamlistener class that you need to customize to use. "
   ]
  },
  {
   "cell_type": "markdown",
   "metadata": {},
   "source": [
    "## Authorization"
   ]
  },
  {
   "cell_type": "code",
   "execution_count": 5,
   "metadata": {
    "collapsed": true
   },
   "outputs": [],
   "source": [
    "# -*- coding: utf-8 -*-\n",
    "\"\"\"\n",
    "Created on Tue Feb 28 13:13:38 2017\n",
    "\n",
    "@author: EPY\n",
    "\"\"\"\n",
    "import time\n",
    "import tweepy\n",
    "from tweepy import Stream\n",
    "from tweepy import OAuthHandler\n",
    "from tweepy import StreamListener\n",
    "import os\n",
    "import json\n"
   ]
  },
  {
   "cell_type": "code",
   "execution_count": 2,
   "metadata": {
    "collapsed": true
   },
   "outputs": [],
   "source": [
    "cons_key = \n",
    "cons_secret = \n",
    "access_token = \n",
    "access_token_secret = \n",
    "auth = OAuthHandler(cons_key, cons_secret)\n",
    "auth.set_access_token(access_token, access_token_secret)"
   ]
  },
  {
   "cell_type": "markdown",
   "metadata": {},
   "source": [
    "## The streamelistener class"
   ]
  },
  {
   "cell_type": "code",
   "execution_count": 5,
   "metadata": {
    "collapsed": true
   },
   "outputs": [],
   "source": [
    "class MyStreamListener(tweepy.StreamListener):\n",
    "    def __init__(self, api=None):\n",
    "        super(MyStreamListener, self).__init__()\n",
    "        self.num_tweets = 0\n",
    "        self.file = open(\"tweets.txt\", \"w\")\n",
    "\n",
    "    def on_status(self, status):\n",
    "        #The try/except statements were used here to filter out retweets \n",
    "        try:\n",
    "            status.retweeted_status\n",
    "        except:     \n",
    "            if status.in_reply_to_user_id is None:           \n",
    "                #print(status.text)\n",
    "                tweet = status._json\n",
    "                self.file.write( json.dumps(tweet) + '\\n' )\n",
    "                self.num_tweets += 1\n",
    "                if self.num_tweets <= 1000:\n",
    "                    return True\n",
    "                else:\n",
    "                    return False\n",
    "                self.file.close()\n",
    "\n",
    "    def on_error(self, status):\n",
    "        print(status)"
   ]
  },
  {
   "cell_type": "code",
   "execution_count": 6,
   "metadata": {
    "collapsed": true
   },
   "outputs": [],
   "source": [
    "#wonder woman grabs tweets that have 'wonderwoman' and 'wonder woman'\n",
    "keyword_list = ['wonder woman']\n",
    "twitterStream = Stream(auth, MyStreamListener()) #initialize Stream object with a time out limit\n",
    "\n",
    "twitterStream.filter(track=keyword_list, languages=['en'])  #call the filter method to run the Stream Object"
   ]
  },
  {
   "cell_type": "markdown",
   "metadata": {},
   "source": [
    "## Parsing json strings"
   ]
  },
  {
   "cell_type": "markdown",
   "metadata": {},
   "source": [
    "The stream of tweets has been saved as tweets.txt, each tweet is saved as a json file with a number of attributes. In order to read the file I go through the text file tweet by tweet and convert each json string to a dictionary and put them all in a list. Finally, the list is converted to a pandas dataframe."
   ]
  },
  {
   "cell_type": "code",
   "execution_count": 7,
   "metadata": {
    "collapsed": true
   },
   "outputs": [],
   "source": [
    "import numpy as np"
   ]
  },
  {
   "cell_type": "code",
   "execution_count": 1,
   "metadata": {},
   "outputs": [
    {
     "name": "stdout",
     "output_type": "stream",
     "text": [
      "dict_keys(['retweet_count', 'quoted_status_id', 'is_quote_status', 'in_reply_to_screen_name', 'truncated', 'favorited', 'contributors', 'retweeted', 'id_str', 'text', 'geo', 'entities', 'quoted_status', 'place', 'lang', 'timestamp_ms', 'id', 'in_reply_to_user_id', 'source', 'coordinates', 'possibly_sensitive', 'created_at', 'in_reply_to_status_id_str', 'filter_level', 'favorite_count', 'user', 'in_reply_to_user_id_str', 'quoted_status_id_str', 'in_reply_to_status_id'])\n"
     ]
    }
   ],
   "source": [
    "import json\n",
    "#each line is a complete json object\n",
    "with open('tweets.txt', 'r') as f:\n",
    "    tweet_list = []\n",
    "    for line in f:\n",
    "        tweets = json.loads(line)\n",
    "        tweet_list.append(tweets)\n",
    "    \n",
    "print(tweet_list[0].keys())    \n"
   ]
  },
  {
   "cell_type": "code",
   "execution_count": 2,
   "metadata": {
    "collapsed": true
   },
   "outputs": [],
   "source": [
    "import pandas as pd\n",
    "t = pd.DataFrame(tweet_list)"
   ]
  },
  {
   "cell_type": "code",
   "execution_count": 3,
   "metadata": {},
   "outputs": [
    {
     "data": {
      "text/plain": [
       "Index(['contributors', 'coordinates', 'created_at', 'display_text_range',\n",
       "       'entities', 'extended_entities', 'extended_tweet', 'favorite_count',\n",
       "       'favorited', 'filter_level', 'geo', 'id', 'id_str',\n",
       "       'in_reply_to_screen_name', 'in_reply_to_status_id',\n",
       "       'in_reply_to_status_id_str', 'in_reply_to_user_id',\n",
       "       'in_reply_to_user_id_str', 'is_quote_status', 'lang', 'place',\n",
       "       'possibly_sensitive', 'quoted_status', 'quoted_status_id',\n",
       "       'quoted_status_id_str', 'retweet_count', 'retweeted', 'source', 'text',\n",
       "       'timestamp_ms', 'truncated', 'user'],\n",
       "      dtype='object')"
      ]
     },
     "execution_count": 3,
     "metadata": {},
     "output_type": "execute_result"
    }
   ],
   "source": [
    "#print(t.head())\n",
    "t.columns"
   ]
  },
  {
   "cell_type": "code",
   "execution_count": 9,
   "metadata": {},
   "outputs": [
    {
     "data": {
      "text/html": [
       "<div>\n",
       "<table border=\"1\" class=\"dataframe\">\n",
       "  <thead>\n",
       "    <tr style=\"text-align: right;\">\n",
       "      <th></th>\n",
       "      <th>in_reply_to_status_id</th>\n",
       "      <th>created_at</th>\n",
       "      <th>in_reply_to_user_id_str</th>\n",
       "      <th>text</th>\n",
       "    </tr>\n",
       "  </thead>\n",
       "  <tbody>\n",
       "    <tr>\n",
       "      <th>0</th>\n",
       "      <td>None</td>\n",
       "      <td>Tue Jun 06 14:20:14 +0000 2017</td>\n",
       "      <td>None</td>\n",
       "      <td>JERUSALEMPOST reports Jordan considering banni...</td>\n",
       "    </tr>\n",
       "    <tr>\n",
       "      <th>1</th>\n",
       "      <td>None</td>\n",
       "      <td>Tue Jun 06 14:20:21 +0000 2017</td>\n",
       "      <td>None</td>\n",
       "      <td>How WONDER WOMAN Inspires Leaving Your Safe Sp...</td>\n",
       "    </tr>\n",
       "    <tr>\n",
       "      <th>2</th>\n",
       "      <td>None</td>\n",
       "      <td>Tue Jun 06 14:20:24 +0000 2017</td>\n",
       "      <td>None</td>\n",
       "      <td>I may be marvel af but Wonder Woman is my favo...</td>\n",
       "    </tr>\n",
       "    <tr>\n",
       "      <th>3</th>\n",
       "      <td>None</td>\n",
       "      <td>Tue Jun 06 14:20:27 +0000 2017</td>\n",
       "      <td>None</td>\n",
       "      <td>The Complex Gender Politics of the 'Wonder Wom...</td>\n",
       "    </tr>\n",
       "    <tr>\n",
       "      <th>4</th>\n",
       "      <td>None</td>\n",
       "      <td>Tue Jun 06 14:20:29 +0000 2017</td>\n",
       "      <td>None</td>\n",
       "      <td>Oh. Right. Yes, that definitely has to happen ...</td>\n",
       "    </tr>\n",
       "    <tr>\n",
       "      <th>5</th>\n",
       "      <td>None</td>\n",
       "      <td>Tue Jun 06 14:20:29 +0000 2017</td>\n",
       "      <td>None</td>\n",
       "      <td>https://t.co/oaRFItq0N2 @BuncheUCLA 2017 #Holl...</td>\n",
       "    </tr>\n",
       "    <tr>\n",
       "      <th>6</th>\n",
       "      <td>None</td>\n",
       "      <td>Tue Jun 06 14:20:31 +0000 2017</td>\n",
       "      <td>None</td>\n",
       "      <td>The turnout to my BBQ was one of the best ever...</td>\n",
       "    </tr>\n",
       "    <tr>\n",
       "      <th>7</th>\n",
       "      <td>None</td>\n",
       "      <td>Tue Jun 06 14:20:32 +0000 2017</td>\n",
       "      <td>None</td>\n",
       "      <td>The more I think about Wonder Woman, the more ...</td>\n",
       "    </tr>\n",
       "    <tr>\n",
       "      <th>8</th>\n",
       "      <td>None</td>\n",
       "      <td>Tue Jun 06 14:20:34 +0000 2017</td>\n",
       "      <td>None</td>\n",
       "      <td>Lets discuss! https://t.co/XygbnJo6z8</td>\n",
       "    </tr>\n",
       "    <tr>\n",
       "      <th>9</th>\n",
       "      <td>None</td>\n",
       "      <td>Tue Jun 06 14:20:34 +0000 2017</td>\n",
       "      <td>None</td>\n",
       "      <td>And can I just say I've never wanted to be an ...</td>\n",
       "    </tr>\n",
       "  </tbody>\n",
       "</table>\n",
       "</div>"
      ],
      "text/plain": [
       "  in_reply_to_status_id                      created_at  \\\n",
       "0                  None  Tue Jun 06 14:20:14 +0000 2017   \n",
       "1                  None  Tue Jun 06 14:20:21 +0000 2017   \n",
       "2                  None  Tue Jun 06 14:20:24 +0000 2017   \n",
       "3                  None  Tue Jun 06 14:20:27 +0000 2017   \n",
       "4                  None  Tue Jun 06 14:20:29 +0000 2017   \n",
       "5                  None  Tue Jun 06 14:20:29 +0000 2017   \n",
       "6                  None  Tue Jun 06 14:20:31 +0000 2017   \n",
       "7                  None  Tue Jun 06 14:20:32 +0000 2017   \n",
       "8                  None  Tue Jun 06 14:20:34 +0000 2017   \n",
       "9                  None  Tue Jun 06 14:20:34 +0000 2017   \n",
       "\n",
       "  in_reply_to_user_id_str                                               text  \n",
       "0                    None  JERUSALEMPOST reports Jordan considering banni...  \n",
       "1                    None  How WONDER WOMAN Inspires Leaving Your Safe Sp...  \n",
       "2                    None  I may be marvel af but Wonder Woman is my favo...  \n",
       "3                    None  The Complex Gender Politics of the 'Wonder Wom...  \n",
       "4                    None  Oh. Right. Yes, that definitely has to happen ...  \n",
       "5                    None  https://t.co/oaRFItq0N2 @BuncheUCLA 2017 #Holl...  \n",
       "6                    None  The turnout to my BBQ was one of the best ever...  \n",
       "7                    None  The more I think about Wonder Woman, the more ...  \n",
       "8                    None              Lets discuss! https://t.co/XygbnJo6z8  \n",
       "9                    None  And can I just say I've never wanted to be an ...  "
      ]
     },
     "execution_count": 9,
     "metadata": {},
     "output_type": "execute_result"
    }
   ],
   "source": [
    "t[['in_reply_to_status_id', 'created_at', 'in_reply_to_user_id_str', 'text']].head(10)"
   ]
  },
  {
   "cell_type": "markdown",
   "metadata": {},
   "source": [
    "Some columns are actually multiple values, in the case of the entities key they are dicts. You'll need to convert these if you want to store them in a SQL database like postgres. For my purposes, I really only need the texts though."
   ]
  },
  {
   "cell_type": "code",
   "execution_count": 12,
   "metadata": {},
   "outputs": [
    {
     "data": {
      "text/plain": [
       "{'hashtags': [],\n",
       " 'symbols': [],\n",
       " 'urls': [{'display_url': 'twitter.com/Jerusalem_Post…',\n",
       "   'expanded_url': 'https://twitter.com/Jerusalem_Post/status/872094509194035201',\n",
       "   'indices': [94, 117],\n",
       "   'url': 'https://t.co/kjYL4EfQID'}],\n",
       " 'user_mentions': []}"
      ]
     },
     "execution_count": 12,
     "metadata": {},
     "output_type": "execute_result"
    }
   ],
   "source": [
    "t['entities'][0]"
   ]
  },
  {
   "cell_type": "code",
   "execution_count": 5,
   "metadata": {},
   "outputs": [
    {
     "data": {
      "text/html": [
       "<div>\n",
       "<table border=\"1\" class=\"dataframe\">\n",
       "  <thead>\n",
       "    <tr style=\"text-align: right;\">\n",
       "      <th></th>\n",
       "      <th>created_at</th>\n",
       "      <th>favorite_count</th>\n",
       "      <th>text</th>\n",
       "    </tr>\n",
       "  </thead>\n",
       "  <tbody>\n",
       "    <tr>\n",
       "      <th>0</th>\n",
       "      <td>Tue Jun 06 14:20:14 +0000 2017</td>\n",
       "      <td>0</td>\n",
       "      <td>JERUSALEMPOST reports Jordan considering banni...</td>\n",
       "    </tr>\n",
       "    <tr>\n",
       "      <th>1</th>\n",
       "      <td>Tue Jun 06 14:20:21 +0000 2017</td>\n",
       "      <td>0</td>\n",
       "      <td>How WONDER WOMAN Inspires Leaving Your Safe Sp...</td>\n",
       "    </tr>\n",
       "    <tr>\n",
       "      <th>2</th>\n",
       "      <td>Tue Jun 06 14:20:24 +0000 2017</td>\n",
       "      <td>0</td>\n",
       "      <td>I may be marvel af but Wonder Woman is my favo...</td>\n",
       "    </tr>\n",
       "    <tr>\n",
       "      <th>3</th>\n",
       "      <td>Tue Jun 06 14:20:27 +0000 2017</td>\n",
       "      <td>0</td>\n",
       "      <td>The Complex Gender Politics of the 'Wonder Wom...</td>\n",
       "    </tr>\n",
       "    <tr>\n",
       "      <th>4</th>\n",
       "      <td>Tue Jun 06 14:20:29 +0000 2017</td>\n",
       "      <td>0</td>\n",
       "      <td>Oh. Right. Yes, that definitely has to happen ...</td>\n",
       "    </tr>\n",
       "    <tr>\n",
       "      <th>5</th>\n",
       "      <td>Tue Jun 06 14:20:29 +0000 2017</td>\n",
       "      <td>0</td>\n",
       "      <td>https://t.co/oaRFItq0N2 @BuncheUCLA 2017 #Holl...</td>\n",
       "    </tr>\n",
       "    <tr>\n",
       "      <th>6</th>\n",
       "      <td>Tue Jun 06 14:20:31 +0000 2017</td>\n",
       "      <td>0</td>\n",
       "      <td>The turnout to my BBQ was one of the best ever...</td>\n",
       "    </tr>\n",
       "    <tr>\n",
       "      <th>7</th>\n",
       "      <td>Tue Jun 06 14:20:32 +0000 2017</td>\n",
       "      <td>0</td>\n",
       "      <td>The more I think about Wonder Woman, the more ...</td>\n",
       "    </tr>\n",
       "    <tr>\n",
       "      <th>8</th>\n",
       "      <td>Tue Jun 06 14:20:34 +0000 2017</td>\n",
       "      <td>0</td>\n",
       "      <td>Lets discuss! https://t.co/XygbnJo6z8</td>\n",
       "    </tr>\n",
       "    <tr>\n",
       "      <th>9</th>\n",
       "      <td>Tue Jun 06 14:20:34 +0000 2017</td>\n",
       "      <td>0</td>\n",
       "      <td>And can I just say I've never wanted to be an ...</td>\n",
       "    </tr>\n",
       "    <tr>\n",
       "      <th>10</th>\n",
       "      <td>Tue Jun 06 14:20:37 +0000 2017</td>\n",
       "      <td>0</td>\n",
       "      <td>If Wonder Woman Can Do It, She Can Too https:/...</td>\n",
       "    </tr>\n",
       "    <tr>\n",
       "      <th>11</th>\n",
       "      <td>Tue Jun 06 14:20:40 +0000 2017</td>\n",
       "      <td>0</td>\n",
       "      <td>Saw Wonder Woman last night. #IApprove</td>\n",
       "    </tr>\n",
       "    <tr>\n",
       "      <th>12</th>\n",
       "      <td>Tue Jun 06 14:20:40 +0000 2017</td>\n",
       "      <td>0</td>\n",
       "      <td>With ‘Wonder Woman’s’ milestone opening, can c...</td>\n",
       "    </tr>\n",
       "    <tr>\n",
       "      <th>13</th>\n",
       "      <td>Tue Jun 06 14:20:42 +0000 2017</td>\n",
       "      <td>0</td>\n",
       "      <td>For Aggie movie night, does anyone know what t...</td>\n",
       "    </tr>\n",
       "    <tr>\n",
       "      <th>14</th>\n",
       "      <td>Tue Jun 06 14:20:43 +0000 2017</td>\n",
       "      <td>0</td>\n",
       "      <td>Anyone want to go see Wonder Woman with me ton...</td>\n",
       "    </tr>\n",
       "    <tr>\n",
       "      <th>15</th>\n",
       "      <td>Tue Jun 06 14:20:43 +0000 2017</td>\n",
       "      <td>0</td>\n",
       "      <td>‘Wonder Woman’ Kicks Off With Massive $223 Mil...</td>\n",
       "    </tr>\n",
       "    <tr>\n",
       "      <th>16</th>\n",
       "      <td>Tue Jun 06 14:20:46 +0000 2017</td>\n",
       "      <td>0</td>\n",
       "      <td>I watched Wonder Woman yesterday after I decid...</td>\n",
       "    </tr>\n",
       "    <tr>\n",
       "      <th>17</th>\n",
       "      <td>Tue Jun 06 14:20:48 +0000 2017</td>\n",
       "      <td>0</td>\n",
       "      <td>10 Things You Probably Didn&amp;amp;apos;t Know Ab...</td>\n",
       "    </tr>\n",
       "    <tr>\n",
       "      <th>18</th>\n",
       "      <td>Tue Jun 06 14:20:49 +0000 2017</td>\n",
       "      <td>0</td>\n",
       "      <td>Honestly. https://t.co/aICBEXp5OC</td>\n",
       "    </tr>\n",
       "    <tr>\n",
       "      <th>19</th>\n",
       "      <td>Tue Jun 06 14:20:49 +0000 2017</td>\n",
       "      <td>0</td>\n",
       "      <td>Original ‘Wonder Woman’ Lynda Carter Reacts to...</td>\n",
       "    </tr>\n",
       "  </tbody>\n",
       "</table>\n",
       "</div>"
      ],
      "text/plain": [
       "                        created_at  favorite_count  \\\n",
       "0   Tue Jun 06 14:20:14 +0000 2017               0   \n",
       "1   Tue Jun 06 14:20:21 +0000 2017               0   \n",
       "2   Tue Jun 06 14:20:24 +0000 2017               0   \n",
       "3   Tue Jun 06 14:20:27 +0000 2017               0   \n",
       "4   Tue Jun 06 14:20:29 +0000 2017               0   \n",
       "5   Tue Jun 06 14:20:29 +0000 2017               0   \n",
       "6   Tue Jun 06 14:20:31 +0000 2017               0   \n",
       "7   Tue Jun 06 14:20:32 +0000 2017               0   \n",
       "8   Tue Jun 06 14:20:34 +0000 2017               0   \n",
       "9   Tue Jun 06 14:20:34 +0000 2017               0   \n",
       "10  Tue Jun 06 14:20:37 +0000 2017               0   \n",
       "11  Tue Jun 06 14:20:40 +0000 2017               0   \n",
       "12  Tue Jun 06 14:20:40 +0000 2017               0   \n",
       "13  Tue Jun 06 14:20:42 +0000 2017               0   \n",
       "14  Tue Jun 06 14:20:43 +0000 2017               0   \n",
       "15  Tue Jun 06 14:20:43 +0000 2017               0   \n",
       "16  Tue Jun 06 14:20:46 +0000 2017               0   \n",
       "17  Tue Jun 06 14:20:48 +0000 2017               0   \n",
       "18  Tue Jun 06 14:20:49 +0000 2017               0   \n",
       "19  Tue Jun 06 14:20:49 +0000 2017               0   \n",
       "\n",
       "                                                 text  \n",
       "0   JERUSALEMPOST reports Jordan considering banni...  \n",
       "1   How WONDER WOMAN Inspires Leaving Your Safe Sp...  \n",
       "2   I may be marvel af but Wonder Woman is my favo...  \n",
       "3   The Complex Gender Politics of the 'Wonder Wom...  \n",
       "4   Oh. Right. Yes, that definitely has to happen ...  \n",
       "5   https://t.co/oaRFItq0N2 @BuncheUCLA 2017 #Holl...  \n",
       "6   The turnout to my BBQ was one of the best ever...  \n",
       "7   The more I think about Wonder Woman, the more ...  \n",
       "8               Lets discuss! https://t.co/XygbnJo6z8  \n",
       "9   And can I just say I've never wanted to be an ...  \n",
       "10  If Wonder Woman Can Do It, She Can Too https:/...  \n",
       "11             Saw Wonder Woman last night. #IApprove  \n",
       "12  With ‘Wonder Woman’s’ milestone opening, can c...  \n",
       "13  For Aggie movie night, does anyone know what t...  \n",
       "14  Anyone want to go see Wonder Woman with me ton...  \n",
       "15  ‘Wonder Woman’ Kicks Off With Massive $223 Mil...  \n",
       "16  I watched Wonder Woman yesterday after I decid...  \n",
       "17  10 Things You Probably Didn&amp;apos;t Know Ab...  \n",
       "18                  Honestly. https://t.co/aICBEXp5OC  \n",
       "19  Original ‘Wonder Woman’ Lynda Carter Reacts to...  "
      ]
     },
     "execution_count": 5,
     "metadata": {},
     "output_type": "execute_result"
    }
   ],
   "source": [
    "df = t[['created_at', 'favorite_count', 'text']]\n",
    "df.head(20)"
   ]
  },
  {
   "cell_type": "markdown",
   "metadata": {},
   "source": [
    "## Connecting to postgres with psycopg2"
   ]
  },
  {
   "cell_type": "markdown",
   "metadata": {},
   "source": [
    "Psycopg2 is a driver designed only for postgres and allows you to pass on SQL code to interact with the database, whereas sqlalchemy provides an orm model and a way to connect to postgres. "
   ]
  },
  {
   "cell_type": "code",
   "execution_count": 6,
   "metadata": {},
   "outputs": [
    {
     "name": "stdout",
     "output_type": "stream",
     "text": [
      "Uh oh, can't connect. Invalid dbname, user or password?\n",
      "relation \"ww\" already exists\n",
      "\n"
     ]
    }
   ],
   "source": [
    "import psycopg2\n",
    "\n",
    "try:\n",
    "    connect_str = \"dbname='' user='' host='' \" + \\\n",
    "                  \"password=''\"\n",
    "    # use our connection values to establish a connection\n",
    "    conn = psycopg2.connect(connect_str)\n",
    "    # create a psycopg2 cursor that can execute queries\n",
    "    cursor = conn.cursor()\n",
    "    # create a new table with a single column called \"name\"\n",
    "    cursor.execute(\"\"\"CREATE TABLE ww (name char(40));\"\"\")\n",
    "    # run a SELECT statement - no data in there, but we can try it\n",
    "    cursor.execute(\"\"\"SELECT * from ww\"\"\")\n",
    "    rows = cursor.fetchall()\n",
    "    print(rows)\n",
    "except Exception as e:\n",
    "    #print(\"Uh oh, can't connect. Invalid dbname, user or password?\")\n",
    "    print(e)"
   ]
  },
  {
   "cell_type": "code",
   "execution_count": 7,
   "metadata": {
    "collapsed": true
   },
   "outputs": [],
   "source": [
    "conn.close()"
   ]
  },
  {
   "cell_type": "markdown",
   "metadata": {},
   "source": [
    "## Connecting to postgres with sqlalchemy"
   ]
  },
  {
   "cell_type": "code",
   "execution_count": 1,
   "metadata": {
    "collapsed": true
   },
   "outputs": [],
   "source": [
    "\n",
    "user='' \n",
    "host=':' \n",
    "password=''\n",
    "dbname = ''\n",
    "\n",
    "url = 'postgresql://{}:{}@{}/{}'\n",
    "url = url.format(user, password, host, dbname)"
   ]
  },
  {
   "cell_type": "code",
   "execution_count": 3,
   "metadata": {
    "collapsed": true,
    "scrolled": true
   },
   "outputs": [],
   "source": [
    "import pandas as pd\n",
    "from sqlalchemy import create_engine, MetaData\n",
    "\n",
    "engine = create_engine(url)\n",
    "conn = engine.connect()\n",
    "\n",
    "#df.to_sql(\"wonder\", con = engine, if_exists = 'replace')\n",
    "meta = MetaData()\n",
    "meta.create_all(engine)\n",
    "result = conn.execute(\"SELECT * FROM wonder LIMIT 100\")"
   ]
  },
  {
   "cell_type": "code",
   "execution_count": 5,
   "metadata": {},
   "outputs": [
    {
     "data": {
      "text/plain": [
       "[(0, 'Tue Jun 06 14:20:14 +0000 2017', 0, 'JERUSALEMPOST reports Jordan considering banning ‘Wonder Woman’ over Israeli star Gal Gadot … https://t.co/kjYL4EfQID'),\n",
       " (1, 'Tue Jun 06 14:20:21 +0000 2017', 0, 'How WONDER WOMAN Inspires Leaving Your Safe Space | Nerdist #ParadiseIsland #Iretreat https://t.co/BN966Dzaz7'),\n",
       " (2, 'Tue Jun 06 14:20:24 +0000 2017', 0, 'I may be marvel af but Wonder Woman is my favorite superhero film'),\n",
       " (3, 'Tue Jun 06 14:20:27 +0000 2017', 0, \"The Complex Gender Politics of the 'Wonder Woman' Movie https://t.co/KDJycoQw3d via @thr\"),\n",
       " (4, 'Tue Jun 06 14:20:29 +0000 2017', 0, 'Oh. Right. Yes, that definitely has to happen first. https://t.co/mFbBqcV6QV'),\n",
       " (5, 'Tue Jun 06 14:20:29 +0000 2017', 0, 'https://t.co/oaRFItq0N2 @BuncheUCLA 2017 #HollywoodDiversity Report cited in story on  #WonderWoman box office success.'),\n",
       " (6, 'Tue Jun 06 14:20:31 +0000 2017', 0, 'The turnout to my BBQ was one of the best ever on a non-olympic-year Tuesday occurring in the first week of June...… https://t.co/j1cKJmMJSD'),\n",
       " (7, 'Tue Jun 06 14:20:32 +0000 2017', 0, \"The more I think about Wonder Woman, the more worried I get about Joss Whedon's Batgirl. We don't need dark &amp; damaged. We need hope &amp; love.\"),\n",
       " (8, 'Tue Jun 06 14:20:34 +0000 2017', 0, 'Lets discuss! https://t.co/XygbnJo6z8'),\n",
       " (9, 'Tue Jun 06 14:20:34 +0000 2017', 0, \"And can I just say I've never wanted to be an Amazon more than after I watched Wonder Woman.\"),\n",
       " (10, 'Tue Jun 06 14:20:37 +0000 2017', 0, 'If Wonder Woman Can Do It, She Can Too https://t.co/l2QnD4ubqA'),\n",
       " (11, 'Tue Jun 06 14:20:40 +0000 2017', 0, 'Saw Wonder Woman last night. #IApprove'),\n",
       " (12, 'Tue Jun 06 14:20:40 +0000 2017', 0, 'With ‘Wonder Woman’s’ milestone opening, can comics draw Hollywood out of its sexist cave? https://t.co/rd7JCLmWsn https://t.co/GsFITXdVYp'),\n",
       " (13, 'Tue Jun 06 14:20:42 +0000 2017', 0, 'For Aggie movie night, does anyone know what time Wonder Woman starts? #NCAT'),\n",
       " (14, 'Tue Jun 06 14:20:43 +0000 2017', 0, 'Anyone want to go see Wonder Woman with me tonight or tomorrow?'),\n",
       " (15, 'Tue Jun 06 14:20:43 +0000 2017', 0, '‘Wonder Woman’ Kicks Off With Massive $223 Million at Global Box Office https://t.co/ebbzrUmuQf via @variety'),\n",
       " (16, 'Tue Jun 06 14:20:46 +0000 2017', 0, 'I watched Wonder Woman yesterday after I decided I needed to get out of the house for some \"fresh air\"'),\n",
       " (17, 'Tue Jun 06 14:20:48 +0000 2017', 0, '10 Things You Probably Didn&amp;apos;t Know About Wonder Woman https://t.co/RBCZapVY5N https://t.co/yB9hrPmf1s'),\n",
       " (18, 'Tue Jun 06 14:20:49 +0000 2017', 0, 'Honestly. https://t.co/aICBEXp5OC'),\n",
       " (19, 'Tue Jun 06 14:20:49 +0000 2017', 0, 'Original ‘Wonder Woman’ Lynda Carter Reacts to Movie! https://t.co/rPKrMsmtNk'),\n",
       " (20, 'Tue Jun 06 14:20:56 +0000 2017', 0, 'even moderate Muslim states are total racists and homophobics. @PeterTatchell #Jordan. @KTHopkins @zlando… https://t.co/bgScAlYBOV'),\n",
       " (21, 'Tue Jun 06 14:20:57 +0000 2017', 0, 'Is this fair? #wonderwomanmovie #comics #GalGadot #israel #boycott #feminism #Palestine #superheroes https://t.co/ABSZsetftL'),\n",
       " (22, 'Tue Jun 06 14:20:59 +0000 2017', 0, 'ranking all the good, bad, and weird as hell Wonder Woman merch:   https://t.co/NclX3vyI8c via @Fusion https://t.co/pyBWL35t1X'),\n",
       " (23, 'Tue Jun 06 14:21:00 +0000 2017', 0, 'Watch Wonder Woman Full Movie - Online Free [ HD ] Streaming \\n\\nWATCH HERE : https://t.co/MWPBn3hnxC https://t.co/92cUEHXNId'),\n",
       " (24, 'Tue Jun 06 14:21:02 +0000 2017', 0, 'My friend is coming to take me to see Wonder Woman. Very excited!'),\n",
       " (25, 'Tue Jun 06 14:21:03 +0000 2017', 0, 'Anyone else really want Wonder Woman and Batman to have a thing in the DCEU? #WonderBat @GOATfilmpodcast'),\n",
       " (26, 'Tue Jun 06 14:21:04 +0000 2017', 0, 'Love this 👌🏻 @PattyJenks https://t.co/QVxV73E2Xw'),\n",
       " (27, 'Tue Jun 06 14:21:04 +0000 2017', 0, 'Welp looks like every girl in the US gonna be Wonder Woman for Halloween this year lmao'),\n",
       " (28, 'Tue Jun 06 14:21:08 +0000 2017', 0, 'Wonder Woman and the Importance of the Female Hero Moment https://t.co/0FbjwIasIl https://t.co/mJb8Q2YrRv'),\n",
       " (29, 'Tue Jun 06 14:21:08 +0000 2017', 0, 'You guys should watch Wonder Woman 💖'),\n",
       " (30, 'Tue Jun 06 14:21:08 +0000 2017', 0, 'Watching Wonder Woman (with Difaliveana at Paragon XXI) — https://t.co/Di7PW9cUvd'),\n",
       " (31, 'Tue Jun 06 14:21:09 +0000 2017', 0, 'Much better than the pak aji video tbh.. https://t.co/F0cUvqdncu'),\n",
       " (32, 'Tue Jun 06 14:21:10 +0000 2017', 0, 'THIS SCORE IS EVERYTHING - No Mans Land - Wonder Woman Soundtrack - Rupert Gregson-Williams [Official] https://t.co/YKce72p4Iq via @YouTube'),\n",
       " (33, 'Tue Jun 06 14:21:11 +0000 2017', 0, \"The Success of 'Wonder Woman' Speaks Volumes About Opportunity https://t.co/ctCPFm9OBF https://t.co/P88AapLMqR\"),\n",
       " (34, 'Tue Jun 06 14:21:13 +0000 2017', 0, 'Stop what you’re doing and look at these behind-the-scenes pictures of the Amazon warriors in “Wonder Woman” https://t.co/mxx4qAgqh1'),\n",
       " (35, 'Tue Jun 06 14:21:13 +0000 2017', 0, 'Check out my new post! #BGNPodcast Extra – Wonder Woman :)\\n\\nhttps://t.co/B0NORlo6My'),\n",
       " (36, 'Tue Jun 06 14:21:13 +0000 2017', 0, \"Why I cried through the fight scenes in 'Wonder Woman' https://t.co/bRjkRplygv\"),\n",
       " (37, 'Tue Jun 06 14:21:14 +0000 2017', 0, 'Morning Read from @jess7bennett via @nytimes #gender #roles #career https://t.co/A8LbuQdD8U'),\n",
       " (38, 'Tue Jun 06 14:21:18 +0000 2017', 0, 'My favourite part in Wonder Woman was when Trainspotting learned to kill again'),\n",
       " (39, 'Tue Jun 06 14:21:18 +0000 2017', 0, '#Cosplay Wonder Woman cosplay via /r/cosplaygirls https://t.co/tM2fLKfqG6 https://t.co/SADhQzhMXN'),\n",
       " (40, 'Tue Jun 06 14:21:18 +0000 2017', 0, 'No matter what you think of Wonder Woman, the score is freaking catchy.\\nBut EVEN BETTER than that, was this scene. https://t.co/NsLNZ3mw5m'),\n",
       " (41, 'Tue Jun 06 14:21:19 +0000 2017', 0, \"i'm going to watch wonder woman today i'm so excited\"),\n",
       " (42, 'Tue Jun 06 14:21:21 +0000 2017', 0, \"Just realised I'm wearing Wonder Woman socks and pants today 🤔 https://t.co/6dvsbxM9EY\"),\n",
       " (43, 'Tue Jun 06 14:21:22 +0000 2017', 0, 'I want to go see Wonder Woman. I want to go to the VIP. I want to go with my girls. I want to beat up men after.'),\n",
       " (44, 'Tue Jun 06 14:21:22 +0000 2017', 0, 'Wonder woman is boring... And'),\n",
       " (45, 'Tue Jun 06 14:21:23 +0000 2017', 0, \"why 👏🏽 isn't 👏🏽 there 👏🏽 a 👏🏽 female 👏🏽 hitler\\nhttps://t.co/zKQvdI5Qty https://t.co/xxYsv0ZlfP\"),\n",
       " (180, 'Tue Jun 06 14:25:34 +0000 2017', 0, 'Wonder Woman is a Great Movie!\\nGo watch it now ❤️ https://t.co/1qAp3PnBxR'),\n",
       " (46, 'Tue Jun 06 14:21:26 +0000 2017', 0, \"'Wonder Woman' And The Power Of Watching A Woman Save The World https://t.co/SPMDWPtak8 https://t.co/6uXLYpMd5y\"),\n",
       " (47, 'Tue Jun 06 14:21:26 +0000 2017', 0, 'Shippo Thor and Wonder Woman\\n#Thoriana https://t.co/0zhIKiMYdR'),\n",
       " (48, 'Tue Jun 06 14:21:33 +0000 2017', 0, 'I love the part in Wonder Woman when Gal Godot blew up an airplane with her car on the longest runway ever...Or was that Fast and Furious 6?'),\n",
       " (49, 'Tue Jun 06 14:21:35 +0000 2017', 0, 'No stream tonight gonna go see wonder woman!!'),\n",
       " (50, 'Tue Jun 06 14:21:35 +0000 2017', 0, 'Listen to Episode 45: Wonder Woman Wins Again by The Compton Beach Show #np on #SoundCloud https://t.co/NBMDf9RfMg'),\n",
       " (51, 'Tue Jun 06 14:21:36 +0000 2017', 0, \"Stop by the library and check out our display case. We've got a model of Wonder Woman's invisible jet! https://t.co/GnSbzku976\"),\n",
       " (52, 'Tue Jun 06 14:21:38 +0000 2017', 0, 'Watching Wonder Woman (with Bas at Cgv Blitz Marvel City Surabaya) — https://t.co/l3PkxQxzIF'),\n",
       " (53, 'Tue Jun 06 14:21:44 +0000 2017', 0, 'SOMEONE REPORT THIS WOMAN https://t.co/EtQhFBI7Zd'),\n",
       " (54, 'Tue Jun 06 14:21:48 +0000 2017', 0, 'Watching Wonder Woman (at Blitzmegaplex Grand Galaxy Mall) — https://t.co/IDGfedLK3n'),\n",
       " (55, 'Tue Jun 06 14:21:49 +0000 2017', 0, 'THIS! https://t.co/OYhceVvlJh'),\n",
       " (56, 'Tue Jun 06 14:21:49 +0000 2017', 0, 'A woman while enjoying a vada pao talks to her husband whose number is saved as Hubby Chubby.Wonder what flashes on his phone when she calls'),\n",
       " (57, 'Tue Jun 06 14:21:52 +0000 2017', 0, 'Not going to watch Wonder Woman because there is nothing wonderful about supporting the murder of Palestinian children x'),\n",
       " (58, 'Tue Jun 06 14:21:55 +0000 2017', 0, 'My Twitter timeline is substantially improved by all the Wonder Woman GIFs in it these days.'),\n",
       " (59, 'Tue Jun 06 14:21:57 +0000 2017', 0, 'Wonder Woman shakes off female superhero curse to top UK box office https://t.co/CvfEdypbgY'),\n",
       " (60, 'Tue Jun 06 14:21:57 +0000 2017', 0, \"A lot of folk talk about the early feminist history of Wonder Woman and it's true that female dominance was Marston's goal\"),\n",
       " (61, 'Tue Jun 06 14:22:01 +0000 2017', 0, '\"We didn’t need a computer-generated tree or sassy raccoon to change the superhero game; what we needed was a woman\" https://t.co/nihjGuyPU3'),\n",
       " (62, 'Tue Jun 06 14:22:03 +0000 2017', 0, 'I guess you could say that @dmedelstein had a \"happy ending\"... https://t.co/0uDRejHGPK'),\n",
       " (63, 'Tue Jun 06 14:22:04 +0000 2017', 0, 'Power!!!! 💥 https://t.co/DIEJQ0LDiZ'),\n",
       " (64, 'Tue Jun 06 14:22:09 +0000 2017', 0, 'While most of the world is being Trumped down, we see some positive things: Sens8 paved the way for Wonder-Woman to downgrade sexism.'),\n",
       " (65, 'Tue Jun 06 14:22:12 +0000 2017', 0, 'Read our interview w/ #wonderwoman #GalGadot &amp; Director #PattyJenkins #1 Movie in the WORLD!… https://t.co/cP9nBbuBgr'),\n",
       " (66, 'Tue Jun 06 14:22:13 +0000 2017', 0, \"Wonder Woman was absolutely incredible and so freaking good I don't think I'll ever be over it oh my god\"),\n",
       " (67, 'Tue Jun 06 14:22:14 +0000 2017', 0, 'Wonder woman is so adorable 😍'),\n",
       " (68, 'Tue Jun 06 14:22:15 +0000 2017', 0, '‘Wonder Woman’ Conquers the Domestic Box Office With Heroic $100.5 Million - dcfilms: “Wonder Woman” is... https://t.co/3WY4LVgZxA'),\n",
       " (69, 'Tue Jun 06 14:22:22 +0000 2017', 0, '#WonderWoman Gadot IS Wonder Woman, and she and the Amazons RULE. The settings, character dynamics are fantastic, up until #CGIHappens. 8'),\n",
       " (70, 'Tue Jun 06 14:22:26 +0000 2017', 0, \"no matter what happens this week I'm going to watch Wonder Woman. THAT'S A FUCKING PROMISE https://t.co/YXPSs63LCe\"),\n",
       " (71, 'Tue Jun 06 14:22:27 +0000 2017', 0, 'Finna see Wonder Woman again... Anyone wants to go?'),\n",
       " (72, 'Tue Jun 06 14:22:28 +0000 2017', 0, 'With the success of Wonder Woman, I hope the writer of Spider Man feels bad for turning badass Mary Jane into mousy Kirsten Dunst.'),\n",
       " (73, 'Tue Jun 06 14:22:29 +0000 2017', 0, 'Why women are sobbing through Wonder Woman via @jess7bennett https://t.co/okVOdBsIOd'),\n",
       " (74, 'Tue Jun 06 14:22:33 +0000 2017', 0, 'Him: \"I\\'m Superman looking for my Wonder Woman.\"\\nMe: \"Keep looking because I\\'m Cat Woman.\"'),\n",
       " (75, 'Tue Jun 06 14:22:36 +0000 2017', 0, 'Film Review: Eugene Brave Rock Speaks Blackfoot to Wonder Woman in DC’s Best Film Ever https://t.co/H1KjZ0hvP8 via @IndianCountry'),\n",
       " (76, 'Tue Jun 06 14:22:38 +0000 2017', 0, 'This gives me chills of happiness! https://t.co/YnUDUjVZQx'),\n",
       " (77, 'Tue Jun 06 14:22:40 +0000 2017', 0, \"Given how well Wonder Woman was directed, any chance we can dump JW and his fake feminism off Batgirl before it's too late?\"),\n",
       " (78, 'Tue Jun 06 14:22:40 +0000 2017', 0, 'WONDER WOMAN: ICONICCOMIC REVIEW!!! https://t.co/i7BYqmU6tP https://t.co/x21Sp4GFap'),\n",
       " (79, 'Tue Jun 06 14:22:42 +0000 2017', 0, '#BGNPodcast Extra – Wonder Woman  https://t.co/8A1AYRQTyJ'),\n",
       " (80, 'Tue Jun 06 14:22:49 +0000 2017', 0, 'waitttt me and jah were really knocked tf out in Wonder Woman we woke up everyone was gone the lights were on😂💀'),\n",
       " (81, 'Tue Jun 06 14:22:54 +0000 2017', 0, 'Wonder Woman was pretty good'),\n",
       " (82, 'Tue Jun 06 14:22:53 +0000 2017', 0, \"'wonder Woman' Conquers Million Debut   : https://t.co/BN8T108X7w .,,, https://t.co/pq6SxkDIJV\"),\n",
       " (83, 'Tue Jun 06 14:22:54 +0000 2017', 0, 'I love getting the $4 Wonder Woman ticket and 25 cents off my gas! ❤😃 #Thankiversary'),\n",
       " (84, 'Tue Jun 06 14:22:55 +0000 2017', 0, \"Just saw WW and I can't help but wonder... where was Wonder Woman and her 'love' when Hitler came about a couple of decades later?\"),\n",
       " (85, 'Tue Jun 06 14:22:56 +0000 2017', 0, 'I know everyone is saying it, but Wonder Woman was actually really good.'),\n",
       " (86, 'Tue Jun 06 14:22:58 +0000 2017', 0, '1. Wonder Woman =/= Gal Gadot\\n2. Give credit where credit is due: an amazing portrayal of diana prince https://t.co/dFiiEbFrrn'),\n",
       " (87, 'Tue Jun 06 14:23:00 +0000 2017', 0, 'People shitting on Wonder Woman for historical inaccuracies, phony feminism, blah blah need, very badly, to get a life. FFS!'),\n",
       " (88, 'Tue Jun 06 14:23:01 +0000 2017', 0, 'Lynda Carter celebrates Wonder Woman’s box office numbers: ‘Bravo’ –\\xa0https://t.co/tRBuQjLRLm https://t.co/xAQhPypzG2'),\n",
       " (89, 'Tue Jun 06 14:23:01 +0000 2017', 0, \"What's the point tp Women only screenings? You go in a dark room and sit down and shut up for 2hours and walk out.… https://t.co/M65hCNAKAz\"),\n",
       " (90, 'Tue Jun 06 14:23:02 +0000 2017', 0, \"Hey @PPact Your hero director says your hero actress's DAUGHTER APPEARED in your feminist movie! NOT blob of tissue. https://t.co/duyTkfXwtv\"),\n",
       " (91, 'Tue Jun 06 14:23:02 +0000 2017', 0, 'Why ‘#WonderWoman’ Has High-End and Mass-Market Product Appeal https://t.co/ywWuAVJdzD via @wwd #fashion #womenswear #womensstyle #style'),\n",
       " (92, 'Tue Jun 06 14:23:02 +0000 2017', 0, \"Wonder Woman: Gal Gadot On What It's Like Wearing Her Costume https://t.co/NasFXkZ2Bq via @ComicBook\"),\n",
       " (93, 'Tue Jun 06 14:23:06 +0000 2017', 0, 'come join me for #comiccommando on #northcoastunderground today, talking about Wonder Woman,… https://t.co/OyMtYT687d'),\n",
       " (94, 'Tue Jun 06 14:23:07 +0000 2017', 0, 'Still on a high from Wonder Woman. And also really excited for Black Panther now.'),\n",
       " (95, 'Tue Jun 06 14:23:09 +0000 2017', 0, 'Had a blast talking Wonder Woman, Amazon teamwork, how thoroughly Patty Jenkins crushed it, and so much (LOTS) more! https://t.co/mUZWCaDnLf'),\n",
       " (96, 'Tue Jun 06 14:23:12 +0000 2017', 0, \"Sure. It'll only make more people watch it. People will get annoyed at the anti-normalization. #WonderWoman https://t.co/XaZtbuHoPH\"),\n",
       " (97, 'Tue Jun 06 14:23:15 +0000 2017', 0, 'Check out this movie on Moviefone: https://t.co/F6t8j4R0YP\\nGet the Moviefone app! https://t.co/uIT3SDUXCl https://t.co/SH4tEh1PR3'),\n",
       " (98, 'Tue Jun 06 14:23:16 +0000 2017', 0, '.@jess7bennett really captures how I felt about Wonder Woman -- I definitely choked back tears during No Mans Land\\n\\nhttps://t.co/X811UISukI')]"
      ]
     },
     "execution_count": 5,
     "metadata": {},
     "output_type": "execute_result"
    }
   ],
   "source": [
    "ww_tweets = []\n",
    "for row in result:\n",
    "    ww_tweets.append(row)\n",
    "ww_tweets    "
   ]
  },
  {
   "cell_type": "code",
   "execution_count": 27,
   "metadata": {},
   "outputs": [
    {
     "data": {
      "text/plain": [
       "sqlalchemy.engine.result.ResultProxy"
      ]
     },
     "execution_count": 27,
     "metadata": {},
     "output_type": "execute_result"
    }
   ],
   "source": [
    "type(result)"
   ]
  },
  {
   "cell_type": "code",
   "execution_count": 5,
   "metadata": {},
   "outputs": [
    {
     "data": {
      "text/plain": [
       "['wonder', 'ryzen']"
      ]
     },
     "execution_count": 5,
     "metadata": {},
     "output_type": "execute_result"
    }
   ],
   "source": [
    "engine.table_names()"
   ]
  },
  {
   "cell_type": "markdown",
   "metadata": {},
   "source": [
    "## Viewing column names"
   ]
  },
  {
   "cell_type": "code",
   "execution_count": 7,
   "metadata": {
    "collapsed": true
   },
   "outputs": [],
   "source": [
    "from sqlalchemy import Table, inspect"
   ]
  },
  {
   "cell_type": "code",
   "execution_count": 8,
   "metadata": {},
   "outputs": [
    {
     "data": {
      "text/plain": [
       "[{'autoincrement': False,\n",
       "  'default': None,\n",
       "  'name': 'index',\n",
       "  'nullable': True,\n",
       "  'type': BIGINT()},\n",
       " {'autoincrement': False,\n",
       "  'default': None,\n",
       "  'name': 'created_at',\n",
       "  'nullable': True,\n",
       "  'type': TEXT()},\n",
       " {'autoincrement': False,\n",
       "  'default': None,\n",
       "  'name': 'favorite_count',\n",
       "  'nullable': True,\n",
       "  'type': BIGINT()},\n",
       " {'autoincrement': False,\n",
       "  'default': None,\n",
       "  'name': 'text',\n",
       "  'nullable': True,\n",
       "  'type': TEXT()}]"
      ]
     },
     "execution_count": 8,
     "metadata": {},
     "output_type": "execute_result"
    }
   ],
   "source": [
    "#ryzen = Table('ryzen', meta, autoload = True, autoload_with = True)\n",
    "#a = [c.name for c in ryzen.columns]\n",
    "inspector=inspect(engine)\n",
    "inspector.get_columns('wonder')"
   ]
  },
  {
   "cell_type": "code",
   "execution_count": 9,
   "metadata": {},
   "outputs": [
    {
     "name": "stdout",
     "output_type": "stream",
     "text": [
      "index\n",
      "created_at\n",
      "favorite_count\n",
      "text\n"
     ]
    }
   ],
   "source": [
    "for dict in inspector.get_columns('wonder'):\n",
    "    print(dict['name'])"
   ]
  },
  {
   "cell_type": "code",
   "execution_count": 10,
   "metadata": {
    "collapsed": true
   },
   "outputs": [],
   "source": [
    "result = conn.execute(\"SELECT * FROM wonder\")"
   ]
  },
  {
   "cell_type": "markdown",
   "metadata": {},
   "source": [
    "## Delete a table"
   ]
  },
  {
   "cell_type": "code",
   "execution_count": 13,
   "metadata": {},
   "outputs": [
    {
     "data": {
      "text/plain": [
       "<sqlalchemy.engine.result.ResultProxy at 0x7f56b772e668>"
      ]
     },
     "execution_count": 13,
     "metadata": {},
     "output_type": "execute_result"
    }
   ],
   "source": [
    "conn.execute(\"DROP TABLE wonder\")"
   ]
  },
  {
   "cell_type": "markdown",
   "metadata": {},
   "source": [
    "## Add a column"
   ]
  },
  {
   "cell_type": "code",
   "execution_count": 41,
   "metadata": {},
   "outputs": [
    {
     "data": {
      "text/plain": [
       "<sqlalchemy.engine.result.ResultProxy at 0x7efcf5666e10>"
      ]
     },
     "execution_count": 41,
     "metadata": {},
     "output_type": "execute_result"
    }
   ],
   "source": [
    "conn.execute(\"ALTER TABLE wonder \\\n",
    "             ADD COLUMN new_column character varying(50) \\\n",
    "             NOT NULL DEFAULT 'foo'\")\n"
   ]
  },
  {
   "cell_type": "markdown",
   "metadata": {},
   "source": [
    "## Rename a column"
   ]
  },
  {
   "cell_type": "code",
   "execution_count": 49,
   "metadata": {},
   "outputs": [
    {
     "data": {
      "text/plain": [
       "<sqlalchemy.engine.result.ResultProxy at 0x7efcf5661390>"
      ]
     },
     "execution_count": 49,
     "metadata": {},
     "output_type": "execute_result"
    }
   ],
   "source": [
    "conn.execute(\"ALTER TABLE wonder \\\n",
    "             RENAME new_column TO renamed_column\")\n"
   ]
  },
  {
   "cell_type": "code",
   "execution_count": null,
   "metadata": {
    "collapsed": true
   },
   "outputs": [],
   "source": [
    "conn.close()"
   ]
  }
 ],
 "metadata": {
  "anaconda-cloud": {},
  "kernelspec": {
   "display_name": "Python [default]",
   "language": "python",
   "name": "python3"
  },
  "language_info": {
   "codemirror_mode": {
    "name": "ipython",
    "version": 3
   },
   "file_extension": ".py",
   "mimetype": "text/x-python",
   "name": "python",
   "nbconvert_exporter": "python",
   "pygments_lexer": "ipython3",
   "version": "3.5.2"
  }
 },
 "nbformat": 4,
 "nbformat_minor": 1
}
